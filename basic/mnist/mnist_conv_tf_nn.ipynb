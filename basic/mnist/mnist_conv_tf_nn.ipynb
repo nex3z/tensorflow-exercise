{
 "cells": [
  {
   "cell_type": "code",
   "execution_count": 1,
   "metadata": {},
   "outputs": [],
   "source": [
    "import tensorflow as tf\n",
    "from tensorflow.examples.tutorials.mnist import input_data\n",
    "import numpy as np"
   ]
  },
  {
   "cell_type": "code",
   "execution_count": 2,
   "metadata": {},
   "outputs": [],
   "source": [
    "IMAGE_SIZE = 28\n",
    "IMAGE_CHANNEL_NUM = 1\n",
    "\n",
    "INPUT_SIZE = IMAGE_SIZE * IMAGE_SIZE\n",
    "OUTPUT_SIZE = 10\n",
    "\n",
    "CONV_1_SIZE = 5\n",
    "CONV_1_DEPTH = 32\n",
    "\n",
    "CONV_2_SIZE = 5\n",
    "CONV_2_DEPTH = 64\n",
    "\n",
    "FC_SIZE = 512"
   ]
  },
  {
   "cell_type": "code",
   "execution_count": 3,
   "metadata": {},
   "outputs": [],
   "source": [
    "def get_weight(shape):\n",
    "    return tf.get_variable(\"weight\", shape, initializer=tf.truncated_normal_initializer(stddev=0.1))"
   ]
  },
  {
   "cell_type": "code",
   "execution_count": 4,
   "metadata": {},
   "outputs": [],
   "source": [
    "def get_bias(shape):\n",
    "    return tf.get_variable(\"bias\", shape, initializer=tf.constant_initializer(0.0))"
   ]
  },
  {
   "cell_type": "code",
   "execution_count": 5,
   "metadata": {},
   "outputs": [],
   "source": [
    "def conv2d(input_tensor, weight):\n",
    "    return tf.nn.conv2d(input_tensor, weight, strides=[1, 1, 1, 1], padding=\"SAME\")"
   ]
  },
  {
   "cell_type": "code",
   "execution_count": 6,
   "metadata": {},
   "outputs": [],
   "source": [
    "def max_pool_2x2(input_tensor):\n",
    "    return tf.nn.max_pool(input_tensor, ksize=[1, 2, 2, 1], strides=[1, 2, 2, 1], padding=\"SAME\")"
   ]
  },
  {
   "cell_type": "code",
   "execution_count": 7,
   "metadata": {},
   "outputs": [],
   "source": [
    "def inference(input_tensor, train, regularizer):\n",
    "    with tf.variable_scope(\"layer_1_conv\"):\n",
    "        conv_1_weight = get_weight([CONV_1_SIZE, CONV_1_SIZE, IMAGE_CHANNEL_NUM, CONV_1_DEPTH])\n",
    "        conv_1_bias = get_bias([CONV_1_DEPTH])\n",
    "        conv_1 = conv2d(input_tensor, conv_1_weight)\n",
    "        conv_1_activation = tf.nn.relu(tf.nn.bias_add(conv_1, conv_1_bias))\n",
    "    with tf.variable_scope(\"layer_1_pool\"):\n",
    "        pool_1 = max_pool_2x2(conv_1_activation)\n",
    "    with tf.variable_scope(\"layer_2_conv\"):\n",
    "        conv_2_weight = get_weight([CONV_2_SIZE, CONV_2_SIZE, CONV_1_DEPTH, CONV_2_DEPTH])\n",
    "        conv_2_bias = get_bias([CONV_2_DEPTH])\n",
    "        conv_2 = conv2d(pool_1, conv_2_weight)\n",
    "        conv_2_activation = tf.nn.relu(tf.nn.bias_add(conv_2, conv_2_bias))\n",
    "    with tf.variable_scope(\"layer_2_pool\"):\n",
    "        pool_2 = max_pool_2x2(conv_2_activation)\n",
    "        pool_2_shape = pool_2.get_shape().as_list()\n",
    "        nodes = pool_2_shape[1] * pool_2_shape[2] * pool_2_shape[3]\n",
    "        pool_2_reshaped = tf.reshape(pool_2, [-1, nodes])\n",
    "    with tf.variable_scope(\"layer_3_fc\"):\n",
    "        fc_1_weight = get_weight([nodes, FC_SIZE])\n",
    "        if regularizer != None:\n",
    "            tf.add_to_collection(\"losses\", regularizer(fc_1_weight))\n",
    "        fc_1_bias = get_bias([FC_SIZE])\n",
    "        fc_1 = tf.matmul(pool_2_reshaped, fc_1_weight) + fc_1_bias\n",
    "        fc_1_activation = tf.nn.relu(fc_1)\n",
    "        if train:\n",
    "            fc_1_activation = tf.nn.dropout(fc_1_activation, 0.5)\n",
    "    with tf.variable_scope(\"layer_4_fc\"):\n",
    "        fc_2_weight = get_weight([FC_SIZE, OUTPUT_SIZE])\n",
    "        if regularizer != None:\n",
    "            tf.add_to_collection(\"losses\", regularizer(fc_2_weight))\n",
    "        fc_2_bias = get_bias([OUTPUT_SIZE])\n",
    "        logits = tf.matmul(fc_1_activation, fc_2_weight) + fc_2_bias\n",
    "    return logits"
   ]
  },
  {
   "cell_type": "code",
   "execution_count": 8,
   "metadata": {},
   "outputs": [],
   "source": [
    "BATCH_SIZE = 100\n",
    "LEARNING_RATE_BASE = 0.01\n",
    "LEARNING_RATE_DECAY = 0.99\n",
    "REGULARIZATION_RATE = 0.0001\n",
    "TRAINING_STEPS = 3000\n",
    "MOVING_AVERAGE_DECAY = 0.99"
   ]
  },
  {
   "cell_type": "code",
   "execution_count": 9,
   "metadata": {},
   "outputs": [],
   "source": [
    "def train(mnist):\n",
    "    x = tf.placeholder(tf.float32, [None, IMAGE_SIZE, IMAGE_SIZE, IMAGE_CHANNEL_NUM], name=\"x\")\n",
    "    y_ = tf.placeholder(tf.float32, [None, OUTPUT_SIZE], name=\"y_\")\n",
    "    regularizer = tf.contrib.layers.l2_regularizer(REGULARIZATION_RATE)\n",
    "    y = inference(x, False, regularizer)\n",
    "    global_step = tf.Variable(0, trainable=False)\n",
    "    variable_ave = tf.train.ExponentialMovingAverage(MOVING_AVERAGE_DECAY, global_step)\n",
    "    variable_ave_op = variable_ave.apply(tf.trainable_variables())\n",
    "    cross_entropy = tf.nn.sparse_softmax_cross_entropy_with_logits(\n",
    "        logits=y, labels=tf.argmax(y_, 1))\n",
    "    cross_entropy_mean = tf.reduce_mean(cross_entropy)\n",
    "    loss = cross_entropy_mean + tf.add_n(tf.get_collection(\"losses\"))\n",
    "    learning_rate = tf.train.exponential_decay(\n",
    "        LEARNING_RATE_BASE, global_step, mnist.train.num_examples / BATCH_SIZE, \n",
    "        LEARNING_RATE_DECAY, staircase=True)\n",
    "    train_step = tf.train.GradientDescentOptimizer(learning_rate).minimize(\n",
    "        loss, global_step=global_step)\n",
    "    with tf.control_dependencies([train_step, variable_ave_op]):\n",
    "        train_op = tf.no_op(name='train')\n",
    "\n",
    "    correct_prediction = tf.equal(tf.argmax(y, 1), tf.argmax(y_, 1), name='correct_prediction')\n",
    "    accuracy = tf.reduce_mean(tf.cast(correct_prediction, tf.float32), name='accuracy')\n",
    "\n",
    "    with tf.Session() as sess:\n",
    "        tf.global_variables_initializer().run()\n",
    "        for i in range(1, TRAINING_STEPS + 1):\n",
    "            xs, ys = mnist.train.next_batch(BATCH_SIZE)\n",
    "            xs_reshaped = np.reshape(xs, [BATCH_SIZE, IMAGE_SIZE, IMAGE_SIZE, IMAGE_CHANNEL_NUM])\n",
    "            _, loss_value, acc_value, step = sess.run([train_op, loss, accuracy, global_step], \n",
    "                                                      feed_dict={x: xs_reshaped, y_: ys})\n",
    "            if i % 200 == 0:\n",
    "                    print(\"Setp %d, loss = %g, accuracy = %g.\" % (step, loss_value, acc_value))\n",
    "        x_test = np.reshape(mnist.test.images, [len(mnist.test.images), IMAGE_SIZE, \n",
    "                                                IMAGE_SIZE, IMAGE_CHANNEL_NUM])\n",
    "        y_test = mnist.test.labels\n",
    "        test_acc_value = sess.run(accuracy, feed_dict={x: x_test, y_: y_test})\n",
    "        print(\"Test accuracy = {}\".format(test_acc_value))"
   ]
  },
  {
   "cell_type": "code",
   "execution_count": 10,
   "metadata": {},
   "outputs": [
    {
     "name": "stdout",
     "output_type": "stream",
     "text": [
      "WARNING:tensorflow:From <ipython-input-10-db4d66054372>:1: read_data_sets (from tensorflow.contrib.learn.python.learn.datasets.mnist) is deprecated and will be removed in a future version.\n",
      "Instructions for updating:\n",
      "Please use alternatives such as official/mnist/dataset.py from tensorflow/models.\n",
      "WARNING:tensorflow:From /home/nex3z/dev/anaconda3/envs/tf/lib/python3.6/site-packages/tensorflow/contrib/learn/python/learn/datasets/mnist.py:260: maybe_download (from tensorflow.contrib.learn.python.learn.datasets.base) is deprecated and will be removed in a future version.\n",
      "Instructions for updating:\n",
      "Please write your own downloading logic.\n",
      "WARNING:tensorflow:From /home/nex3z/dev/anaconda3/envs/tf/lib/python3.6/site-packages/tensorflow/contrib/learn/python/learn/datasets/mnist.py:262: extract_images (from tensorflow.contrib.learn.python.learn.datasets.mnist) is deprecated and will be removed in a future version.\n",
      "Instructions for updating:\n",
      "Please use tf.data to implement this functionality.\n",
      "Extracting ./data/train-images-idx3-ubyte.gz\n",
      "WARNING:tensorflow:From /home/nex3z/dev/anaconda3/envs/tf/lib/python3.6/site-packages/tensorflow/contrib/learn/python/learn/datasets/mnist.py:267: extract_labels (from tensorflow.contrib.learn.python.learn.datasets.mnist) is deprecated and will be removed in a future version.\n",
      "Instructions for updating:\n",
      "Please use tf.data to implement this functionality.\n",
      "Extracting ./data/train-labels-idx1-ubyte.gz\n",
      "WARNING:tensorflow:From /home/nex3z/dev/anaconda3/envs/tf/lib/python3.6/site-packages/tensorflow/contrib/learn/python/learn/datasets/mnist.py:110: dense_to_one_hot (from tensorflow.contrib.learn.python.learn.datasets.mnist) is deprecated and will be removed in a future version.\n",
      "Instructions for updating:\n",
      "Please use tf.one_hot on tensors.\n",
      "Extracting ./data/t10k-images-idx3-ubyte.gz\n",
      "Extracting ./data/t10k-labels-idx1-ubyte.gz\n",
      "WARNING:tensorflow:From /home/nex3z/dev/anaconda3/envs/tf/lib/python3.6/site-packages/tensorflow/contrib/learn/python/learn/datasets/mnist.py:290: DataSet.__init__ (from tensorflow.contrib.learn.python.learn.datasets.mnist) is deprecated and will be removed in a future version.\n",
      "Instructions for updating:\n",
      "Please use alternatives such as official/mnist/dataset.py from tensorflow/models.\n",
      "Setp 200, loss = 0.999788, accuracy = 0.89.\n",
      "Setp 400, loss = 0.849933, accuracy = 0.95.\n",
      "Setp 600, loss = 0.702903, accuracy = 0.97.\n",
      "Setp 800, loss = 0.762394, accuracy = 0.97.\n",
      "Setp 1000, loss = 0.704916, accuracy = 0.98.\n",
      "Setp 1200, loss = 0.745765, accuracy = 0.97.\n",
      "Setp 1400, loss = 0.709202, accuracy = 0.97.\n",
      "Setp 1600, loss = 0.731642, accuracy = 0.97.\n",
      "Setp 1800, loss = 0.656515, accuracy = 1.\n",
      "Setp 2000, loss = 0.655872, accuracy = 0.99.\n",
      "Setp 2200, loss = 0.652442, accuracy = 0.99.\n",
      "Setp 2400, loss = 0.774513, accuracy = 0.97.\n",
      "Setp 2600, loss = 0.726183, accuracy = 0.98.\n",
      "Setp 2800, loss = 0.677728, accuracy = 0.98.\n",
      "Setp 3000, loss = 0.747705, accuracy = 0.96.\n",
      "Test accuracy = 0.9797000288963318\n"
     ]
    }
   ],
   "source": [
    "mnist = input_data.read_data_sets(\"./data\", one_hot=True)\n",
    "train(mnist)"
   ]
  }
 ],
 "metadata": {
  "kernelspec": {
   "display_name": "Python [conda env:tf]",
   "language": "python",
   "name": "conda-env-tf-py"
  },
  "language_info": {
   "codemirror_mode": {
    "name": "ipython",
    "version": 3
   },
   "file_extension": ".py",
   "mimetype": "text/x-python",
   "name": "python",
   "nbconvert_exporter": "python",
   "pygments_lexer": "ipython3",
   "version": "3.6.6"
  }
 },
 "nbformat": 4,
 "nbformat_minor": 2
}
