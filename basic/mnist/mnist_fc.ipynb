{
 "cells": [
  {
   "cell_type": "code",
   "execution_count": 1,
   "metadata": {},
   "outputs": [],
   "source": [
    "import tensorflow as tf\n",
    "from tensorflow.examples.tutorials.mnist import input_data\n",
    "import os\n",
    "import time"
   ]
  },
  {
   "cell_type": "markdown",
   "metadata": {},
   "source": [
    "## Inference"
   ]
  },
  {
   "cell_type": "code",
   "execution_count": 2,
   "metadata": {},
   "outputs": [],
   "source": [
    "INPUT_SIZE = 784\n",
    "LAYOUT_1_SIZE = 500\n",
    "OUTPUT_SIZE = 10"
   ]
  },
  {
   "cell_type": "code",
   "execution_count": 3,
   "metadata": {},
   "outputs": [],
   "source": [
    "def get_weight_variable(shape, regularizer):\n",
    "    weights = tf.get_variable(\"weights\", shape, initializer=tf.truncated_normal_initializer(stddev=0.1))\n",
    "    if regularizer != None:\n",
    "        tf.add_to_collection('losses', regularizer(weights))\n",
    "    return weights"
   ]
  },
  {
   "cell_type": "code",
   "execution_count": 4,
   "metadata": {},
   "outputs": [],
   "source": [
    "def inference(input_tensor, regularizer):\n",
    "    with tf.variable_scope(\"layer_1\"):\n",
    "        weights = get_weight_variable([INPUT_SIZE, LAYOUT_1_SIZE], regularizer)\n",
    "        biases = tf.get_variable(\"biases\", [LAYOUT_1_SIZE], initializer=tf.constant_initializer(0.0))\n",
    "        layer_1 = tf.nn.relu(tf.matmul(input_tensor, weights) + biases)\n",
    "    with tf.variable_scope(\"layer_2\"):\n",
    "        weights = get_weight_variable([LAYOUT_1_SIZE, OUTPUT_SIZE], regularizer)\n",
    "        biases = tf.get_variable(\"biases\", [OUTPUT_SIZE], initializer=tf.constant_initializer(0.0))\n",
    "        layer_2 = tf.matmul(layer_1, weights) + biases\n",
    "    return layer_2"
   ]
  },
  {
   "cell_type": "markdown",
   "metadata": {},
   "source": [
    "## Train"
   ]
  },
  {
   "cell_type": "code",
   "execution_count": 5,
   "metadata": {},
   "outputs": [],
   "source": [
    "BATCH_SIZE = 100\n",
    "LEARNING_RATE_BASE = 0.8\n",
    "LEARNING_RATE_DECAY = 0.99\n",
    "REGULARIZATION_RATE = 0.0001\n",
    "TRAINING_STEPS = 30000\n",
    "MOVING_AVERAGE_DECAY = 0.99\n",
    "MODEL_SAVE_PATH = \"./model\"\n",
    "MODEL_NAME = \"model\""
   ]
  },
  {
   "cell_type": "code",
   "execution_count": 6,
   "metadata": {},
   "outputs": [],
   "source": [
    "def train(mnist):\n",
    "    x = tf.placeholder(tf.float32, [None, INPUT_SIZE], name=\"x\")\n",
    "    y_ = tf.placeholder(tf.float32, [None, OUTPUT_SIZE], name=\"y_\")\n",
    "    regularizer = tf.contrib.layers.l2_regularizer(REGULARIZATION_RATE)\n",
    "    y = inference(x, regularizer)\n",
    "    global_step = tf.Variable(0, trainable=False)\n",
    "    variable_averages = tf.train.ExponentialMovingAverage(MOVING_AVERAGE_DECAY, global_step)\n",
    "    variable_averages_op = variable_averages.apply(tf.trainable_variables())\n",
    "    cross_entropy = tf.nn.sparse_softmax_cross_entropy_with_logits(logits=y, labels=tf.argmax(y_, 1 ))\n",
    "    cross_entropy_mean = tf.reduce_mean(cross_entropy)\n",
    "    loss = cross_entropy_mean + tf.add_n(tf.get_collection(\"losses\"))\n",
    "    learning_rate = tf.train.exponential_decay(\n",
    "        LEARNING_RATE_BASE, global_step, mnist.train.num_examples/BATCH_SIZE, LEARNING_RATE_DECAY)\n",
    "    train_step = tf.train.GradientDescentOptimizer(learning_rate).minimize(loss, global_step = global_step)\n",
    "    with tf.control_dependencies([train_step, variable_averages_op]):\n",
    "        train_op = tf.no_op(name=\"train\")\n",
    "    saver = tf.train.Saver()\n",
    "    with tf.Session() as sess:\n",
    "        tf.global_variables_initializer().run()\n",
    "        for i in range(1, TRAINING_STEPS + 1):\n",
    "            xs, ys = mnist.train.next_batch(BATCH_SIZE)\n",
    "            _, loss_value, step = sess.run([train_op, loss, global_step], feed_dict={x: xs, y_: ys})\n",
    "            if i % 1000 == 0:\n",
    "                print(\"Step %d, loss = %g.\" % (step, loss_value))\n",
    "                saver.save(sess, os.path.join(MODEL_SAVE_PATH, MODEL_NAME), global_step=step)"
   ]
  },
  {
   "cell_type": "code",
   "execution_count": 7,
   "metadata": {},
   "outputs": [
    {
     "name": "stdout",
     "output_type": "stream",
     "text": [
      "Extracting ./data/train-images-idx3-ubyte.gz\n",
      "Extracting ./data/train-labels-idx1-ubyte.gz\n",
      "Extracting ./data/t10k-images-idx3-ubyte.gz\n",
      "Extracting ./data/t10k-labels-idx1-ubyte.gz\n"
     ]
    }
   ],
   "source": [
    "mnist = input_data.read_data_sets(\"./data\", one_hot=True)"
   ]
  },
  {
   "cell_type": "code",
   "execution_count": 8,
   "metadata": {},
   "outputs": [
    {
     "name": "stdout",
     "output_type": "stream",
     "text": [
      "Step 1000, loss = 0.303477.\n",
      "Step 2000, loss = 0.192179.\n",
      "Step 3000, loss = 0.128198.\n",
      "Step 4000, loss = 0.116234.\n",
      "Step 5000, loss = 0.116696.\n",
      "Step 6000, loss = 0.121661.\n",
      "Step 7000, loss = 0.085938.\n",
      "Step 8000, loss = 0.0794227.\n",
      "Step 9000, loss = 0.0720801.\n",
      "Step 10000, loss = 0.0679493.\n",
      "Step 11000, loss = 0.0673448.\n",
      "Step 12000, loss = 0.0601233.\n",
      "Step 13000, loss = 0.06746.\n",
      "Step 14000, loss = 0.0523719.\n",
      "Step 15000, loss = 0.0527718.\n",
      "Step 16000, loss = 0.0475236.\n",
      "Step 17000, loss = 0.0503256.\n",
      "Step 18000, loss = 0.0492024.\n",
      "Step 19000, loss = 0.0469151.\n",
      "Step 20000, loss = 0.0442539.\n",
      "Step 21000, loss = 0.0428752.\n",
      "Step 22000, loss = 0.0376176.\n",
      "Step 23000, loss = 0.0423614.\n",
      "Step 24000, loss = 0.037276.\n",
      "Step 25000, loss = 0.0366846.\n",
      "Step 26000, loss = 0.0345971.\n",
      "Step 27000, loss = 0.0324602.\n",
      "Step 28000, loss = 0.0353654.\n",
      "Step 29000, loss = 0.0354306.\n",
      "Step 30000, loss = 0.0320305.\n"
     ]
    }
   ],
   "source": [
    "train(mnist)"
   ]
  },
  {
   "cell_type": "markdown",
   "metadata": {},
   "source": [
    "## Evaluate"
   ]
  },
  {
   "cell_type": "code",
   "execution_count": 9,
   "metadata": {},
   "outputs": [],
   "source": [
    "def evaluate(mnist):\n",
    "    with tf.Graph().as_default() as g:\n",
    "        x = tf.placeholder(tf.float32, [None, INPUT_SIZE], name=\"x-input\")\n",
    "        y_ = tf.placeholder(tf.float32, [None, OUTPUT_SIZE], name=\"y-input\")\n",
    "        validate_feed = {x: mnist.validation.images, y_: mnist.validation.labels}\n",
    "        y = inference(x, None)\n",
    "        correct_prediction = tf.equal(tf.argmax(y, 1), tf.argmax(y_, 1))\n",
    "        accuracy = tf.reduce_mean(tf.cast(correct_prediction, tf.float32))\n",
    "        variable_averages = tf.train.ExponentialMovingAverage(MOVING_AVERAGE_DECAY)\n",
    "        variable_to_restore = variable_averages.variables_to_restore()\n",
    "        saver = tf.train.Saver(variable_to_restore)\n",
    "        with tf.Session() as sess:\n",
    "            ckpt = tf.train.get_checkpoint_state(MODEL_SAVE_PATH)\n",
    "            if ckpt and ckpt.model_checkpoint_path:\n",
    "                saver.restore(sess, ckpt.model_checkpoint_path)\n",
    "                global_step = ckpt.model_checkpoint_path.split('/')[-1].split('-')[-1]\n",
    "                accuracy_score = sess.run(accuracy, feed_dict=validate_feed)\n",
    "                print(\"Setp %s, accuracy = %g\" % (global_step, accuracy_score))\n",
    "            else:\n",
    "                print(\"Checkpoint not found\")\n",
    "                return"
   ]
  },
  {
   "cell_type": "code",
   "execution_count": 10,
   "metadata": {},
   "outputs": [
    {
     "name": "stdout",
     "output_type": "stream",
     "text": [
      "INFO:tensorflow:Restoring parameters from ./model/model-30000\n",
      "Setp 30000, accuracy = 0.9864\n"
     ]
    }
   ],
   "source": [
    "evaluate(mnist)"
   ]
  }
 ],
 "metadata": {
  "kernelspec": {
   "display_name": "Python [conda env:tensorflow36]",
   "language": "python",
   "name": "conda-env-tensorflow36-py"
  },
  "language_info": {
   "codemirror_mode": {
    "name": "ipython",
    "version": 3
   },
   "file_extension": ".py",
   "mimetype": "text/x-python",
   "name": "python",
   "nbconvert_exporter": "python",
   "pygments_lexer": "ipython3",
   "version": "3.6.4"
  }
 },
 "nbformat": 4,
 "nbformat_minor": 2
}
