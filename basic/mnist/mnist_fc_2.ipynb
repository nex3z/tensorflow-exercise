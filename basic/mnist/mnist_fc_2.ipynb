{
 "cells": [
  {
   "cell_type": "code",
   "execution_count": 1,
   "metadata": {},
   "outputs": [],
   "source": [
    "import tensorflow as tf\n",
    "from tensorflow.examples.tutorials.mnist import input_data\n",
    "from six.moves import xrange"
   ]
  },
  {
   "cell_type": "code",
   "execution_count": 2,
   "metadata": {},
   "outputs": [],
   "source": [
    "INPUT_SIZE = 784\n",
    "LAYOUT_1_SIZE = 500\n",
    "OUTPUT_SIZE = 10"
   ]
  },
  {
   "cell_type": "code",
   "execution_count": 3,
   "metadata": {},
   "outputs": [],
   "source": [
    "def get_weight_variable(shape):\n",
    "    weights = tf.get_variable(\"weights\", shape, initializer=tf.truncated_normal_initializer(stddev=0.1))\n",
    "    return weights"
   ]
  },
  {
   "cell_type": "code",
   "execution_count": 4,
   "metadata": {},
   "outputs": [],
   "source": [
    "def inference(input_tensor):\n",
    "    with tf.variable_scope(\"layer_1\", reuse=tf.AUTO_REUSE):\n",
    "        weights = get_weight_variable([INPUT_SIZE, LAYOUT_1_SIZE])\n",
    "        biases = tf.get_variable(\"biases\", [LAYOUT_1_SIZE], initializer=tf.constant_initializer(0.0))\n",
    "        layer_1 = tf.nn.relu(tf.matmul(input_tensor, weights) + biases)\n",
    "    with tf.variable_scope(\"layer_2\", reuse=tf.AUTO_REUSE):\n",
    "        weights = get_weight_variable([LAYOUT_1_SIZE, OUTPUT_SIZE])\n",
    "        biases = tf.get_variable(\"biases\", [OUTPUT_SIZE], initializer=tf.constant_initializer(0.0))\n",
    "        logits = tf.matmul(layer_1, weights) + biases\n",
    "    return logits"
   ]
  },
  {
   "cell_type": "code",
   "execution_count": 5,
   "metadata": {},
   "outputs": [],
   "source": [
    "def compute_loss(logits, labels):\n",
    "    corss_entropy = tf.nn.sparse_softmax_cross_entropy_with_logits(logits=logits, labels=labels)\n",
    "    return tf.reduce_mean(corss_entropy)"
   ]
  },
  {
   "cell_type": "code",
   "execution_count": 6,
   "metadata": {},
   "outputs": [],
   "source": [
    "def train(loss, learning_rate):\n",
    "    global_step = tf.Variable(0, trainable=False)\n",
    "    train_op = tf.train.GradientDescentOptimizer(learning_rate).minimize(loss, global_step=global_step)\n",
    "    return train_op"
   ]
  },
  {
   "cell_type": "code",
   "execution_count": 7,
   "metadata": {},
   "outputs": [],
   "source": [
    "def evaluation(logits, labels):\n",
    "    correct = tf.nn.in_top_k(logits, labels, 1)\n",
    "    return tf.reduce_sum(tf.cast(correct, tf.int32))"
   ]
  },
  {
   "cell_type": "code",
   "execution_count": 8,
   "metadata": {},
   "outputs": [],
   "source": [
    "BATCH_SIZE = 100\n",
    "MAX_STEPS = 2000\n",
    "LEARNING_RATE = 0.1\n",
    "INPUT_DATA_DIR = \"./data\""
   ]
  },
  {
   "cell_type": "code",
   "execution_count": 9,
   "metadata": {},
   "outputs": [],
   "source": [
    "x = tf.placeholder(tf.float32, shape=[None, INPUT_SIZE])\n",
    "y_label = tf.placeholder(tf.float32, shape=[None, OUTPUT_SIZE])\n",
    "logits = inference(x)\n",
    "loss = compute_loss(logits, tf.argmax(y_label, 1))\n",
    "train_op = train(loss, LEARNING_RATE)\n",
    "correct = evaluation(logits, tf.argmax(y_label, 1))\n",
    "\n",
    "init = tf.global_variables_initializer()"
   ]
  },
  {
   "cell_type": "code",
   "execution_count": 10,
   "metadata": {},
   "outputs": [
    {
     "name": "stdout",
     "output_type": "stream",
     "text": [
      "Extracting ./data/train-images-idx3-ubyte.gz\n",
      "Extracting ./data/train-labels-idx1-ubyte.gz\n",
      "Extracting ./data/t10k-images-idx3-ubyte.gz\n",
      "Extracting ./data/t10k-labels-idx1-ubyte.gz\n"
     ]
    }
   ],
   "source": [
    "mnist = input_data.read_data_sets(\"./data\", one_hot=True)"
   ]
  },
  {
   "cell_type": "code",
   "execution_count": 11,
   "metadata": {},
   "outputs": [
    {
     "name": "stdout",
     "output_type": "stream",
     "text": [
      "Step 100, loss = 0.438273, validation set precision = 0.8918\n",
      "Step 200, loss = 0.504826, validation set precision = 0.9126\n",
      "Step 300, loss = 0.284184, validation set precision = 0.9198\n",
      "Step 400, loss = 0.368827, validation set precision = 0.9288\n",
      "Step 500, loss = 0.215905, validation set precision = 0.9348\n",
      "Step 600, loss = 0.116425, validation set precision = 0.9384\n",
      "Step 700, loss = 0.211547, validation set precision = 0.9434\n",
      "Step 800, loss = 0.27161, validation set precision = 0.9456\n",
      "Step 900, loss = 0.290639, validation set precision = 0.9506\n",
      "Step 1000, loss = 0.200191, validation set precision = 0.95\n",
      "Step 1100, loss = 0.160943, validation set precision = 0.9502\n",
      "Step 1200, loss = 0.120641, validation set precision = 0.955\n",
      "Step 1300, loss = 0.328334, validation set precision = 0.956\n",
      "Step 1400, loss = 0.161116, validation set precision = 0.9574\n",
      "Step 1500, loss = 0.169556, validation set precision = 0.9596\n",
      "Step 1600, loss = 0.129965, validation set precision = 0.9598\n",
      "Step 1700, loss = 0.154128, validation set precision = 0.96\n",
      "Step 1800, loss = 0.0885485, validation set precision = 0.9642\n",
      "Step 1900, loss = 0.171741, validation set precision = 0.9638\n",
      "Step 2000, loss = 0.0583616, validation set precision = 0.9616\n"
     ]
    }
   ],
   "source": [
    "with tf.Session() as sess:\n",
    "    sess.run(init)\n",
    "    for step in xrange(1, MAX_STEPS + 1):\n",
    "        xs, ys = mnist.train.next_batch(BATCH_SIZE)\n",
    "        _, loss_value = sess.run([train_op, loss], feed_dict={x: xs, y_label: ys})\n",
    "        if step % 100 == 0:\n",
    "            x_validation = mnist.validation.images\n",
    "            y_validation = mnist.validation.labels\n",
    "            correct_value = sess.run(correct, feed_dict={x: x_validation, y_label: y_validation})\n",
    "            precision =  correct_value / mnist.validation.num_examples\n",
    "            print(\"Step %d, loss = %g, validation set precision = %g\" % (step, loss_value, precision))"
   ]
  }
 ],
 "metadata": {
  "kernelspec": {
   "display_name": "Python [conda env:tensorflow36]",
   "language": "python",
   "name": "conda-env-tensorflow36-py"
  },
  "language_info": {
   "codemirror_mode": {
    "name": "ipython",
    "version": 3
   },
   "file_extension": ".py",
   "mimetype": "text/x-python",
   "name": "python",
   "nbconvert_exporter": "python",
   "pygments_lexer": "ipython3",
   "version": "3.6.4"
  }
 },
 "nbformat": 4,
 "nbformat_minor": 2
}
