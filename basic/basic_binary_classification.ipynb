{
 "cells": [
  {
   "cell_type": "code",
   "execution_count": 1,
   "metadata": {},
   "outputs": [],
   "source": [
    "import tensorflow as tf\n",
    "import numpy as np"
   ]
  },
  {
   "cell_type": "code",
   "execution_count": 2,
   "metadata": {},
   "outputs": [],
   "source": [
    "batch_size = 8\n",
    "learning_rate = 0.001\n",
    "total_step = 5000"
   ]
  },
  {
   "cell_type": "code",
   "execution_count": 3,
   "metadata": {},
   "outputs": [],
   "source": [
    "x = tf.placeholder(tf.float32, shape=(None, 2), name=\"x\")\n",
    "y_ = tf.placeholder(tf.float32, shape=(None, 1), name=\"y_\")"
   ]
  },
  {
   "cell_type": "code",
   "execution_count": 4,
   "metadata": {},
   "outputs": [],
   "source": [
    "w_1 = tf.Variable(tf.random_normal([2, 3], stddev=1, seed=1))\n",
    "w_2 = tf.Variable(tf.random_normal([3, 1], stddev=1, seed=1))"
   ]
  },
  {
   "cell_type": "code",
   "execution_count": 5,
   "metadata": {},
   "outputs": [],
   "source": [
    "a = tf.matmul(x, w_1)\n",
    "y = tf.sigmoid(tf.matmul(a, w_2))"
   ]
  },
  {
   "cell_type": "code",
   "execution_count": 6,
   "metadata": {},
   "outputs": [],
   "source": [
    "cross_entropy = -tf.reduce_mean(y_ * tf.log(tf.clip_by_value(y, 1e-10, 1.0)) \n",
    "                                + (1 - y_) * tf.log(tf.clip_by_value((1 - y), 1e-10, 1.0)))\n",
    "train_step = tf.train.AdamOptimizer(learning_rate).minimize(cross_entropy)"
   ]
  },
  {
   "cell_type": "code",
   "execution_count": 7,
   "metadata": {},
   "outputs": [],
   "source": [
    "data_size = 128\n",
    "rnd = np.random.RandomState(1)\n",
    "x_data = rnd.rand(data_size, 2)\n",
    "y_data = [[int(x[0] + x[1] < 1)] for x in x_data]"
   ]
  },
  {
   "cell_type": "code",
   "execution_count": 8,
   "metadata": {
    "scrolled": false
   },
   "outputs": [
    {
     "name": "stdout",
     "output_type": "stream",
     "text": [
      "[[-0.8113182   1.4845988   0.06532937]\n",
      " [-2.4427042   0.0992484   0.5912243 ]]\n",
      "[[-0.8113182 ]\n",
      " [ 1.4845988 ]\n",
      " [ 0.06532937]]\n",
      "Step 0, current cross entropy is 1.89805\n",
      "Step 1000, current cross entropy is 0.655075\n",
      "Step 2000, current cross entropy is 0.626172\n",
      "Step 3000, current cross entropy is 0.615096\n",
      "Step 4000, current cross entropy is 0.610309\n",
      "[[ 0.02476983  0.56948674  1.6921941 ]\n",
      " [-2.1977348  -0.23668921  1.1143895 ]]\n",
      "[[-0.45544702]\n",
      " [ 0.49110925]\n",
      " [-0.98110336]]\n"
     ]
    }
   ],
   "source": [
    "with tf.Session() as sess:\n",
    "    init_op = tf.global_variables_initializer()\n",
    "    sess.run(init_op)\n",
    "    print(sess.run(w_1))\n",
    "    print(sess.run(w_2))\n",
    "    for i in range(total_step):\n",
    "        start = (i * batch_size) % data_size\n",
    "        end = min(start + batch_size, data_size)\n",
    "        sess.run([train_step, y, y_], feed_dict={x: x_data[start:end], y_: y_data[start:end]})\n",
    "        if (i % 1000 == 0):\n",
    "            current_cross_entropy = sess.run(\n",
    "                cross_entropy, feed_dict={x: x_data, y_: y_data})\n",
    "            print(\"Step %d, current cross entropy is %g\" % (i, current_cross_entropy))\n",
    "            \n",
    "    print(sess.run(w_1))\n",
    "    print(sess.run(w_2))"
   ]
  }
 ],
 "metadata": {
  "kernelspec": {
   "display_name": "Python [conda env:tensorflow36]",
   "language": "python",
   "name": "conda-env-tensorflow36-py"
  },
  "language_info": {
   "codemirror_mode": {
    "name": "ipython",
    "version": 3
   },
   "file_extension": ".py",
   "mimetype": "text/x-python",
   "name": "python",
   "nbconvert_exporter": "python",
   "pygments_lexer": "ipython3",
   "version": "3.6.4"
  }
 },
 "nbformat": 4,
 "nbformat_minor": 2
}
