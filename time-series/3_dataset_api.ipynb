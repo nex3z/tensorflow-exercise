{
 "cells": [
  {
   "cell_type": "code",
   "execution_count": 1,
   "metadata": {},
   "outputs": [
    {
     "name": "stdout",
     "output_type": "stream",
     "text": [
      "2.0.0-beta1\n"
     ]
    }
   ],
   "source": [
    "import tensorflow as tf\n",
    "from tensorflow.data import Dataset\n",
    "\n",
    "print(tf.__version__)"
   ]
  },
  {
   "cell_type": "code",
   "execution_count": 2,
   "metadata": {},
   "outputs": [
    {
     "name": "stdout",
     "output_type": "stream",
     "text": [
      "0 1 2 3 4 5 6 7 8 9 "
     ]
    }
   ],
   "source": [
    "dataset = Dataset.range(10)\n",
    "\n",
    "for val in dataset:\n",
    "    print(val.numpy(), end=' ')"
   ]
  },
  {
   "cell_type": "code",
   "execution_count": 3,
   "metadata": {},
   "outputs": [
    {
     "name": "stdout",
     "output_type": "stream",
     "text": [
      "0 1 2 3 4 \n",
      "1 2 3 4 5 \n",
      "2 3 4 5 6 \n",
      "3 4 5 6 7 \n",
      "4 5 6 7 8 \n",
      "5 6 7 8 9 \n",
      "6 7 8 9 \n",
      "7 8 9 \n",
      "8 9 \n",
      "9 \n"
     ]
    }
   ],
   "source": [
    "dataset = Dataset.range(10) \\\n",
    "    .window(5, shift=1)\n",
    "\n",
    "for window in dataset:\n",
    "    for val in window:\n",
    "        print(val.numpy(), end=' ')\n",
    "    print()"
   ]
  },
  {
   "cell_type": "code",
   "execution_count": 4,
   "metadata": {},
   "outputs": [
    {
     "name": "stdout",
     "output_type": "stream",
     "text": [
      "0 1 2 3 4 \n",
      "1 2 3 4 5 \n",
      "2 3 4 5 6 \n",
      "3 4 5 6 7 \n",
      "4 5 6 7 8 \n",
      "5 6 7 8 9 \n"
     ]
    }
   ],
   "source": [
    "dataset = Dataset.range(10) \\\n",
    "    .window(5, shift=1, drop_remainder=True)\n",
    "\n",
    "for window in dataset:\n",
    "    for val in window:\n",
    "        print(val.numpy(), end=' ')\n",
    "    print()"
   ]
  },
  {
   "cell_type": "code",
   "execution_count": 5,
   "metadata": {},
   "outputs": [
    {
     "name": "stdout",
     "output_type": "stream",
     "text": [
      "[0 1 2 3 4]\n",
      "[1 2 3 4 5]\n",
      "[2 3 4 5 6]\n",
      "[3 4 5 6 7]\n",
      "[4 5 6 7 8]\n",
      "[5 6 7 8 9]\n"
     ]
    }
   ],
   "source": [
    "dataset = Dataset.range(10) \\\n",
    "    .window(5, shift=1, drop_remainder=True) \\\n",
    "    .flat_map(lambda window: window.batch(5))\n",
    "\n",
    "for batch in dataset:\n",
    "    print(batch.numpy())"
   ]
  },
  {
   "cell_type": "code",
   "execution_count": 6,
   "metadata": {},
   "outputs": [
    {
     "name": "stdout",
     "output_type": "stream",
     "text": [
      "[0 1 2 3] [4]\n",
      "[1 2 3 4] [5]\n",
      "[2 3 4 5] [6]\n",
      "[3 4 5 6] [7]\n",
      "[4 5 6 7] [8]\n",
      "[5 6 7 8] [9]\n"
     ]
    }
   ],
   "source": [
    "dataset = Dataset.range(10) \\\n",
    "    .window(5, shift=1, drop_remainder=True) \\\n",
    "    .flat_map(lambda window: window.batch(5)) \\\n",
    "    .map(lambda batch: (batch[:-1], batch[-1:]))\n",
    "\n",
    "for x, y in dataset:\n",
    "    print(x.numpy(), y.numpy())"
   ]
  },
  {
   "cell_type": "code",
   "execution_count": 7,
   "metadata": {},
   "outputs": [
    {
     "name": "stdout",
     "output_type": "stream",
     "text": [
      "[0 1 2 3] [4]\n",
      "[3 4 5 6] [7]\n",
      "[1 2 3 4] [5]\n",
      "[2 3 4 5] [6]\n",
      "[5 6 7 8] [9]\n",
      "[4 5 6 7] [8]\n"
     ]
    }
   ],
   "source": [
    "dataset = Dataset.range(10) \\\n",
    "    .window(5, shift=1, drop_remainder=True) \\\n",
    "    .flat_map(lambda window: window.batch(5)) \\\n",
    "    .map(lambda batch: (batch[:-1], batch[-1:])) \\\n",
    "    .shuffle(buffer_size=10)\n",
    "\n",
    "for x, y in dataset:\n",
    "    print(x.numpy(), y.numpy())"
   ]
  },
  {
   "cell_type": "code",
   "execution_count": 8,
   "metadata": {},
   "outputs": [
    {
     "name": "stdout",
     "output_type": "stream",
     "text": [
      "x = \n",
      "[[3 4 5 6]\n",
      " [2 3 4 5]]\n",
      "y = \n",
      "[[7]\n",
      " [6]]\n",
      "x = \n",
      "[[5 6 7 8]\n",
      " [4 5 6 7]]\n",
      "y = \n",
      "[[9]\n",
      " [8]]\n",
      "x = \n",
      "[[1 2 3 4]\n",
      " [0 1 2 3]]\n",
      "y = \n",
      "[[5]\n",
      " [4]]\n"
     ]
    }
   ],
   "source": [
    "dataset = Dataset.range(10) \\\n",
    "    .window(5, shift=1, drop_remainder=True) \\\n",
    "    .flat_map(lambda window: window.batch(5)) \\\n",
    "    .map(lambda batch: (batch[:-1], batch[-1:])) \\\n",
    "    .shuffle(buffer_size=10) \\\n",
    "    .batch(2).prefetch(1)\n",
    "\n",
    "for x, y in dataset:\n",
    "    print(\"x = \\n{}\\ny = \\n{}\".format(x, y))"
   ]
  }
 ],
 "metadata": {
  "kernelspec": {
   "display_name": "Python 3",
   "language": "python",
   "name": "python3"
  },
  "language_info": {
   "codemirror_mode": {
    "name": "ipython",
    "version": 3
   },
   "file_extension": ".py",
   "mimetype": "text/x-python",
   "name": "python",
   "nbconvert_exporter": "python",
   "pygments_lexer": "ipython3",
   "version": "3.7.3"
  }
 },
 "nbformat": 4,
 "nbformat_minor": 4
}
