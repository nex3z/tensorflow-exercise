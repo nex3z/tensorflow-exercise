{
  "nbformat": 4,
  "nbformat_minor": 0,
  "metadata": {
    "accelerator": "GPU",
    "colab": {
      "name": "03_02_train_reuse_text_embedding_dense.ipynb",
      "provenance": [],
      "collapsed_sections": []
    },
    "kernelspec": {
      "display_name": "Python 3",
      "language": "python",
      "name": "python3"
    },
    "language_info": {
      "codemirror_mode": {
        "name": "ipython",
        "version": 3
      },
      "file_extension": ".py",
      "mimetype": "text/x-python",
      "name": "python",
      "nbconvert_exporter": "python",
      "pygments_lexer": "ipython3",
      "version": "3.8.0"
    }
  },
  "cells": [
    {
      "cell_type": "code",
      "metadata": {
        "id": "3e9QrM5stiny"
      },
      "source": [
        "import tensorflow as tf\n",
        "import tensorflow_datasets as tfds\n",
        "import tensorflow_hub as hub\n",
        "from tensorflow import keras"
      ],
      "execution_count": 1,
      "outputs": []
    },
    {
      "cell_type": "code",
      "metadata": {
        "id": "OIK-wb8Etin_"
      },
      "source": [
        "EMBEDDING_LAYER_URL = 'https://tfhub.dev/google/nnlm-en-dim50/2'"
      ],
      "execution_count": 2,
      "outputs": []
    },
    {
      "cell_type": "code",
      "metadata": {
        "id": "mrHDgxRYtioA"
      },
      "source": [
        "BATCH_SIZE = 512\n",
        "SHUFFLE_BUFFER_SIZE = 10000"
      ],
      "execution_count": 3,
      "outputs": []
    },
    {
      "cell_type": "code",
      "metadata": {
        "id": "WOqeKZp_tioB"
      },
      "source": [
        "imdb, info = tfds.load('imdb_reviews', with_info=True, as_supervised=True)\n",
        "train_data, val_data = imdb['train'], imdb['test']"
      ],
      "execution_count": 4,
      "outputs": []
    },
    {
      "cell_type": "code",
      "metadata": {
        "id": "UGEmHnrNy-j5"
      },
      "source": [
        "# (train_data, val_data, test_data), info = tfds.load(\r\n",
        "#     name='imdb_reviews', \r\n",
        "#     with_info=True,\r\n",
        "#     split=('train[:60%]', 'train[60%:]', 'test'),\r\n",
        "#     as_supervised=True\r\n",
        "# )"
      ],
      "execution_count": 5,
      "outputs": []
    },
    {
      "cell_type": "code",
      "metadata": {
        "id": "4Ix5kpFrtioE"
      },
      "source": [
        "train_ds = train_data\\\n",
        "    .shuffle(SHUFFLE_BUFFER_SIZE)\\\n",
        "    .batch(BATCH_SIZE)\n",
        "\n",
        "val_ds = val_data.batch(BATCH_SIZE)"
      ],
      "execution_count": 6,
      "outputs": []
    },
    {
      "cell_type": "code",
      "metadata": {
        "id": "2Cd4XsuQtioE"
      },
      "source": [
        "embedding_layer = hub.KerasLayer(EMBEDDING_LAYER_URL, input_shape=[], dtype=tf.string, trainable=True)"
      ],
      "execution_count": 7,
      "outputs": []
    },
    {
      "cell_type": "code",
      "metadata": {
        "id": "A7_twsQStioF",
        "colab": {
          "base_uri": "https://localhost:8080/"
        },
        "outputId": "ae2aa11c-09f7-4a61-c72c-f6440c7e074a"
      },
      "source": [
        "model = keras.Sequential([\n",
        "    embedding_layer,\n",
        "    keras.layers.Dense(16, activation='relu'),\n",
        "    keras.layers.Dense(1, activation='sigmoid')\n",
        "])\n",
        "\n",
        "model.summary()\n",
        "\n",
        "model.compile(\n",
        "    optimizer='adam',\n",
        "    loss=keras.losses.BinaryCrossentropy(),\n",
        "    metrics=['accuracy']\n",
        ")\n",
        "\n",
        "early_stopping = keras.callbacks.EarlyStopping(\n",
        "    monitor='val_loss',\n",
        "    patience=3,\n",
        "    mode='min',\n",
        "    # restore_best_weights=True\n",
        ")\n",
        "\n",
        "history = model.fit(\n",
        "    train_ds,\n",
        "    epochs=10,\n",
        "    validation_data=val_ds,\n",
        "    callbacks=[early_stopping],\n",
        "    verbose=1\n",
        ")"
      ],
      "execution_count": 8,
      "outputs": [
        {
          "output_type": "stream",
          "text": [
            "Model: \"sequential\"\n",
            "_________________________________________________________________\n",
            "Layer (type)                 Output Shape              Param #   \n",
            "=================================================================\n",
            "keras_layer (KerasLayer)     (None, 50)                48190600  \n",
            "_________________________________________________________________\n",
            "dense (Dense)                (None, 16)                816       \n",
            "_________________________________________________________________\n",
            "dense_1 (Dense)              (None, 1)                 17        \n",
            "=================================================================\n",
            "Total params: 48,191,433\n",
            "Trainable params: 48,191,433\n",
            "Non-trainable params: 0\n",
            "_________________________________________________________________\n",
            "Epoch 1/10\n",
            "49/49 [==============================] - 6s 101ms/step - loss: 0.6665 - accuracy: 0.5864 - val_loss: 0.5418 - val_accuracy: 0.7699\n",
            "Epoch 2/10\n",
            "49/49 [==============================] - 5s 95ms/step - loss: 0.4770 - accuracy: 0.8174 - val_loss: 0.3996 - val_accuracy: 0.8364\n",
            "Epoch 3/10\n",
            "49/49 [==============================] - 5s 98ms/step - loss: 0.3173 - accuracy: 0.8898 - val_loss: 0.3409 - val_accuracy: 0.8529\n",
            "Epoch 4/10\n",
            "49/49 [==============================] - 5s 97ms/step - loss: 0.2186 - accuracy: 0.9255 - val_loss: 0.3082 - val_accuracy: 0.8674\n",
            "Epoch 5/10\n",
            "49/49 [==============================] - 5s 96ms/step - loss: 0.1554 - accuracy: 0.9522 - val_loss: 0.3060 - val_accuracy: 0.8679\n",
            "Epoch 6/10\n",
            "49/49 [==============================] - 5s 97ms/step - loss: 0.1105 - accuracy: 0.9699 - val_loss: 0.3146 - val_accuracy: 0.8672\n",
            "Epoch 7/10\n",
            "49/49 [==============================] - 5s 96ms/step - loss: 0.0784 - accuracy: 0.9834 - val_loss: 0.3352 - val_accuracy: 0.8632\n",
            "Epoch 8/10\n",
            "49/49 [==============================] - 5s 99ms/step - loss: 0.0551 - accuracy: 0.9902 - val_loss: 0.3606 - val_accuracy: 0.8589\n"
          ],
          "name": "stdout"
        }
      ]
    },
    {
      "cell_type": "code",
      "metadata": {
        "colab": {
          "base_uri": "https://localhost:8080/"
        },
        "id": "22-TdABCzVpC",
        "outputId": "8f70dafa-304b-4fc4-e9e0-bc22b9ed104b"
      },
      "source": [
        "model.evaluate(val_ds)"
      ],
      "execution_count": 9,
      "outputs": [
        {
          "output_type": "stream",
          "text": [
            "49/49 [==============================] - 2s 39ms/step - loss: 0.3606 - accuracy: 0.8589\n"
          ],
          "name": "stdout"
        },
        {
          "output_type": "execute_result",
          "data": {
            "text/plain": [
              "[0.36059218645095825, 0.8588799834251404]"
            ]
          },
          "metadata": {
            "tags": []
          },
          "execution_count": 9
        }
      ]
    },
    {
      "cell_type": "code",
      "metadata": {
        "id": "noDDZpuuujGB",
        "colab": {
          "base_uri": "https://localhost:8080/"
        },
        "outputId": "bd515321-19da-41c1-a416-ce59fc0a7ee0"
      },
      "source": [
        "new_data = \"There are films that make careers. For George Romero, it was NIGHT OF THE LIVING DEAD; for Kevin Smith, CLERKS; for Robert Rodriguez, EL MARIACHI. Add to that list Onur Tukel's absolutely amazing DING-A-LING-LESS. Flawless film-making, and as assured and as professional as any of the aforementioned movies. I haven't laughed this hard since I saw THE FULL MONTY. (And, even then, I don't think I laughed quite this hard... So to speak.) Tukel's talent is considerable: DING-A-LING-LESS is so chock full of double entendres that one would have to sit down with a copy of this script and do a line-by-line examination of it to fully appreciate the, uh, breadth and width of it. Every shot is beautifully composed (a clear sign of a sure-handed director), and the performances all around are solid (there's none of the over-the-top scenery chewing one might've expected from a film like this). DING-A-LING-LESS is a film whose time has come.\"\r\n",
        "prediction = model.predict([new_data])\r\n",
        "prediction"
      ],
      "execution_count": 10,
      "outputs": [
        {
          "output_type": "execute_result",
          "data": {
            "text/plain": [
              "array([[0.626334]], dtype=float32)"
            ]
          },
          "metadata": {
            "tags": []
          },
          "execution_count": 10
        }
      ]
    }
  ]
}