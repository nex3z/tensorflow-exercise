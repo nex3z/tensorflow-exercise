{
  "nbformat": 4,
  "nbformat_minor": 0,
  "metadata": {
    "kernelspec": {
      "display_name": "Python 3",
      "language": "python",
      "name": "python3"
    },
    "language_info": {
      "codemirror_mode": {
        "name": "ipython",
        "version": 3
      },
      "file_extension": ".py",
      "mimetype": "text/x-python",
      "name": "python",
      "nbconvert_exporter": "python",
      "pygments_lexer": "ipython3",
      "version": "3.8.0"
    },
    "colab": {
      "name": "03_01_reuse_text_embedding.ipynb",
      "provenance": [],
      "collapsed_sections": []
    },
    "accelerator": "GPU"
  },
  "cells": [
    {
      "cell_type": "code",
      "metadata": {
        "id": "3e9QrM5stiny"
      },
      "source": [
        "import os\r\n",
        "import tempfile\r\n",
        "import tensorflow_hub as hub\r\n",
        "from tensorflow import keras"
      ],
      "execution_count": 1,
      "outputs": []
    },
    {
      "cell_type": "code",
      "metadata": {
        "id": "0PAPvUol_I0Z"
      },
      "source": [
        "os.environ['TFHUB_MODEL_LOAD_FORMAT'] = 'COMPRESSED'\r\n",
        "os.environ['TFHUB_CACHE_DIR'] = './tfhub_modules'"
      ],
      "execution_count": 2,
      "outputs": []
    },
    {
      "cell_type": "code",
      "metadata": {
        "id": "OIK-wb8Etin_"
      },
      "source": [
        "EMBEDDING_LAYER_URL = 'https://tfhub.dev/google/nnlm-en-dim50/2'"
      ],
      "execution_count": 3,
      "outputs": []
    },
    {
      "cell_type": "code",
      "metadata": {
        "id": "mrHDgxRYtioA"
      },
      "source": [
        "embedding_layer = hub.load(EMBEDDING_LAYER_URL)"
      ],
      "execution_count": 4,
      "outputs": []
    },
    {
      "cell_type": "code",
      "metadata": {
        "colab": {
          "base_uri": "https://localhost:8080/"
        },
        "id": "yHttWLRXxYxo",
        "outputId": "ec337b77-8153-4c17-8702-0e4d4432b3f5"
      },
      "source": [
        "text_embeddings = embedding_layer([\r\n",
        "    \"cat is on the mat\", \r\n",
        "    \"dog is in the fog\"\r\n",
        "])\r\n",
        "text_embeddings"
      ],
      "execution_count": 5,
      "outputs": [
        {
          "output_type": "execute_result",
          "data": {
            "text/plain": [
              "<tf.Tensor: shape=(2, 50), dtype=float32, numpy=\n",
              "array([[ 0.16589954,  0.0254965 ,  0.1574857 ,  0.17688066,  0.02911299,\n",
              "        -0.03092718,  0.19445257, -0.05709129, -0.08631689, -0.04391516,\n",
              "         0.13032274,  0.10905275, -0.08515751,  0.01056632, -0.17220995,\n",
              "        -0.17925954,  0.19556305,  0.0802278 , -0.03247919, -0.49176937,\n",
              "        -0.07767699, -0.03160921, -0.13952136,  0.05959712,  0.06858718,\n",
              "         0.22386682, -0.16653948,  0.19412343, -0.05491862,  0.10997339,\n",
              "        -0.15811177, -0.02576607, -0.07910853, -0.258499  , -0.04206644,\n",
              "        -0.20052543,  0.1705603 , -0.15314153,  0.0039225 , -0.28694248,\n",
              "         0.02468278,  0.11069503,  0.03733957,  0.01433943, -0.11048374,\n",
              "         0.11931834, -0.11552787, -0.11110869,  0.02384969, -0.07074881],\n",
              "       [ 0.1437864 ,  0.08291595,  0.10897306,  0.04464385, -0.03630389,\n",
              "        -0.12605834,  0.20263346,  0.12862863, -0.07873426, -0.01195358,\n",
              "         0.0020956 , -0.03080653, -0.08019945, -0.18797135, -0.11973457,\n",
              "        -0.26926652,  0.05157408, -0.15541205, -0.12221853, -0.27182642,\n",
              "         0.08750801, -0.05013347,  0.03012378,  0.2053423 ,  0.10000334,\n",
              "         0.18292566, -0.18280756,  0.0780353 ,  0.10936535, -0.10147726,\n",
              "        -0.19995196,  0.0398768 , -0.15377024, -0.1095404 , -0.18498933,\n",
              "        -0.15899731,  0.0558111 ,  0.15251887,  0.02046264, -0.25878936,\n",
              "        -0.13057052,  0.0782799 ,  0.04044291,  0.14456013,  0.00264394,\n",
              "         0.1399635 , -0.04803645, -0.17253871, -0.03153546,  0.09077   ]],\n",
              "      dtype=float32)>"
            ]
          },
          "metadata": {
            "tags": []
          },
          "execution_count": 5
        }
      ]
    },
    {
      "cell_type": "code",
      "metadata": {
        "colab": {
          "base_uri": "https://localhost:8080/"
        },
        "id": "2Mj95eRw7Xpx",
        "outputId": "9614cc67-c8f6-4bf9-c6cc-d9b1645ff9c3"
      },
      "source": [
        "embedding_layer.embeddings"
      ],
      "execution_count": 6,
      "outputs": [
        {
          "output_type": "execute_result",
          "data": {
            "text/plain": [
              "<tf.Variable 'Variable:0' shape=(963812, 50) dtype=float32, numpy=\n",
              "array([[-0.07078403,  0.2309921 , -0.04001201, ...,  0.006042  ,\n",
              "         0.01584901, -0.23308909],\n",
              "       [ 0.13103518,  0.17923635,  0.01063039, ..., -0.29381433,\n",
              "         0.05539819,  0.05226879],\n",
              "       [ 0.06475412, -0.12864912, -0.12485643, ..., -0.16776969,\n",
              "         0.07435564,  0.19124678],\n",
              "       ...,\n",
              "       [ 0.4045343 , -0.17706504, -0.13003995, ..., -0.01742322,\n",
              "         0.02578888,  0.29181632],\n",
              "       [ 0.4186347 ,  0.0406054 , -0.14481059, ..., -0.05217805,\n",
              "         0.03594268,  0.21899657],\n",
              "       [ 0.4463733 ,  0.06268543,  0.02524463, ...,  0.17416938,\n",
              "        -0.11148718,  0.2714855 ]], dtype=float32)>"
            ]
          },
          "metadata": {
            "tags": []
          },
          "execution_count": 6
        }
      ]
    },
    {
      "cell_type": "code",
      "metadata": {
        "id": "d4rbgARZ8yep"
      },
      "source": [
        "# COMPRESSED_URL = 'https://storage.googleapis.com/tfhub-modules/google/nnlm-en-dim50/2.tar.gz'\r\n",
        "\r\n",
        "# keras.utils.get_file(\r\n",
        "#     os.path.basename(COMPRESSED_URL),\r\n",
        "#     COMPRESSED_URL,\r\n",
        "#     cache_dir='./',\r\n",
        "#     cache_subdir='',\r\n",
        "#     extract=True\r\n",
        "# )\r\n",
        "\r\n",
        "# tokens_file_path = './assets/tokens.txt'"
      ],
      "execution_count": 7,
      "outputs": []
    },
    {
      "cell_type": "code",
      "metadata": {
        "id": "vyPO9jETcURx"
      },
      "source": [
        "# tokens_file_path = os.path.join(tempfile.gettempdir(), 'tfhub_modules', '74a841d6eb84e8d93d913d716fb5440d020cc291', 'assets', 'tokens.txt')"
      ],
      "execution_count": 8,
      "outputs": []
    },
    {
      "cell_type": "code",
      "metadata": {
        "id": "dRMASasrA4eg"
      },
      "source": [
        "tokens_file_path = './tfhub_modules/74a841d6eb84e8d93d913d716fb5440d020cc291/assets/tokens.txt'"
      ],
      "execution_count": 9,
      "outputs": []
    },
    {
      "cell_type": "code",
      "metadata": {
        "id": "Rd01B7YY9kPs"
      },
      "source": [
        "with open(tokens_file_path, 'r') as f:\r\n",
        "    tokens = f.readlines()\r\n",
        "\r\n",
        "tokens = list(map(lambda line: line.rstrip('\\n'), tokens))"
      ],
      "execution_count": 10,
      "outputs": []
    },
    {
      "cell_type": "code",
      "metadata": {
        "colab": {
          "base_uri": "https://localhost:8080/"
        },
        "id": "wUPQ068CCvdp",
        "outputId": "a8ca55f3-9723-4a45-c5c9-bb217a408fc8"
      },
      "source": [
        "tokens[:10]"
      ],
      "execution_count": 11,
      "outputs": [
        {
          "output_type": "execute_result",
          "data": {
            "text/plain": [
              "['<S>', '</S>', '<UNK>', ',', 'the', '.', 'to', 'and', 'of', 'a']"
            ]
          },
          "metadata": {
            "tags": []
          },
          "execution_count": 11
        }
      ]
    }
  ]
}