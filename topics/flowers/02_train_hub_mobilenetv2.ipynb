{
  "nbformat": 4,
  "nbformat_minor": 0,
  "metadata": {
    "colab": {
      "name": "02_train_hub_mobilenetv2.ipynb",
      "provenance": [],
      "collapsed_sections": []
    },
    "kernelspec": {
      "name": "python3",
      "display_name": "Python 3"
    },
    "accelerator": "GPU"
  },
  "cells": [
    {
      "cell_type": "code",
      "metadata": {
        "colab": {
          "base_uri": "https://localhost:8080/"
        },
        "id": "egJwxEiJTH-K",
        "outputId": "f4783633-5770-46bf-aa85-00cfb957ecfb"
      },
      "source": [
        "import numpy as np\n",
        "import tensorflow as tf\n",
        "import tensorflow_hub as hub\n",
        "import tensorflow_datasets as tfds\n",
        "from tensorflow import keras\n",
        "from tensorflow.keras import layers\n",
        "\n",
        "print(f\"tf.__version__ = {tf.__version__}\")\n",
        "print(f\"hub.__version__ = {hub.__version__}\")"
      ],
      "execution_count": 1,
      "outputs": [
        {
          "output_type": "stream",
          "text": [
            "tf.__version__ = 2.3.0\n",
            "hub.__version__ = 0.10.0\n"
          ],
          "name": "stdout"
        }
      ]
    },
    {
      "cell_type": "code",
      "metadata": {
        "id": "DBCPjdXVTaLU"
      },
      "source": [
        "FEATURE_EXTRACTOR_URL = \"https://tfhub.dev/google/imagenet/mobilenet_v2_140_224/feature_vector/4\"\n",
        "\n",
        "CHECK_POINT_DIR = './checkpoint'\n",
        "INPUT_SIZE = 224\n",
        "BATCH_SIZE = 32\n",
        "AUTOTUNE = tf.data.experimental.AUTOTUNE"
      ],
      "execution_count": 2,
      "outputs": []
    },
    {
      "cell_type": "code",
      "metadata": {
        "id": "vQPghDMrTlxD",
        "colab": {
          "base_uri": "https://localhost:8080/"
        },
        "outputId": "3820a197-9098-4c31-87cb-68e0c16907d9"
      },
      "source": [
        "(train_data_ds, val_data_ds), metadata = tfds.load(\n",
        "    name='tf_flowers',\n",
        "    split=['train[:90%]', 'train[90%:]'],\n",
        "    with_info=True,\n",
        "    as_supervised=True,\n",
        ")\n",
        "num_classes = metadata.features['label'].num_classes\n",
        "class_names = metadata.features['label'].names\n",
        "print(f\"num_classes = {num_classes}, class_names = {class_names}\")"
      ],
      "execution_count": 3,
      "outputs": [
        {
          "output_type": "stream",
          "text": [
            "num_classes = 5, class_names = ['dandelion', 'daisy', 'tulips', 'sunflowers', 'roses']\n"
          ],
          "name": "stdout"
        }
      ]
    },
    {
      "cell_type": "code",
      "metadata": {
        "id": "LtZoJSE2qXOr"
      },
      "source": [
        "def resize_and_rescale(image, label):\n",
        "    image = tf.image.resize(image, [INPUT_SIZE, INPUT_SIZE])\n",
        "    image = (image / 255.0)\n",
        "    return image, label\n",
        "\n",
        "def encode_one_hot(image, label):\n",
        "    label = tf.one_hot(label, num_classes)\n",
        "    return image, label\n",
        "\n",
        "def augment(image, label):\n",
        "    image = tf.cast(image, tf.float32)\n",
        "    shape = tf.shape(image)\n",
        "    height, width = shape[0], shape[1]\n",
        "    min_size = tf.minimum(height, width)\n",
        "    crop_size = tf.cast(tf.multiply(tf.cast(min_size, tf.float32), 0.8), tf.int32)\n",
        "    image = tf.image.random_crop(image, size=[crop_size, crop_size, 3])\n",
        "    image = tf.image.random_flip_left_right(image)\n",
        "    return image, label\n",
        "\n",
        "train_data = (\n",
        "    train_data_ds\n",
        "    .shuffle(4096)\n",
        "    .map(augment, num_parallel_calls=AUTOTUNE)\n",
        "    .map(resize_and_rescale, num_parallel_calls=AUTOTUNE)\n",
        "    .map(encode_one_hot, num_parallel_calls=AUTOTUNE)\n",
        "    .batch(BATCH_SIZE)\n",
        "    .prefetch(AUTOTUNE)\n",
        ") "
      ],
      "execution_count": 4,
      "outputs": []
    },
    {
      "cell_type": "code",
      "metadata": {
        "id": "yKV_4WNWqadU"
      },
      "source": [
        "def center_crop(image, label):\n",
        "    image = tf.cast(image, tf.float32)\n",
        "    shape = tf.shape(image)\n",
        "    height, width = shape[0], shape[1]\n",
        "    size = tf.minimum(height, width)\n",
        "    image = tf.image.crop_to_bounding_box(image, (height - size) // 2, (width - size) // 2, size, size)\n",
        "    return image, label\n",
        "    \n",
        "val_data = (\n",
        "    val_data_ds\n",
        "    .map(center_crop, num_parallel_calls=AUTOTUNE)\n",
        "    .map(resize_and_rescale, num_parallel_calls=AUTOTUNE)\n",
        "    .map(encode_one_hot, num_parallel_calls=AUTOTUNE)\n",
        "    .batch(BATCH_SIZE)\n",
        "    .prefetch(AUTOTUNE)\n",
        ")"
      ],
      "execution_count": 5,
      "outputs": []
    },
    {
      "cell_type": "code",
      "metadata": {
        "id": "s3njQZEhw7vP"
      },
      "source": [
        "base_model = hub.KerasLayer(FEATURE_EXTRACTOR_URL, input_shape=(INPUT_SIZE, INPUT_SIZE, 3))"
      ],
      "execution_count": 6,
      "outputs": []
    },
    {
      "cell_type": "code",
      "metadata": {
        "id": "CbcmLHwrG9Cx"
      },
      "source": [
        "base_model.trainable = True"
      ],
      "execution_count": 7,
      "outputs": []
    },
    {
      "cell_type": "code",
      "metadata": {
        "id": "LyatRerHw76o"
      },
      "source": [
        "model = keras.models.Sequential([\n",
        "    base_model,\n",
        "    layers.Dropout(0.5),\n",
        "    layers.Dense(num_classes, activation='softmax'),\n",
        "])\n",
        "\n",
        "model.compile(\n",
        "    loss=keras.losses.CategoricalCrossentropy(label_smoothing=0.1), \n",
        "    optimizer=keras.optimizers.Adam(lr=1e-4), \n",
        "    metrics=['accuracy']\n",
        ")"
      ],
      "execution_count": 8,
      "outputs": []
    },
    {
      "cell_type": "code",
      "metadata": {
        "id": "oSfitRz6tJI8"
      },
      "source": [
        "DECAY_START = 3\n",
        "\n",
        "def scheduler(epoch):\n",
        "    if epoch < DECAY_START:\n",
        "        return 1e-4\n",
        "    else:\n",
        "        return max(1e-4 * np.exp(0.1 * (DECAY_START - epoch)), 1e-6)\n",
        "\n",
        "lr_callback = keras.callbacks.LearningRateScheduler(scheduler, verbose=1)"
      ],
      "execution_count": 9,
      "outputs": []
    },
    {
      "cell_type": "code",
      "metadata": {
        "id": "dVEmYpgytdka"
      },
      "source": [
        "checkpoint_callback = keras.callbacks.ModelCheckpoint(\n",
        "    filepath=CHECK_POINT_DIR, \n",
        "    save_best_only=True, \n",
        "    monitor='val_loss', \n",
        "    mode='min', \n",
        "    verbose=1\n",
        ")"
      ],
      "execution_count": 10,
      "outputs": []
    },
    {
      "cell_type": "code",
      "metadata": {
        "id": "TXRNjEfftVCJ",
        "colab": {
          "base_uri": "https://localhost:8080/"
        },
        "outputId": "c9f4ddf1-5db2-43e2-e401-129e1664450b"
      },
      "source": [
        "history = model.fit(\n",
        "    train_data,\n",
        "    validation_data=val_data,\n",
        "    epochs=20,\n",
        "    callbacks=[lr_callback, checkpoint_callback],\n",
        "    verbose=1\n",
        ")"
      ],
      "execution_count": 11,
      "outputs": [
        {
          "output_type": "stream",
          "text": [
            "\n",
            "Epoch 00001: LearningRateScheduler reducing learning rate to 0.0001.\n",
            "Epoch 1/20\n",
            "  2/104 [..............................] - ETA: 14s - loss: 2.2541 - accuracy: 0.2656WARNING:tensorflow:Callbacks method `on_train_batch_end` is slow compared to the batch time (batch time: 0.0918s vs `on_train_batch_end` time: 0.2006s). Check your callbacks.\n"
          ],
          "name": "stdout"
        },
        {
          "output_type": "stream",
          "text": [
            "WARNING:tensorflow:Callbacks method `on_train_batch_end` is slow compared to the batch time (batch time: 0.0918s vs `on_train_batch_end` time: 0.2006s). Check your callbacks.\n"
          ],
          "name": "stderr"
        },
        {
          "output_type": "stream",
          "text": [
            "104/104 [==============================] - ETA: 0s - loss: 0.9609 - accuracy: 0.7847\n",
            "Epoch 00001: val_loss improved from inf to 0.75875, saving model to ./checkpoint\n",
            "WARNING:tensorflow:From /usr/local/lib/python3.6/dist-packages/tensorflow/python/training/tracking/tracking.py:111: Model.state_updates (from tensorflow.python.keras.engine.training) is deprecated and will be removed in a future version.\n",
            "Instructions for updating:\n",
            "This property should not be used in TensorFlow 2.0, as updates are applied automatically.\n"
          ],
          "name": "stdout"
        },
        {
          "output_type": "stream",
          "text": [
            "WARNING:tensorflow:From /usr/local/lib/python3.6/dist-packages/tensorflow/python/training/tracking/tracking.py:111: Model.state_updates (from tensorflow.python.keras.engine.training) is deprecated and will be removed in a future version.\n",
            "Instructions for updating:\n",
            "This property should not be used in TensorFlow 2.0, as updates are applied automatically.\n"
          ],
          "name": "stderr"
        },
        {
          "output_type": "stream",
          "text": [
            "WARNING:tensorflow:From /usr/local/lib/python3.6/dist-packages/tensorflow/python/training/tracking/tracking.py:111: Layer.updates (from tensorflow.python.keras.engine.base_layer) is deprecated and will be removed in a future version.\n",
            "Instructions for updating:\n",
            "This property should not be used in TensorFlow 2.0, as updates are applied automatically.\n"
          ],
          "name": "stdout"
        },
        {
          "output_type": "stream",
          "text": [
            "WARNING:tensorflow:From /usr/local/lib/python3.6/dist-packages/tensorflow/python/training/tracking/tracking.py:111: Layer.updates (from tensorflow.python.keras.engine.base_layer) is deprecated and will be removed in a future version.\n",
            "Instructions for updating:\n",
            "This property should not be used in TensorFlow 2.0, as updates are applied automatically.\n"
          ],
          "name": "stderr"
        },
        {
          "output_type": "stream",
          "text": [
            "INFO:tensorflow:Assets written to: ./checkpoint/assets\n"
          ],
          "name": "stdout"
        },
        {
          "output_type": "stream",
          "text": [
            "INFO:tensorflow:Assets written to: ./checkpoint/assets\n"
          ],
          "name": "stderr"
        },
        {
          "output_type": "stream",
          "text": [
            "\b\b\b\b\b\b\b\b\b\b\b\b\b\b\b\b\b\b\b\b\b\b\b\b\b\b\b\b\b\b\b\b\b\b\b\b\b\b\b\b\b\b\b\b\b\b\b\b\b\b\b\b\b\b\b\b\b\b\b\b\b\b\b\b\b\b\b\b\b\b\b\b\b\b\b\b\b\b\b\b\b\b\b\b\r104/104 [==============================] - 36s 342ms/step - loss: 0.9609 - accuracy: 0.7847 - val_loss: 0.7588 - val_accuracy: 0.9101\n",
            "\n",
            "Epoch 00002: LearningRateScheduler reducing learning rate to 0.0001.\n",
            "Epoch 2/20\n",
            "104/104 [==============================] - ETA: 0s - loss: 0.7241 - accuracy: 0.9068\n",
            "Epoch 00002: val_loss improved from 0.75875 to 0.68654, saving model to ./checkpoint\n",
            "INFO:tensorflow:Assets written to: ./checkpoint/assets\n"
          ],
          "name": "stdout"
        },
        {
          "output_type": "stream",
          "text": [
            "INFO:tensorflow:Assets written to: ./checkpoint/assets\n"
          ],
          "name": "stderr"
        },
        {
          "output_type": "stream",
          "text": [
            "\b\b\b\b\b\b\b\b\b\b\b\b\b\b\b\b\b\b\b\b\b\b\b\b\b\b\b\b\b\b\b\b\b\b\b\b\b\b\b\b\b\b\b\b\b\b\b\b\b\b\b\b\b\b\b\b\b\b\b\b\b\b\b\b\b\b\b\b\b\b\b\b\b\b\b\b\b\b\b\b\b\b\b\b\r104/104 [==============================] - 35s 333ms/step - loss: 0.7241 - accuracy: 0.9068 - val_loss: 0.6865 - val_accuracy: 0.9346\n",
            "\n",
            "Epoch 00003: LearningRateScheduler reducing learning rate to 0.0001.\n",
            "Epoch 3/20\n",
            "104/104 [==============================] - ETA: 0s - loss: 0.6634 - accuracy: 0.9370\n",
            "Epoch 00003: val_loss improved from 0.68654 to 0.64694, saving model to ./checkpoint\n",
            "INFO:tensorflow:Assets written to: ./checkpoint/assets\n"
          ],
          "name": "stdout"
        },
        {
          "output_type": "stream",
          "text": [
            "INFO:tensorflow:Assets written to: ./checkpoint/assets\n"
          ],
          "name": "stderr"
        },
        {
          "output_type": "stream",
          "text": [
            "\b\b\b\b\b\b\b\b\b\b\b\b\b\b\b\b\b\b\b\b\b\b\b\b\b\b\b\b\b\b\b\b\b\b\b\b\b\b\b\b\b\b\b\b\b\b\b\b\b\b\b\b\b\b\b\b\b\b\b\b\b\b\b\b\b\b\b\b\b\b\b\b\b\b\b\b\b\b\b\b\b\b\b\b\r104/104 [==============================] - 36s 341ms/step - loss: 0.6634 - accuracy: 0.9370 - val_loss: 0.6469 - val_accuracy: 0.9482\n",
            "\n",
            "Epoch 00004: LearningRateScheduler reducing learning rate to 0.0001.\n",
            "Epoch 4/20\n",
            "104/104 [==============================] - ETA: 0s - loss: 0.6236 - accuracy: 0.9597\n",
            "Epoch 00004: val_loss improved from 0.64694 to 0.61997, saving model to ./checkpoint\n",
            "INFO:tensorflow:Assets written to: ./checkpoint/assets\n"
          ],
          "name": "stdout"
        },
        {
          "output_type": "stream",
          "text": [
            "INFO:tensorflow:Assets written to: ./checkpoint/assets\n"
          ],
          "name": "stderr"
        },
        {
          "output_type": "stream",
          "text": [
            "\b\b\b\b\b\b\b\b\b\b\b\b\b\b\b\b\b\b\b\b\b\b\b\b\b\b\b\b\b\b\b\b\b\b\b\b\b\b\b\b\b\b\b\b\b\b\b\b\b\b\b\b\b\b\b\b\b\b\b\b\b\b\b\b\b\b\b\b\b\b\b\b\b\b\b\b\b\b\b\b\b\b\b\b\r104/104 [==============================] - 35s 341ms/step - loss: 0.6236 - accuracy: 0.9597 - val_loss: 0.6200 - val_accuracy: 0.9428\n",
            "\n",
            "Epoch 00005: LearningRateScheduler reducing learning rate to 9.048374180359596e-05.\n",
            "Epoch 5/20\n",
            "104/104 [==============================] - ETA: 0s - loss: 0.5938 - accuracy: 0.9731\n",
            "Epoch 00005: val_loss improved from 0.61997 to 0.61081, saving model to ./checkpoint\n",
            "INFO:tensorflow:Assets written to: ./checkpoint/assets\n"
          ],
          "name": "stdout"
        },
        {
          "output_type": "stream",
          "text": [
            "INFO:tensorflow:Assets written to: ./checkpoint/assets\n"
          ],
          "name": "stderr"
        },
        {
          "output_type": "stream",
          "text": [
            "\b\b\b\b\b\b\b\b\b\b\b\b\b\b\b\b\b\b\b\b\b\b\b\b\b\b\b\b\b\b\b\b\b\b\b\b\b\b\b\b\b\b\b\b\b\b\b\b\b\b\b\b\b\b\b\b\b\b\b\b\b\b\b\b\b\b\b\b\b\b\b\b\b\b\b\b\b\b\b\b\b\b\b\b\r104/104 [==============================] - 36s 344ms/step - loss: 0.5938 - accuracy: 0.9731 - val_loss: 0.6108 - val_accuracy: 0.9564\n",
            "\n",
            "Epoch 00006: LearningRateScheduler reducing learning rate to 8.187307530779819e-05.\n",
            "Epoch 6/20\n",
            "104/104 [==============================] - ETA: 0s - loss: 0.5799 - accuracy: 0.9797\n",
            "Epoch 00006: val_loss improved from 0.61081 to 0.60347, saving model to ./checkpoint\n",
            "INFO:tensorflow:Assets written to: ./checkpoint/assets\n"
          ],
          "name": "stdout"
        },
        {
          "output_type": "stream",
          "text": [
            "INFO:tensorflow:Assets written to: ./checkpoint/assets\n"
          ],
          "name": "stderr"
        },
        {
          "output_type": "stream",
          "text": [
            "\b\b\b\b\b\b\b\b\b\b\b\b\b\b\b\b\b\b\b\b\b\b\b\b\b\b\b\b\b\b\b\b\b\b\b\b\b\b\b\b\b\b\b\b\b\b\b\b\b\b\b\b\b\b\b\b\b\b\b\b\b\b\b\b\b\b\b\b\b\b\b\b\b\b\b\b\b\b\b\b\b\b\b\b\r104/104 [==============================] - 36s 344ms/step - loss: 0.5799 - accuracy: 0.9797 - val_loss: 0.6035 - val_accuracy: 0.9591\n",
            "\n",
            "Epoch 00007: LearningRateScheduler reducing learning rate to 7.408182206817179e-05.\n",
            "Epoch 7/20\n",
            "104/104 [==============================] - ETA: 0s - loss: 0.5674 - accuracy: 0.9855\n",
            "Epoch 00007: val_loss improved from 0.60347 to 0.59786, saving model to ./checkpoint\n",
            "INFO:tensorflow:Assets written to: ./checkpoint/assets\n"
          ],
          "name": "stdout"
        },
        {
          "output_type": "stream",
          "text": [
            "INFO:tensorflow:Assets written to: ./checkpoint/assets\n"
          ],
          "name": "stderr"
        },
        {
          "output_type": "stream",
          "text": [
            "\b\b\b\b\b\b\b\b\b\b\b\b\b\b\b\b\b\b\b\b\b\b\b\b\b\b\b\b\b\b\b\b\b\b\b\b\b\b\b\b\b\b\b\b\b\b\b\b\b\b\b\b\b\b\b\b\b\b\b\b\b\b\b\b\b\b\b\b\b\b\b\b\b\b\b\b\b\b\b\b\b\b\b\b\r104/104 [==============================] - 36s 343ms/step - loss: 0.5674 - accuracy: 0.9855 - val_loss: 0.5979 - val_accuracy: 0.9700\n",
            "\n",
            "Epoch 00008: LearningRateScheduler reducing learning rate to 6.703200460356394e-05.\n",
            "Epoch 8/20\n",
            "104/104 [==============================] - ETA: 0s - loss: 0.5650 - accuracy: 0.9849\n",
            "Epoch 00008: val_loss improved from 0.59786 to 0.58777, saving model to ./checkpoint\n",
            "INFO:tensorflow:Assets written to: ./checkpoint/assets\n"
          ],
          "name": "stdout"
        },
        {
          "output_type": "stream",
          "text": [
            "INFO:tensorflow:Assets written to: ./checkpoint/assets\n"
          ],
          "name": "stderr"
        },
        {
          "output_type": "stream",
          "text": [
            "\b\b\b\b\b\b\b\b\b\b\b\b\b\b\b\b\b\b\b\b\b\b\b\b\b\b\b\b\b\b\b\b\b\b\b\b\b\b\b\b\b\b\b\b\b\b\b\b\b\b\b\b\b\b\b\b\b\b\b\b\b\b\b\b\b\b\b\b\b\b\b\b\b\b\b\b\b\b\b\b\b\b\b\b\r104/104 [==============================] - 36s 344ms/step - loss: 0.5650 - accuracy: 0.9849 - val_loss: 0.5878 - val_accuracy: 0.9646\n",
            "\n",
            "Epoch 00009: LearningRateScheduler reducing learning rate to 6.065306597126335e-05.\n",
            "Epoch 9/20\n",
            "104/104 [==============================] - ETA: 0s - loss: 0.5566 - accuracy: 0.9873\n",
            "Epoch 00009: val_loss improved from 0.58777 to 0.57767, saving model to ./checkpoint\n",
            "INFO:tensorflow:Assets written to: ./checkpoint/assets\n"
          ],
          "name": "stdout"
        },
        {
          "output_type": "stream",
          "text": [
            "INFO:tensorflow:Assets written to: ./checkpoint/assets\n"
          ],
          "name": "stderr"
        },
        {
          "output_type": "stream",
          "text": [
            "\b\b\b\b\b\b\b\b\b\b\b\b\b\b\b\b\b\b\b\b\b\b\b\b\b\b\b\b\b\b\b\b\b\b\b\b\b\b\b\b\b\b\b\b\b\b\b\b\b\b\b\b\b\b\b\b\b\b\b\b\b\b\b\b\b\b\b\b\b\b\b\b\b\b\b\b\b\b\b\b\b\b\b\b\r104/104 [==============================] - 36s 344ms/step - loss: 0.5566 - accuracy: 0.9873 - val_loss: 0.5777 - val_accuracy: 0.9728\n",
            "\n",
            "Epoch 00010: LearningRateScheduler reducing learning rate to 5.488116360940264e-05.\n",
            "Epoch 10/20\n",
            "104/104 [==============================] - ETA: 0s - loss: 0.5532 - accuracy: 0.9894\n",
            "Epoch 00010: val_loss improved from 0.57767 to 0.57723, saving model to ./checkpoint\n",
            "INFO:tensorflow:Assets written to: ./checkpoint/assets\n"
          ],
          "name": "stdout"
        },
        {
          "output_type": "stream",
          "text": [
            "INFO:tensorflow:Assets written to: ./checkpoint/assets\n"
          ],
          "name": "stderr"
        },
        {
          "output_type": "stream",
          "text": [
            "\b\b\b\b\b\b\b\b\b\b\b\b\b\b\b\b\b\b\b\b\b\b\b\b\b\b\b\b\b\b\b\b\b\b\b\b\b\b\b\b\b\b\b\b\b\b\b\b\b\b\b\b\b\b\b\b\b\b\b\b\b\b\b\b\b\b\b\b\b\b\b\b\b\b\b\b\b\b\b\b\b\b\b\b\r104/104 [==============================] - 35s 339ms/step - loss: 0.5532 - accuracy: 0.9894 - val_loss: 0.5772 - val_accuracy: 0.9700\n",
            "\n",
            "Epoch 00011: LearningRateScheduler reducing learning rate to 4.965853037914095e-05.\n",
            "Epoch 11/20\n",
            "104/104 [==============================] - ETA: 0s - loss: 0.5431 - accuracy: 0.9930\n",
            "Epoch 00011: val_loss improved from 0.57723 to 0.57628, saving model to ./checkpoint\n",
            "INFO:tensorflow:Assets written to: ./checkpoint/assets\n"
          ],
          "name": "stdout"
        },
        {
          "output_type": "stream",
          "text": [
            "INFO:tensorflow:Assets written to: ./checkpoint/assets\n"
          ],
          "name": "stderr"
        },
        {
          "output_type": "stream",
          "text": [
            "\b\b\b\b\b\b\b\b\b\b\b\b\b\b\b\b\b\b\b\b\b\b\b\b\b\b\b\b\b\b\b\b\b\b\b\b\b\b\b\b\b\b\b\b\b\b\b\b\b\b\b\b\b\b\b\b\b\b\b\b\b\b\b\b\b\b\b\b\b\b\b\b\b\b\b\b\b\b\b\b\b\b\b\b\r104/104 [==============================] - 36s 342ms/step - loss: 0.5431 - accuracy: 0.9930 - val_loss: 0.5763 - val_accuracy: 0.9646\n",
            "\n",
            "Epoch 00012: LearningRateScheduler reducing learning rate to 4.493289641172216e-05.\n",
            "Epoch 12/20\n",
            "104/104 [==============================] - ETA: 0s - loss: 0.5396 - accuracy: 0.9930\n",
            "Epoch 00012: val_loss improved from 0.57628 to 0.56266, saving model to ./checkpoint\n",
            "INFO:tensorflow:Assets written to: ./checkpoint/assets\n"
          ],
          "name": "stdout"
        },
        {
          "output_type": "stream",
          "text": [
            "INFO:tensorflow:Assets written to: ./checkpoint/assets\n"
          ],
          "name": "stderr"
        },
        {
          "output_type": "stream",
          "text": [
            "\b\b\b\b\b\b\b\b\b\b\b\b\b\b\b\b\b\b\b\b\b\b\b\b\b\b\b\b\b\b\b\b\b\b\b\b\b\b\b\b\b\b\b\b\b\b\b\b\b\b\b\b\b\b\b\b\b\b\b\b\b\b\b\b\b\b\b\b\b\b\b\b\b\b\b\b\b\b\b\b\b\b\b\b\r104/104 [==============================] - 35s 341ms/step - loss: 0.5396 - accuracy: 0.9930 - val_loss: 0.5627 - val_accuracy: 0.9700\n",
            "\n",
            "Epoch 00013: LearningRateScheduler reducing learning rate to 4.0656965974059915e-05.\n",
            "Epoch 13/20\n",
            "104/104 [==============================] - ETA: 0s - loss: 0.5388 - accuracy: 0.9924\n",
            "Epoch 00013: val_loss did not improve from 0.56266\n",
            "104/104 [==============================] - 31s 297ms/step - loss: 0.5388 - accuracy: 0.9924 - val_loss: 0.5671 - val_accuracy: 0.9728\n",
            "\n",
            "Epoch 00014: LearningRateScheduler reducing learning rate to 3.678794411714424e-05.\n",
            "Epoch 14/20\n",
            "104/104 [==============================] - ETA: 0s - loss: 0.5367 - accuracy: 0.9942\n",
            "Epoch 00014: val_loss did not improve from 0.56266\n",
            "104/104 [==============================] - 30s 288ms/step - loss: 0.5367 - accuracy: 0.9942 - val_loss: 0.5661 - val_accuracy: 0.9728\n",
            "\n",
            "Epoch 00015: LearningRateScheduler reducing learning rate to 3.3287108369807955e-05.\n",
            "Epoch 15/20\n",
            "104/104 [==============================] - ETA: 0s - loss: 0.5296 - accuracy: 0.9973\n",
            "Epoch 00015: val_loss did not improve from 0.56266\n",
            "104/104 [==============================] - 30s 288ms/step - loss: 0.5296 - accuracy: 0.9973 - val_loss: 0.5632 - val_accuracy: 0.9700\n",
            "\n",
            "Epoch 00016: LearningRateScheduler reducing learning rate to 3.0119421191220204e-05.\n",
            "Epoch 16/20\n",
            "104/104 [==============================] - ETA: 0s - loss: 0.5263 - accuracy: 0.9970\n",
            "Epoch 00016: val_loss did not improve from 0.56266\n",
            "104/104 [==============================] - 30s 288ms/step - loss: 0.5263 - accuracy: 0.9970 - val_loss: 0.5634 - val_accuracy: 0.9728\n",
            "\n",
            "Epoch 00017: LearningRateScheduler reducing learning rate to 2.725317930340126e-05.\n",
            "Epoch 17/20\n",
            "104/104 [==============================] - ETA: 0s - loss: 0.5293 - accuracy: 0.9961\n",
            "Epoch 00017: val_loss did not improve from 0.56266\n",
            "104/104 [==============================] - 30s 289ms/step - loss: 0.5293 - accuracy: 0.9961 - val_loss: 0.5647 - val_accuracy: 0.9755\n",
            "\n",
            "Epoch 00018: LearningRateScheduler reducing learning rate to 2.4659696394160646e-05.\n",
            "Epoch 18/20\n",
            "104/104 [==============================] - ETA: 0s - loss: 0.5277 - accuracy: 0.9955\n",
            "Epoch 00018: val_loss did not improve from 0.56266\n",
            "104/104 [==============================] - 30s 288ms/step - loss: 0.5277 - accuracy: 0.9955 - val_loss: 0.5634 - val_accuracy: 0.9700\n",
            "\n",
            "Epoch 00019: LearningRateScheduler reducing learning rate to 2.2313016014842984e-05.\n",
            "Epoch 19/20\n",
            "104/104 [==============================] - ETA: 0s - loss: 0.5253 - accuracy: 0.9955\n",
            "Epoch 00019: val_loss improved from 0.56266 to 0.56093, saving model to ./checkpoint\n",
            "INFO:tensorflow:Assets written to: ./checkpoint/assets\n"
          ],
          "name": "stdout"
        },
        {
          "output_type": "stream",
          "text": [
            "INFO:tensorflow:Assets written to: ./checkpoint/assets\n"
          ],
          "name": "stderr"
        },
        {
          "output_type": "stream",
          "text": [
            "\b\b\b\b\b\b\b\b\b\b\b\b\b\b\b\b\b\b\b\b\b\b\b\b\b\b\b\b\b\b\b\b\b\b\b\b\b\b\b\b\b\b\b\b\b\b\b\b\b\b\b\b\b\b\b\b\b\b\b\b\b\b\b\b\b\b\b\b\b\b\b\b\b\b\b\b\b\b\b\b\b\b\b\b\r104/104 [==============================] - 36s 343ms/step - loss: 0.5253 - accuracy: 0.9955 - val_loss: 0.5609 - val_accuracy: 0.9728\n",
            "\n",
            "Epoch 00020: LearningRateScheduler reducing learning rate to 2.018965179946554e-05.\n",
            "Epoch 20/20\n",
            "104/104 [==============================] - ETA: 0s - loss: 0.5263 - accuracy: 0.9955\n",
            "Epoch 00020: val_loss improved from 0.56093 to 0.55904, saving model to ./checkpoint\n",
            "INFO:tensorflow:Assets written to: ./checkpoint/assets\n"
          ],
          "name": "stdout"
        },
        {
          "output_type": "stream",
          "text": [
            "INFO:tensorflow:Assets written to: ./checkpoint/assets\n"
          ],
          "name": "stderr"
        },
        {
          "output_type": "stream",
          "text": [
            "\b\b\b\b\b\b\b\b\b\b\b\b\b\b\b\b\b\b\b\b\b\b\b\b\b\b\b\b\b\b\b\b\b\b\b\b\b\b\b\b\b\b\b\b\b\b\b\b\b\b\b\b\b\b\b\b\b\b\b\b\b\b\b\b\b\b\b\b\b\b\b\b\b\b\b\b\b\b\b\b\b\b\b\b\r104/104 [==============================] - 35s 341ms/step - loss: 0.5263 - accuracy: 0.9955 - val_loss: 0.5590 - val_accuracy: 0.9700\n"
          ],
          "name": "stdout"
        }
      ]
    }
  ]
}