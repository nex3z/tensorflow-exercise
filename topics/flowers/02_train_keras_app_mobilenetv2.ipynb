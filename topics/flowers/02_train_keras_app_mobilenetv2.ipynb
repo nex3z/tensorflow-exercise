{
  "nbformat": 4,
  "nbformat_minor": 0,
  "metadata": {
    "colab": {
      "name": "02_train_keras_app_mobilenetv2.ipynb",
      "provenance": [],
      "collapsed_sections": []
    },
    "kernelspec": {
      "name": "python3",
      "display_name": "Python 3"
    },
    "accelerator": "GPU"
  },
  "cells": [
    {
      "cell_type": "code",
      "metadata": {
        "colab": {
          "base_uri": "https://localhost:8080/"
        },
        "id": "egJwxEiJTH-K",
        "outputId": "6bc1698d-a618-445d-c8c0-43a5b5207f2e"
      },
      "source": [
        "import numpy as np\n",
        "import tensorflow as tf\n",
        "import tensorflow_hub as hub\n",
        "import tensorflow_datasets as tfds\n",
        "from tensorflow import keras\n",
        "from tensorflow.keras import layers\n",
        "\n",
        "print(f\"tf.__version__ = {tf.__version__}\")\n",
        "print(f\"hub.__version__ = {hub.__version__}\")"
      ],
      "execution_count": 1,
      "outputs": [
        {
          "output_type": "stream",
          "text": [
            "tf.__version__ = 2.3.0\n",
            "hub.__version__ = 0.10.0\n"
          ],
          "name": "stdout"
        }
      ]
    },
    {
      "cell_type": "code",
      "metadata": {
        "id": "DBCPjdXVTaLU"
      },
      "source": [
        "FEATURE_EXTRACTOR_URL = \"https://tfhub.dev/google/imagenet/mobilenet_v2_140_224/feature_vector/4\"\n",
        "\n",
        "CHECK_POINT_DIR = './checkpoint'\n",
        "INPUT_SIZE = 224\n",
        "BATCH_SIZE = 32\n",
        "AUTOTUNE = tf.data.experimental.AUTOTUNE"
      ],
      "execution_count": 2,
      "outputs": []
    },
    {
      "cell_type": "code",
      "metadata": {
        "id": "vQPghDMrTlxD",
        "colab": {
          "base_uri": "https://localhost:8080/"
        },
        "outputId": "ef5f1867-af84-4027-9810-7f2373e90f06"
      },
      "source": [
        "(train_data_ds, val_data_ds), metadata = tfds.load(\n",
        "    name='tf_flowers',\n",
        "    split=['train[:90%]', 'train[90%:]'],\n",
        "    with_info=True,\n",
        "    as_supervised=True,\n",
        ")\n",
        "num_classes = metadata.features['label'].num_classes\n",
        "class_names = metadata.features['label'].names\n",
        "print(f\"num_classes = {num_classes}, class_names = {class_names}\")"
      ],
      "execution_count": 3,
      "outputs": [
        {
          "output_type": "stream",
          "text": [
            "num_classes = 5, class_names = ['dandelion', 'daisy', 'tulips', 'sunflowers', 'roses']\n"
          ],
          "name": "stdout"
        }
      ]
    },
    {
      "cell_type": "code",
      "metadata": {
        "id": "LtZoJSE2qXOr"
      },
      "source": [
        "def resize_and_rescale(image, label):\n",
        "    image = tf.image.resize(image, [INPUT_SIZE, INPUT_SIZE])\n",
        "    image = (image / 255.0)\n",
        "    return image, label\n",
        "\n",
        "def encode_one_hot(image, label):\n",
        "    label = tf.one_hot(label, num_classes)\n",
        "    return image, label\n",
        "\n",
        "def augment(image, label):\n",
        "    image = tf.cast(image, tf.float32)\n",
        "    shape = tf.shape(image)\n",
        "    height, width = shape[0], shape[1]\n",
        "    min_size = tf.minimum(height, width)\n",
        "    crop_size = tf.cast(tf.multiply(tf.cast(min_size, tf.float32), 0.8), tf.int32)\n",
        "    image = tf.image.random_crop(image, size=[crop_size, crop_size, 3])\n",
        "    image = tf.image.random_flip_left_right(image)\n",
        "    return image, label\n",
        "\n",
        "train_data = (\n",
        "    train_data_ds\n",
        "    .shuffle(4096)\n",
        "    .map(augment, num_parallel_calls=AUTOTUNE)\n",
        "    .map(resize_and_rescale, num_parallel_calls=AUTOTUNE)\n",
        "    .map(encode_one_hot, num_parallel_calls=AUTOTUNE)\n",
        "    .batch(BATCH_SIZE)\n",
        "    .prefetch(AUTOTUNE)\n",
        ") "
      ],
      "execution_count": 4,
      "outputs": []
    },
    {
      "cell_type": "code",
      "metadata": {
        "id": "yKV_4WNWqadU"
      },
      "source": [
        "def center_crop(image, label):\n",
        "    image = tf.cast(image, tf.float32)\n",
        "    shape = tf.shape(image)\n",
        "    height, width = shape[0], shape[1]\n",
        "    size = tf.minimum(height, width)\n",
        "    image = tf.image.crop_to_bounding_box(image, (height - size) // 2, (width - size) // 2, size, size)\n",
        "    return image, label\n",
        "    \n",
        "val_data = (\n",
        "    val_data_ds\n",
        "    .map(center_crop, num_parallel_calls=AUTOTUNE)\n",
        "    .map(resize_and_rescale, num_parallel_calls=AUTOTUNE)\n",
        "    .map(encode_one_hot, num_parallel_calls=AUTOTUNE)\n",
        "    .batch(BATCH_SIZE)\n",
        "    .prefetch(AUTOTUNE)\n",
        ")"
      ],
      "execution_count": 5,
      "outputs": []
    },
    {
      "cell_type": "code",
      "metadata": {
        "id": "XjvYHnh8GBbc"
      },
      "source": [
        "base_model = keras.applications.MobileNetV2(\r\n",
        "    weights='imagenet',\r\n",
        "    alpha=1.4,\r\n",
        "    include_top=False,\r\n",
        "    pooling='max',\r\n",
        "    input_shape=(INPUT_SIZE, INPUT_SIZE, 3),\r\n",
        "    classes=num_classes\r\n",
        ")"
      ],
      "execution_count": 6,
      "outputs": []
    },
    {
      "cell_type": "code",
      "metadata": {
        "id": "LyatRerHw76o"
      },
      "source": [
        "model = keras.models.Sequential([\n",
        "    base_model,\n",
        "    layers.Dropout(0.5),\n",
        "    layers.Dense(num_classes, activation='softmax'),\n",
        "])\n",
        "\n",
        "model.compile(\n",
        "    loss=keras.losses.CategoricalCrossentropy(label_smoothing=0.1), \n",
        "    optimizer=keras.optimizers.Adam(lr=1e-4), \n",
        "    metrics=['accuracy']\n",
        ")"
      ],
      "execution_count": 7,
      "outputs": []
    },
    {
      "cell_type": "code",
      "metadata": {
        "id": "oSfitRz6tJI8"
      },
      "source": [
        "DECAY_START = 3\n",
        "\n",
        "def scheduler(epoch):\n",
        "    if epoch < DECAY_START:\n",
        "        return 1e-4\n",
        "    else:\n",
        "        return max(1e-4 * np.exp(0.1 * (DECAY_START - epoch)), 1e-6)\n",
        "\n",
        "lr_callback = keras.callbacks.LearningRateScheduler(scheduler, verbose=1)"
      ],
      "execution_count": 8,
      "outputs": []
    },
    {
      "cell_type": "code",
      "metadata": {
        "id": "dVEmYpgytdka"
      },
      "source": [
        "checkpoint_callback = keras.callbacks.ModelCheckpoint(\n",
        "    filepath=CHECK_POINT_DIR, \n",
        "    save_best_only=True, \n",
        "    monitor='val_loss', \n",
        "    mode='min', \n",
        "    verbose=1\n",
        ")"
      ],
      "execution_count": 9,
      "outputs": []
    },
    {
      "cell_type": "code",
      "metadata": {
        "id": "TXRNjEfftVCJ",
        "colab": {
          "base_uri": "https://localhost:8080/"
        },
        "outputId": "6112fb73-5fc6-4d67-91c9-bbc9034da5ec"
      },
      "source": [
        "history = model.fit(\n",
        "    train_data,\n",
        "    validation_data=val_data,\n",
        "    epochs=20,\n",
        "    callbacks=[lr_callback, checkpoint_callback],\n",
        "    verbose=1\n",
        ")"
      ],
      "execution_count": 10,
      "outputs": [
        {
          "output_type": "stream",
          "text": [
            "\n",
            "Epoch 00001: LearningRateScheduler reducing learning rate to 0.0001.\n",
            "Epoch 1/20\n",
            "  2/104 [..............................] - ETA: 13s - loss: 5.9630 - accuracy: 0.2656WARNING:tensorflow:Callbacks method `on_train_batch_end` is slow compared to the batch time (batch time: 0.0672s vs `on_train_batch_end` time: 0.1933s). Check your callbacks.\n"
          ],
          "name": "stdout"
        },
        {
          "output_type": "stream",
          "text": [
            "WARNING:tensorflow:Callbacks method `on_train_batch_end` is slow compared to the batch time (batch time: 0.0672s vs `on_train_batch_end` time: 0.1933s). Check your callbacks.\n"
          ],
          "name": "stderr"
        },
        {
          "output_type": "stream",
          "text": [
            "104/104 [==============================] - ETA: 0s - loss: 2.8973 - accuracy: 0.6452\n",
            "Epoch 00001: val_loss improved from inf to 1.75571, saving model to ./checkpoint\n",
            "WARNING:tensorflow:From /usr/local/lib/python3.6/dist-packages/tensorflow/python/training/tracking/tracking.py:111: Model.state_updates (from tensorflow.python.keras.engine.training) is deprecated and will be removed in a future version.\n",
            "Instructions for updating:\n",
            "This property should not be used in TensorFlow 2.0, as updates are applied automatically.\n"
          ],
          "name": "stdout"
        },
        {
          "output_type": "stream",
          "text": [
            "WARNING:tensorflow:From /usr/local/lib/python3.6/dist-packages/tensorflow/python/training/tracking/tracking.py:111: Model.state_updates (from tensorflow.python.keras.engine.training) is deprecated and will be removed in a future version.\n",
            "Instructions for updating:\n",
            "This property should not be used in TensorFlow 2.0, as updates are applied automatically.\n"
          ],
          "name": "stderr"
        },
        {
          "output_type": "stream",
          "text": [
            "WARNING:tensorflow:From /usr/local/lib/python3.6/dist-packages/tensorflow/python/training/tracking/tracking.py:111: Layer.updates (from tensorflow.python.keras.engine.base_layer) is deprecated and will be removed in a future version.\n",
            "Instructions for updating:\n",
            "This property should not be used in TensorFlow 2.0, as updates are applied automatically.\n"
          ],
          "name": "stdout"
        },
        {
          "output_type": "stream",
          "text": [
            "WARNING:tensorflow:From /usr/local/lib/python3.6/dist-packages/tensorflow/python/training/tracking/tracking.py:111: Layer.updates (from tensorflow.python.keras.engine.base_layer) is deprecated and will be removed in a future version.\n",
            "Instructions for updating:\n",
            "This property should not be used in TensorFlow 2.0, as updates are applied automatically.\n"
          ],
          "name": "stderr"
        },
        {
          "output_type": "stream",
          "text": [
            "INFO:tensorflow:Assets written to: ./checkpoint/assets\n"
          ],
          "name": "stdout"
        },
        {
          "output_type": "stream",
          "text": [
            "INFO:tensorflow:Assets written to: ./checkpoint/assets\n"
          ],
          "name": "stderr"
        },
        {
          "output_type": "stream",
          "text": [
            "\b\b\b\b\b\b\b\b\b\b\b\b\b\b\b\b\b\b\b\b\b\b\b\b\b\b\b\b\b\b\b\b\b\b\b\b\b\b\b\b\b\b\b\b\b\b\b\b\b\b\b\b\b\b\b\b\b\b\b\b\b\b\b\b\b\b\b\b\b\b\b\b\b\b\b\b\b\b\b\b\b\b\b\b\r104/104 [==============================] - 49s 473ms/step - loss: 2.8973 - accuracy: 0.6452 - val_loss: 1.7557 - val_accuracy: 0.7929\n",
            "\n",
            "Epoch 00002: LearningRateScheduler reducing learning rate to 0.0001.\n",
            "Epoch 2/20\n",
            "104/104 [==============================] - ETA: 0s - loss: 1.7466 - accuracy: 0.7769\n",
            "Epoch 00002: val_loss improved from 1.75571 to 1.55964, saving model to ./checkpoint\n",
            "INFO:tensorflow:Assets written to: ./checkpoint/assets\n"
          ],
          "name": "stdout"
        },
        {
          "output_type": "stream",
          "text": [
            "INFO:tensorflow:Assets written to: ./checkpoint/assets\n"
          ],
          "name": "stderr"
        },
        {
          "output_type": "stream",
          "text": [
            "\b\b\b\b\b\b\b\b\b\b\b\b\b\b\b\b\b\b\b\b\b\b\b\b\b\b\b\b\b\b\b\b\b\b\b\b\b\b\b\b\b\b\b\b\b\b\b\b\b\b\b\b\b\b\b\b\b\b\b\b\b\b\b\b\b\b\b\b\b\b\b\b\b\b\b\b\b\b\b\b\b\b\b\b\r104/104 [==============================] - 48s 464ms/step - loss: 1.7466 - accuracy: 0.7769 - val_loss: 1.5596 - val_accuracy: 0.8365\n",
            "\n",
            "Epoch 00003: LearningRateScheduler reducing learning rate to 0.0001.\n",
            "Epoch 3/20\n",
            "104/104 [==============================] - ETA: 0s - loss: 1.3535 - accuracy: 0.7847\n",
            "Epoch 00003: val_loss improved from 1.55964 to 1.50914, saving model to ./checkpoint\n",
            "INFO:tensorflow:Assets written to: ./checkpoint/assets\n"
          ],
          "name": "stdout"
        },
        {
          "output_type": "stream",
          "text": [
            "INFO:tensorflow:Assets written to: ./checkpoint/assets\n"
          ],
          "name": "stderr"
        },
        {
          "output_type": "stream",
          "text": [
            "\b\b\b\b\b\b\b\b\b\b\b\b\b\b\b\b\b\b\b\b\b\b\b\b\b\b\b\b\b\b\b\b\b\b\b\b\b\b\b\b\b\b\b\b\b\b\b\b\b\b\b\b\b\b\b\b\b\b\b\b\b\b\b\b\b\b\b\b\b\b\b\b\b\b\b\b\b\b\b\b\b\b\b\b\r104/104 [==============================] - 50s 484ms/step - loss: 1.3535 - accuracy: 0.7847 - val_loss: 1.5091 - val_accuracy: 0.8665\n",
            "\n",
            "Epoch 00004: LearningRateScheduler reducing learning rate to 0.0001.\n",
            "Epoch 4/20\n",
            "104/104 [==============================] - ETA: 0s - loss: 1.1043 - accuracy: 0.8171\n",
            "Epoch 00004: val_loss did not improve from 1.50914\n",
            "104/104 [==============================] - 29s 279ms/step - loss: 1.1043 - accuracy: 0.8171 - val_loss: 1.5443 - val_accuracy: 0.9019\n",
            "\n",
            "Epoch 00005: LearningRateScheduler reducing learning rate to 9.048374180359596e-05.\n",
            "Epoch 5/20\n",
            "104/104 [==============================] - ETA: 0s - loss: 0.8958 - accuracy: 0.8477\n",
            "Epoch 00005: val_loss did not improve from 1.50914\n",
            "104/104 [==============================] - 29s 281ms/step - loss: 0.8958 - accuracy: 0.8477 - val_loss: 1.5854 - val_accuracy: 0.9155\n",
            "\n",
            "Epoch 00006: LearningRateScheduler reducing learning rate to 8.187307530779819e-05.\n",
            "Epoch 6/20\n",
            "104/104 [==============================] - ETA: 0s - loss: 0.8174 - accuracy: 0.8713\n",
            "Epoch 00006: val_loss improved from 1.50914 to 1.49168, saving model to ./checkpoint\n",
            "INFO:tensorflow:Assets written to: ./checkpoint/assets\n"
          ],
          "name": "stdout"
        },
        {
          "output_type": "stream",
          "text": [
            "INFO:tensorflow:Assets written to: ./checkpoint/assets\n"
          ],
          "name": "stderr"
        },
        {
          "output_type": "stream",
          "text": [
            "\b\b\b\b\b\b\b\b\b\b\b\b\b\b\b\b\b\b\b\b\b\b\b\b\b\b\b\b\b\b\b\b\b\b\b\b\b\b\b\b\b\b\b\b\b\b\b\b\b\b\b\b\b\b\b\b\b\b\b\b\b\b\b\b\b\b\b\b\b\b\b\b\b\b\b\b\b\b\b\b\b\b\b\b\r104/104 [==============================] - 49s 470ms/step - loss: 0.8174 - accuracy: 0.8713 - val_loss: 1.4917 - val_accuracy: 0.9183\n",
            "\n",
            "Epoch 00007: LearningRateScheduler reducing learning rate to 7.408182206817179e-05.\n",
            "Epoch 7/20\n",
            "104/104 [==============================] - ETA: 0s - loss: 0.7402 - accuracy: 0.8931\n",
            "Epoch 00007: val_loss improved from 1.49168 to 1.40354, saving model to ./checkpoint\n",
            "INFO:tensorflow:Assets written to: ./checkpoint/assets\n"
          ],
          "name": "stdout"
        },
        {
          "output_type": "stream",
          "text": [
            "INFO:tensorflow:Assets written to: ./checkpoint/assets\n"
          ],
          "name": "stderr"
        },
        {
          "output_type": "stream",
          "text": [
            "\b\b\b\b\b\b\b\b\b\b\b\b\b\b\b\b\b\b\b\b\b\b\b\b\b\b\b\b\b\b\b\b\b\b\b\b\b\b\b\b\b\b\b\b\b\b\b\b\b\b\b\b\b\b\b\b\b\b\b\b\b\b\b\b\b\b\b\b\b\b\b\b\b\b\b\b\b\b\b\b\b\b\b\b\r104/104 [==============================] - 49s 474ms/step - loss: 0.7402 - accuracy: 0.8931 - val_loss: 1.4035 - val_accuracy: 0.9155\n",
            "\n",
            "Epoch 00008: LearningRateScheduler reducing learning rate to 6.703200460356394e-05.\n",
            "Epoch 8/20\n",
            "104/104 [==============================] - ETA: 0s - loss: 0.6964 - accuracy: 0.9086\n",
            "Epoch 00008: val_loss improved from 1.40354 to 1.27483, saving model to ./checkpoint\n",
            "INFO:tensorflow:Assets written to: ./checkpoint/assets\n"
          ],
          "name": "stdout"
        },
        {
          "output_type": "stream",
          "text": [
            "INFO:tensorflow:Assets written to: ./checkpoint/assets\n"
          ],
          "name": "stderr"
        },
        {
          "output_type": "stream",
          "text": [
            "\b\b\b\b\b\b\b\b\b\b\b\b\b\b\b\b\b\b\b\b\b\b\b\b\b\b\b\b\b\b\b\b\b\b\b\b\b\b\b\b\b\b\b\b\b\b\b\b\b\b\b\b\b\b\b\b\b\b\b\b\b\b\b\b\b\b\b\b\b\b\b\b\b\b\b\b\b\b\b\b\b\b\b\b\r104/104 [==============================] - 49s 472ms/step - loss: 0.6964 - accuracy: 0.9086 - val_loss: 1.2748 - val_accuracy: 0.9183\n",
            "\n",
            "Epoch 00009: LearningRateScheduler reducing learning rate to 6.065306597126335e-05.\n",
            "Epoch 9/20\n",
            "104/104 [==============================] - ETA: 0s - loss: 0.6632 - accuracy: 0.9173\n",
            "Epoch 00009: val_loss improved from 1.27483 to 1.13511, saving model to ./checkpoint\n",
            "INFO:tensorflow:Assets written to: ./checkpoint/assets\n"
          ],
          "name": "stdout"
        },
        {
          "output_type": "stream",
          "text": [
            "INFO:tensorflow:Assets written to: ./checkpoint/assets\n"
          ],
          "name": "stderr"
        },
        {
          "output_type": "stream",
          "text": [
            "\b\b\b\b\b\b\b\b\b\b\b\b\b\b\b\b\b\b\b\b\b\b\b\b\b\b\b\b\b\b\b\b\b\b\b\b\b\b\b\b\b\b\b\b\b\b\b\b\b\b\b\b\b\b\b\b\b\b\b\b\b\b\b\b\b\b\b\b\b\b\b\b\b\b\b\b\b\b\b\b\b\b\b\b\r104/104 [==============================] - 50s 480ms/step - loss: 0.6632 - accuracy: 0.9173 - val_loss: 1.1351 - val_accuracy: 0.9482\n",
            "\n",
            "Epoch 00010: LearningRateScheduler reducing learning rate to 5.488116360940264e-05.\n",
            "Epoch 10/20\n",
            "104/104 [==============================] - ETA: 0s - loss: 0.6735 - accuracy: 0.9137\n",
            "Epoch 00010: val_loss improved from 1.13511 to 1.02716, saving model to ./checkpoint\n",
            "INFO:tensorflow:Assets written to: ./checkpoint/assets\n"
          ],
          "name": "stdout"
        },
        {
          "output_type": "stream",
          "text": [
            "INFO:tensorflow:Assets written to: ./checkpoint/assets\n"
          ],
          "name": "stderr"
        },
        {
          "output_type": "stream",
          "text": [
            "\b\b\b\b\b\b\b\b\b\b\b\b\b\b\b\b\b\b\b\b\b\b\b\b\b\b\b\b\b\b\b\b\b\b\b\b\b\b\b\b\b\b\b\b\b\b\b\b\b\b\b\b\b\b\b\b\b\b\b\b\b\b\b\b\b\b\b\b\b\b\b\b\b\b\b\b\b\b\b\b\b\b\b\b\r104/104 [==============================] - 49s 470ms/step - loss: 0.6735 - accuracy: 0.9137 - val_loss: 1.0272 - val_accuracy: 0.9455\n",
            "\n",
            "Epoch 00011: LearningRateScheduler reducing learning rate to 4.965853037914095e-05.\n",
            "Epoch 11/20\n",
            "104/104 [==============================] - ETA: 0s - loss: 0.6473 - accuracy: 0.9316\n",
            "Epoch 00011: val_loss improved from 1.02716 to 0.91924, saving model to ./checkpoint\n",
            "INFO:tensorflow:Assets written to: ./checkpoint/assets\n"
          ],
          "name": "stdout"
        },
        {
          "output_type": "stream",
          "text": [
            "INFO:tensorflow:Assets written to: ./checkpoint/assets\n"
          ],
          "name": "stderr"
        },
        {
          "output_type": "stream",
          "text": [
            "\b\b\b\b\b\b\b\b\b\b\b\b\b\b\b\b\b\b\b\b\b\b\b\b\b\b\b\b\b\b\b\b\b\b\b\b\b\b\b\b\b\b\b\b\b\b\b\b\b\b\b\b\b\b\b\b\b\b\b\b\b\b\b\b\b\b\b\b\b\b\b\b\b\b\b\b\b\b\b\b\b\b\b\b\r104/104 [==============================] - 49s 470ms/step - loss: 0.6473 - accuracy: 0.9316 - val_loss: 0.9192 - val_accuracy: 0.9564\n",
            "\n",
            "Epoch 00012: LearningRateScheduler reducing learning rate to 4.493289641172216e-05.\n",
            "Epoch 12/20\n",
            "104/104 [==============================] - ETA: 0s - loss: 0.6218 - accuracy: 0.9370\n",
            "Epoch 00012: val_loss improved from 0.91924 to 0.83721, saving model to ./checkpoint\n",
            "INFO:tensorflow:Assets written to: ./checkpoint/assets\n"
          ],
          "name": "stdout"
        },
        {
          "output_type": "stream",
          "text": [
            "INFO:tensorflow:Assets written to: ./checkpoint/assets\n"
          ],
          "name": "stderr"
        },
        {
          "output_type": "stream",
          "text": [
            "\b\b\b\b\b\b\b\b\b\b\b\b\b\b\b\b\b\b\b\b\b\b\b\b\b\b\b\b\b\b\b\b\b\b\b\b\b\b\b\b\b\b\b\b\b\b\b\b\b\b\b\b\b\b\b\b\b\b\b\b\b\b\b\b\b\b\b\b\b\b\b\b\b\b\b\b\b\b\b\b\b\b\b\b\r104/104 [==============================] - 49s 470ms/step - loss: 0.6218 - accuracy: 0.9370 - val_loss: 0.8372 - val_accuracy: 0.9591\n",
            "\n",
            "Epoch 00013: LearningRateScheduler reducing learning rate to 4.0656965974059915e-05.\n",
            "Epoch 13/20\n",
            "104/104 [==============================] - ETA: 0s - loss: 0.6224 - accuracy: 0.9373\n",
            "Epoch 00013: val_loss improved from 0.83721 to 0.76324, saving model to ./checkpoint\n",
            "INFO:tensorflow:Assets written to: ./checkpoint/assets\n"
          ],
          "name": "stdout"
        },
        {
          "output_type": "stream",
          "text": [
            "INFO:tensorflow:Assets written to: ./checkpoint/assets\n"
          ],
          "name": "stderr"
        },
        {
          "output_type": "stream",
          "text": [
            "\b\b\b\b\b\b\b\b\b\b\b\b\b\b\b\b\b\b\b\b\b\b\b\b\b\b\b\b\b\b\b\b\b\b\b\b\b\b\b\b\b\b\b\b\b\b\b\b\b\b\b\b\b\b\b\b\b\b\b\b\b\b\b\b\b\b\b\b\b\b\b\b\b\b\b\b\b\b\b\b\b\b\b\b\r104/104 [==============================] - 48s 465ms/step - loss: 0.6224 - accuracy: 0.9373 - val_loss: 0.7632 - val_accuracy: 0.9619\n",
            "\n",
            "Epoch 00014: LearningRateScheduler reducing learning rate to 3.678794411714424e-05.\n",
            "Epoch 14/20\n",
            "104/104 [==============================] - ETA: 0s - loss: 0.6062 - accuracy: 0.9437\n",
            "Epoch 00014: val_loss improved from 0.76324 to 0.72758, saving model to ./checkpoint\n",
            "INFO:tensorflow:Assets written to: ./checkpoint/assets\n"
          ],
          "name": "stdout"
        },
        {
          "output_type": "stream",
          "text": [
            "INFO:tensorflow:Assets written to: ./checkpoint/assets\n"
          ],
          "name": "stderr"
        },
        {
          "output_type": "stream",
          "text": [
            "\b\b\b\b\b\b\b\b\b\b\b\b\b\b\b\b\b\b\b\b\b\b\b\b\b\b\b\b\b\b\b\b\b\b\b\b\b\b\b\b\b\b\b\b\b\b\b\b\b\b\b\b\b\b\b\b\b\b\b\b\b\b\b\b\b\b\b\b\b\b\b\b\b\b\b\b\b\b\b\b\b\b\b\b\r104/104 [==============================] - 49s 467ms/step - loss: 0.6062 - accuracy: 0.9437 - val_loss: 0.7276 - val_accuracy: 0.9619\n",
            "\n",
            "Epoch 00015: LearningRateScheduler reducing learning rate to 3.3287108369807955e-05.\n",
            "Epoch 15/20\n",
            "104/104 [==============================] - ETA: 0s - loss: 0.5993 - accuracy: 0.9482\n",
            "Epoch 00015: val_loss improved from 0.72758 to 0.67807, saving model to ./checkpoint\n",
            "INFO:tensorflow:Assets written to: ./checkpoint/assets\n"
          ],
          "name": "stdout"
        },
        {
          "output_type": "stream",
          "text": [
            "INFO:tensorflow:Assets written to: ./checkpoint/assets\n"
          ],
          "name": "stderr"
        },
        {
          "output_type": "stream",
          "text": [
            "\b\b\b\b\b\b\b\b\b\b\b\b\b\b\b\b\b\b\b\b\b\b\b\b\b\b\b\b\b\b\b\b\b\b\b\b\b\b\b\b\b\b\b\b\b\b\b\b\b\b\b\b\b\b\b\b\b\b\b\b\b\b\b\b\b\b\b\b\b\b\b\b\b\b\b\b\b\b\b\b\b\b\b\b\r104/104 [==============================] - 48s 465ms/step - loss: 0.5993 - accuracy: 0.9482 - val_loss: 0.6781 - val_accuracy: 0.9728\n",
            "\n",
            "Epoch 00016: LearningRateScheduler reducing learning rate to 3.0119421191220204e-05.\n",
            "Epoch 16/20\n",
            "104/104 [==============================] - ETA: 0s - loss: 0.5966 - accuracy: 0.9461\n",
            "Epoch 00016: val_loss improved from 0.67807 to 0.64512, saving model to ./checkpoint\n",
            "INFO:tensorflow:Assets written to: ./checkpoint/assets\n"
          ],
          "name": "stdout"
        },
        {
          "output_type": "stream",
          "text": [
            "INFO:tensorflow:Assets written to: ./checkpoint/assets\n"
          ],
          "name": "stderr"
        },
        {
          "output_type": "stream",
          "text": [
            "\b\b\b\b\b\b\b\b\b\b\b\b\b\b\b\b\b\b\b\b\b\b\b\b\b\b\b\b\b\b\b\b\b\b\b\b\b\b\b\b\b\b\b\b\b\b\b\b\b\b\b\b\b\b\b\b\b\b\b\b\b\b\b\b\b\b\b\b\b\b\b\b\b\b\b\b\b\b\b\b\b\b\b\b\r104/104 [==============================] - 49s 468ms/step - loss: 0.5966 - accuracy: 0.9461 - val_loss: 0.6451 - val_accuracy: 0.9646\n",
            "\n",
            "Epoch 00017: LearningRateScheduler reducing learning rate to 2.725317930340126e-05.\n",
            "Epoch 17/20\n",
            "104/104 [==============================] - ETA: 0s - loss: 0.5917 - accuracy: 0.9479\n",
            "Epoch 00017: val_loss improved from 0.64512 to 0.61790, saving model to ./checkpoint\n",
            "INFO:tensorflow:Assets written to: ./checkpoint/assets\n"
          ],
          "name": "stdout"
        },
        {
          "output_type": "stream",
          "text": [
            "INFO:tensorflow:Assets written to: ./checkpoint/assets\n"
          ],
          "name": "stderr"
        },
        {
          "output_type": "stream",
          "text": [
            "\b\b\b\b\b\b\b\b\b\b\b\b\b\b\b\b\b\b\b\b\b\b\b\b\b\b\b\b\b\b\b\b\b\b\b\b\b\b\b\b\b\b\b\b\b\b\b\b\b\b\b\b\b\b\b\b\b\b\b\b\b\b\b\b\b\b\b\b\b\b\b\b\b\b\b\b\b\b\b\b\b\b\b\b\r104/104 [==============================] - 49s 467ms/step - loss: 0.5917 - accuracy: 0.9479 - val_loss: 0.6179 - val_accuracy: 0.9700\n",
            "\n",
            "Epoch 00018: LearningRateScheduler reducing learning rate to 2.4659696394160646e-05.\n",
            "Epoch 18/20\n",
            "104/104 [==============================] - ETA: 0s - loss: 0.5885 - accuracy: 0.9503\n",
            "Epoch 00018: val_loss improved from 0.61790 to 0.59166, saving model to ./checkpoint\n",
            "INFO:tensorflow:Assets written to: ./checkpoint/assets\n"
          ],
          "name": "stdout"
        },
        {
          "output_type": "stream",
          "text": [
            "INFO:tensorflow:Assets written to: ./checkpoint/assets\n"
          ],
          "name": "stderr"
        },
        {
          "output_type": "stream",
          "text": [
            "\b\b\b\b\b\b\b\b\b\b\b\b\b\b\b\b\b\b\b\b\b\b\b\b\b\b\b\b\b\b\b\b\b\b\b\b\b\b\b\b\b\b\b\b\b\b\b\b\b\b\b\b\b\b\b\b\b\b\b\b\b\b\b\b\b\b\b\b\b\b\b\b\b\b\b\b\b\b\b\b\b\b\b\b\r104/104 [==============================] - 48s 466ms/step - loss: 0.5885 - accuracy: 0.9503 - val_loss: 0.5917 - val_accuracy: 0.9755\n",
            "\n",
            "Epoch 00019: LearningRateScheduler reducing learning rate to 2.2313016014842984e-05.\n",
            "Epoch 19/20\n",
            "104/104 [==============================] - ETA: 0s - loss: 0.5882 - accuracy: 0.9503\n",
            "Epoch 00019: val_loss improved from 0.59166 to 0.57697, saving model to ./checkpoint\n",
            "INFO:tensorflow:Assets written to: ./checkpoint/assets\n"
          ],
          "name": "stdout"
        },
        {
          "output_type": "stream",
          "text": [
            "INFO:tensorflow:Assets written to: ./checkpoint/assets\n"
          ],
          "name": "stderr"
        },
        {
          "output_type": "stream",
          "text": [
            "\b\b\b\b\b\b\b\b\b\b\b\b\b\b\b\b\b\b\b\b\b\b\b\b\b\b\b\b\b\b\b\b\b\b\b\b\b\b\b\b\b\b\b\b\b\b\b\b\b\b\b\b\b\b\b\b\b\b\b\b\b\b\b\b\b\b\b\b\b\b\b\b\b\b\b\b\b\b\b\b\b\b\b\b\r104/104 [==============================] - 48s 466ms/step - loss: 0.5882 - accuracy: 0.9503 - val_loss: 0.5770 - val_accuracy: 0.9673\n",
            "\n",
            "Epoch 00020: LearningRateScheduler reducing learning rate to 2.018965179946554e-05.\n",
            "Epoch 20/20\n",
            "104/104 [==============================] - ETA: 0s - loss: 0.5768 - accuracy: 0.9609\n",
            "Epoch 00020: val_loss improved from 0.57697 to 0.56561, saving model to ./checkpoint\n",
            "INFO:tensorflow:Assets written to: ./checkpoint/assets\n"
          ],
          "name": "stdout"
        },
        {
          "output_type": "stream",
          "text": [
            "INFO:tensorflow:Assets written to: ./checkpoint/assets\n"
          ],
          "name": "stderr"
        },
        {
          "output_type": "stream",
          "text": [
            "\b\b\b\b\b\b\b\b\b\b\b\b\b\b\b\b\b\b\b\b\b\b\b\b\b\b\b\b\b\b\b\b\b\b\b\b\b\b\b\b\b\b\b\b\b\b\b\b\b\b\b\b\b\b\b\b\b\b\b\b\b\b\b\b\b\b\b\b\b\b\b\b\b\b\b\b\b\b\b\b\b\b\b\b\r104/104 [==============================] - 48s 465ms/step - loss: 0.5768 - accuracy: 0.9609 - val_loss: 0.5656 - val_accuracy: 0.9700\n"
          ],
          "name": "stdout"
        }
      ]
    }
  ]
}