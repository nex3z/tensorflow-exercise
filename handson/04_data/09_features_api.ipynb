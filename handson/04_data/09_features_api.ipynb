{
 "cells": [
  {
   "cell_type": "code",
   "execution_count": 1,
   "metadata": {},
   "outputs": [],
   "source": [
    "import numpy as np\n",
    "import pandas as pd\n",
    "import tensorflow as tf\n",
    "from sklearn.datasets import fetch_california_housing\n",
    "from sklearn.model_selection import train_test_split\n",
    "from sklearn.preprocessing import StandardScaler\n",
    "from tensorflow.train import Example, FloatList, Feature, Features"
   ]
  },
  {
   "cell_type": "code",
   "execution_count": 2,
   "metadata": {},
   "outputs": [],
   "source": [
    "housing = fetch_california_housing()\n",
    "x_train, x_test, y_train, y_test = train_test_split(housing.data, housing.target, random_state=42)\n",
    "x_train, x_val, y_train, y_val = train_test_split(x_train, y_train, random_state=42)\n",
    "\n",
    "scaler = StandardScaler()\n",
    "scaler.fit(x_train)\n",
    "x_means = scaler.mean_\n",
    "x_stds = scaler.scale_"
   ]
  },
  {
   "cell_type": "code",
   "execution_count": 3,
   "metadata": {},
   "outputs": [
    {
     "data": {
      "text/html": [
       "<div>\n",
       "<style scoped>\n",
       "    .dataframe tbody tr th:only-of-type {\n",
       "        vertical-align: middle;\n",
       "    }\n",
       "\n",
       "    .dataframe tbody tr th {\n",
       "        vertical-align: top;\n",
       "    }\n",
       "\n",
       "    .dataframe thead th {\n",
       "        text-align: right;\n",
       "    }\n",
       "</style>\n",
       "<table border=\"1\" class=\"dataframe\">\n",
       "  <thead>\n",
       "    <tr style=\"text-align: right;\">\n",
       "      <th></th>\n",
       "      <th>MedInc</th>\n",
       "      <th>HouseAge</th>\n",
       "      <th>AveRooms</th>\n",
       "      <th>AveBedrms</th>\n",
       "      <th>Population</th>\n",
       "      <th>AveOccup</th>\n",
       "      <th>Latitude</th>\n",
       "      <th>Longitude</th>\n",
       "      <th>MedHouseVal</th>\n",
       "    </tr>\n",
       "  </thead>\n",
       "  <tbody>\n",
       "    <tr>\n",
       "      <th>0</th>\n",
       "      <td>3.5214</td>\n",
       "      <td>15.0</td>\n",
       "      <td>3.049945</td>\n",
       "      <td>1.106548</td>\n",
       "      <td>1447.0</td>\n",
       "      <td>1.605993</td>\n",
       "      <td>37.63</td>\n",
       "      <td>-122.43</td>\n",
       "      <td>1.442</td>\n",
       "    </tr>\n",
       "    <tr>\n",
       "      <th>1</th>\n",
       "      <td>5.3275</td>\n",
       "      <td>5.0</td>\n",
       "      <td>6.490060</td>\n",
       "      <td>0.991054</td>\n",
       "      <td>3464.0</td>\n",
       "      <td>3.443340</td>\n",
       "      <td>33.69</td>\n",
       "      <td>-117.39</td>\n",
       "      <td>1.687</td>\n",
       "    </tr>\n",
       "    <tr>\n",
       "      <th>2</th>\n",
       "      <td>3.1000</td>\n",
       "      <td>29.0</td>\n",
       "      <td>7.542373</td>\n",
       "      <td>1.591525</td>\n",
       "      <td>1328.0</td>\n",
       "      <td>2.250847</td>\n",
       "      <td>38.44</td>\n",
       "      <td>-122.98</td>\n",
       "      <td>1.621</td>\n",
       "    </tr>\n",
       "    <tr>\n",
       "      <th>3</th>\n",
       "      <td>7.1736</td>\n",
       "      <td>12.0</td>\n",
       "      <td>6.289003</td>\n",
       "      <td>0.997442</td>\n",
       "      <td>1054.0</td>\n",
       "      <td>2.695652</td>\n",
       "      <td>33.55</td>\n",
       "      <td>-117.70</td>\n",
       "      <td>2.621</td>\n",
       "    </tr>\n",
       "    <tr>\n",
       "      <th>4</th>\n",
       "      <td>2.0549</td>\n",
       "      <td>13.0</td>\n",
       "      <td>5.312457</td>\n",
       "      <td>1.085092</td>\n",
       "      <td>3297.0</td>\n",
       "      <td>2.244384</td>\n",
       "      <td>33.93</td>\n",
       "      <td>-116.93</td>\n",
       "      <td>0.956</td>\n",
       "    </tr>\n",
       "  </tbody>\n",
       "</table>\n",
       "</div>"
      ],
      "text/plain": [
       "   MedInc  HouseAge  AveRooms  AveBedrms  Population  AveOccup  Latitude  \\\n",
       "0  3.5214      15.0  3.049945   1.106548      1447.0  1.605993     37.63   \n",
       "1  5.3275       5.0  6.490060   0.991054      3464.0  3.443340     33.69   \n",
       "2  3.1000      29.0  7.542373   1.591525      1328.0  2.250847     38.44   \n",
       "3  7.1736      12.0  6.289003   0.997442      1054.0  2.695652     33.55   \n",
       "4  2.0549      13.0  5.312457   1.085092      3297.0  2.244384     33.93   \n",
       "\n",
       "   Longitude  MedHouseVal  \n",
       "0    -122.43        1.442  \n",
       "1    -117.39        1.687  \n",
       "2    -122.98        1.621  \n",
       "3    -117.70        2.621  \n",
       "4    -116.93        0.956  "
      ]
     },
     "execution_count": 3,
     "metadata": {},
     "output_type": "execute_result"
    }
   ],
   "source": [
    "housing = fetch_california_housing()\n",
    "df_data = pd.DataFrame(np.c_[x_train, y_train], columns=housing.feature_names + housing.target_names)\n",
    "df_data.head()"
   ]
  },
  {
   "cell_type": "code",
   "execution_count": 4,
   "metadata": {},
   "outputs": [],
   "source": [
    "med_house_val = tf.feature_column.numeric_column('med_house_val')"
   ]
  },
  {
   "cell_type": "code",
   "execution_count": 5,
   "metadata": {},
   "outputs": [],
   "source": [
    "age_mean, age_std = x_means[1], x_stds[1]  # The median age is column in 1\n",
    "house_age = tf.feature_column.numeric_column(\n",
    "    'house_age', \n",
    "    normalizer_fn=lambda x: (x - age_mean) / age_std\n",
    ")"
   ]
  },
  {
   "cell_type": "code",
   "execution_count": 6,
   "metadata": {},
   "outputs": [
    {
     "data": {
      "text/plain": [
       "{'house_age': FixedLenFeature(shape=(1,), dtype=tf.float32, default_value=None),\n",
       " 'med_house_val': FixedLenFeature(shape=(1,), dtype=tf.float32, default_value=None)}"
      ]
     },
     "execution_count": 6,
     "metadata": {},
     "output_type": "execute_result"
    }
   ],
   "source": [
    "columns = [house_age, med_house_val]\n",
    "feature_descriptions = tf.feature_column.make_parse_example_spec(columns)\n",
    "feature_descriptions"
   ]
  },
  {
   "cell_type": "code",
   "execution_count": 7,
   "metadata": {},
   "outputs": [],
   "source": [
    "with tf.io.TFRecordWriter('my_data_with_features.tfrecords') as f:\n",
    "    for x, y in zip(df_data['HouseAge'], df_data['MedHouseVal']):\n",
    "        example = Example(features=Features(feature={\n",
    "            'house_age': Feature(float_list=FloatList(value=[x])),\n",
    "            'med_house_val': Feature(float_list=FloatList(value=[y]))\n",
    "        }))\n",
    "        f.write(example.SerializeToString())"
   ]
  },
  {
   "cell_type": "code",
   "execution_count": 8,
   "metadata": {},
   "outputs": [],
   "source": [
    "def parse_examples(serialized_examples):\n",
    "    examples = tf.io.parse_example(serialized_examples, feature_descriptions)\n",
    "    targets = examples.pop('med_house_val')\n",
    "    return examples, targets\n",
    "\n",
    "batch_size = 32\n",
    "dataset = tf.data.TFRecordDataset(['my_data_with_features.tfrecords'])\n",
    "dataset = dataset.repeat().shuffle(10000).batch(batch_size).map(parse_examples)"
   ]
  },
  {
   "cell_type": "code",
   "execution_count": 9,
   "metadata": {},
   "outputs": [
    {
     "name": "stdout",
     "output_type": "stream",
     "text": [
      "{'house_age': <tf.Tensor: shape=(32, 1), dtype=float32, numpy=\n",
      "array([[52.],\n",
      "       [50.],\n",
      "       [50.],\n",
      "       [52.],\n",
      "       [49.],\n",
      "       [16.],\n",
      "       [28.],\n",
      "       [52.],\n",
      "       [42.],\n",
      "       [27.],\n",
      "       [36.],\n",
      "       [11.],\n",
      "       [38.],\n",
      "       [38.],\n",
      "       [31.],\n",
      "       [29.],\n",
      "       [ 7.],\n",
      "       [16.],\n",
      "       [20.],\n",
      "       [16.],\n",
      "       [36.],\n",
      "       [18.],\n",
      "       [28.],\n",
      "       [52.],\n",
      "       [32.],\n",
      "       [12.],\n",
      "       [35.],\n",
      "       [15.],\n",
      "       [15.],\n",
      "       [42.],\n",
      "       [21.],\n",
      "       [42.]], dtype=float32)>}\n",
      "tf.Tensor(\n",
      "[[1.625]\n",
      " [1.587]\n",
      " [1.066]\n",
      " [3.457]\n",
      " [2.682]\n",
      " [0.894]\n",
      " [0.48 ]\n",
      " [3.114]\n",
      " [1.649]\n",
      " [2.177]\n",
      " [2.882]\n",
      " [1.748]\n",
      " [2.794]\n",
      " [1.504]\n",
      " [0.938]\n",
      " [2.603]\n",
      " [1.417]\n",
      " [0.761]\n",
      " [0.991]\n",
      " [1.469]\n",
      " [4.414]\n",
      " [3.786]\n",
      " [1.79 ]\n",
      " [2.949]\n",
      " [1.5  ]\n",
      " [1.27 ]\n",
      " [1.797]\n",
      " [0.878]\n",
      " [1.804]\n",
      " [0.78 ]\n",
      " [0.847]\n",
      " [2.47 ]], shape=(32, 1), dtype=float32)\n"
     ]
    }
   ],
   "source": [
    "for x_batch, y_batch in dataset:\n",
    "    print(x_batch)\n",
    "    print(y_batch)\n",
    "    break"
   ]
  }
 ],
 "metadata": {
  "kernelspec": {
   "display_name": "Python 3",
   "language": "python",
   "name": "python3"
  },
  "language_info": {
   "codemirror_mode": {
    "name": "ipython",
    "version": 3
   },
   "file_extension": ".py",
   "mimetype": "text/x-python",
   "name": "python",
   "nbconvert_exporter": "python",
   "pygments_lexer": "ipython3",
   "version": "3.7.9"
  }
 },
 "nbformat": 4,
 "nbformat_minor": 4
}
