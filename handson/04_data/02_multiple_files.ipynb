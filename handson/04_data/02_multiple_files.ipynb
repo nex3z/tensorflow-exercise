{
 "cells": [
  {
   "cell_type": "code",
   "execution_count": 1,
   "metadata": {},
   "outputs": [],
   "source": [
    "import os\n",
    "import numpy as np\n",
    "import pandas as pd\n",
    "import tensorflow as tf\n",
    "from tensorflow import keras\n",
    "from sklearn.datasets import fetch_california_housing\n",
    "from sklearn.model_selection import train_test_split\n",
    "from sklearn.preprocessing import StandardScaler\n",
    "import utils"
   ]
  },
  {
   "cell_type": "markdown",
   "metadata": {},
   "source": [
    "## Split California housing to multiple CSV files"
   ]
  },
  {
   "cell_type": "code",
   "execution_count": 2,
   "metadata": {},
   "outputs": [],
   "source": [
    "DATA_DIR = './data'\n",
    "os.makedirs(DATA_DIR, exist_ok=True)"
   ]
  },
  {
   "cell_type": "code",
   "execution_count": 3,
   "metadata": {},
   "outputs": [
    {
     "name": "stdout",
     "output_type": "stream",
     "text": [
      "x_train.shape = (11610, 8), y_train.shape = (11610,)\n",
      "x_val.shape = (3870, 8), y_val.shape = (3870,)\n",
      "x_test.shape = (5160, 8), y_test.shape = (5160,)\n"
     ]
    }
   ],
   "source": [
    "housing = fetch_california_housing()\n",
    "x_train, x_test, y_train, y_test = train_test_split(housing.data, housing.target, random_state=42)\n",
    "x_train, x_val, y_train, y_val = train_test_split(x_train, y_train, random_state=42)\n",
    "print(f\"x_train.shape = {x_train.shape}, y_train.shape = {y_train.shape}\")\n",
    "print(f\"x_val.shape = {x_val.shape}, y_val.shape = {y_val.shape}\")\n",
    "print(f\"x_test.shape = {x_test.shape}, y_test.shape = {y_test.shape}\")"
   ]
  },
  {
   "cell_type": "code",
   "execution_count": 4,
   "metadata": {},
   "outputs": [],
   "source": [
    "def save_x_y_to_multiple_csv_files(x, y, name_prefix, num_parts):\n",
    "    df_data = pd.DataFrame(np.c_[x, y], columns=housing.feature_names + ['MedianHouseValue'])\n",
    "    return save_to_multiple_csv_files(df_data, name_prefix, num_parts=num_parts)\n",
    "    \n",
    "def save_to_multiple_csv_files(df_data, name_prefix, num_parts):\n",
    "    splits = np.array_split(df_data, num_parts)\n",
    "    file_paths = []\n",
    "    for idx, df_split in enumerate(splits):\n",
    "        file_path = f'{name_prefix}_{idx:02d}.csv'\n",
    "        df_split.to_csv(file_path, index=False)\n",
    "        file_paths.append(file_path)\n",
    "    return file_paths"
   ]
  },
  {
   "cell_type": "code",
   "execution_count": 5,
   "metadata": {},
   "outputs": [],
   "source": [
    "train_files = save_x_y_to_multiple_csv_files(x_train, y_train, './data/train', num_parts=20)\n",
    "val_files = save_x_y_to_multiple_csv_files(x_val, y_val, './data/val', num_parts=10)\n",
    "test_files = save_x_y_to_multiple_csv_files(x_test, y_test, './data/test', num_parts=10)"
   ]
  },
  {
   "cell_type": "code",
   "execution_count": 6,
   "metadata": {},
   "outputs": [
    {
     "data": {
      "text/plain": [
       "['./data/train_00.csv',\n",
       " './data/train_01.csv',\n",
       " './data/train_02.csv',\n",
       " './data/train_03.csv',\n",
       " './data/train_04.csv',\n",
       " './data/train_05.csv',\n",
       " './data/train_06.csv',\n",
       " './data/train_07.csv',\n",
       " './data/train_08.csv',\n",
       " './data/train_09.csv',\n",
       " './data/train_10.csv',\n",
       " './data/train_11.csv',\n",
       " './data/train_12.csv',\n",
       " './data/train_13.csv',\n",
       " './data/train_14.csv',\n",
       " './data/train_15.csv',\n",
       " './data/train_16.csv',\n",
       " './data/train_17.csv',\n",
       " './data/train_18.csv',\n",
       " './data/train_19.csv']"
      ]
     },
     "execution_count": 6,
     "metadata": {},
     "output_type": "execute_result"
    }
   ],
   "source": [
    "train_files"
   ]
  },
  {
   "cell_type": "markdown",
   "metadata": {},
   "source": [
    "## File path dataset"
   ]
  },
  {
   "cell_type": "code",
   "execution_count": 7,
   "metadata": {},
   "outputs": [],
   "source": [
    "utils.reset_session()"
   ]
  },
  {
   "cell_type": "code",
   "execution_count": 8,
   "metadata": {},
   "outputs": [
    {
     "name": "stdout",
     "output_type": "stream",
     "text": [
      "tf.Tensor(b'.\\\\data\\\\train_15.csv', shape=(), dtype=string)\n",
      "tf.Tensor(b'.\\\\data\\\\train_08.csv', shape=(), dtype=string)\n",
      "tf.Tensor(b'.\\\\data\\\\train_03.csv', shape=(), dtype=string)\n",
      "tf.Tensor(b'.\\\\data\\\\train_01.csv', shape=(), dtype=string)\n",
      "tf.Tensor(b'.\\\\data\\\\train_10.csv', shape=(), dtype=string)\n",
      "tf.Tensor(b'.\\\\data\\\\train_05.csv', shape=(), dtype=string)\n",
      "tf.Tensor(b'.\\\\data\\\\train_19.csv', shape=(), dtype=string)\n",
      "tf.Tensor(b'.\\\\data\\\\train_16.csv', shape=(), dtype=string)\n",
      "tf.Tensor(b'.\\\\data\\\\train_02.csv', shape=(), dtype=string)\n",
      "tf.Tensor(b'.\\\\data\\\\train_09.csv', shape=(), dtype=string)\n",
      "tf.Tensor(b'.\\\\data\\\\train_00.csv', shape=(), dtype=string)\n",
      "tf.Tensor(b'.\\\\data\\\\train_07.csv', shape=(), dtype=string)\n",
      "tf.Tensor(b'.\\\\data\\\\train_12.csv', shape=(), dtype=string)\n",
      "tf.Tensor(b'.\\\\data\\\\train_04.csv', shape=(), dtype=string)\n",
      "tf.Tensor(b'.\\\\data\\\\train_17.csv', shape=(), dtype=string)\n",
      "tf.Tensor(b'.\\\\data\\\\train_11.csv', shape=(), dtype=string)\n",
      "tf.Tensor(b'.\\\\data\\\\train_14.csv', shape=(), dtype=string)\n",
      "tf.Tensor(b'.\\\\data\\\\train_18.csv', shape=(), dtype=string)\n",
      "tf.Tensor(b'.\\\\data\\\\train_06.csv', shape=(), dtype=string)\n",
      "tf.Tensor(b'.\\\\data\\\\train_13.csv', shape=(), dtype=string)\n"
     ]
    }
   ],
   "source": [
    "filepath_dataset = tf.data.Dataset.list_files(train_files, seed=42)\n",
    "for file in filepath_dataset:\n",
    "    print(file)"
   ]
  },
  {
   "cell_type": "code",
   "execution_count": 9,
   "metadata": {},
   "outputs": [
    {
     "name": "stdout",
     "output_type": "stream",
     "text": [
      "b'4.6477,38.0,5.03728813559322,0.911864406779661,745.0,2.5254237288135593,32.64,-117.07,1.504'\n",
      "b'8.72,44.0,6.163179916317992,1.0460251046025104,668.0,2.794979079497908,34.2,-118.18,4.159'\n",
      "b'3.8456,35.0,5.461346633416459,0.9576059850374065,1154.0,2.8778054862842892,37.96,-122.05,1.598'\n",
      "b'3.3456,37.0,4.514084507042254,0.9084507042253521,458.0,3.2253521126760565,36.67,-121.7,2.526'\n",
      "b'3.6875,44.0,4.524475524475524,0.993006993006993,457.0,3.195804195804196,34.04,-118.15,1.625'\n"
     ]
    }
   ],
   "source": [
    "num_readers = 5\n",
    "dataset = filepath_dataset.interleave(\n",
    "    lambda file_path: tf.data.TextLineDataset(file_path).skip(1), \n",
    "    cycle_length=num_readers\n",
    ")\n",
    "\n",
    "for line in dataset.take(5):\n",
    "    print(line.numpy())"
   ]
  },
  {
   "cell_type": "markdown",
   "metadata": {},
   "source": [
    "## decode_csv"
   ]
  },
  {
   "cell_type": "code",
   "execution_count": 10,
   "metadata": {},
   "outputs": [
    {
     "data": {
      "text/plain": [
       "[<tf.Tensor: shape=(), dtype=int32, numpy=1>,\n",
       " <tf.Tensor: shape=(), dtype=float32, numpy=2.0>,\n",
       " <tf.Tensor: shape=(), dtype=float64, numpy=3.0>,\n",
       " <tf.Tensor: shape=(), dtype=string, numpy=b'4'>,\n",
       " <tf.Tensor: shape=(), dtype=float32, numpy=5.0>]"
      ]
     },
     "execution_count": 10,
     "metadata": {},
     "output_type": "execute_result"
    }
   ],
   "source": [
    "record_defaults=[0, np.nan, tf.constant(np.nan, dtype=tf.float64), \"Hello\", tf.constant([])]\n",
    "parsed_fields = tf.io.decode_csv('1,2,3,4,5', record_defaults)\n",
    "parsed_fields"
   ]
  },
  {
   "cell_type": "code",
   "execution_count": 11,
   "metadata": {},
   "outputs": [
    {
     "data": {
      "text/plain": [
       "[<tf.Tensor: shape=(), dtype=int32, numpy=0>,\n",
       " <tf.Tensor: shape=(), dtype=float32, numpy=nan>,\n",
       " <tf.Tensor: shape=(), dtype=float64, numpy=nan>,\n",
       " <tf.Tensor: shape=(), dtype=string, numpy=b'Hello'>,\n",
       " <tf.Tensor: shape=(), dtype=float32, numpy=5.0>]"
      ]
     },
     "execution_count": 11,
     "metadata": {},
     "output_type": "execute_result"
    }
   ],
   "source": [
    "parsed_fields = tf.io.decode_csv(',,,,5', record_defaults)\n",
    "parsed_fields"
   ]
  },
  {
   "cell_type": "code",
   "execution_count": 12,
   "metadata": {},
   "outputs": [
    {
     "name": "stdout",
     "output_type": "stream",
     "text": [
      "Field 4 is required but missing in record 0! [Op:DecodeCSV]\n"
     ]
    }
   ],
   "source": [
    "try:\n",
    "    parsed_fields = tf.io.decode_csv(',,,,', record_defaults)\n",
    "except tf.errors.InvalidArgumentError as e:\n",
    "    print(e)"
   ]
  },
  {
   "cell_type": "markdown",
   "metadata": {},
   "source": [
    "## Read California housing csv files"
   ]
  },
  {
   "cell_type": "code",
   "execution_count": 13,
   "metadata": {},
   "outputs": [],
   "source": [
    "scaler = StandardScaler()\n",
    "x_train = scaler.fit_transform(x_train)\n",
    "x_mean = scaler.mean_\n",
    "x_std = scaler.scale_\n",
    "\n",
    "num_columns = x_train.shape[-1]"
   ]
  },
  {
   "cell_type": "code",
   "execution_count": 14,
   "metadata": {},
   "outputs": [],
   "source": [
    "@tf.function\n",
    "def preprocess(line):\n",
    "    defs = [0.] * num_columns + [tf.constant([], dtype=tf.float32)]\n",
    "    fields = tf.io.decode_csv(line, record_defaults=defs)\n",
    "    x = tf.stack(fields[:-1])\n",
    "    y = tf.stack(fields[-1:])\n",
    "    return (x - x_mean) / x_std, y"
   ]
  },
  {
   "cell_type": "code",
   "execution_count": 15,
   "metadata": {},
   "outputs": [
    {
     "data": {
      "text/plain": [
       "(<tf.Tensor: shape=(8,), dtype=float32, numpy=\n",
       " array([ 0.16579157,  1.216324  , -0.05204565, -0.39215982, -0.5277444 ,\n",
       "        -0.2633488 ,  0.8543046 , -1.3072058 ], dtype=float32)>,\n",
       " <tf.Tensor: shape=(1,), dtype=float32, numpy=array([2.782], dtype=float32)>)"
      ]
     },
     "execution_count": 15,
     "metadata": {},
     "output_type": "execute_result"
    }
   ],
   "source": [
    "preprocess(b'4.2083,44.0,5.3232,0.9171,846.0,2.3370,37.47,-122.2,2.782')"
   ]
  },
  {
   "cell_type": "code",
   "execution_count": 16,
   "metadata": {},
   "outputs": [],
   "source": [
    "def csv_reader_dataset(file_paths, repeat=1, batch_size=32, shuffle_buffer_size=10000,\n",
    "                       num_readers=5, num_read_threads=None, num_parse_threads=5):\n",
    "    dataset = tf.data.Dataset.list_files(file_paths).repeat(repeat)\n",
    "    dataset = dataset.interleave(\n",
    "        lambda filepath: tf.data.TextLineDataset(filepath).skip(1),\n",
    "        cycle_length=num_readers,\n",
    "        num_parallel_calls=num_read_threads\n",
    "    )\n",
    "    dataset = dataset.shuffle(shuffle_buffer_size)\\\n",
    "        .map(preprocess, num_parallel_calls=num_parse_threads)\\\n",
    "        .batch(batch_size)\\\n",
    "        .prefetch(1)\n",
    "    return dataset"
   ]
  },
  {
   "cell_type": "code",
   "execution_count": 17,
   "metadata": {},
   "outputs": [
    {
     "name": "stdout",
     "output_type": "stream",
     "text": [
      "x_batch = \n",
      "[[ 0.5804519  -0.20762321  0.05616303 -0.15191229  0.01343246  0.00604472\n",
      "   1.2525111  -1.3671792 ]\n",
      " [ 5.818099    1.8491895   1.1784915   0.28173092 -1.2496178  -0.3571987\n",
      "   0.7231292  -1.0023477 ]\n",
      " [-0.9253566   0.5834586  -0.7807257  -0.28213993 -0.36530012  0.27389365\n",
      "  -0.76194876  0.72684526]]\n",
      "y_batch = \n",
      "[[1.752]\n",
      " [1.313]\n",
      " [1.535]]\n",
      "\n",
      "x_batch = \n",
      "[[-0.8324941   0.6625668  -0.20741376 -0.18699841 -0.14536144  0.09635526\n",
      "   0.9807942  -0.67250353]\n",
      " [-0.62183803  0.5834586  -0.19862501 -0.3500319  -1.1437552  -0.3363751\n",
      "   1.107282   -0.8674123 ]\n",
      " [ 0.8683102   0.02970133  0.3427381  -0.29872298  0.7124906   0.28026953\n",
      "  -0.72915536  0.86178064]]\n",
      "y_batch = \n",
      "[[0.919]\n",
      " [1.028]\n",
      " [2.182]]\n",
      "\n"
     ]
    }
   ],
   "source": [
    "utils.reset_session()\n",
    "\n",
    "train_set = csv_reader_dataset(train_files, batch_size=3)\n",
    "\n",
    "for x_batch, y_batch in train_set.take(2):\n",
    "    print(f\"x_batch = \\n{x_batch}\")\n",
    "    print(f\"y_batch = \\n{y_batch}\")\n",
    "    print()"
   ]
  },
  {
   "cell_type": "code",
   "execution_count": 18,
   "metadata": {},
   "outputs": [],
   "source": [
    "batch_size = 32\n",
    "train_set = csv_reader_dataset(train_files, batch_size=batch_size, repeat=None)\n",
    "valid_set = csv_reader_dataset(val_files)\n",
    "test_set = csv_reader_dataset(test_files)"
   ]
  },
  {
   "cell_type": "code",
   "execution_count": 19,
   "metadata": {},
   "outputs": [
    {
     "name": "stdout",
     "output_type": "stream",
     "text": [
      "Epoch 1/10\n",
      "362/362 [==============================] - 0s 1ms/step - loss: 1.4679 - val_loss: 21.5124\n",
      "Epoch 2/10\n",
      "362/362 [==============================] - 0s 875us/step - loss: 0.8735 - val_loss: 0.6648\n",
      "Epoch 3/10\n",
      "362/362 [==============================] - 0s 959us/step - loss: 0.6317 - val_loss: 0.6196\n",
      "Epoch 4/10\n",
      "362/362 [==============================] - 0s 945us/step - loss: 0.5933 - val_loss: 0.5669\n",
      "Epoch 5/10\n",
      "362/362 [==============================] - 0s 1ms/step - loss: 0.5629 - val_loss: 0.5402\n",
      "Epoch 6/10\n",
      "362/362 [==============================] - 0s 868us/step - loss: 0.5693 - val_loss: 0.5209\n",
      "Epoch 7/10\n",
      "362/362 [==============================] - 0s 1ms/step - loss: 0.5231 - val_loss: 0.6130\n",
      "Epoch 8/10\n",
      "362/362 [==============================] - 0s 945us/step - loss: 0.5074 - val_loss: 0.4818\n",
      "Epoch 9/10\n",
      "362/362 [==============================] - 0s 1ms/step - loss: 0.4963 - val_loss: 0.4904\n",
      "Epoch 10/10\n",
      "362/362 [==============================] - 0s 1ms/step - loss: 0.5023 - val_loss: 0.4585\n"
     ]
    },
    {
     "data": {
      "text/plain": [
       "<tensorflow.python.keras.callbacks.History at 0x1c447836888>"
      ]
     },
     "execution_count": 19,
     "metadata": {},
     "output_type": "execute_result"
    }
   ],
   "source": [
    "utils.reset_session()\n",
    "\n",
    "model = keras.models.Sequential([\n",
    "    keras.layers.Dense(30, activation='relu', input_shape=[num_columns]),\n",
    "    keras.layers.Dense(1),\n",
    "])\n",
    "\n",
    "model.compile(loss='mse', optimizer=keras.optimizers.SGD(lr=1e-3))\n",
    "\n",
    "model.fit(\n",
    "    train_set, \n",
    "    steps_per_epoch=len(x_train) // batch_size, \n",
    "    epochs=10,\n",
    "    validation_data=valid_set\n",
    ")"
   ]
  },
  {
   "cell_type": "code",
   "execution_count": 20,
   "metadata": {},
   "outputs": [
    {
     "name": "stdout",
     "output_type": "stream",
     "text": [
      "162/162 [==============================] - 0s 864us/step - loss: 0.4785\n"
     ]
    },
    {
     "data": {
      "text/plain": [
       "0.47854188084602356"
      ]
     },
     "execution_count": 20,
     "metadata": {},
     "output_type": "execute_result"
    }
   ],
   "source": [
    "model.evaluate(test_set)"
   ]
  },
  {
   "cell_type": "code",
   "execution_count": 21,
   "metadata": {},
   "outputs": [
    {
     "name": "stdout",
     "output_type": "stream",
     "text": [
      "y_hat.shape = (5160, 1)\n"
     ]
    }
   ],
   "source": [
    "x_new = test_set.map(lambda x, y: x)\n",
    "y_hat = model.predict(x_new)\n",
    "print(f\"y_hat.shape = {y_hat.shape}\")"
   ]
  }
 ],
 "metadata": {
  "kernelspec": {
   "display_name": "Python 3",
   "language": "python",
   "name": "python3"
  },
  "language_info": {
   "codemirror_mode": {
    "name": "ipython",
    "version": 3
   },
   "file_extension": ".py",
   "mimetype": "text/x-python",
   "name": "python",
   "nbconvert_exporter": "python",
   "pygments_lexer": "ipython3",
   "version": "3.7.9"
  }
 },
 "nbformat": 4,
 "nbformat_minor": 4
}
