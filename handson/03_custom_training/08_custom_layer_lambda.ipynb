{
 "cells": [
  {
   "cell_type": "code",
   "execution_count": 3,
   "metadata": {},
   "outputs": [],
   "source": [
    "import numpy as np\n",
    "import tensorflow as tf\n",
    "from tensorflow import keras\n",
    "\n",
    "import utils"
   ]
  },
  {
   "cell_type": "code",
   "execution_count": 4,
   "metadata": {},
   "outputs": [
    {
     "name": "stdout",
     "output_type": "stream",
     "text": [
      "train_images.shape = (60000, 28, 28), train_labels.shape = (60000,)\n",
      "test_images.shape = (10000, 28, 28), test_labels.shape = (10000,)\n"
     ]
    }
   ],
   "source": [
    "(train_images, train_labels), (test_images, test_labels) = utils.load_fashion_mnist_data()\n",
    "print(f\"train_images.shape = {train_images.shape}, train_labels.shape = {train_labels.shape}\")\n",
    "print(f\"test_images.shape = {test_images.shape}, test_labels.shape = {test_labels.shape}\")"
   ]
  },
  {
   "cell_type": "code",
   "execution_count": 8,
   "metadata": {},
   "outputs": [
    {
     "name": "stdout",
     "output_type": "stream",
     "text": [
      "Epoch 1/10\n",
      "938/938 [==============================] - 51s 54ms/step - loss: 0.4346 - accuracy: 0.8426 - val_loss: 0.3378 - val_accuracy: 0.8797\n",
      "Epoch 2/10\n",
      "938/938 [==============================] - 50s 53ms/step - loss: 0.2922 - accuracy: 0.8939 - val_loss: 0.3254 - val_accuracy: 0.8823\n",
      "Epoch 3/10\n",
      "938/938 [==============================] - 49s 52ms/step - loss: 0.2464 - accuracy: 0.9103 - val_loss: 0.2887 - val_accuracy: 0.8930\n",
      "Epoch 4/10\n",
      "938/938 [==============================] - 56s 60ms/step - loss: 0.2131 - accuracy: 0.9197 - val_loss: 0.2627 - val_accuracy: 0.9076\n",
      "Epoch 5/10\n",
      "938/938 [==============================] - 53s 56ms/step - loss: 0.1877 - accuracy: 0.9306 - val_loss: 0.2764 - val_accuracy: 0.9058\n",
      "Epoch 6/10\n",
      "938/938 [==============================] - 60s 64ms/step - loss: 0.1596 - accuracy: 0.9399 - val_loss: 0.2809 - val_accuracy: 0.9039\n",
      "Epoch 7/10\n",
      "938/938 [==============================] - 53s 57ms/step - loss: 0.1404 - accuracy: 0.9466 - val_loss: 0.2718 - val_accuracy: 0.9111\n",
      "Epoch 8/10\n",
      "938/938 [==============================] - 65s 70ms/step - loss: 0.1201 - accuracy: 0.9553 - val_loss: 0.2775 - val_accuracy: 0.9130\n",
      "Epoch 9/10\n",
      "938/938 [==============================] - 61s 65ms/step - loss: 0.1065 - accuracy: 0.9599 - val_loss: 0.2920 - val_accuracy: 0.9098\n",
      "Epoch 10/10\n",
      "938/938 [==============================] - 56s 59ms/step - loss: 0.0931 - accuracy: 0.9645 - val_loss: 0.3061 - val_accuracy: 0.9119\n"
     ]
    }
   ],
   "source": [
    "utils.reset_session()\n",
    "\n",
    "model_a = keras.models.Sequential([\n",
    "    keras.layers.Lambda(lambda x: tf.expand_dims(x, axis=-1), input_shape=[28, 28]),\n",
    "    keras.layers.Conv2D(64, (3, 3), activation='relu'),\n",
    "    keras.layers.MaxPooling2D(2, 2),\n",
    "    keras.layers.Conv2D(64, (3, 3), activation='relu'),\n",
    "    keras.layers.MaxPooling2D(2, 2),\n",
    "    keras.layers.Flatten(),\n",
    "    keras.layers.Dense(128, activation='relu'), \n",
    "    keras.layers.Dense(10, activation='softmax')\n",
    "])\n",
    "\n",
    "\n",
    "optimizer = keras.optimizers.Adam()\n",
    "model_a.compile(\n",
    "    optimizer=optimizer,\n",
    "    loss='sparse_categorical_crossentropy',\n",
    "    metrics=['accuracy']\n",
    ")\n",
    "\n",
    "history = model_a.fit(\n",
    "    train_images, train_labels, \n",
    "    epochs=10, \n",
    "    batch_size=64,\n",
    "    validation_data=(test_images, test_labels)\n",
    ")"
   ]
  }
 ],
 "metadata": {
  "kernelspec": {
   "display_name": "Python 3",
   "language": "python",
   "name": "python3"
  },
  "language_info": {
   "codemirror_mode": {
    "name": "ipython",
    "version": 3
   },
   "file_extension": ".py",
   "mimetype": "text/x-python",
   "name": "python",
   "nbconvert_exporter": "python",
   "pygments_lexer": "ipython3",
   "version": "3.7.9"
  }
 },
 "nbformat": 4,
 "nbformat_minor": 4
}
