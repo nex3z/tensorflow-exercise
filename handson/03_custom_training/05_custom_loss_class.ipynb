{
 "cells": [
  {
   "cell_type": "code",
   "execution_count": 1,
   "metadata": {},
   "outputs": [],
   "source": [
    "import tensorflow as tf\n",
    "from tensorflow import keras\n",
    "\n",
    "import utils"
   ]
  },
  {
   "cell_type": "code",
   "execution_count": 2,
   "metadata": {},
   "outputs": [],
   "source": [
    "(x_train, y_train), (x_val, y_val), (x_test, y_test) = utils.load_housing_data()"
   ]
  },
  {
   "cell_type": "markdown",
   "metadata": {},
   "source": [
    "## Define custom loss class"
   ]
  },
  {
   "cell_type": "code",
   "execution_count": 3,
   "metadata": {},
   "outputs": [],
   "source": [
    "class HuberLoss(keras.losses.Loss):\n",
    "    def __init__(self, threshold, **kwargs):\n",
    "        self.threshold = threshold\n",
    "        super().__init__(**kwargs)\n",
    "\n",
    "    def call(self, y_true, y_pred):\n",
    "        error = y_true - y_pred\n",
    "        is_small_error = tf.abs(error) < self.threshold\n",
    "        squared_loss = tf.square(error) / 2\n",
    "        linear_loss = tf.abs(error) - 0.5\n",
    "        return tf.where(is_small_error, squared_loss, linear_loss)\n",
    "\n",
    "    def get_config(self):\n",
    "        base_config = super(HuberLoss, self).get_config()\n",
    "        return {\n",
    "            **base_config,\n",
    "            'threshold': self.threshold\n",
    "        }"
   ]
  },
  {
   "cell_type": "markdown",
   "metadata": {},
   "source": [
    "## Training with custom loss"
   ]
  },
  {
   "cell_type": "code",
   "execution_count": 4,
   "metadata": {},
   "outputs": [],
   "source": [
    "HUBER_LOSS_THRESHOLD = 2.0"
   ]
  },
  {
   "cell_type": "code",
   "execution_count": 12,
   "metadata": {},
   "outputs": [
    {
     "name": "stdout",
     "output_type": "stream",
     "text": [
      "Epoch 1/5\n",
      "363/363 [==============================] - 0s 810us/step - loss: 0.3875 - mae: 0.7219 - val_loss: 0.2596 - val_mae: 0.5525\n",
      "Epoch 2/5\n",
      "363/363 [==============================] - 0s 647us/step - loss: 0.2090 - mae: 0.4944 - val_loss: 0.1962 - val_mae: 0.4688\n",
      "Epoch 3/5\n",
      "363/363 [==============================] - 0s 650us/step - loss: 0.1850 - mae: 0.4597 - val_loss: 0.1758 - val_mae: 0.4392\n",
      "Epoch 4/5\n",
      "363/363 [==============================] - 0s 694us/step - loss: 0.1767 - mae: 0.4477 - val_loss: 0.1633 - val_mae: 0.4267\n",
      "Epoch 5/5\n",
      "363/363 [==============================] - 0s 675us/step - loss: 0.1717 - mae: 0.4397 - val_loss: 0.1688 - val_mae: 0.4338\n"
     ]
    }
   ],
   "source": [
    "utils.reset_session()\n",
    "\n",
    "model = keras.models.Sequential([\n",
    "    keras.layers.Dense(30, activation='relu', input_shape=x_train.shape[1:]),\n",
    "    keras.layers.Dense(1),\n",
    "])\n",
    "\n",
    "model.compile(loss=HuberLoss(HUBER_LOSS_THRESHOLD), optimizer='adam', metrics=['mae'])\n",
    "\n",
    "history = model.fit(x_train, y_train, epochs=5, validation_data=(x_val, y_val))"
   ]
  },
  {
   "cell_type": "code",
   "execution_count": 13,
   "metadata": {},
   "outputs": [
    {
     "name": "stdout",
     "output_type": "stream",
     "text": [
      "121/121 [==============================] - 0s 438us/step - loss: 0.1688 - mae: 0.4338\n"
     ]
    },
    {
     "data": {
      "text/plain": [
       "[0.1688012182712555, 0.4338049590587616]"
      ]
     },
     "execution_count": 13,
     "metadata": {},
     "output_type": "execute_result"
    }
   ],
   "source": [
    "model.evaluate(x_val, y_val)"
   ]
  },
  {
   "cell_type": "markdown",
   "metadata": {},
   "source": [
    "## Saving/Loading custom loss "
   ]
  },
  {
   "cell_type": "code",
   "execution_count": 7,
   "metadata": {},
   "outputs": [],
   "source": [
    "model.save('model.h5')"
   ]
  },
  {
   "cell_type": "code",
   "execution_count": 8,
   "metadata": {},
   "outputs": [
    {
     "name": "stdout",
     "output_type": "stream",
     "text": [
      "Unknown loss function: HuberLoss\n"
     ]
    }
   ],
   "source": [
    "utils.reset_session()\n",
    "try:\n",
    "    model = keras.models.load_model('model.h5')\n",
    "except ValueError as e:\n",
    "    print(e)"
   ]
  },
  {
   "cell_type": "code",
   "execution_count": 9,
   "metadata": {},
   "outputs": [
    {
     "name": "stdout",
     "output_type": "stream",
     "text": [
      "121/121 [==============================] - 0s 364us/step - loss: 0.1742 - mean_absolute_error: 0.4341\n"
     ]
    },
    {
     "data": {
      "text/plain": [
       "[0.17419719696044922, 0.43409448862075806]"
      ]
     },
     "execution_count": 9,
     "metadata": {},
     "output_type": "execute_result"
    }
   ],
   "source": [
    "utils.reset_session()\n",
    "\n",
    "model = keras.models.load_model('model.h5', custom_objects={'HuberLoss': HuberLoss})\n",
    "model.evaluate(x_val, y_val)"
   ]
  },
  {
   "cell_type": "code",
   "execution_count": 10,
   "metadata": {},
   "outputs": [
    {
     "name": "stdout",
     "output_type": "stream",
     "text": [
      "Epoch 1/2\n",
      "363/363 [==============================] - 0s 677us/step - loss: 0.1766 - mean_absolute_error: 0.4390 - val_loss: 0.1661 - val_mean_absolute_error: 0.4231\n",
      "Epoch 2/2\n",
      "363/363 [==============================] - 0s 625us/step - loss: 0.1734 - mean_absolute_error: 0.4345 - val_loss: 0.1783 - val_mean_absolute_error: 0.4377\n"
     ]
    }
   ],
   "source": [
    "history = model.fit(x_train, y_train, epochs=2, validation_data=(x_val, y_val))"
   ]
  }
 ],
 "metadata": {
  "kernelspec": {
   "display_name": "Python 3",
   "language": "python",
   "name": "python3"
  },
  "language_info": {
   "codemirror_mode": {
    "name": "ipython",
    "version": 3
   },
   "file_extension": ".py",
   "mimetype": "text/x-python",
   "name": "python",
   "nbconvert_exporter": "python",
   "pygments_lexer": "ipython3",
   "version": "3.7.9"
  }
 },
 "nbformat": 4,
 "nbformat_minor": 4
}
