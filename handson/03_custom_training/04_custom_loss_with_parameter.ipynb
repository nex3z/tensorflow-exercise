{
 "cells": [
  {
   "cell_type": "code",
   "execution_count": 1,
   "metadata": {},
   "outputs": [],
   "source": [
    "import tensorflow as tf\n",
    "from tensorflow import keras\n",
    "\n",
    "import utils"
   ]
  },
  {
   "cell_type": "code",
   "execution_count": 2,
   "metadata": {},
   "outputs": [],
   "source": [
    "(x_train, y_train), (x_val, y_val), (x_test, y_test) = utils.load_housing_data()"
   ]
  },
  {
   "cell_type": "markdown",
   "metadata": {},
   "source": [
    "## Define custom loss function"
   ]
  },
  {
   "cell_type": "code",
   "execution_count": 3,
   "metadata": {},
   "outputs": [],
   "source": [
    "def create_huber_loss(threshold):\n",
    "    def huber_loss(y_true, y_pred):\n",
    "        error = y_true - y_pred\n",
    "        is_small_error = tf.abs(error) < threshold\n",
    "        squared_loss = tf.square(error) / 2\n",
    "        linear_loss = tf.abs(error) - 0.5\n",
    "        return tf.where(is_small_error, squared_loss, linear_loss)\n",
    "    return huber_loss"
   ]
  },
  {
   "cell_type": "markdown",
   "metadata": {},
   "source": [
    "## Training with custom loss"
   ]
  },
  {
   "cell_type": "code",
   "execution_count": 4,
   "metadata": {},
   "outputs": [],
   "source": [
    "HUBER_LOSS_THRESHOLD = 2.0"
   ]
  },
  {
   "cell_type": "code",
   "execution_count": 5,
   "metadata": {},
   "outputs": [
    {
     "name": "stdout",
     "output_type": "stream",
     "text": [
      "Epoch 1/5\n",
      "  1/363 [..............................] - ETA: 0s - loss: 1.2299 - mae: 1.6464WARNING:tensorflow:Callbacks method `on_train_batch_end` is slow compared to the batch time (batch time: 0.0000s vs `on_train_batch_end` time: 0.0010s). Check your callbacks.\n",
      "363/363 [==============================] - 0s 882us/step - loss: 0.4077 - mae: 0.7237 - val_loss: 0.2658 - val_mae: 0.5522\n",
      "Epoch 2/5\n",
      "363/363 [==============================] - 0s 639us/step - loss: 0.2197 - mae: 0.4984 - val_loss: 0.2036 - val_mae: 0.4712\n",
      "Epoch 3/5\n",
      "363/363 [==============================] - 0s 652us/step - loss: 0.1938 - mae: 0.4634 - val_loss: 0.1849 - val_mae: 0.4415\n",
      "Epoch 4/5\n",
      "363/363 [==============================] - 0s 639us/step - loss: 0.1853 - mae: 0.4515 - val_loss: 0.1705 - val_mae: 0.4288\n",
      "Epoch 5/5\n",
      "363/363 [==============================] - 0s 667us/step - loss: 0.1796 - mae: 0.4428 - val_loss: 0.1742 - val_mae: 0.4341\n"
     ]
    }
   ],
   "source": [
    "utils.reset_session()\n",
    "\n",
    "model = keras.models.Sequential([\n",
    "    keras.layers.Dense(30, activation='relu', input_shape=x_train.shape[1:]),\n",
    "    keras.layers.Dense(1),\n",
    "])\n",
    "\n",
    "model.compile(loss=create_huber_loss(HUBER_LOSS_THRESHOLD), optimizer='adam', metrics=['mae'])\n",
    "\n",
    "history = model.fit(x_train, y_train, epochs=5, validation_data=(x_val, y_val))"
   ]
  },
  {
   "cell_type": "code",
   "execution_count": 6,
   "metadata": {
    "pycharm": {
     "name": "#%%\n"
    }
   },
   "outputs": [
    {
     "name": "stdout",
     "output_type": "stream",
     "text": [
      "121/121 [==============================] - 0s 422us/step - loss: 0.1742 - mae: 0.4341\n"
     ]
    },
    {
     "data": {
      "text/plain": [
       "[0.17419719696044922, 0.43409448862075806]"
      ]
     },
     "execution_count": 6,
     "metadata": {},
     "output_type": "execute_result"
    }
   ],
   "source": [
    "model.evaluate(x_val, y_val)"
   ]
  },
  {
   "cell_type": "markdown",
   "metadata": {
    "pycharm": {
     "name": "#%% md\n"
    }
   },
   "source": [
    "## Saving/Loading custom loss "
   ]
  },
  {
   "cell_type": "code",
   "execution_count": 7,
   "metadata": {},
   "outputs": [],
   "source": [
    "model.save('model_custom_loss_with_param.h5')"
   ]
  },
  {
   "cell_type": "code",
   "execution_count": 8,
   "metadata": {},
   "outputs": [
    {
     "name": "stdout",
     "output_type": "stream",
     "text": [
      "121/121 [==============================] - 0s 380us/step - loss: 0.1666 - mean_absolute_error: 0.4341\n"
     ]
    },
    {
     "data": {
      "text/plain": [
       "[0.1666388362646103, 0.43409448862075806]"
      ]
     },
     "execution_count": 8,
     "metadata": {},
     "output_type": "execute_result"
    }
   ],
   "source": [
    "utils.reset_session()\n",
    "model = keras.models.load_model('model_custom_loss_with_param.h5')\n",
    "model.evaluate(x_val, y_val)"
   ]
  },
  {
   "cell_type": "code",
   "execution_count": 9,
   "metadata": {},
   "outputs": [
    {
     "name": "stdout",
     "output_type": "stream",
     "text": [
      "  1/121 [..............................] - ETA: 0s - loss: 0.1447 - mean_absolute_error: 0.4539WARNING:tensorflow:Callbacks method `on_test_batch_begin` is slow compared to the batch time (batch time: 0.0000s vs `on_test_batch_begin` time: 0.0010s). Check your callbacks.\n",
      "121/121 [==============================] - 0s 397us/step - loss: 0.1666 - mean_absolute_error: 0.4341\n"
     ]
    },
    {
     "data": {
      "text/plain": [
       "[0.1666388362646103, 0.43409448862075806]"
      ]
     },
     "execution_count": 9,
     "metadata": {},
     "output_type": "execute_result"
    }
   ],
   "source": [
    "utils.reset_session()\n",
    "model = keras.models.load_model('model_custom_loss_with_param.h5', custom_objects={'huber_loss': create_huber_loss(1.0)})\n",
    "model.evaluate(x_val, y_val)"
   ]
  },
  {
   "cell_type": "code",
   "execution_count": null,
   "outputs": [],
   "source": [
    "utils.reset_session()\n",
    "model = keras.models.load_model('model_custom_loss_with_param.h5', custom_objects={'huber_loss': create_huber_loss(HUBER_LOSS_THRESHOLD)})\n",
    "model.evaluate(x_val, y_val)"
   ],
   "metadata": {
    "collapsed": false,
    "pycharm": {
     "name": "#%%\n"
    }
   }
  },
  {
   "cell_type": "code",
   "execution_count": 10,
   "metadata": {},
   "outputs": [
    {
     "name": "stdout",
     "output_type": "stream",
     "text": [
      "121/121 [==============================] - 0s 397us/step - loss: 0.1742 - mean_absolute_error: 0.4341\n"
     ]
    },
    {
     "data": {
      "text/plain": [
       "[0.17419719696044922, 0.43409448862075806]"
      ]
     },
     "execution_count": 10,
     "metadata": {},
     "output_type": "execute_result"
    }
   ],
   "source": [
    "utils.reset_session()\n",
    "model = keras.models.load_model('model_custom_loss_with_param.h5', custom_objects={'huber_loss': create_huber_loss(HUBER_LOSS_THRESHOLD)})\n",
    "model.evaluate(x_val, y_val)"
   ]
  }
 ],
 "metadata": {
  "kernelspec": {
   "display_name": "Python 3",
   "language": "python",
   "name": "python3"
  },
  "language_info": {
   "codemirror_mode": {
    "name": "ipython",
    "version": 3
   },
   "file_extension": ".py",
   "mimetype": "text/x-python",
   "name": "python",
   "nbconvert_exporter": "python",
   "pygments_lexer": "ipython3",
   "version": "3.7.9"
  }
 },
 "nbformat": 4,
 "nbformat_minor": 4
}