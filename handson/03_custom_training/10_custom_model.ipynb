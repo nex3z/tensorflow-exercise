{
 "cells": [
  {
   "cell_type": "code",
   "execution_count": 1,
   "metadata": {},
   "outputs": [],
   "source": [
    "import numpy as np\n",
    "import tensorflow as tf\n",
    "from tensorflow import keras\n",
    "\n",
    "import utils"
   ]
  },
  {
   "cell_type": "code",
   "execution_count": 2,
   "metadata": {},
   "outputs": [],
   "source": [
    "class ResidualBlock(keras.layers.Layer):\n",
    "    def __init__(self, num_layers, num_neurons, **kwargs):\n",
    "        super().__init__(**kwargs)\n",
    "        self.hidden = [keras.layers.Dense(num_neurons, activation='elu', kernel_initializer='he_normal')\n",
    "                       for _ in range(num_layers)]\n",
    "\n",
    "    def call(self, inputs, **kwargs):\n",
    "        a = inputs\n",
    "        for layer in self.hidden:\n",
    "            a = layer(a)\n",
    "        return inputs + a"
   ]
  },
  {
   "cell_type": "code",
   "execution_count": 3,
   "metadata": {},
   "outputs": [],
   "source": [
    "class ResidualRegressor(keras.models.Model):\n",
    "    def __init__(self, output_dim, *args, **kwargs):\n",
    "        super().__init__(*args, **kwargs)\n",
    "        self.hidden_1 = keras.layers.Dense(30, activation='elu', kernel_initializer='he_normal')\n",
    "        self.block_1 = ResidualBlock(2, 30)\n",
    "        self.block_2 = ResidualBlock(2, 30)\n",
    "        self.out = keras.layers.Dense(output_dim)\n",
    "\n",
    "    def call(self, inputs, training=None, mask=None):\n",
    "        a = self.hidden_1(inputs)\n",
    "        for _ in range(1 + 3):\n",
    "            a = self.block_1(a)\n",
    "        a = self.block_2(a)\n",
    "        return self.out(a)"
   ]
  },
  {
   "cell_type": "code",
   "execution_count": 4,
   "metadata": {},
   "outputs": [
    {
     "name": "stdout",
     "output_type": "stream",
     "text": [
      "x_train.shape = (11610, 8), y_train.shape = (11610,)\n",
      "x_val.shape = (3870, 8), y_val.shape = (3870,)\n",
      "x_test.shape = (5160, 8), y_test.shape = (5160,)\n"
     ]
    }
   ],
   "source": [
    "(x_train, y_train), (x_val, y_val), (x_test, y_test) = utils.load_housing_data()\n",
    "print(f\"x_train.shape = {x_train.shape}, y_train.shape = {y_train.shape}\")\n",
    "print(f\"x_val.shape = {x_val.shape}, y_val.shape = {y_val.shape}\")\n",
    "print(f\"x_test.shape = {x_test.shape}, y_test.shape = {y_test.shape}\")"
   ]
  },
  {
   "cell_type": "code",
   "execution_count": 5,
   "metadata": {},
   "outputs": [
    {
     "name": "stdout",
     "output_type": "stream",
     "text": [
      "Epoch 1/5\n",
      "363/363 [==============================] - 0s 742us/step - loss: 9.1326\n",
      "Epoch 2/5\n",
      "363/363 [==============================] - 0s 733us/step - loss: 1.0578\n",
      "Epoch 3/5\n",
      "363/363 [==============================] - 0s 789us/step - loss: 0.8870\n",
      "Epoch 4/5\n",
      "363/363 [==============================] - 0s 816us/step - loss: 0.5831\n",
      "Epoch 5/5\n",
      "363/363 [==============================] - 0s 794us/step - loss: 0.6470\n"
     ]
    }
   ],
   "source": [
    "utils.reset_session()\n",
    "\n",
    "model = ResidualRegressor(1)\n",
    "model.compile(loss='mse', optimizer='nadam')\n",
    "history = model.fit(x_train, y_train, epochs=5)"
   ]
  },
  {
   "cell_type": "code",
   "execution_count": 6,
   "metadata": {},
   "outputs": [
    {
     "name": "stdout",
     "output_type": "stream",
     "text": [
      "WARNING:tensorflow:From d:\\dev\\miniconda3\\envs\\tf\\lib\\site-packages\\tensorflow\\python\\training\\tracking\\tracking.py:111: Model.state_updates (from tensorflow.python.keras.engine.training) is deprecated and will be removed in a future version.\n",
      "Instructions for updating:\n",
      "This property should not be used in TensorFlow 2.0, as updates are applied automatically.\n",
      "WARNING:tensorflow:From d:\\dev\\miniconda3\\envs\\tf\\lib\\site-packages\\tensorflow\\python\\training\\tracking\\tracking.py:111: Layer.updates (from tensorflow.python.keras.engine.base_layer) is deprecated and will be removed in a future version.\n",
      "Instructions for updating:\n",
      "This property should not be used in TensorFlow 2.0, as updates are applied automatically.\n",
      "INFO:tensorflow:Assets written to: custom_model.ckpt\\assets\n"
     ]
    }
   ],
   "source": [
    "model.save(\"custom_model.ckpt\")"
   ]
  },
  {
   "cell_type": "code",
   "execution_count": 7,
   "metadata": {},
   "outputs": [
    {
     "name": "stdout",
     "output_type": "stream",
     "text": [
      "363/363 [==============================] - 0s 419us/step - loss: 1.0720\n"
     ]
    },
    {
     "data": {
      "text/plain": [
       "1.0719518661499023"
      ]
     },
     "execution_count": 7,
     "metadata": {},
     "output_type": "execute_result"
    }
   ],
   "source": [
    "utils.reset_session()\n",
    "model = keras.models.load_model(\"custom_model.ckpt\")\n",
    "model.evaluate(x_train, y_train)"
   ]
  }
 ],
 "metadata": {
  "kernelspec": {
   "display_name": "Python 3",
   "language": "python",
   "name": "python3"
  },
  "language_info": {
   "codemirror_mode": {
    "name": "ipython",
    "version": 3
   },
   "file_extension": ".py",
   "mimetype": "text/x-python",
   "name": "python",
   "nbconvert_exporter": "python",
   "pygments_lexer": "ipython3",
   "version": "3.7.9"
  }
 },
 "nbformat": 4,
 "nbformat_minor": 4
}
