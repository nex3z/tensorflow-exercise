{
 "cells": [
  {
   "cell_type": "code",
   "execution_count": 1,
   "metadata": {},
   "outputs": [],
   "source": [
    "import tensorflow as tf\n",
    "from tensorflow import keras\n",
    "\n",
    "import utils"
   ]
  },
  {
   "cell_type": "code",
   "execution_count": 2,
   "metadata": {},
   "outputs": [],
   "source": [
    "(x_train, y_train), (x_val, y_val), (x_test, y_test) = utils.load_housing_data()"
   ]
  },
  {
   "cell_type": "code",
   "execution_count": 3,
   "metadata": {},
   "outputs": [],
   "source": [
    "def my_softplus(z):\n",
    "    return tf.math.log(tf.exp(z) + 1.0)\n",
    "\n",
    "def my_glorot_initializer(shape, dtype=tf.float32):\n",
    "    stddev = tf.sqrt(2. / (shape[0] + shape[1]))\n",
    "    return tf.random.normal(shape, stddev=stddev, dtype=dtype)\n",
    "\n",
    "def my_l1_regularizer(weights):\n",
    "    return tf.reduce_sum(tf.abs(0.01 * weights))\n",
    "\n",
    "def my_positive_weights(weights):\n",
    "    return tf.where(weights < 0., tf.zeros_like(weights), weights)"
   ]
  },
  {
   "cell_type": "code",
   "execution_count": 4,
   "metadata": {},
   "outputs": [
    {
     "name": "stdout",
     "output_type": "stream",
     "text": [
      "Epoch 1/5\n",
      "363/363 [==============================] - 0s 873us/step - loss: 1.5509 - mae: 0.8976 - val_loss: 1.3818 - val_mae: 0.5622\n",
      "Epoch 2/5\n",
      "363/363 [==============================] - 0s 645us/step - loss: 0.5944 - mae: 0.5264 - val_loss: 1.4082 - val_mae: 0.5134\n",
      "Epoch 3/5\n",
      "363/363 [==============================] - 0s 634us/step - loss: 0.5258 - mae: 0.4970 - val_loss: 1.0196 - val_mae: 0.4877\n",
      "Epoch 4/5\n",
      "363/363 [==============================] - 0s 653us/step - loss: 0.5008 - mae: 0.4881 - val_loss: 0.8653 - val_mae: 0.4827\n",
      "Epoch 5/5\n",
      "363/363 [==============================] - 0s 642us/step - loss: 0.4901 - mae: 0.4828 - val_loss: 0.7505 - val_mae: 0.4788\n"
     ]
    }
   ],
   "source": [
    "utils.reset_session()\n",
    "\n",
    "model = keras.models.Sequential([\n",
    "    keras.layers.Dense(30, activation='selu', kernel_initializer='lecun_normal', input_shape=x_train.shape[1:]),\n",
    "    keras.layers.Dense(1, activation=my_softplus,\n",
    "                       kernel_regularizer=my_l1_regularizer,\n",
    "                       kernel_constraint=my_positive_weights,\n",
    "                       kernel_initializer=my_glorot_initializer),\n",
    "])\n",
    "\n",
    "model.compile(loss='mse', optimizer='adam', metrics=['mae'])\n",
    "\n",
    "history = model.fit(x_train, y_train, epochs=5, validation_data=(x_val, y_val))"
   ]
  },
  {
   "cell_type": "code",
   "execution_count": 5,
   "metadata": {},
   "outputs": [
    {
     "name": "stdout",
     "output_type": "stream",
     "text": [
      "121/121 [==============================] - 0s 479us/step - loss: 0.7505 - mae: 0.4788\n"
     ]
    },
    {
     "data": {
      "text/plain": [
       "[0.7505106329917908, 0.47877585887908936]"
      ]
     },
     "execution_count": 5,
     "metadata": {},
     "output_type": "execute_result"
    }
   ],
   "source": [
    "model.evaluate(x_val, y_val)"
   ]
  },
  {
   "cell_type": "code",
   "execution_count": 6,
   "metadata": {},
   "outputs": [],
   "source": [
    "model.save('model_custom.h5')"
   ]
  },
  {
   "cell_type": "code",
   "execution_count": 7,
   "metadata": {},
   "outputs": [
    {
     "name": "stdout",
     "output_type": "stream",
     "text": [
      "121/121 [==============================] - 0s 372us/step - loss: 0.7505 - mean_absolute_error: 0.4788\n"
     ]
    },
    {
     "data": {
      "text/plain": [
       "[0.7505106329917908, 0.47877585887908936]"
      ]
     },
     "execution_count": 7,
     "metadata": {},
     "output_type": "execute_result"
    }
   ],
   "source": [
    "utils.reset_session()\n",
    "\n",
    "model = keras.models.load_model(\n",
    "    'model_custom.h5', \n",
    "    custom_objects={\n",
    "        'my_l1_regularizer': my_l1_regularizer,\n",
    "        'my_positive_weights': my_positive_weights,\n",
    "        'my_glorot_initializer': my_glorot_initializer,\n",
    "        'my_softplus': my_softplus,\n",
    "    }\n",
    ")\n",
    "\n",
    "model.evaluate(x_val, y_val)"
   ]
  }
 ],
 "metadata": {
  "kernelspec": {
   "display_name": "Python 3",
   "language": "python",
   "name": "python3"
  },
  "language_info": {
   "codemirror_mode": {
    "name": "ipython",
    "version": 3
   },
   "file_extension": ".py",
   "mimetype": "text/x-python",
   "name": "python",
   "nbconvert_exporter": "python",
   "pygments_lexer": "ipython3",
   "version": "3.7.9"
  }
 },
 "nbformat": 4,
 "nbformat_minor": 4
}
