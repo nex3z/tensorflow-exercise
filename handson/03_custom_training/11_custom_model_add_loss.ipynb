{
 "cells": [
  {
   "cell_type": "code",
   "execution_count": 1,
   "metadata": {},
   "outputs": [],
   "source": [
    "import numpy as np\n",
    "import tensorflow as tf\n",
    "from tensorflow import keras\n",
    "\n",
    "import utils"
   ]
  },
  {
   "cell_type": "code",
   "execution_count": 2,
   "metadata": {},
   "outputs": [],
   "source": [
    "class ReconstructingRegressor(keras.models.Model):\n",
    "    def __init__(self, output_dim, *args, **kwargs):\n",
    "        super().__init__(*args, **kwargs)\n",
    "        self.hidden = [keras.layers.Dense(30, activation='relu') for _ in range(5)]\n",
    "        self.out = keras.layers.Dense(output_dim)\n",
    "\n",
    "    def build(self, input_shape):\n",
    "        num_inputs = input_shape[-1]\n",
    "        self.reconstruct = keras.layers.Dense(num_inputs)\n",
    "        return super().build(input_shape)\n",
    "\n",
    "    def call(self, inputs, training=None, mask=None):\n",
    "        a = inputs\n",
    "        for layer in self.hidden:\n",
    "            a = layer(a)\n",
    "        reconstruction = self.reconstruct(a)\n",
    "        self.reconstruction_loss = 0.05 * tf.reduce_mean(tf.square(reconstruction - inputs))\n",
    "        return self.out(a)\n",
    "\n",
    "    def train_step(self, data):\n",
    "        x, y = data\n",
    "\n",
    "        with tf.GradientTape() as tape:\n",
    "            y_pred = self(x)\n",
    "            loss = self.compiled_loss(y, y_pred, regularization_losses=[self.reconstruction_loss])\n",
    "\n",
    "        gradients = tape.gradient(loss, self.trainable_variables)\n",
    "        self.optimizer.apply_gradients(zip(gradients, self.trainable_variables))\n",
    "\n",
    "        return {m.name: m.result() for m in self.metrics}"
   ]
  },
  {
   "cell_type": "code",
   "execution_count": 3,
   "metadata": {},
   "outputs": [
    {
     "name": "stdout",
     "output_type": "stream",
     "text": [
      "x_train.shape = (11610, 8), y_train.shape = (11610,)\n",
      "x_val.shape = (3870, 8), y_val.shape = (3870,)\n",
      "x_test.shape = (5160, 8), y_test.shape = (5160,)\n"
     ]
    }
   ],
   "source": [
    "(x_train, y_train), (x_val, y_val), (x_test, y_test) = utils.load_housing_data()\n",
    "print(f\"x_train.shape = {x_train.shape}, y_train.shape = {y_train.shape}\")\n",
    "print(f\"x_val.shape = {x_val.shape}, y_val.shape = {y_val.shape}\")\n",
    "print(f\"x_test.shape = {x_test.shape}, y_test.shape = {y_test.shape}\")"
   ]
  },
  {
   "cell_type": "code",
   "execution_count": 4,
   "metadata": {},
   "outputs": [
    {
     "name": "stdout",
     "output_type": "stream",
     "text": [
      "Epoch 1/5\n",
      "363/363 [==============================] - 0s 672us/step - loss: 0.9017\n",
      "Epoch 2/5\n",
      "363/363 [==============================] - 0s 653us/step - loss: 0.4123\n",
      "Epoch 3/5\n",
      "363/363 [==============================] - 0s 643us/step - loss: 0.3835\n",
      "Epoch 4/5\n",
      "363/363 [==============================] - 0s 634us/step - loss: 0.3559\n",
      "Epoch 5/5\n",
      "363/363 [==============================] - 0s 625us/step - loss: 0.3403\n"
     ]
    }
   ],
   "source": [
    "utils.reset_session()\n",
    "\n",
    "model = ReconstructingRegressor(1)\n",
    "model.compile(loss='mse', optimizer=\"nadam\")\n",
    "history = model.fit(x_train, y_train, epochs=5)"
   ]
  }
 ],
 "metadata": {
  "kernelspec": {
   "display_name": "Python 3",
   "language": "python",
   "name": "python3"
  },
  "language_info": {
   "codemirror_mode": {
    "name": "ipython",
    "version": 3
   },
   "file_extension": ".py",
   "mimetype": "text/x-python",
   "name": "python",
   "nbconvert_exporter": "python",
   "pygments_lexer": "ipython3",
   "version": "3.7.9"
  }
 },
 "nbformat": 4,
 "nbformat_minor": 4
}
