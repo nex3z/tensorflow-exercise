{
 "cells": [
  {
   "cell_type": "code",
   "execution_count": 1,
   "metadata": {},
   "outputs": [],
   "source": [
    "import numpy as np\n",
    "import tensorflow as tf\n",
    "from tensorflow import keras\n",
    "\n",
    "import utils"
   ]
  },
  {
   "cell_type": "code",
   "execution_count": 2,
   "metadata": {},
   "outputs": [],
   "source": [
    "(x_train, y_train), (x_val, y_val), (x_test, y_test) = utils.load_housing_data()"
   ]
  },
  {
   "cell_type": "code",
   "execution_count": 3,
   "metadata": {},
   "outputs": [],
   "source": [
    "def create_huber_loss(threshold):\n",
    "    def huber_loss(y_true, y_pred):\n",
    "        error = y_true - y_pred\n",
    "        is_small_error = tf.abs(error) < threshold\n",
    "        squared_loss = tf.square(error) / 2\n",
    "        linear_loss = tf.abs(error) - 0.5\n",
    "        return tf.where(is_small_error, squared_loss, linear_loss)\n",
    "    return huber_loss"
   ]
  },
  {
   "cell_type": "markdown",
   "metadata": {},
   "source": [
    "## Custom metric"
   ]
  },
  {
   "cell_type": "code",
   "execution_count": 4,
   "metadata": {},
   "outputs": [
    {
     "name": "stdout",
     "output_type": "stream",
     "text": [
      "Epoch 1/5\n",
      "363/363 [==============================] - 0s 843us/step - loss: 1.1176 - huber_loss: 0.4230 - val_loss: 2.9220 - val_huber_loss: 0.2893\n",
      "Epoch 2/5\n",
      "363/363 [==============================] - 0s 631us/step - loss: 0.5336 - huber_loss: 0.2333 - val_loss: 1.3339 - val_huber_loss: 0.2216\n",
      "Epoch 3/5\n",
      "363/363 [==============================] - 0s 628us/step - loss: 0.4462 - huber_loss: 0.2019 - val_loss: 0.6510 - val_huber_loss: 0.1931\n",
      "Epoch 4/5\n",
      "363/363 [==============================] - 0s 645us/step - loss: 0.4155 - huber_loss: 0.1907 - val_loss: 0.4200 - val_huber_loss: 0.1804\n",
      "Epoch 5/5\n",
      "363/363 [==============================] - 0s 639us/step - loss: 0.4008 - huber_loss: 0.1849 - val_loss: 0.3688 - val_huber_loss: 0.1735\n"
     ]
    }
   ],
   "source": [
    "utils.reset_session()\n",
    "\n",
    "model = keras.models.Sequential([\n",
    "    keras.layers.Dense(30, activation='relu', input_shape=x_train.shape[1:]),\n",
    "    keras.layers.Dense(1),\n",
    "])\n",
    "\n",
    "model.compile(loss='mse', optimizer='adam', metrics=[create_huber_loss(2.0)])\n",
    "\n",
    "history = model.fit(x_train, y_train, epochs=5, validation_data=(x_val, y_val))"
   ]
  },
  {
   "cell_type": "code",
   "execution_count": 5,
   "metadata": {},
   "outputs": [
    {
     "data": {
      "text/plain": [
       "dict_keys(['loss', 'huber_loss', 'val_loss', 'val_huber_loss'])"
      ]
     },
     "execution_count": 5,
     "metadata": {},
     "output_type": "execute_result"
    }
   ],
   "source": [
    "history.history.keys()"
   ]
  },
  {
   "cell_type": "markdown",
   "metadata": {},
   "source": [
    "## Custom loss and metric"
   ]
  },
  {
   "cell_type": "code",
   "execution_count": 6,
   "metadata": {},
   "outputs": [
    {
     "name": "stdout",
     "output_type": "stream",
     "text": [
      "Epoch 1/5\n",
      "363/363 [==============================] - 0s 989us/step - loss: 0.4077 - huber_loss: 0.4077 - val_loss: 0.2658 - val_huber_loss: 0.2658\n",
      "Epoch 2/5\n",
      "363/363 [==============================] - 0s 636us/step - loss: 0.2197 - huber_loss: 0.2197 - val_loss: 0.2036 - val_huber_loss: 0.2036\n",
      "Epoch 3/5\n",
      "363/363 [==============================] - 0s 642us/step - loss: 0.1938 - huber_loss: 0.1938 - val_loss: 0.1849 - val_huber_loss: 0.1849\n",
      "Epoch 4/5\n",
      "363/363 [==============================] - 0s 703us/step - loss: 0.1853 - huber_loss: 0.1853 - val_loss: 0.1705 - val_huber_loss: 0.1705\n",
      "Epoch 5/5\n",
      "363/363 [==============================] - 0s 692us/step - loss: 0.1796 - huber_loss: 0.1796 - val_loss: 0.1742 - val_huber_loss: 0.1742\n"
     ]
    }
   ],
   "source": [
    "utils.reset_session()\n",
    "\n",
    "model = keras.models.Sequential([\n",
    "    keras.layers.Dense(30, activation='relu', input_shape=x_train.shape[1:]),\n",
    "    keras.layers.Dense(1),\n",
    "])\n",
    "\n",
    "model.compile(loss=create_huber_loss(2.0), optimizer='adam', metrics=[create_huber_loss(2.0)])\n",
    "\n",
    "history = model.fit(x_train, y_train, epochs=5, validation_data=(x_val, y_val))"
   ]
  },
  {
   "cell_type": "markdown",
   "metadata": {},
   "source": [
    "## Weighted loss"
   ]
  },
  {
   "cell_type": "code",
   "execution_count": 7,
   "metadata": {},
   "outputs": [
    {
     "name": "stdout",
     "output_type": "stream",
     "text": [
      "Epoch 1/5\n",
      "363/363 [==============================] - 0s 829us/step - loss: 0.2042 - huber_loss: 0.4132 - val_loss: 0.2762 - val_huber_loss: 0.2762\n",
      "Epoch 2/5\n",
      "363/363 [==============================] - 0s 667us/step - loss: 0.1099 - huber_loss: 0.2231 - val_loss: 0.2122 - val_huber_loss: 0.2122\n",
      "Epoch 3/5\n",
      "363/363 [==============================] - 0s 692us/step - loss: 0.0961 - huber_loss: 0.1956 - val_loss: 0.1934 - val_huber_loss: 0.1934\n",
      "Epoch 4/5\n",
      "363/363 [==============================] - 0s 722us/step - loss: 0.0915 - huber_loss: 0.1870 - val_loss: 0.1806 - val_huber_loss: 0.1806\n",
      "Epoch 5/5\n",
      "363/363 [==============================] - 0s 719us/step - loss: 0.0887 - huber_loss: 0.1814 - val_loss: 0.1752 - val_huber_loss: 0.1752\n"
     ]
    }
   ],
   "source": [
    "utils.reset_session()\n",
    "\n",
    "model = keras.models.Sequential([\n",
    "    keras.layers.Dense(30, activation='relu', input_shape=x_train.shape[1:]),\n",
    "    keras.layers.Dense(1),\n",
    "])\n",
    "\n",
    "model.compile(loss=create_huber_loss(2.0), optimizer='adam', metrics=[create_huber_loss(2.0)])\n",
    "\n",
    "sample_weight = np.random.rand(len(y_train))\n",
    "\n",
    "history = model.fit(x_train, y_train, epochs=5, validation_data=(x_val, y_val), sample_weight=sample_weight)"
   ]
  },
  {
   "cell_type": "code",
   "execution_count": 8,
   "metadata": {},
   "outputs": [
    {
     "data": {
      "text/plain": [
       "0.20416481792926788"
      ]
     },
     "execution_count": 8,
     "metadata": {},
     "output_type": "execute_result"
    }
   ],
   "source": [
    "history.history['loss'][0]"
   ]
  },
  {
   "cell_type": "code",
   "execution_count": 9,
   "metadata": {},
   "outputs": [
    {
     "data": {
      "text/plain": [
       "0.41320446133613586"
      ]
     },
     "execution_count": 9,
     "metadata": {},
     "output_type": "execute_result"
    }
   ],
   "source": [
    "history.history['huber_loss'][0]"
   ]
  },
  {
   "cell_type": "code",
   "execution_count": 10,
   "metadata": {},
   "outputs": [
    {
     "data": {
      "text/plain": [
       "0.20505146663506582"
      ]
     },
     "execution_count": 10,
     "metadata": {},
     "output_type": "execute_result"
    }
   ],
   "source": [
    "history.history['huber_loss'][0] * sample_weight.mean()"
   ]
  }
 ],
 "metadata": {
  "kernelspec": {
   "display_name": "Python 3",
   "language": "python",
   "name": "python3"
  },
  "language_info": {
   "codemirror_mode": {
    "name": "ipython",
    "version": 3
   },
   "file_extension": ".py",
   "mimetype": "text/x-python",
   "name": "python",
   "nbconvert_exporter": "python",
   "pygments_lexer": "ipython3",
   "version": "3.7.9"
  }
 },
 "nbformat": 4,
 "nbformat_minor": 4
}
