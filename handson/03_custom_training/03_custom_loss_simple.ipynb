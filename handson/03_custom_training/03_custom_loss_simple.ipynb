{
 "cells": [
  {
   "cell_type": "code",
   "execution_count": 1,
   "metadata": {},
   "outputs": [],
   "source": [
    "import matplotlib.pyplot as plt\n",
    "import numpy as np\n",
    "import tensorflow as tf\n",
    "from tensorflow import keras\n",
    "\n",
    "import utils"
   ]
  },
  {
   "cell_type": "code",
   "execution_count": 2,
   "metadata": {},
   "outputs": [],
   "source": [
    "(x_train, y_train), (x_val, y_val), (x_test, y_test) = utils.load_housing_data()"
   ]
  },
  {
   "cell_type": "markdown",
   "metadata": {},
   "source": [
    "## Define custom loss function"
   ]
  },
  {
   "cell_type": "code",
   "execution_count": 3,
   "metadata": {},
   "outputs": [],
   "source": [
    "def huber_loss(y_true, y_pred):\n",
    "    error = y_true - y_pred\n",
    "    is_small_error = tf.abs(error) < 1.0\n",
    "    squared_loss = tf.square(error) / 2\n",
    "    linear_loss = tf.abs(error) - 0.5\n",
    "    return tf.where(is_small_error, squared_loss, linear_loss)"
   ]
  },
  {
   "cell_type": "code",
   "execution_count": 4,
   "metadata": {},
   "outputs": [
    {
     "data": {
      "image/png": "[encoded data removed]",
      "text/plain": [
       "<Figure size 576x288 with 1 Axes>"
      ]
     },
     "metadata": {
      "needs_background": "light"
     },
     "output_type": "display_data"
    }
   ],
   "source": [
    "plt.figure(figsize=(8, 4))\n",
    "error = np.linspace(-5, 5)\n",
    "loss = huber_loss(error, 0)\n",
    "plt.plot(error, loss)\n",
    "plt.xlabel(\"error\")\n",
    "plt.ylabel(\"loss\")\n",
    "plt.grid(True)\n",
    "plt.show()"
   ]
  },
  {
   "cell_type": "markdown",
   "metadata": {},
   "source": [
    "## Training with custom loss"
   ]
  },
  {
   "cell_type": "code",
   "execution_count": 5,
   "metadata": {},
   "outputs": [
    {
     "name": "stdout",
     "output_type": "stream",
     "text": [
      "Epoch 1/5\n",
      "363/363 [==============================] - 0s 876us/step - loss: 0.5712 - mae: 0.9324 - val_loss: 0.2775 - val_mae: 0.5903\n",
      "Epoch 2/5\n",
      "363/363 [==============================] - 0s 661us/step - loss: 0.2254 - mae: 0.5231 - val_loss: 0.2114 - val_mae: 0.4917\n",
      "Epoch 3/5\n",
      "363/363 [==============================] - 0s 654us/step - loss: 0.1902 - mae: 0.4704 - val_loss: 0.1922 - val_mae: 0.4636\n",
      "Epoch 4/5\n",
      "363/363 [==============================] - 0s 682us/step - loss: 0.1786 - mae: 0.4523 - val_loss: 0.1807 - val_mae: 0.4509\n",
      "Epoch 5/5\n",
      "363/363 [==============================] - 0s 675us/step - loss: 0.1729 - mae: 0.4439 - val_loss: 0.1755 - val_mae: 0.4452\n"
     ]
    }
   ],
   "source": [
    "model = keras.models.Sequential([\n",
    "    keras.layers.Dense(30, activation='relu', input_shape=x_train.shape[1:]),\n",
    "    keras.layers.Dense(1),\n",
    "])\n",
    "\n",
    "model.compile(loss=huber_loss, optimizer='adam', metrics=['mae'])\n",
    "\n",
    "history = model.fit(x_train, y_train, epochs=5, validation_data=(x_val, y_val))"
   ]
  },
  {
   "cell_type": "markdown",
   "metadata": {},
   "source": [
    "## Saving/Loading custom loss "
   ]
  },
  {
   "cell_type": "code",
   "execution_count": 6,
   "metadata": {},
   "outputs": [],
   "source": [
    "model.save('model.h5')"
   ]
  },
  {
   "cell_type": "code",
   "execution_count": 7,
   "metadata": {},
   "outputs": [
    {
     "name": "stdout",
     "output_type": "stream",
     "text": [
      "Epoch 1/2\n",
      "363/363 [==============================] - 0s 870us/step - loss: 0.1691 - mean_absolute_error: 0.4384 - val_loss: 0.1675 - val_mean_absolute_error: 0.4361\n",
      "Epoch 2/2\n",
      "363/363 [==============================] - 0s 675us/step - loss: 0.1665 - mean_absolute_error: 0.4346 - val_loss: 0.1566 - val_mean_absolute_error: 0.4162\n"
     ]
    }
   ],
   "source": [
    "model = keras.models.load_model('model.h5')\n",
    "history = model.fit(x_train, y_train, epochs=2, validation_data=(x_val, y_val))"
   ]
  },
  {
   "cell_type": "code",
   "execution_count": 8,
   "metadata": {},
   "outputs": [
    {
     "name": "stdout",
     "output_type": "stream",
     "text": [
      "Epoch 1/2\n",
      "363/363 [==============================] - 0s 824us/step - loss: 0.1693 - mean_absolute_error: 0.4390 - val_loss: 0.1629 - val_mean_absolute_error: 0.4294\n",
      "Epoch 2/2\n",
      "363/363 [==============================] - 0s 653us/step - loss: 0.1668 - mean_absolute_error: 0.4347 - val_loss: 0.1659 - val_mean_absolute_error: 0.4325\n"
     ]
    }
   ],
   "source": [
    "model = keras.models.load_model('model.h5', custom_objects={'huber_loss': huber_loss})\n",
    "history = model.fit(x_train, y_train, epochs=2, validation_data=(x_val, y_val))"
   ]
  }
 ],
 "metadata": {
  "kernelspec": {
   "display_name": "Python 3",
   "language": "python",
   "name": "python3"
  },
  "language_info": {
   "codemirror_mode": {
    "name": "ipython",
    "version": 3
   },
   "file_extension": ".py",
   "mimetype": "text/x-python",
   "name": "python",
   "nbconvert_exporter": "python",
   "pygments_lexer": "ipython3",
   "version": "3.7.9"
  }
 },
 "nbformat": 4,
 "nbformat_minor": 4
}