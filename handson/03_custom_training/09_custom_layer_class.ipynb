{
 "cells": [
  {
   "cell_type": "code",
   "execution_count": 1,
   "metadata": {},
   "outputs": [],
   "source": [
    "import numpy as np\n",
    "import tensorflow as tf\n",
    "from tensorflow import keras\n",
    "\n",
    "import utils"
   ]
  },
  {
   "cell_type": "markdown",
   "metadata": {},
   "source": [
    "## Custom dense layer"
   ]
  },
  {
   "cell_type": "code",
   "execution_count": 2,
   "metadata": {},
   "outputs": [],
   "source": [
    "class MyDense(keras.layers.Layer):\n",
    "    def __init__(self, units, activation=None, **kwargs):\n",
    "        super().__init__(**kwargs)\n",
    "        self.units = units\n",
    "        self.activation = keras.activations.get(activation)\n",
    "\n",
    "    def build(self, input_shape):\n",
    "        self.kernel = self.add_weight(name='kernel', shape=[input_shape[-1], self.units], initializer='glorot_normal')\n",
    "        self.bias = self.add_weight(name='bias', shape=[self.units], initializer='zeros')\n",
    "        return super().build(input_shape)\n",
    "\n",
    "    def call(self, inputs, **kwargs):\n",
    "        return self.activation(inputs @ self.kernel + self.bias)\n",
    "\n",
    "    def compute_output_shape(self, input_shape):\n",
    "        return tf.TensorShape(input_shape.as_list()[-1] + [self.units])\n",
    "\n",
    "    def get_config(self):\n",
    "        base_config = super().get_config()\n",
    "        return {\n",
    "            **base_config,\n",
    "            'units': self.units,\n",
    "            'activation': keras.activations.serialize(self.activation),\n",
    "        }"
   ]
  },
  {
   "cell_type": "code",
   "execution_count": 3,
   "metadata": {},
   "outputs": [
    {
     "name": "stdout",
     "output_type": "stream",
     "text": [
      "x_train.shape = (11610, 8), y_train.shape = (11610,)\n",
      "x_val.shape = (3870, 8), y_val.shape = (3870,)\n",
      "x_test.shape = (5160, 8), y_test.shape = (5160,)\n"
     ]
    }
   ],
   "source": [
    "(x_train, y_train), (x_val, y_val), (x_test, y_test) = utils.load_housing_data()\n",
    "print(f\"x_train.shape = {x_train.shape}, y_train.shape = {y_train.shape}\")\n",
    "print(f\"x_val.shape = {x_val.shape}, y_val.shape = {y_val.shape}\")\n",
    "print(f\"x_test.shape = {x_test.shape}, y_test.shape = {y_test.shape}\")"
   ]
  },
  {
   "cell_type": "code",
   "execution_count": 4,
   "metadata": {},
   "outputs": [
    {
     "name": "stdout",
     "output_type": "stream",
     "text": [
      "Model: \"sequential\"\n",
      "_________________________________________________________________\n",
      "Layer (type)                 Output Shape              Param #   \n",
      "=================================================================\n",
      "my_dense (MyDense)           (None, 30)                270       \n",
      "_________________________________________________________________\n",
      "my_dense_1 (MyDense)         (None, 1)                 31        \n",
      "=================================================================\n",
      "Total params: 301\n",
      "Trainable params: 301\n",
      "Non-trainable params: 0\n",
      "_________________________________________________________________\n",
      "Epoch 1/10\n",
      "363/363 [==============================] - 0s 835us/step - loss: 2.3168 - val_loss: 1.2389\n",
      "Epoch 2/10\n",
      "363/363 [==============================] - 0s 617us/step - loss: 0.7808 - val_loss: 0.7033\n",
      "Epoch 3/10\n",
      "363/363 [==============================] - 0s 620us/step - loss: 0.6809 - val_loss: 0.6434\n",
      "Epoch 4/10\n",
      "363/363 [==============================] - 0s 617us/step - loss: 0.6314 - val_loss: 0.6128\n",
      "Epoch 5/10\n",
      "363/363 [==============================] - 0s 623us/step - loss: 0.5932 - val_loss: 0.5734\n",
      "Epoch 6/10\n",
      "363/363 [==============================] - 0s 620us/step - loss: 0.5605 - val_loss: 0.5559\n",
      "Epoch 7/10\n",
      "363/363 [==============================] - 0s 595us/step - loss: 0.5349 - val_loss: 0.5484\n",
      "Epoch 8/10\n",
      "363/363 [==============================] - 0s 617us/step - loss: 0.5142 - val_loss: 0.4962\n",
      "Epoch 9/10\n",
      "363/363 [==============================] - 0s 614us/step - loss: 0.4971 - val_loss: 0.4813\n",
      "Epoch 10/10\n",
      "363/363 [==============================] - 0s 606us/step - loss: 0.4833 - val_loss: 0.4675\n"
     ]
    }
   ],
   "source": [
    "utils.reset_session()\n",
    "\n",
    "model = keras.models.Sequential([\n",
    "    MyDense(30, activation='relu', input_shape=x_train.shape[1:]),\n",
    "    MyDense(1)\n",
    "])\n",
    "model.summary()\n",
    "\n",
    "model.compile(optimizer=keras.optimizers.SGD(lr=1e-3), loss='mse')\n",
    "\n",
    "history = model.fit(x_train, y_train, epochs=10, validation_data=(x_val, y_val))"
   ]
  },
  {
   "cell_type": "code",
   "execution_count": 5,
   "metadata": {},
   "outputs": [
    {
     "name": "stdout",
     "output_type": "stream",
     "text": [
      "121/121 [==============================] - 0s 422us/step - loss: 0.4675\n"
     ]
    },
    {
     "data": {
      "text/plain": [
       "0.46753329038619995"
      ]
     },
     "execution_count": 5,
     "metadata": {},
     "output_type": "execute_result"
    }
   ],
   "source": [
    "model.evaluate(x_val, y_val)"
   ]
  },
  {
   "cell_type": "code",
   "execution_count": 6,
   "metadata": {},
   "outputs": [],
   "source": [
    "model.save('custom_dense.h5')"
   ]
  },
  {
   "cell_type": "code",
   "execution_count": 7,
   "metadata": {},
   "outputs": [
    {
     "name": "stdout",
     "output_type": "stream",
     "text": [
      "121/121 [==============================] - 0s 446us/step - loss: 0.4675\n"
     ]
    },
    {
     "data": {
      "text/plain": [
       "0.46753329038619995"
      ]
     },
     "execution_count": 7,
     "metadata": {},
     "output_type": "execute_result"
    }
   ],
   "source": [
    "utils.reset_session()\n",
    "keras.models.load_model('custom_dense.h5', custom_objects={\"MyDense\": MyDense})\n",
    "model.evaluate(x_val, y_val)"
   ]
  },
  {
   "cell_type": "markdown",
   "metadata": {},
   "source": [
    "## Different behavior during training and testing"
   ]
  },
  {
   "cell_type": "code",
   "execution_count": 8,
   "metadata": {},
   "outputs": [],
   "source": [
    "class AddGaussianNoise(keras.layers.Layer):\n",
    "    def __init__(self, stddev, **kwargs):\n",
    "        super().__init__(**kwargs)\n",
    "        self.stddev = stddev\n",
    "\n",
    "    def call(self, inputs, **kwargs):\n",
    "        training = kwargs.get('training')\n",
    "        print(f\"AddGaussianNoise call(): training = {training}, kwargs = {kwargs}\")\n",
    "        if training:\n",
    "            noise = tf.random.normal(tf.shape(inputs), stddev=self.stddev)\n",
    "            return inputs + noise\n",
    "        else:\n",
    "            return inputs\n",
    "\n",
    "    def compute_output_shape(self, input_shape):\n",
    "        return input_shape"
   ]
  },
  {
   "cell_type": "code",
   "execution_count": 9,
   "metadata": {},
   "outputs": [
    {
     "name": "stdout",
     "output_type": "stream",
     "text": [
      "AddGaussianNoise call(): training = None, kwargs = {'training': None}\n",
      "Model: \"sequential\"\n",
      "_________________________________________________________________\n",
      "Layer (type)                 Output Shape              Param #   \n",
      "=================================================================\n",
      "my_dense (MyDense)           (None, 30)                270       \n",
      "_________________________________________________________________\n",
      "add_gaussian_noise (AddGauss (None, 30)                0         \n",
      "_________________________________________________________________\n",
      "my_dense_1 (MyDense)         (None, 1)                 31        \n",
      "=================================================================\n",
      "Total params: 301\n",
      "Trainable params: 301\n",
      "Non-trainable params: 0\n",
      "_________________________________________________________________\n",
      "Epoch 1/10\n",
      "AddGaussianNoise call(): training = True, kwargs = {'training': True}\n",
      "AddGaussianNoise call(): training = True, kwargs = {'training': True}\n",
      "298/363 [=======================>......] - ETA: 0s - loss: 2.6308AddGaussianNoise call(): training = False, kwargs = {'training': False}\n",
      "363/363 [==============================] - 0s 1ms/step - loss: 2.3303 - val_loss: 0.8962\n",
      "Epoch 2/10\n",
      "363/363 [==============================] - 0s 865us/step - loss: 0.8009 - val_loss: 0.7111\n",
      "Epoch 3/10\n",
      "363/363 [==============================] - 0s 901us/step - loss: 0.7029 - val_loss: 0.6534\n",
      "Epoch 4/10\n",
      "363/363 [==============================] - 0s 898us/step - loss: 0.6489 - val_loss: 0.6115\n",
      "Epoch 5/10\n",
      "363/363 [==============================] - 0s 965us/step - loss: 0.6121 - val_loss: 0.5766\n",
      "Epoch 6/10\n",
      "363/363 [==============================] - 0s 946us/step - loss: 0.5824 - val_loss: 0.5487\n",
      "Epoch 7/10\n",
      "363/363 [==============================] - 0s 942us/step - loss: 0.5585 - val_loss: 0.5262\n",
      "Epoch 8/10\n",
      "363/363 [==============================] - 0s 1ms/step - loss: 0.5376 - val_loss: 0.5081\n",
      "Epoch 9/10\n",
      "363/363 [==============================] - 0s 940us/step - loss: 0.5204 - val_loss: 0.4932\n",
      "Epoch 10/10\n",
      "363/363 [==============================] - 0s 962us/step - loss: 0.5106 - val_loss: 0.4811\n"
     ]
    }
   ],
   "source": [
    "utils.reset_session()\n",
    "\n",
    "model = keras.models.Sequential([\n",
    "    MyDense(30, activation='relu', input_shape=x_train.shape[1:]),\n",
    "    AddGaussianNoise(0.1),\n",
    "    MyDense(1)\n",
    "])\n",
    "model.summary()\n",
    "\n",
    "model.compile(optimizer=keras.optimizers.SGD(lr=1e-3), loss='mse')\n",
    "\n",
    "history = model.fit(x_train, y_train, epochs=10, validation_data=(x_train, y_train))"
   ]
  },
  {
   "cell_type": "code",
   "execution_count": 10,
   "metadata": {},
   "outputs": [
    {
     "name": "stdout",
     "output_type": "stream",
     "text": [
      "363/363 [==============================] - 0s 398us/step - loss: 0.4811\n"
     ]
    },
    {
     "data": {
      "text/plain": [
       "0.48112058639526367"
      ]
     },
     "execution_count": 10,
     "metadata": {},
     "output_type": "execute_result"
    }
   ],
   "source": [
    "model.evaluate(x_train, y_train)"
   ]
  },
  {
   "cell_type": "markdown",
   "metadata": {},
   "source": [
    "## Custom layer with multiple inputs"
   ]
  },
  {
   "cell_type": "code",
   "execution_count": 11,
   "metadata": {},
   "outputs": [],
   "source": [
    "class MultipleInputLayer(keras.layers.Layer):\n",
    "    def call(self, inputs, **kwargs):\n",
    "        x1, x2 = inputs\n",
    "        return x1 + x2, x1 * x2, x1 / x2\n",
    "\n",
    "    def compute_output_shape(self, input_shape):\n",
    "        s1, s2 = input_shape\n",
    "        return [s1, s1, s1]"
   ]
  },
  {
   "cell_type": "code",
   "execution_count": 12,
   "metadata": {},
   "outputs": [],
   "source": [
    "layer = MultipleInputLayer()"
   ]
  },
  {
   "cell_type": "code",
   "execution_count": 13,
   "metadata": {},
   "outputs": [],
   "source": [
    "a = tf.constant([1, 2])\n",
    "b = tf.constant([3, 4])"
   ]
  },
  {
   "cell_type": "code",
   "execution_count": 14,
   "metadata": {},
   "outputs": [
    {
     "data": {
      "text/plain": [
       "(<tf.Tensor: shape=(2,), dtype=int32, numpy=array([4, 6])>,\n",
       " <tf.Tensor: shape=(2,), dtype=int32, numpy=array([3, 8])>,\n",
       " <tf.Tensor: shape=(2,), dtype=float64, numpy=array([0.33333333, 0.5       ])>)"
      ]
     },
     "execution_count": 14,
     "metadata": {},
     "output_type": "execute_result"
    }
   ],
   "source": [
    "layer([a, b])"
   ]
  }
 ],
 "metadata": {
  "kernelspec": {
   "display_name": "Python 3",
   "language": "python",
   "name": "python3"
  },
  "language_info": {
   "codemirror_mode": {
    "name": "ipython",
    "version": 3
   },
   "file_extension": ".py",
   "mimetype": "text/x-python",
   "name": "python",
   "nbconvert_exporter": "python",
   "pygments_lexer": "ipython3",
   "version": "3.7.9"
  }
 },
 "nbformat": 4,
 "nbformat_minor": 4
}
