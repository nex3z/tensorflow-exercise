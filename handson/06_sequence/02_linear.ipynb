{
 "cells": [
  {
   "cell_type": "code",
   "execution_count": 1,
   "metadata": {},
   "outputs": [],
   "source": [
    "import numpy as np\n",
    "from tensorflow import keras\n",
    "import utils"
   ]
  },
  {
   "cell_type": "markdown",
   "metadata": {},
   "source": [
    "## Flat data"
   ]
  },
  {
   "cell_type": "markdown",
   "metadata": {},
   "source": [
    "### Train"
   ]
  },
  {
   "cell_type": "code",
   "execution_count": 2,
   "metadata": {},
   "outputs": [
    {
     "name": "stdout",
     "output_type": "stream",
     "text": [
      "x_train.shape = (7000, 50), y_train.shape = (7000,)\n",
      "x_val.shape = (2000, 50), y_val.shape = (2000,)\n",
      "x_test.shape = (1000, 50), y_test.shape = (1000,)\n"
     ]
    }
   ],
   "source": [
    "(x_train, y_train), (x_val, y_val), (x_test, y_test) = utils.load_time_series_data()\n",
    "print(f\"x_train.shape = {x_train.shape}, y_train.shape = {y_train.shape}\")\n",
    "print(f\"x_val.shape = {x_val.shape}, y_val.shape = {y_val.shape}\")\n",
    "print(f\"x_test.shape = {x_test.shape}, y_test.shape = {y_test.shape}\")"
   ]
  },
  {
   "cell_type": "code",
   "execution_count": 3,
   "metadata": {},
   "outputs": [
    {
     "name": "stdout",
     "output_type": "stream",
     "text": [
      "Epoch 1/20\n",
      "219/219 [==============================] - 0s 942us/step - loss: 0.1001 - mae: 0.2559 - val_loss: 0.0545 - val_mae: 0.1905\n",
      "Epoch 2/20\n",
      "219/219 [==============================] - 0s 551us/step - loss: 0.0379 - mae: 0.1584 - val_loss: 0.0266 - val_mae: 0.1331\n",
      "Epoch 3/20\n",
      "219/219 [==============================] - 0s 615us/step - loss: 0.0202 - mae: 0.1162 - val_loss: 0.0157 - val_mae: 0.1026\n",
      "Epoch 4/20\n",
      "219/219 [==============================] - 0s 615us/step - loss: 0.0131 - mae: 0.0937 - val_loss: 0.0116 - val_mae: 0.0880\n",
      "Epoch 5/20\n",
      "219/219 [==============================] - 0s 1ms/step - loss: 0.0103 - mae: 0.0826 - val_loss: 0.0098 - val_mae: 0.0803\n",
      "Epoch 6/20\n",
      "219/219 [==============================] - 0s 1ms/step - loss: 0.0089 - mae: 0.0763 - val_loss: 0.0087 - val_mae: 0.0754\n",
      "Epoch 7/20\n",
      "219/219 [==============================] - 0s 583us/step - loss: 0.0080 - mae: 0.0720 - val_loss: 0.0079 - val_mae: 0.0720\n",
      "Epoch 8/20\n",
      "219/219 [==============================] - 0s 594us/step - loss: 0.0073 - mae: 0.0686 - val_loss: 0.0071 - val_mae: 0.0684\n",
      "Epoch 9/20\n",
      "219/219 [==============================] - 0s 624us/step - loss: 0.0066 - mae: 0.0656 - val_loss: 0.0066 - val_mae: 0.0655\n",
      "Epoch 10/20\n",
      "219/219 [==============================] - 0s 626us/step - loss: 0.0061 - mae: 0.0629 - val_loss: 0.0062 - val_mae: 0.0634\n",
      "Epoch 11/20\n",
      "219/219 [==============================] - 0s 641us/step - loss: 0.0057 - mae: 0.0609 - val_loss: 0.0057 - val_mae: 0.0606\n",
      "Epoch 12/20\n",
      "219/219 [==============================] - 0s 606us/step - loss: 0.0054 - mae: 0.0592 - val_loss: 0.0055 - val_mae: 0.0596\n",
      "Epoch 13/20\n",
      "219/219 [==============================] - 0s 606us/step - loss: 0.0052 - mae: 0.0577 - val_loss: 0.0052 - val_mae: 0.0576\n",
      "Epoch 14/20\n",
      "219/219 [==============================] - 0s 603us/step - loss: 0.0049 - mae: 0.0566 - val_loss: 0.0049 - val_mae: 0.0562\n",
      "Epoch 15/20\n",
      "219/219 [==============================] - 0s 609us/step - loss: 0.0048 - mae: 0.0556 - val_loss: 0.0048 - val_mae: 0.0555\n",
      "Epoch 16/20\n",
      "219/219 [==============================] - 0s 592us/step - loss: 0.0046 - mae: 0.0547 - val_loss: 0.0048 - val_mae: 0.0559\n",
      "Epoch 17/20\n",
      "219/219 [==============================] - 0s 594us/step - loss: 0.0045 - mae: 0.0540 - val_loss: 0.0045 - val_mae: 0.0533\n",
      "Epoch 18/20\n",
      "219/219 [==============================] - 0s 627us/step - loss: 0.0044 - mae: 0.0530 - val_loss: 0.0044 - val_mae: 0.0533\n",
      "Epoch 19/20\n",
      "219/219 [==============================] - 0s 569us/step - loss: 0.0043 - mae: 0.0524 - val_loss: 0.0043 - val_mae: 0.0526\n",
      "Epoch 20/20\n",
      "219/219 [==============================] - 0s 569us/step - loss: 0.0042 - mae: 0.0519 - val_loss: 0.0042 - val_mae: 0.0514\n"
     ]
    }
   ],
   "source": [
    "utils.reset_session()\n",
    "\n",
    "model = keras.models.Sequential([\n",
    "    keras.layers.Dense(1, input_shape=[50])\n",
    "])\n",
    "\n",
    "model.compile(loss='mse', optimizer='adam', metrics=['mae'])\n",
    "history = model.fit(x_train, y_train, epochs=20, validation_data=(x_val, y_val))"
   ]
  },
  {
   "cell_type": "code",
   "execution_count": 4,
   "metadata": {},
   "outputs": [
    {
     "data": {
      "image/png": "[encoded data removed]",
      "text/plain": [
       "<Figure size 864x288 with 2 Axes>"
      ]
     },
     "metadata": {
      "needs_background": "light"
     },
     "output_type": "display_data"
    }
   ],
   "source": [
    "utils.plot_history(history)"
   ]
  },
  {
   "cell_type": "markdown",
   "metadata": {},
   "source": [
    "### Evaluate"
   ]
  },
  {
   "cell_type": "code",
   "execution_count": 5,
   "metadata": {},
   "outputs": [
    {
     "name": "stdout",
     "output_type": "stream",
     "text": [
      "63/63 [==============================] - 0s 424us/step - loss: 0.0042 - mae: 0.0514\n"
     ]
    },
    {
     "data": {
      "text/plain": [
       "[0.004168087150901556, 0.05144257843494415]"
      ]
     },
     "execution_count": 5,
     "metadata": {},
     "output_type": "execute_result"
    }
   ],
   "source": [
    "model.evaluate(x_val, y_val)"
   ]
  },
  {
   "cell_type": "markdown",
   "metadata": {},
   "source": [
    "### Forecast"
   ]
  },
  {
   "cell_type": "code",
   "execution_count": 6,
   "metadata": {},
   "outputs": [
    {
     "name": "stdout",
     "output_type": "stream",
     "text": [
      "mse = 0.00416809, mae = 0.05144258\n"
     ]
    }
   ],
   "source": [
    "y_pred = model.predict(x_val)\n",
    "utils.evaluate(y_val, y_pred[:, 0])"
   ]
  },
  {
   "cell_type": "markdown",
   "metadata": {},
   "source": [
    "## Extra dimension"
   ]
  },
  {
   "cell_type": "code",
   "execution_count": 7,
   "metadata": {},
   "outputs": [
    {
     "name": "stdout",
     "output_type": "stream",
     "text": [
      "x_train.shape = (7000, 50, 1), y_train.shape = (7000,)\n",
      "x_val.shape = (2000, 50, 1), y_val.shape = (2000,)\n",
      "x_test.shape = (1000, 50, 1), y_test.shape = (1000,)\n"
     ]
    }
   ],
   "source": [
    "x_train = np.expand_dims(x_train, -1)\n",
    "x_val = np.expand_dims(x_val, -1)\n",
    "x_test = np.expand_dims(x_test, -1)\n",
    "print(f\"x_train.shape = {x_train.shape}, y_train.shape = {y_train.shape}\")\n",
    "print(f\"x_val.shape = {x_val.shape}, y_val.shape = {y_val.shape}\")\n",
    "print(f\"x_test.shape = {x_test.shape}, y_test.shape = {y_test.shape}\")"
   ]
  },
  {
   "cell_type": "code",
   "execution_count": 8,
   "metadata": {},
   "outputs": [
    {
     "name": "stdout",
     "output_type": "stream",
     "text": [
      "Epoch 1/20\n",
      "  1/219 [..............................] - ETA: 0s - loss: 0.1768 - mae: 0.3628WARNING:tensorflow:Callbacks method `on_train_batch_end` is slow compared to the batch time (batch time: 0.0000s vs `on_train_batch_end` time: 0.0010s). Check your callbacks.\n",
      "219/219 [==============================] - 0s 962us/step - loss: 0.1001 - mae: 0.2559 - val_loss: 0.0545 - val_mae: 0.1905\n",
      "Epoch 2/20\n",
      "219/219 [==============================] - 0s 597us/step - loss: 0.0379 - mae: 0.1584 - val_loss: 0.0266 - val_mae: 0.1331\n",
      "Epoch 3/20\n",
      "219/219 [==============================] - 0s 592us/step - loss: 0.0202 - mae: 0.1162 - val_loss: 0.0157 - val_mae: 0.1026\n",
      "Epoch 4/20\n",
      "219/219 [==============================] - 0s 602us/step - loss: 0.0131 - mae: 0.0937 - val_loss: 0.0116 - val_mae: 0.0880\n",
      "Epoch 5/20\n",
      "219/219 [==============================] - 0s 608us/step - loss: 0.0103 - mae: 0.0826 - val_loss: 0.0098 - val_mae: 0.0803\n",
      "Epoch 6/20\n",
      "219/219 [==============================] - 0s 623us/step - loss: 0.0089 - mae: 0.0763 - val_loss: 0.0087 - val_mae: 0.0754\n",
      "Epoch 7/20\n",
      "219/219 [==============================] - 0s 762us/step - loss: 0.0080 - mae: 0.0720 - val_loss: 0.0079 - val_mae: 0.0720\n",
      "Epoch 8/20\n",
      "219/219 [==============================] - 0s 748us/step - loss: 0.0073 - mae: 0.0686 - val_loss: 0.0071 - val_mae: 0.0684\n",
      "Epoch 9/20\n",
      "219/219 [==============================] - 0s 727us/step - loss: 0.0066 - mae: 0.0656 - val_loss: 0.0066 - val_mae: 0.0655\n",
      "Epoch 10/20\n",
      "219/219 [==============================] - 0s 694us/step - loss: 0.0061 - mae: 0.0629 - val_loss: 0.0062 - val_mae: 0.0634\n",
      "Epoch 11/20\n",
      "219/219 [==============================] - 0s 674us/step - loss: 0.0057 - mae: 0.0609 - val_loss: 0.0057 - val_mae: 0.0606\n",
      "Epoch 12/20\n",
      "219/219 [==============================] - 0s 692us/step - loss: 0.0054 - mae: 0.0592 - val_loss: 0.0055 - val_mae: 0.0596\n",
      "Epoch 13/20\n",
      "219/219 [==============================] - 0s 731us/step - loss: 0.0052 - mae: 0.0577 - val_loss: 0.0052 - val_mae: 0.0576\n",
      "Epoch 14/20\n",
      "219/219 [==============================] - 0s 761us/step - loss: 0.0049 - mae: 0.0566 - val_loss: 0.0049 - val_mae: 0.0562\n",
      "Epoch 15/20\n",
      "219/219 [==============================] - 0s 750us/step - loss: 0.0048 - mae: 0.0556 - val_loss: 0.0048 - val_mae: 0.0555\n",
      "Epoch 16/20\n",
      "219/219 [==============================] - 0s 1ms/step - loss: 0.0046 - mae: 0.0547 - val_loss: 0.0048 - val_mae: 0.0559\n",
      "Epoch 17/20\n",
      "219/219 [==============================] - 0s 1ms/step - loss: 0.0045 - mae: 0.0540 - val_loss: 0.0045 - val_mae: 0.0533\n",
      "Epoch 18/20\n",
      "219/219 [==============================] - 0s 856us/step - loss: 0.0044 - mae: 0.0530 - val_loss: 0.0044 - val_mae: 0.0533\n",
      "Epoch 19/20\n",
      "219/219 [==============================] - 0s 793us/step - loss: 0.0043 - mae: 0.0524 - val_loss: 0.0043 - val_mae: 0.0526\n",
      "Epoch 20/20\n",
      "219/219 [==============================] - 0s 774us/step - loss: 0.0042 - mae: 0.0519 - val_loss: 0.0042 - val_mae: 0.0514\n"
     ]
    }
   ],
   "source": [
    "utils.reset_session()\n",
    "\n",
    "model = keras.models.Sequential([\n",
    "    keras.layers.Flatten(input_shape=[50, 1]),\n",
    "    keras.layers.Dense(1)\n",
    "])\n",
    "\n",
    "model.compile(loss='mse', optimizer='adam', metrics=['mae'])\n",
    "history = model.fit(x_train, y_train, epochs=20, validation_data=(x_val, y_val))"
   ]
  },
  {
   "cell_type": "code",
   "execution_count": 9,
   "metadata": {},
   "outputs": [
    {
     "name": "stdout",
     "output_type": "stream",
     "text": [
      "63/63 [==============================] - 0s 553us/step - loss: 0.0042 - mae: 0.0514\n"
     ]
    },
    {
     "data": {
      "text/plain": [
       "[0.004168087150901556, 0.05144257843494415]"
      ]
     },
     "execution_count": 9,
     "metadata": {},
     "output_type": "execute_result"
    }
   ],
   "source": [
    "model.evaluate(x_val, y_val)"
   ]
  }
 ],
 "metadata": {
  "kernelspec": {
   "display_name": "Python 3",
   "language": "python",
   "name": "python3"
  },
  "language_info": {
   "codemirror_mode": {
    "name": "ipython",
    "version": 3
   },
   "file_extension": ".py",
   "mimetype": "text/x-python",
   "name": "python",
   "nbconvert_exporter": "python",
   "pygments_lexer": "ipython3",
   "version": "3.7.9"
  }
 },
 "nbformat": 4,
 "nbformat_minor": 4
}
