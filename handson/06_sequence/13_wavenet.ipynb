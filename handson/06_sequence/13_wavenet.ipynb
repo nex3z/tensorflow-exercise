{
 "cells": [
  {
   "cell_type": "code",
   "execution_count": 1,
   "metadata": {},
   "outputs": [],
   "source": [
    "import numpy as np\n",
    "from tensorflow import keras\n",
    "import utils"
   ]
  },
  {
   "cell_type": "code",
   "execution_count": 2,
   "metadata": {},
   "outputs": [
    {
     "name": "stdout",
     "output_type": "stream",
     "text": [
      "x_train.shape = (7000, 50, 1), y_train.shape = (7000, 50, 10)\n",
      "x_val.shape = (2000, 50, 1), y_val.shape = (2000, 50, 10)\n",
      "x_test.shape = (1000, 50, 1), y_test.shape = (1000, 50, 10)\n"
     ]
    }
   ],
   "source": [
    "history_steps = 50\n",
    "forecast_steps = 10\n",
    "(x_train, y_train), (x_val, y_val), (x_test, y_test) = \\\n",
    "    utils.load_time_series_data_multiple_forecast(history_steps, forecast_steps)\n",
    "print(f\"x_train.shape = {x_train.shape}, y_train.shape = {y_train.shape}\")\n",
    "print(f\"x_val.shape = {x_val.shape}, y_val.shape = {y_val.shape}\")\n",
    "print(f\"x_test.shape = {x_test.shape}, y_test.shape = {y_test.shape}\")"
   ]
  },
  {
   "cell_type": "code",
   "execution_count": 3,
   "metadata": {},
   "outputs": [],
   "source": [
    "class GatedActivationUnit(keras.layers.Layer):\n",
    "    def __init__(self, activation='tanh', **kwargs):\n",
    "        super().__init__(**kwargs)\n",
    "        self.activation = keras.activations.get(activation)\n",
    "\n",
    "    def call(self, inputs, **kwargs):\n",
    "        num_filters = inputs.shape[-1] // 2\n",
    "        linear_output = self.activation(inputs[..., :num_filters])\n",
    "        gate = keras.activations.sigmoid(inputs[..., num_filters:])\n",
    "        return self.activation(linear_output) * gate\n",
    "\n",
    "\n",
    "def wavenet_residual_block(inputs, num_filters, dilation_rate):\n",
    "    x = keras.layers.Conv1D(2 * num_filters, kernel_size=2, padding='causal', dilation_rate=dilation_rate)(inputs)\n",
    "    x = GatedActivationUnit()(x)\n",
    "    x = keras.layers.Conv1D(num_filters, kernel_size=1)(x)\n",
    "    return keras.layers.Add()([x, inputs]), x"
   ]
  },
  {
   "cell_type": "code",
   "execution_count": 4,
   "metadata": {},
   "outputs": [
    {
     "name": "stdout",
     "output_type": "stream",
     "text": [
      "Epoch 1/5\n",
      "219/219 [==============================] - 2s 11ms/step - loss: 0.1300 - mae: 0.3058 - last_time_step_mse: 0.1260 - val_loss: 0.1229 - val_mae: 0.2985 - val_last_time_step_mse: 0.1199\n",
      "Epoch 2/5\n",
      "219/219 [==============================] - 2s 11ms/step - loss: 0.1222 - mae: 0.2979 - last_time_step_mse: 0.1178 - val_loss: 0.1217 - val_mae: 0.2977 - val_last_time_step_mse: 0.1189\n",
      "Epoch 3/5\n",
      "219/219 [==============================] - 3s 15ms/step - loss: 0.1215 - mae: 0.2976 - last_time_step_mse: 0.1172 - val_loss: 0.1214 - val_mae: 0.2979 - val_last_time_step_mse: 0.1186\n",
      "Epoch 4/5\n",
      "219/219 [==============================] - 3s 12ms/step - loss: 0.1212 - mae: 0.2975 - last_time_step_mse: 0.1169 - val_loss: 0.1211 - val_mae: 0.2974 - val_last_time_step_mse: 0.1183\n",
      "Epoch 5/5\n",
      "219/219 [==============================] - 3s 13ms/step - loss: 0.1210 - mae: 0.2973 - last_time_step_mse: 0.1167 - val_loss: 0.1209 - val_mae: 0.2973 - val_last_time_step_mse: 0.1181\n"
     ]
    }
   ],
   "source": [
    "utils.reset_session()\n",
    "\n",
    "num_layers_per_block = 3  # 10 in the paper\n",
    "num_blocks = 1            # 3 in the paper\n",
    "num_filters = 32          # 128 in the paper\n",
    "num_outputs = 10          # 256 in the paper\n",
    "\n",
    "inputs = keras.layers.Input(shape=[None, 1])\n",
    "x = keras.layers.Conv1D(num_filters, kernel_size=2, padding='causal')(inputs)\n",
    "skip_to_last = []\n",
    "for dilation_rate in [2**i for i in range(num_layers_per_block)] * num_blocks:\n",
    "    x, skip = wavenet_residual_block(x, num_filters, dilation_rate)\n",
    "    skip_to_last.append(skip)\n",
    "x = keras.activations.relu(keras.layers.Add()(skip_to_last))\n",
    "x = keras.layers.Conv1D(num_filters, kernel_size=1, activation='relu')(x)\n",
    "outputs = keras.layers.Conv1D(num_outputs, kernel_size=1, activation='softmax')(x)\n",
    "\n",
    "model = keras.models.Model(inputs=inputs, outputs=outputs)\n",
    "\n",
    "def last_time_step_mse(y_true, y_pred):\n",
    "    return keras.metrics.mean_squared_error(y_true[:, -1], y_pred[:, -1])\n",
    "\n",
    "optimizer=keras.optimizers.Adam(lr=0.001)\n",
    "model.compile(loss='mse', optimizer=optimizer, metrics=['mae', last_time_step_mse])\n",
    "history = model.fit(x_train, y_train, epochs=5, validation_data=(x_val, y_val))"
   ]
  }
 ],
 "metadata": {
  "kernelspec": {
   "display_name": "Python 3",
   "language": "python",
   "name": "python3"
  },
  "language_info": {
   "codemirror_mode": {
    "name": "ipython",
    "version": 3
   },
   "file_extension": ".py",
   "mimetype": "text/x-python",
   "name": "python",
   "nbconvert_exporter": "python",
   "pygments_lexer": "ipython3",
   "version": "3.7.9"
  }
 },
 "nbformat": 4,
 "nbformat_minor": 4
}
