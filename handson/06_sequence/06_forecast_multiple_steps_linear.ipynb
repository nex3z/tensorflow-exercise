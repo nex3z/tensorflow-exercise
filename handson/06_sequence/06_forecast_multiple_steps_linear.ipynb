{
 "cells": [
  {
   "cell_type": "code",
   "execution_count": 1,
   "metadata": {},
   "outputs": [],
   "source": [
    "import numpy as np\n",
    "from tensorflow import keras\n",
    "import utils"
   ]
  },
  {
   "cell_type": "code",
   "execution_count": 2,
   "metadata": {},
   "outputs": [
    {
     "name": "stdout",
     "output_type": "stream",
     "text": [
      "x_train.shape = (7000, 50), y_train.shape = (7000, 10)\n",
      "x_val.shape = (2000, 50), y_val.shape = (2000, 10)\n",
      "x_test.shape = (1000, 50), y_test.shape = (1000, 10)\n"
     ]
    }
   ],
   "source": [
    "history_steps = 50\n",
    "forecast_steps = 10\n",
    "series = utils.generate_time_series(10000, history_steps + forecast_steps)\n",
    "x_train, y_train = series[:7000, :history_steps], series[:7000, -forecast_steps:]\n",
    "x_val, y_val = series[7000:9000, :history_steps], series[7000:9000, -forecast_steps:]\n",
    "x_test, y_test = series[9000:, :history_steps], series[9000:, -forecast_steps:]\n",
    "\n",
    "print(f\"x_train.shape = {x_train.shape}, y_train.shape = {y_train.shape}\")\n",
    "print(f\"x_val.shape = {x_val.shape}, y_val.shape = {y_val.shape}\")\n",
    "print(f\"x_test.shape = {x_test.shape}, y_test.shape = {y_test.shape}\")"
   ]
  },
  {
   "cell_type": "code",
   "execution_count": 3,
   "metadata": {},
   "outputs": [
    {
     "name": "stdout",
     "output_type": "stream",
     "text": [
      "Epoch 1/20\n",
      "219/219 [==============================] - 0s 973us/step - loss: 0.1343 - mae: 0.2839 - val_loss: 0.0606 - val_mae: 0.1976\n",
      "Epoch 2/20\n",
      "219/219 [==============================] - 0s 639us/step - loss: 0.0496 - mae: 0.1789 - val_loss: 0.0425 - val_mae: 0.1661\n",
      "Epoch 3/20\n",
      "219/219 [==============================] - 0s 642us/step - loss: 0.0385 - mae: 0.1572 - val_loss: 0.0353 - val_mae: 0.1508\n",
      "Epoch 4/20\n",
      "219/219 [==============================] - 0s 658us/step - loss: 0.0331 - mae: 0.1456 - val_loss: 0.0311 - val_mae: 0.1412\n",
      "Epoch 5/20\n",
      "219/219 [==============================] - 0s 653us/step - loss: 0.0298 - mae: 0.1375 - val_loss: 0.0283 - val_mae: 0.1340\n",
      "Epoch 6/20\n",
      "219/219 [==============================] - 0s 640us/step - loss: 0.0273 - mae: 0.1312 - val_loss: 0.0264 - val_mae: 0.1289\n",
      "Epoch 7/20\n",
      "219/219 [==============================] - 0s 662us/step - loss: 0.0256 - mae: 0.1266 - val_loss: 0.0249 - val_mae: 0.1246\n",
      "Epoch 8/20\n",
      "219/219 [==============================] - 0s 671us/step - loss: 0.0244 - mae: 0.1231 - val_loss: 0.0237 - val_mae: 0.1214\n",
      "Epoch 9/20\n",
      "219/219 [==============================] - 0s 658us/step - loss: 0.0234 - mae: 0.1203 - val_loss: 0.0229 - val_mae: 0.1190\n",
      "Epoch 10/20\n",
      "219/219 [==============================] - 0s 661us/step - loss: 0.0227 - mae: 0.1179 - val_loss: 0.0222 - val_mae: 0.1168\n",
      "Epoch 11/20\n",
      "219/219 [==============================] - 0s 654us/step - loss: 0.0220 - mae: 0.1160 - val_loss: 0.0216 - val_mae: 0.1152\n",
      "Epoch 12/20\n",
      "219/219 [==============================] - 0s 656us/step - loss: 0.0215 - mae: 0.1144 - val_loss: 0.0212 - val_mae: 0.1139\n",
      "Epoch 13/20\n",
      "219/219 [==============================] - 0s 671us/step - loss: 0.0210 - mae: 0.1131 - val_loss: 0.0208 - val_mae: 0.1127\n",
      "Epoch 14/20\n",
      "219/219 [==============================] - 0s 649us/step - loss: 0.0207 - mae: 0.1120 - val_loss: 0.0207 - val_mae: 0.1122\n",
      "Epoch 15/20\n",
      "219/219 [==============================] - 0s 646us/step - loss: 0.0203 - mae: 0.1108 - val_loss: 0.0202 - val_mae: 0.1108\n",
      "Epoch 16/20\n",
      "219/219 [==============================] - 0s 644us/step - loss: 0.0200 - mae: 0.1099 - val_loss: 0.0199 - val_mae: 0.1102\n",
      "Epoch 17/20\n",
      "219/219 [==============================] - 0s 681us/step - loss: 0.0197 - mae: 0.1089 - val_loss: 0.0195 - val_mae: 0.1088\n",
      "Epoch 18/20\n",
      "219/219 [==============================] - 0s 668us/step - loss: 0.0193 - mae: 0.1079 - val_loss: 0.0192 - val_mae: 0.1079\n",
      "Epoch 19/20\n",
      "219/219 [==============================] - 0s 653us/step - loss: 0.0191 - mae: 0.1072 - val_loss: 0.0189 - val_mae: 0.1070\n",
      "Epoch 20/20\n",
      "219/219 [==============================] - 0s 655us/step - loss: 0.0188 - mae: 0.1065 - val_loss: 0.0187 - val_mae: 0.1064\n"
     ]
    }
   ],
   "source": [
    "utils.reset_session()\n",
    "\n",
    "model = keras.models.Sequential([\n",
    "    keras.layers.Dense(10, input_shape=[50])\n",
    "])\n",
    "\n",
    "model.compile(loss='mse', optimizer='adam', metrics=['mae'])\n",
    "history = model.fit(x_train, y_train, epochs=20, validation_data=(x_val, y_val))"
   ]
  },
  {
   "cell_type": "code",
   "execution_count": 4,
   "metadata": {},
   "outputs": [
    {
     "name": "stdout",
     "output_type": "stream",
     "text": [
      "series.shape = (1, 60)\n",
      "x_new.shape = (1, 50), y_new.shape = (1, 10)\n"
     ]
    }
   ],
   "source": [
    "series = utils.generate_time_series(1, history_steps + forecast_steps, seed=43)\n",
    "print(f\"series.shape = {series.shape}\")\n",
    "x_new, y_new = series[:, :history_steps], series[:, -forecast_steps:]\n",
    "print(f\"x_new.shape = {x_new.shape}, y_new.shape = {y_new.shape}\")"
   ]
  },
  {
   "cell_type": "code",
   "execution_count": 5,
   "metadata": {},
   "outputs": [
    {
     "data": {
      "text/plain": [
       "(1, 10)"
      ]
     },
     "execution_count": 5,
     "metadata": {},
     "output_type": "execute_result"
    }
   ],
   "source": [
    "y_pred = model.predict(x_new)\n",
    "y_pred.shape"
   ]
  },
  {
   "cell_type": "code",
   "execution_count": 6,
   "metadata": {},
   "outputs": [
    {
     "data": {
      "image/png": "[encoded data removed]",
      "text/plain": [
       "<Figure size 432x288 with 1 Axes>"
      ]
     },
     "metadata": {
      "needs_background": "light"
     },
     "output_type": "display_data"
    }
   ],
   "source": [
    "utils.plot_series_multiple_forecasts(x_new, y_new, y_pred)"
   ]
  }
 ],
 "metadata": {
  "kernelspec": {
   "display_name": "Python 3",
   "language": "python",
   "name": "python3"
  },
  "language_info": {
   "codemirror_mode": {
    "name": "ipython",
    "version": 3
   },
   "file_extension": ".py",
   "mimetype": "text/x-python",
   "name": "python",
   "nbconvert_exporter": "python",
   "pygments_lexer": "ipython3",
   "version": "3.7.9"
  }
 },
 "nbformat": 4,
 "nbformat_minor": 4
}
