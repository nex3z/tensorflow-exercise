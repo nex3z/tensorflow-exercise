{
 "cells": [
  {
   "cell_type": "code",
   "execution_count": 1,
   "metadata": {},
   "outputs": [],
   "source": [
    "import numpy as np\n",
    "from tensorflow import keras\n",
    "import utils"
   ]
  },
  {
   "cell_type": "code",
   "execution_count": 2,
   "metadata": {},
   "outputs": [
    {
     "name": "stdout",
     "output_type": "stream",
     "text": [
      "series.shape = (10000, 60)\n",
      "x_train.shape = (7000, 50, 1), y_train.shape = (7000, 50, 10)\n",
      "x_val.shape = (2000, 50, 1), y_val.shape = (2000, 50, 10)\n",
      "x_test.shape = (1000, 50, 1), y_test.shape = (1000, 50, 10)\n"
     ]
    }
   ],
   "source": [
    "history_steps = 50\n",
    "forecast_steps = 10\n",
    "series = utils.generate_time_series(10000, history_steps + forecast_steps)\n",
    "print(f\"series.shape = {series.shape}\")\n",
    "\n",
    "x_train = series[:7000, :history_steps]\n",
    "x_val = series[7000:9000, :history_steps]\n",
    "x_test = series[9000:, :history_steps]\n",
    "x_train = np.expand_dims(x_train, -1)\n",
    "x_val = np.expand_dims(x_val, -1)\n",
    "x_test = np.expand_dims(x_test, -1)\n",
    "\n",
    "y = np.empty((10000, history_steps, forecast_steps))\n",
    "for step_ahead in range(1, forecast_steps + 1):\n",
    "    y[..., step_ahead - 1] = series[..., step_ahead:step_ahead + history_steps]\n",
    "y_train = y[:7000]\n",
    "y_val = y[7000:9000]\n",
    "y_test = y[9000:]\n",
    "\n",
    "print(f\"x_train.shape = {x_train.shape}, y_train.shape = {y_train.shape}\")\n",
    "print(f\"x_val.shape = {x_val.shape}, y_val.shape = {y_val.shape}\")\n",
    "print(f\"x_test.shape = {x_test.shape}, y_test.shape = {y_test.shape}\")"
   ]
  },
  {
   "cell_type": "code",
   "execution_count": 3,
   "metadata": {},
   "outputs": [
    {
     "name": "stdout",
     "output_type": "stream",
     "text": [
      "Model: \"sequential\"\n",
      "_________________________________________________________________\n",
      "Layer (type)                 Output Shape              Param #   \n",
      "=================================================================\n",
      "simple_rnn (SimpleRNN)       (None, None, 20)          440       \n",
      "_________________________________________________________________\n",
      "simple_rnn_1 (SimpleRNN)     (None, None, 20)          820       \n",
      "_________________________________________________________________\n",
      "time_distributed (TimeDistri (None, None, 10)          210       \n",
      "=================================================================\n",
      "Total params: 1,470\n",
      "Trainable params: 1,470\n",
      "Non-trainable params: 0\n",
      "_________________________________________________________________\n",
      "Epoch 1/20\n",
      "219/219 [==============================] - 2s 10ms/step - loss: 0.0508 - mae: 0.1691 - last_time_step_mse: 0.0400 - val_loss: 0.0429 - val_mae: 0.1551 - val_last_time_step_mse: 0.0324\n",
      "Epoch 2/20\n",
      "219/219 [==============================] - 2s 10ms/step - loss: 0.0395 - mae: 0.1481 - last_time_step_mse: 0.0283 - val_loss: 0.0368 - val_mae: 0.1416 - val_last_time_step_mse: 0.0267\n",
      "Epoch 3/20\n",
      "219/219 [==============================] - 2s 10ms/step - loss: 0.0325 - mae: 0.1333 - last_time_step_mse: 0.0213 - val_loss: 0.0296 - val_mae: 0.1255 - val_last_time_step_mse: 0.0173\n",
      "Epoch 4/20\n",
      "219/219 [==============================] - 2s 10ms/step - loss: 0.0297 - mae: 0.1267 - last_time_step_mse: 0.0186 - val_loss: 0.0279 - val_mae: 0.1222 - val_last_time_step_mse: 0.0160\n",
      "Epoch 5/20\n",
      "219/219 [==============================] - 2s 10ms/step - loss: 0.0277 - mae: 0.1214 - last_time_step_mse: 0.0159 - val_loss: 0.0255 - val_mae: 0.1145 - val_last_time_step_mse: 0.0132\n",
      "Epoch 6/20\n",
      "219/219 [==============================] - 2s 10ms/step - loss: 0.0250 - mae: 0.1134 - last_time_step_mse: 0.0124 - val_loss: 0.0220 - val_mae: 0.1040 - val_last_time_step_mse: 0.0085\n",
      "Epoch 7/20\n",
      "219/219 [==============================] - 2s 11ms/step - loss: 0.0233 - mae: 0.1081 - last_time_step_mse: 0.0107 - val_loss: 0.0232 - val_mae: 0.1081 - val_last_time_step_mse: 0.0107\n",
      "Epoch 8/20\n",
      "219/219 [==============================] - 2s 11ms/step - loss: 0.0219 - mae: 0.1036 - last_time_step_mse: 0.0089 - val_loss: 0.0217 - val_mae: 0.1029 - val_last_time_step_mse: 0.0092\n",
      "Epoch 9/20\n",
      "219/219 [==============================] - 2s 11ms/step - loss: 0.0214 - mae: 0.1022 - last_time_step_mse: 0.0087 - val_loss: 0.0205 - val_mae: 0.0992 - val_last_time_step_mse: 0.0079\n",
      "Epoch 10/20\n",
      "219/219 [==============================] - 2s 11ms/step - loss: 0.0211 - mae: 0.1017 - last_time_step_mse: 0.0086 - val_loss: 0.0206 - val_mae: 0.0993 - val_last_time_step_mse: 0.0082\n",
      "Epoch 11/20\n",
      "219/219 [==============================] - 2s 11ms/step - loss: 0.0204 - mae: 0.0994 - last_time_step_mse: 0.0080 - val_loss: 0.0198 - val_mae: 0.0980 - val_last_time_step_mse: 0.0073\n",
      "Epoch 12/20\n",
      "219/219 [==============================] - 2s 11ms/step - loss: 0.0199 - mae: 0.0979 - last_time_step_mse: 0.0077 - val_loss: 0.0192 - val_mae: 0.0953 - val_last_time_step_mse: 0.0070\n",
      "Epoch 13/20\n",
      "219/219 [==============================] - 2s 11ms/step - loss: 0.0194 - mae: 0.0961 - last_time_step_mse: 0.0071 - val_loss: 0.0195 - val_mae: 0.0964 - val_last_time_step_mse: 0.0067\n",
      "Epoch 14/20\n",
      "219/219 [==============================] - 2s 11ms/step - loss: 0.0191 - mae: 0.0949 - last_time_step_mse: 0.0070 - val_loss: 0.0189 - val_mae: 0.0945 - val_last_time_step_mse: 0.0067\n",
      "Epoch 15/20\n",
      "219/219 [==============================] - 2s 10ms/step - loss: 0.0191 - mae: 0.0953 - last_time_step_mse: 0.0070 - val_loss: 0.0187 - val_mae: 0.0944 - val_last_time_step_mse: 0.0077\n",
      "Epoch 16/20\n",
      "219/219 [==============================] - 2s 11ms/step - loss: 0.0189 - mae: 0.0943 - last_time_step_mse: 0.0069 - val_loss: 0.0185 - val_mae: 0.0940 - val_last_time_step_mse: 0.0075\n",
      "Epoch 17/20\n",
      "219/219 [==============================] - 2s 11ms/step - loss: 0.0187 - mae: 0.0938 - last_time_step_mse: 0.0068 - val_loss: 0.0185 - val_mae: 0.0936 - val_last_time_step_mse: 0.0074\n",
      "Epoch 18/20\n",
      "219/219 [==============================] - 2s 11ms/step - loss: 0.0188 - mae: 0.0943 - last_time_step_mse: 0.0071 - val_loss: 0.0177 - val_mae: 0.0906 - val_last_time_step_mse: 0.0063\n",
      "Epoch 19/20\n",
      "219/219 [==============================] - 2s 11ms/step - loss: 0.0184 - mae: 0.0928 - last_time_step_mse: 0.0068 - val_loss: 0.0174 - val_mae: 0.0898 - val_last_time_step_mse: 0.0060\n",
      "Epoch 20/20\n",
      "219/219 [==============================] - 2s 11ms/step - loss: 0.0183 - mae: 0.0925 - last_time_step_mse: 0.0068 - val_loss: 0.0210 - val_mae: 0.1022 - val_last_time_step_mse: 0.0102\n"
     ]
    }
   ],
   "source": [
    "utils.reset_session()\n",
    "\n",
    "model = keras.models.Sequential([\n",
    "    keras.layers.SimpleRNN(20, return_sequences=True, input_shape=[None, 1]),\n",
    "    keras.layers.SimpleRNN(20, return_sequences=True),    # Note: Set return_sequences = True\n",
    "    keras.layers.TimeDistributed(keras.layers.Dense(10))  # Note: Use TimeDistributed\n",
    "])\n",
    "\n",
    "model.summary()\n",
    "\n",
    "def last_time_step_mse(y_true, y_pred):\n",
    "    return keras.metrics.mean_squared_error(y_true[:, -1], y_pred[:, -1])\n",
    "\n",
    "optimizer=keras.optimizers.Adam(lr=0.01)\n",
    "model.compile(loss='mse', optimizer=optimizer, metrics=['mae', last_time_step_mse])\n",
    "history = model.fit(x_train, y_train, epochs=20, validation_data=(x_val, y_val))"
   ]
  },
  {
   "cell_type": "code",
   "execution_count": 4,
   "metadata": {},
   "outputs": [
    {
     "name": "stdout",
     "output_type": "stream",
     "text": [
      "series.shape = (1, 60)\n",
      "x_new.shape = (1, 50, 1), y_new.shape = (1, 10)\n"
     ]
    }
   ],
   "source": [
    "series = utils.generate_time_series(1, history_steps + forecast_steps, seed=43)\n",
    "print(f\"series.shape = {series.shape}\")\n",
    "x_new, y_new = series[:, :history_steps], series[:, -forecast_steps:]\n",
    "x_new = np.expand_dims(x_new, -1)\n",
    "print(f\"x_new.shape = {x_new.shape}, y_new.shape = {y_new.shape}\")"
   ]
  },
  {
   "cell_type": "code",
   "execution_count": 5,
   "metadata": {},
   "outputs": [
    {
     "data": {
      "text/plain": [
       "(1, 50, 10)"
      ]
     },
     "execution_count": 5,
     "metadata": {},
     "output_type": "execute_result"
    }
   ],
   "source": [
    "y_pred = model.predict(x_new)\n",
    "y_pred.shape"
   ]
  },
  {
   "cell_type": "code",
   "execution_count": 6,
   "metadata": {},
   "outputs": [
    {
     "data": {
      "image/png": "[encoded data removed]",
      "text/plain": [
       "<Figure size 432x288 with 1 Axes>"
      ]
     },
     "metadata": {
      "needs_background": "light"
     },
     "output_type": "display_data"
    }
   ],
   "source": [
    "utils.plot_series_multiple_forecasts(x_new, y_new, y_pred[0, -1, :])"
   ]
  },
  {
   "cell_type": "code",
   "execution_count": null,
   "metadata": {},
   "outputs": [],
   "source": []
  },
  {
   "cell_type": "code",
   "execution_count": 7,
   "metadata": {},
   "outputs": [
    {
     "name": "stdout",
     "output_type": "stream",
     "text": [
      "Model: \"sequential\"\n",
      "_________________________________________________________________\n",
      "Layer (type)                 Output Shape              Param #   \n",
      "=================================================================\n",
      "simple_rnn (SimpleRNN)       (None, None, 20)          440       \n",
      "_________________________________________________________________\n",
      "simple_rnn_1 (SimpleRNN)     (None, None, 20)          820       \n",
      "_________________________________________________________________\n",
      "dense (Dense)                (None, None, 10)          210       \n",
      "=================================================================\n",
      "Total params: 1,470\n",
      "Trainable params: 1,470\n",
      "Non-trainable params: 0\n",
      "_________________________________________________________________\n"
     ]
    }
   ],
   "source": [
    "utils.reset_session()\n",
    "\n",
    "model = keras.models.Sequential([\n",
    "    keras.layers.SimpleRNN(20, return_sequences=True, input_shape=[None, 1]),\n",
    "    keras.layers.SimpleRNN(20, return_sequences=True),\n",
    "    keras.layers.Dense(10)\n",
    "])\n",
    "\n",
    "model.summary()"
   ]
  }
 ],
 "metadata": {
  "kernelspec": {
   "display_name": "Python 3",
   "language": "python",
   "name": "python3"
  },
  "language_info": {
   "codemirror_mode": {
    "name": "ipython",
    "version": 3
   },
   "file_extension": ".py",
   "mimetype": "text/x-python",
   "name": "python",
   "nbconvert_exporter": "python",
   "pygments_lexer": "ipython3",
   "version": "3.7.9"
  }
 },
 "nbformat": 4,
 "nbformat_minor": 4
}
