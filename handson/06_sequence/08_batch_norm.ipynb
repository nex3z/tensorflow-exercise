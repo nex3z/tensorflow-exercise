{
 "cells": [
  {
   "cell_type": "code",
   "execution_count": 1,
   "metadata": {},
   "outputs": [],
   "source": [
    "import numpy as np\n",
    "from tensorflow import keras\n",
    "import utils"
   ]
  },
  {
   "cell_type": "code",
   "execution_count": 2,
   "metadata": {},
   "outputs": [
    {
     "name": "stdout",
     "output_type": "stream",
     "text": [
      "series.shape = (10000, 60)\n",
      "x_train.shape = (7000, 50, 1), y_train.shape = (7000, 50, 10)\n",
      "x_val.shape = (2000, 50, 1), y_val.shape = (2000, 50, 10)\n",
      "x_test.shape = (1000, 50, 1), y_test.shape = (1000, 50, 10)\n"
     ]
    }
   ],
   "source": [
    "history_steps = 50\n",
    "forecast_steps = 10\n",
    "series = utils.generate_time_series(10000, history_steps + forecast_steps)\n",
    "print(f\"series.shape = {series.shape}\")\n",
    "\n",
    "x_train = series[:7000, :history_steps]\n",
    "x_val = series[7000:9000, :history_steps]\n",
    "x_test = series[9000:, :history_steps]\n",
    "x_train = np.expand_dims(x_train, -1)\n",
    "x_val = np.expand_dims(x_val, -1)\n",
    "x_test = np.expand_dims(x_test, -1)\n",
    "\n",
    "y = np.empty((10000, history_steps, forecast_steps))\n",
    "for step_ahead in range(1, forecast_steps + 1):\n",
    "    y[..., step_ahead - 1] = series[..., step_ahead:step_ahead + history_steps]\n",
    "y_train = y[:7000]\n",
    "y_val = y[7000:9000]\n",
    "y_test = y[9000:]\n",
    "\n",
    "print(f\"x_train.shape = {x_train.shape}, y_train.shape = {y_train.shape}\")\n",
    "print(f\"x_val.shape = {x_val.shape}, y_val.shape = {y_val.shape}\")\n",
    "print(f\"x_test.shape = {x_test.shape}, y_test.shape = {y_test.shape}\")"
   ]
  },
  {
   "cell_type": "code",
   "execution_count": 3,
   "metadata": {},
   "outputs": [
    {
     "name": "stdout",
     "output_type": "stream",
     "text": [
      "Model: \"sequential\"\n",
      "_________________________________________________________________\n",
      "Layer (type)                 Output Shape              Param #   \n",
      "=================================================================\n",
      "simple_rnn (SimpleRNN)       (None, None, 20)          440       \n",
      "_________________________________________________________________\n",
      "batch_normalization (BatchNo (None, None, 20)          80        \n",
      "_________________________________________________________________\n",
      "simple_rnn_1 (SimpleRNN)     (None, None, 20)          820       \n",
      "_________________________________________________________________\n",
      "batch_normalization_1 (Batch (None, None, 20)          80        \n",
      "_________________________________________________________________\n",
      "time_distributed (TimeDistri (None, None, 10)          210       \n",
      "=================================================================\n",
      "Total params: 1,630\n",
      "Trainable params: 1,550\n",
      "Non-trainable params: 80\n",
      "_________________________________________________________________\n",
      "Epoch 1/20\n",
      "219/219 [==============================] - 3s 11ms/step - loss: 0.0759 - mae: 0.1921 - last_time_step_mse: 0.0681 - val_loss: 0.0551 - val_mae: 0.1878 - val_last_time_step_mse: 0.0473\n",
      "Epoch 2/20\n",
      "219/219 [==============================] - 2s 10ms/step - loss: 0.0383 - mae: 0.1474 - last_time_step_mse: 0.0289 - val_loss: 0.0417 - val_mae: 0.1564 - val_last_time_step_mse: 0.0342\n",
      "Epoch 3/20\n",
      "219/219 [==============================] - 2s 11ms/step - loss: 0.0346 - mae: 0.1394 - last_time_step_mse: 0.0250 - val_loss: 0.0429 - val_mae: 0.1548 - val_last_time_step_mse: 0.0362\n",
      "Epoch 4/20\n",
      "219/219 [==============================] - 2s 11ms/step - loss: 0.0307 - mae: 0.1301 - last_time_step_mse: 0.0195 - val_loss: 0.0287 - val_mae: 0.1249 - val_last_time_step_mse: 0.0170\n",
      "Epoch 5/20\n",
      "219/219 [==============================] - 2s 11ms/step - loss: 0.0280 - mae: 0.1225 - last_time_step_mse: 0.0163 - val_loss: 0.0286 - val_mae: 0.1236 - val_last_time_step_mse: 0.0172\n",
      "Epoch 6/20\n",
      "219/219 [==============================] - 3s 12ms/step - loss: 0.0265 - mae: 0.1181 - last_time_step_mse: 0.0142 - val_loss: 0.0276 - val_mae: 0.1198 - val_last_time_step_mse: 0.0167\n",
      "Epoch 7/20\n",
      "219/219 [==============================] - 3s 12ms/step - loss: 0.0266 - mae: 0.1183 - last_time_step_mse: 0.0142 - val_loss: 0.0280 - val_mae: 0.1218 - val_last_time_step_mse: 0.0158\n",
      "Epoch 8/20\n",
      "219/219 [==============================] - 2s 11ms/step - loss: 0.0250 - mae: 0.1136 - last_time_step_mse: 0.0121 - val_loss: 0.0277 - val_mae: 0.1224 - val_last_time_step_mse: 0.0171\n",
      "Epoch 9/20\n",
      "219/219 [==============================] - 3s 11ms/step - loss: 0.0248 - mae: 0.1130 - last_time_step_mse: 0.0123 - val_loss: 0.0308 - val_mae: 0.1292 - val_last_time_step_mse: 0.0216\n",
      "Epoch 10/20\n",
      "219/219 [==============================] - 3s 11ms/step - loss: 0.0235 - mae: 0.1095 - last_time_step_mse: 0.0112 - val_loss: 0.0348 - val_mae: 0.1391 - val_last_time_step_mse: 0.0278\n",
      "Epoch 11/20\n",
      "219/219 [==============================] - 2s 11ms/step - loss: 0.0227 - mae: 0.1069 - last_time_step_mse: 0.0105 - val_loss: 0.0239 - val_mae: 0.1109 - val_last_time_step_mse: 0.0130\n",
      "Epoch 12/20\n",
      "219/219 [==============================] - 3s 11ms/step - loss: 0.0228 - mae: 0.1074 - last_time_step_mse: 0.0107 - val_loss: 0.0270 - val_mae: 0.1204 - val_last_time_step_mse: 0.0184\n",
      "Epoch 13/20\n",
      "219/219 [==============================] - 3s 12ms/step - loss: 0.0221 - mae: 0.1054 - last_time_step_mse: 0.0102 - val_loss: 0.0216 - val_mae: 0.1024 - val_last_time_step_mse: 0.0090\n",
      "Epoch 14/20\n",
      "219/219 [==============================] - 3s 11ms/step - loss: 0.0217 - mae: 0.1041 - last_time_step_mse: 0.0098 - val_loss: 0.0215 - val_mae: 0.1036 - val_last_time_step_mse: 0.0097\n",
      "Epoch 15/20\n",
      "219/219 [==============================] - 3s 12ms/step - loss: 0.0215 - mae: 0.1038 - last_time_step_mse: 0.0100 - val_loss: 0.0208 - val_mae: 0.1020 - val_last_time_step_mse: 0.0096\n",
      "Epoch 16/20\n",
      "219/219 [==============================] - 3s 12ms/step - loss: 0.0214 - mae: 0.1035 - last_time_step_mse: 0.0099 - val_loss: 0.0315 - val_mae: 0.1300 - val_last_time_step_mse: 0.0238\n",
      "Epoch 17/20\n",
      "219/219 [==============================] - 2s 11ms/step - loss: 0.0212 - mae: 0.1029 - last_time_step_mse: 0.0098 - val_loss: 0.0237 - val_mae: 0.1094 - val_last_time_step_mse: 0.0128\n",
      "Epoch 18/20\n",
      "219/219 [==============================] - 3s 12ms/step - loss: 0.0209 - mae: 0.1021 - last_time_step_mse: 0.0094 - val_loss: 0.0223 - val_mae: 0.1070 - val_last_time_step_mse: 0.0118\n",
      "Epoch 19/20\n",
      "219/219 [==============================] - 3s 12ms/step - loss: 0.0208 - mae: 0.1017 - last_time_step_mse: 0.0095 - val_loss: 0.0266 - val_mae: 0.1178 - val_last_time_step_mse: 0.0174\n",
      "Epoch 20/20\n",
      "219/219 [==============================] - 3s 12ms/step - loss: 0.0204 - mae: 0.1004 - last_time_step_mse: 0.0091 - val_loss: 0.0207 - val_mae: 0.1002 - val_last_time_step_mse: 0.0097\n"
     ]
    }
   ],
   "source": [
    "utils.reset_session()\n",
    "\n",
    "model = keras.models.Sequential([\n",
    "    keras.layers.SimpleRNN(20, return_sequences=True, input_shape=[None, 1]),\n",
    "    keras.layers.BatchNormalization(),\n",
    "    keras.layers.SimpleRNN(20, return_sequences=True),\n",
    "    keras.layers.BatchNormalization(),\n",
    "    keras.layers.TimeDistributed(keras.layers.Dense(10))\n",
    "])\n",
    "\n",
    "model.summary()\n",
    "\n",
    "def last_time_step_mse(y_true, y_pred):\n",
    "    return keras.metrics.mean_squared_error(y_true[:, -1], y_pred[:, -1])\n",
    "\n",
    "optimizer=keras.optimizers.Adam(lr=0.01)\n",
    "model.compile(loss='mse', optimizer=optimizer, metrics=['mae', last_time_step_mse])\n",
    "history = model.fit(x_train, y_train, epochs=20, validation_data=(x_val, y_val))"
   ]
  },
  {
   "cell_type": "code",
   "execution_count": 4,
   "metadata": {},
   "outputs": [
    {
     "name": "stdout",
     "output_type": "stream",
     "text": [
      "series.shape = (1, 60)\n",
      "x_new.shape = (1, 50, 1), y_new.shape = (1, 10)\n"
     ]
    }
   ],
   "source": [
    "series = utils.generate_time_series(1, history_steps + forecast_steps, seed=43)\n",
    "print(f\"series.shape = {series.shape}\")\n",
    "x_new, y_new = series[:, :history_steps], series[:, -forecast_steps:]\n",
    "x_new = np.expand_dims(x_new, -1)\n",
    "print(f\"x_new.shape = {x_new.shape}, y_new.shape = {y_new.shape}\")"
   ]
  },
  {
   "cell_type": "code",
   "execution_count": 5,
   "metadata": {},
   "outputs": [
    {
     "data": {
      "text/plain": [
       "(1, 50, 10)"
      ]
     },
     "execution_count": 5,
     "metadata": {},
     "output_type": "execute_result"
    }
   ],
   "source": [
    "y_pred = model.predict(x_new)\n",
    "y_pred.shape"
   ]
  },
  {
   "cell_type": "code",
   "execution_count": 6,
   "metadata": {},
   "outputs": [
    {
     "data": {
      "image/png": "[encoded data removed]",
      "text/plain": [
       "<Figure size 432x288 with 1 Axes>"
      ]
     },
     "metadata": {
      "needs_background": "light"
     },
     "output_type": "display_data"
    }
   ],
   "source": [
    "utils.plot_series_multiple_forecasts(x_new, y_new, y_pred[0, -1, :])"
   ]
  }
 ],
 "metadata": {
  "kernelspec": {
   "display_name": "Python 3",
   "language": "python",
   "name": "python3"
  },
  "language_info": {
   "codemirror_mode": {
    "name": "ipython",
    "version": 3
   },
   "file_extension": ".py",
   "mimetype": "text/x-python",
   "name": "python",
   "nbconvert_exporter": "python",
   "pygments_lexer": "ipython3",
   "version": "3.7.9"
  }
 },
 "nbformat": 4,
 "nbformat_minor": 4
}
