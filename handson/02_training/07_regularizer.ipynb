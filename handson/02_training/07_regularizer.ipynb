{
 "cells": [
  {
   "cell_type": "code",
   "execution_count": 1,
   "metadata": {
    "id": "Tae_LlCAUZeb"
   },
   "outputs": [],
   "source": [
    "from tensorflow import keras\n",
    "\n",
    "import utils"
   ]
  },
  {
   "cell_type": "code",
   "execution_count": 2,
   "metadata": {
    "id": "SjWKsi7315CF"
   },
   "outputs": [],
   "source": [
    "(train_images, train_labels), (test_images, test_labels) = utils.load_fashion_mnist_data()"
   ]
  },
  {
   "cell_type": "markdown",
   "metadata": {
    "id": "e5euofFZIi02"
   },
   "source": [
    "## No regularization"
   ]
  },
  {
   "cell_type": "code",
   "execution_count": 3,
   "metadata": {
    "colab": {
     "base_uri": "https://localhost:8080/"
    },
    "id": "mRurF78nHuzN",
    "outputId": "74806aa9-eebb-4b73-8bc3-86bc9fdc3f95"
   },
   "outputs": [
    {
     "name": "stdout",
     "output_type": "stream",
     "text": [
      "Epoch 1/10\n",
      "1875/1875 [==============================] - 4s 2ms/step - loss: 0.5083 - accuracy: 0.8237 - val_loss: 0.4448 - val_accuracy: 0.8395\n",
      "Epoch 2/10\n",
      "1875/1875 [==============================] - 4s 2ms/step - loss: 0.3624 - accuracy: 0.8710 - val_loss: 0.3984 - val_accuracy: 0.8581\n",
      "Epoch 3/10\n",
      "1875/1875 [==============================] - 4s 2ms/step - loss: 0.3248 - accuracy: 0.8840 - val_loss: 0.3765 - val_accuracy: 0.8636\n",
      "Epoch 4/10\n",
      "1875/1875 [==============================] - 4s 2ms/step - loss: 0.2991 - accuracy: 0.8921 - val_loss: 0.3615 - val_accuracy: 0.8721\n",
      "Epoch 5/10\n",
      "1875/1875 [==============================] - 4s 2ms/step - loss: 0.2794 - accuracy: 0.8985 - val_loss: 0.3549 - val_accuracy: 0.8721\n",
      "Epoch 6/10\n",
      "1875/1875 [==============================] - 4s 2ms/step - loss: 0.2622 - accuracy: 0.9048 - val_loss: 0.3479 - val_accuracy: 0.8763\n",
      "Epoch 7/10\n",
      "1875/1875 [==============================] - 3s 2ms/step - loss: 0.2468 - accuracy: 0.9093 - val_loss: 0.3613 - val_accuracy: 0.8724\n",
      "Epoch 8/10\n",
      "1875/1875 [==============================] - 3s 2ms/step - loss: 0.2331 - accuracy: 0.9155 - val_loss: 0.3370 - val_accuracy: 0.8830\n",
      "Epoch 9/10\n",
      "1875/1875 [==============================] - 4s 2ms/step - loss: 0.2203 - accuracy: 0.9195 - val_loss: 0.3415 - val_accuracy: 0.8794\n",
      "Epoch 10/10\n",
      "1875/1875 [==============================] - 4s 2ms/step - loss: 0.2088 - accuracy: 0.9239 - val_loss: 0.3426 - val_accuracy: 0.8800\n"
     ]
    }
   ],
   "source": [
    "utils.reset_session()\n",
    "\n",
    "model = keras.models.Sequential([\n",
    "    keras.layers.Flatten(input_shape=[28, 28]),\n",
    "    keras.layers.Dense(300, activation='relu'),\n",
    "    keras.layers.Dense(100, activation='relu'),\n",
    "    keras.layers.Dense(10, activation='softmax')\n",
    "])\n",
    "\n",
    "optimizer = keras.optimizers.SGD()\n",
    "model.compile(\n",
    "    optimizer=optimizer,\n",
    "    loss='sparse_categorical_crossentropy',\n",
    "    metrics=['accuracy']\n",
    ")\n",
    "\n",
    "history = model.fit(\n",
    "    train_images, train_labels, \n",
    "    epochs=10,\n",
    "    validation_data=(test_images, test_labels)\n",
    ")"
   ]
  },
  {
   "cell_type": "code",
   "execution_count": 3,
   "metadata": {
    "id": "1LIKEMO30lzK"
   },
   "outputs": [],
   "source": []
  },
  {
   "cell_type": "markdown",
   "metadata": {
    "id": "HAxpWy4ZIlGa"
   },
   "source": [
    "## L2 regularization"
   ]
  },
  {
   "cell_type": "code",
   "execution_count": 4,
   "metadata": {
    "colab": {
     "base_uri": "https://localhost:8080/"
    },
    "id": "4Fh3WCYb2cJl",
    "outputId": "65d823e4-7a59-4a81-83c6-b789f92c09c1"
   },
   "outputs": [
    {
     "name": "stdout",
     "output_type": "stream",
     "text": [
      "Epoch 1/10\n",
      "1875/1875 [==============================] - 4s 2ms/step - loss: 1.0742 - accuracy: 0.8235 - val_loss: 0.9923 - val_accuracy: 0.8401\n",
      "Epoch 2/10\n",
      "1875/1875 [==============================] - 4s 2ms/step - loss: 0.8939 - accuracy: 0.8705 - val_loss: 0.9096 - val_accuracy: 0.8565\n",
      "Epoch 3/10\n",
      "1875/1875 [==============================] - 4s 2ms/step - loss: 0.8241 - accuracy: 0.8833 - val_loss: 0.8558 - val_accuracy: 0.8641\n",
      "Epoch 4/10\n",
      "1875/1875 [==============================] - 4s 2ms/step - loss: 0.7688 - accuracy: 0.8905 - val_loss: 0.8106 - val_accuracy: 0.8711\n",
      "Epoch 5/10\n",
      "1875/1875 [==============================] - 4s 2ms/step - loss: 0.7225 - accuracy: 0.8968 - val_loss: 0.7745 - val_accuracy: 0.8728\n",
      "Epoch 6/10\n",
      "1875/1875 [==============================] - 4s 2ms/step - loss: 0.6805 - accuracy: 0.9023 - val_loss: 0.7419 - val_accuracy: 0.8762\n",
      "Epoch 7/10\n",
      "1875/1875 [==============================] - 4s 2ms/step - loss: 0.6432 - accuracy: 0.9054 - val_loss: 0.7286 - val_accuracy: 0.8727\n",
      "Epoch 8/10\n",
      "1875/1875 [==============================] - 4s 2ms/step - loss: 0.6092 - accuracy: 0.9115 - val_loss: 0.6818 - val_accuracy: 0.8826\n",
      "Epoch 9/10\n",
      "1875/1875 [==============================] - 4s 2ms/step - loss: 0.5781 - accuracy: 0.9141 - val_loss: 0.6645 - val_accuracy: 0.8796\n",
      "Epoch 10/10\n",
      "1875/1875 [==============================] - 4s 2ms/step - loss: 0.5497 - accuracy: 0.9179 - val_loss: 0.6473 - val_accuracy: 0.8807\n"
     ]
    }
   ],
   "source": [
    "utils.reset_session()\n",
    "\n",
    "model = keras.models.Sequential([\n",
    "    keras.layers.Flatten(input_shape=[28, 28]),\n",
    "    keras.layers.Dense(300, activation='relu', kernel_regularizer=keras.regularizers.l2(0.001)),\n",
    "    keras.layers.Dense(100, activation='relu', kernel_regularizer=keras.regularizers.l2(0.001)),\n",
    "    keras.layers.Dense(10, activation='softmax')\n",
    "])\n",
    "\n",
    "optimizer = keras.optimizers.SGD()\n",
    "model.compile(\n",
    "    optimizer=optimizer,\n",
    "    loss='sparse_categorical_crossentropy',\n",
    "    metrics=['accuracy']\n",
    ")\n",
    "\n",
    "history = model.fit(\n",
    "    train_images, train_labels, \n",
    "    epochs=10,\n",
    "    validation_data=(test_images, test_labels)\n",
    ")"
   ]
  },
  {
   "cell_type": "markdown",
   "metadata": {
    "id": "YWSnHRAHvCpt"
   },
   "source": [
    "## L1 regularization"
   ]
  },
  {
   "cell_type": "code",
   "execution_count": 5,
   "metadata": {
    "colab": {
     "base_uri": "https://localhost:8080/"
    },
    "id": "WR77bZ6Ku-kP",
    "outputId": "93970680-ba19-4e5e-e6e4-d5e09cacb516"
   },
   "outputs": [
    {
     "name": "stdout",
     "output_type": "stream",
     "text": [
      "Epoch 1/10\n",
      "1875/1875 [==============================] - 4s 2ms/step - loss: 17.3766 - accuracy: 0.7282 - val_loss: 1.5233 - val_accuracy: 0.7318\n",
      "Epoch 2/10\n",
      "1875/1875 [==============================] - 4s 2ms/step - loss: 1.3851 - accuracy: 0.7540 - val_loss: 1.3015 - val_accuracy: 0.7625\n",
      "Epoch 3/10\n",
      "1875/1875 [==============================] - 4s 2ms/step - loss: 1.2360 - accuracy: 0.7803 - val_loss: 1.2186 - val_accuracy: 0.7802\n",
      "Epoch 4/10\n",
      "1875/1875 [==============================] - 4s 2ms/step - loss: 1.1681 - accuracy: 0.7949 - val_loss: 1.1537 - val_accuracy: 0.7954\n",
      "Epoch 5/10\n",
      "1875/1875 [==============================] - 4s 2ms/step - loss: 1.1348 - accuracy: 0.7967 - val_loss: 1.1406 - val_accuracy: 0.7904\n",
      "Epoch 6/10\n",
      "1875/1875 [==============================] - 4s 2ms/step - loss: 1.1150 - accuracy: 0.7990 - val_loss: 1.1436 - val_accuracy: 0.7830\n",
      "Epoch 7/10\n",
      "1875/1875 [==============================] - 4s 2ms/step - loss: 1.1029 - accuracy: 0.7975 - val_loss: 1.1070 - val_accuracy: 0.7916\n",
      "Epoch 8/10\n",
      "1875/1875 [==============================] - 4s 2ms/step - loss: 1.0898 - accuracy: 0.7994 - val_loss: 1.0886 - val_accuracy: 0.8014\n",
      "Epoch 9/10\n",
      "1875/1875 [==============================] - 4s 2ms/step - loss: 1.0846 - accuracy: 0.7994 - val_loss: 1.0794 - val_accuracy: 0.8020\n",
      "Epoch 10/10\n",
      "1875/1875 [==============================] - 4s 2ms/step - loss: 1.0744 - accuracy: 0.7987 - val_loss: 1.1499 - val_accuracy: 0.7797\n"
     ]
    }
   ],
   "source": [
    "utils.reset_session()\n",
    "\n",
    "model = keras.models.Sequential([\n",
    "    keras.layers.Flatten(input_shape=[28, 28]),\n",
    "    keras.layers.Dense(300, activation='relu', kernel_regularizer=keras.regularizers.l1(0.01)),\n",
    "    keras.layers.Dense(100, activation='relu', kernel_regularizer=keras.regularizers.l1(0.01)),\n",
    "    keras.layers.Dense(10, activation='softmax')\n",
    "])\n",
    "\n",
    "optimizer = keras.optimizers.SGD()\n",
    "model.compile(\n",
    "    optimizer=optimizer,\n",
    "    loss='sparse_categorical_crossentropy',\n",
    "    metrics=['accuracy']\n",
    ")\n",
    "\n",
    "history = model.fit(\n",
    "    train_images, train_labels, \n",
    "    epochs=10,\n",
    "    validation_data=(test_images, test_labels)\n",
    ")"
   ]
  }
 ],
 "metadata": {
  "accelerator": "GPU",
  "colab": {
   "collapsed_sections": [],
   "name": "07_regularizer.ipynb",
   "provenance": [],
   "toc_visible": true
  },
  "kernelspec": {
   "display_name": "Python 3",
   "language": "python",
   "name": "python3"
  },
  "language_info": {
   "codemirror_mode": {
    "name": "ipython",
    "version": 3
   },
   "file_extension": ".py",
   "mimetype": "text/x-python",
   "name": "python",
   "nbconvert_exporter": "python",
   "pygments_lexer": "ipython3",
   "version": "3.7.9"
  }
 },
 "nbformat": 4,
 "nbformat_minor": 4
}