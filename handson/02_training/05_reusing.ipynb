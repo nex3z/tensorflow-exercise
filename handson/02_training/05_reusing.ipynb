{
 "cells": [
  {
   "cell_type": "code",
   "execution_count": 1,
   "metadata": {
    "id": "Tae_LlCAUZeb"
   },
   "outputs": [],
   "source": [
    "import numpy as np\n",
    "from tensorflow import keras\n",
    "\n",
    "import utils"
   ]
  },
  {
   "cell_type": "code",
   "execution_count": 2,
   "metadata": {
    "colab": {
     "base_uri": "https://localhost:8080/"
    },
    "id": "SjWKsi7315CF",
    "outputId": "0d8bbe53-314e-4989-9be3-f618d4f1111c"
   },
   "outputs": [
    {
     "name": "stdout",
     "output_type": "stream",
     "text": [
      "train_images.shape = (60000, 28, 28, 1), train_labels.shape = (60000,)\n",
      "test_images.shape = (10000, 28, 28, 1), test_labels.shape = (10000,)\n"
     ]
    }
   ],
   "source": [
    "(train_images, train_labels), (test_images, test_labels) = keras.datasets.fashion_mnist.load_data()\n",
    "\n",
    "train_images  = train_images / 255.0\n",
    "train_images = np.expand_dims(train_images, axis=-1)\n",
    "print(f\"train_images.shape = {train_images.shape}, train_labels.shape = {train_labels.shape}\")\n",
    "\n",
    "test_images = test_images / 255.0\n",
    "test_images = np.expand_dims(test_images, axis=-1)\n",
    "print(f\"test_images.shape = {test_images.shape}, test_labels.shape = {test_labels.shape}\")"
   ]
  },
  {
   "cell_type": "code",
   "execution_count": 3,
   "metadata": {
    "id": "J-de23mnSB2q"
   },
   "outputs": [],
   "source": [
    "def split(images, labels):\n",
    "    split_mask = np.isin(labels, [6, 7])\n",
    "    images_a = images[~split_mask]\n",
    "    labels_a = labels[~split_mask]\n",
    "    labels_a[labels_a > 7] -= 2\n",
    "\n",
    "    images_b = images[split_mask]\n",
    "    labels_b = labels[split_mask]\n",
    "    labels_b = labels_b - 6\n",
    "\n",
    "    return (images_a, labels_a), (images_b, labels_b)"
   ]
  },
  {
   "cell_type": "code",
   "execution_count": 4,
   "metadata": {
    "colab": {
     "base_uri": "https://localhost:8080/"
    },
    "id": "IPRgmI1TVONS",
    "outputId": "280a96cc-0c52-46bf-a8d2-668879cf7cfd"
   },
   "outputs": [
    {
     "name": "stdout",
     "output_type": "stream",
     "text": [
      "train_images_a.shape = (48000, 28, 28, 1), train_images_b.shape = (8, 28, 28, 1)\n",
      "test_images_a.shape = (8000, 28, 28, 1), test_images_b.shape = (2000, 28, 28, 1)\n"
     ]
    }
   ],
   "source": [
    "(train_images_a, train_labels_a), (train_images_b, train_labels_b) = split(train_images, train_labels)\n",
    "train_images_b = train_images_b[:8]\n",
    "train_labels_b = train_labels_b[:8]\n",
    "print(f\"train_images_a.shape = {train_images_a.shape}, train_images_b.shape = {train_images_b.shape}\")\n",
    "\n",
    "(test_images_a, test_labels_a), (test_images_b, test_labels_b) = split(test_images, test_labels)\n",
    "print(f\"test_images_a.shape = {test_images_a.shape}, test_images_b.shape = {test_images_b.shape}\")"
   ]
  },
  {
   "cell_type": "markdown",
   "metadata": {
    "id": "sPRT9hIEWl8o"
   },
   "source": [
    "## Model A"
   ]
  },
  {
   "cell_type": "code",
   "execution_count": 5,
   "metadata": {
    "colab": {
     "base_uri": "https://localhost:8080/"
    },
    "id": "mRurF78nHuzN",
    "outputId": "a096785f-9911-4e0d-eb1f-5d36b7611708"
   },
   "outputs": [
    {
     "name": "stdout",
     "output_type": "stream",
     "text": [
      "Epoch 1/10\n",
      "750/750 [==============================] - 4s 5ms/step - loss: 0.3046 - accuracy: 0.8975 - val_loss: 0.1951 - val_accuracy: 0.9330\n",
      "Epoch 2/10\n",
      "750/750 [==============================] - 4s 5ms/step - loss: 0.1824 - accuracy: 0.9383 - val_loss: 0.1440 - val_accuracy: 0.9510\n",
      "Epoch 3/10\n",
      "750/750 [==============================] - 3s 5ms/step - loss: 0.1507 - accuracy: 0.9475 - val_loss: 0.1273 - val_accuracy: 0.9558\n",
      "Epoch 4/10\n",
      "750/750 [==============================] - 3s 5ms/step - loss: 0.1309 - accuracy: 0.9540 - val_loss: 0.1082 - val_accuracy: 0.9609\n",
      "Epoch 5/10\n",
      "750/750 [==============================] - 4s 5ms/step - loss: 0.1130 - accuracy: 0.9591 - val_loss: 0.0921 - val_accuracy: 0.9667\n",
      "Epoch 6/10\n",
      "750/750 [==============================] - 4s 5ms/step - loss: 0.0997 - accuracy: 0.9645 - val_loss: 0.0844 - val_accuracy: 0.9701\n",
      "Epoch 7/10\n",
      "750/750 [==============================] - 4s 5ms/step - loss: 0.0883 - accuracy: 0.9680 - val_loss: 0.0666 - val_accuracy: 0.9764\n",
      "Epoch 8/10\n",
      "750/750 [==============================] - 4s 5ms/step - loss: 0.0781 - accuracy: 0.9716 - val_loss: 0.0947 - val_accuracy: 0.9646\n",
      "Epoch 9/10\n",
      "750/750 [==============================] - 4s 5ms/step - loss: 0.0682 - accuracy: 0.9755 - val_loss: 0.0586 - val_accuracy: 0.9787\n",
      "Epoch 10/10\n",
      "750/750 [==============================] - 4s 5ms/step - loss: 0.0606 - accuracy: 0.9780 - val_loss: 0.0520 - val_accuracy: 0.9816\n"
     ]
    }
   ],
   "source": [
    "utils.reset_session()\n",
    "\n",
    "model_a = keras.models.Sequential([\n",
    "    keras.layers.Conv2D(64, (3, 3), activation='relu', input_shape=(28, 28, 1)),\n",
    "    keras.layers.MaxPooling2D(2, 2),\n",
    "    keras.layers.Conv2D(64, (3, 3), activation='relu'),\n",
    "    keras.layers.MaxPooling2D(2, 2),\n",
    "    keras.layers.Flatten(),\n",
    "    keras.layers.Dense(128, activation='relu'), \n",
    "    keras.layers.Dense(8, activation='softmax')\n",
    "])\n",
    "\n",
    "\n",
    "optimizer = keras.optimizers.Adam()\n",
    "model_a.compile(\n",
    "    optimizer=optimizer,\n",
    "    loss='sparse_categorical_crossentropy',\n",
    "    metrics=['accuracy']\n",
    ")\n",
    "\n",
    "history = model_a.fit(\n",
    "    train_images_a, train_labels_a, \n",
    "    epochs=10, \n",
    "    batch_size=64,\n",
    "    validation_data=(train_images_a, train_labels_a)\n",
    ")\n",
    "\n",
    "model_a.save('model_a.h5')"
   ]
  },
  {
   "cell_type": "markdown",
   "metadata": {
    "id": "TZGDcEFUWn74"
   },
   "source": [
    "## Model B"
   ]
  },
  {
   "cell_type": "code",
   "execution_count": 6,
   "metadata": {
    "colab": {
     "base_uri": "https://localhost:8080/"
    },
    "id": "ZxAxGBT2WN-3",
    "outputId": "408dab5f-a952-4b48-e6e1-a43dabe1561b"
   },
   "outputs": [
    {
     "name": "stdout",
     "output_type": "stream",
     "text": [
      "Epoch 1/5\n",
      "1/1 [==============================] - 1s 514ms/step - loss: 0.6742 - accuracy: 0.6250 - val_loss: 0.6292 - val_accuracy: 0.5000\n",
      "Epoch 2/5\n",
      "1/1 [==============================] - 0s 398ms/step - loss: 0.5771 - accuracy: 0.6250 - val_loss: 0.5815 - val_accuracy: 0.5000\n",
      "Epoch 3/5\n",
      "1/1 [==============================] - 0s 386ms/step - loss: 0.4957 - accuracy: 0.7500 - val_loss: 0.5254 - val_accuracy: 0.5970\n",
      "Epoch 4/5\n",
      "1/1 [==============================] - 0s 402ms/step - loss: 0.4153 - accuracy: 0.8750 - val_loss: 0.4446 - val_accuracy: 0.8315\n",
      "Epoch 5/5\n",
      "1/1 [==============================] - 0s 388ms/step - loss: 0.3283 - accuracy: 1.0000 - val_loss: 0.3446 - val_accuracy: 0.9465\n"
     ]
    }
   ],
   "source": [
    "utils.reset_session()\n",
    "\n",
    "model_b = keras.models.Sequential([\n",
    "    keras.layers.Conv2D(64, (3, 3), activation='relu', input_shape=(28, 28, 1)),\n",
    "    keras.layers.MaxPooling2D(2, 2),\n",
    "    keras.layers.Conv2D(64, (3, 3), activation='relu'),\n",
    "    keras.layers.MaxPooling2D(2, 2),\n",
    "    keras.layers.Flatten(),\n",
    "    keras.layers.Dense(128, activation='relu'), \n",
    "    keras.layers.Dense(1, activation='sigmoid')\n",
    "])\n",
    "\n",
    "\n",
    "optimizer = keras.optimizers.Adam()\n",
    "model_b.compile(\n",
    "    optimizer=optimizer,\n",
    "    loss='binary_crossentropy',\n",
    "    metrics=['accuracy']\n",
    ")\n",
    "\n",
    "history = model_b.fit(\n",
    "    train_images_b, train_labels_b, \n",
    "    epochs=5, \n",
    "    batch_size=8,\n",
    "    validation_data=(test_images_b, test_labels_b)\n",
    ")\n",
    "\n",
    "model_b.save('model_b.h5')"
   ]
  },
  {
   "cell_type": "markdown",
   "metadata": {
    "id": "u_xI9j0fYDyZ"
   },
   "source": [
    "## Model B on A"
   ]
  },
  {
   "cell_type": "code",
   "execution_count": 7,
   "metadata": {
    "colab": {
     "base_uri": "https://localhost:8080/"
    },
    "id": "UtF_7-OuX-ri",
    "outputId": "f7985b8d-180f-4052-a07b-8a4fd930f4ab"
   },
   "outputs": [
    {
     "name": "stdout",
     "output_type": "stream",
     "text": [
      "Epoch 1/5\n",
      "1/1 [==============================] - 1s 547ms/step - loss: 1.7389 - accuracy: 0.3750 - val_loss: 0.8438 - val_accuracy: 0.5625\n",
      "Epoch 2/5\n",
      "1/1 [==============================] - 0s 388ms/step - loss: 1.0784 - accuracy: 0.3750 - val_loss: 0.5561 - val_accuracy: 0.6255\n",
      "Epoch 3/5\n",
      "1/1 [==============================] - 0s 390ms/step - loss: 0.6155 - accuracy: 0.5000 - val_loss: 0.3601 - val_accuracy: 0.8210\n",
      "Epoch 4/5\n",
      "1/1 [==============================] - 0s 441ms/step - loss: 0.3261 - accuracy: 0.8750 - val_loss: 0.2317 - val_accuracy: 0.9475\n",
      "Epoch 5/5\n",
      "1/1 [==============================] - 0s 410ms/step - loss: 0.1681 - accuracy: 1.0000 - val_loss: 0.1500 - val_accuracy: 0.9790\n"
     ]
    }
   ],
   "source": [
    "model_a = keras.models.load_model('model_a.h5')\n",
    "\n",
    "model_b_on_a = keras.models.Sequential(model_a.layers[:-1])\n",
    "model_b_on_a.add(keras.layers.Dense(1, activation='sigmoid'))\n",
    "\n",
    "# for layer in model_b_on_a.layers[:-1]:\n",
    "#     layer.trainable = False\n",
    "\n",
    "optimizer = keras.optimizers.Adam()\n",
    "model_b_on_a.compile(\n",
    "    optimizer=optimizer,\n",
    "    loss='binary_crossentropy',\n",
    "    metrics=['accuracy']\n",
    ")\n",
    "\n",
    "history = model_b_on_a.fit(\n",
    "    train_images_b, train_labels_b, \n",
    "    epochs=5, \n",
    "    batch_size=8,\n",
    "    validation_data=(test_images_b, test_labels_b)\n",
    ")"
   ]
  }
 ],
 "metadata": {
  "accelerator": "GPU",
  "colab": {
   "collapsed_sections": [],
   "name": "05_reusing.ipynb",
   "provenance": [],
   "toc_visible": true
  },
  "kernelspec": {
   "display_name": "Python 3",
   "language": "python",
   "name": "python3"
  },
  "language_info": {
   "codemirror_mode": {
    "name": "ipython",
    "version": 3
   },
   "file_extension": ".py",
   "mimetype": "text/x-python",
   "name": "python",
   "nbconvert_exporter": "python",
   "pygments_lexer": "ipython3",
   "version": "3.7.9"
  }
 },
 "nbformat": 4,
 "nbformat_minor": 4
}