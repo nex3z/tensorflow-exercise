{
 "nbformat": 4,
 "nbformat_minor": 0,
 "metadata": {
  "accelerator": "GPU",
  "colab": {
   "name": "05_reusing.ipynb",
   "provenance": [],
   "collapsed_sections": [],
   "toc_visible": true
  },
  "kernelspec": {
   "display_name": "Python 3",
   "language": "python",
   "name": "python3"
  },
  "language_info": {
   "codemirror_mode": {
    "name": "ipython",
    "version": 3
   },
   "file_extension": ".py",
   "mimetype": "text/x-python",
   "name": "python",
   "nbconvert_exporter": "python",
   "pygments_lexer": "ipython3",
   "version": "3.7.9"
  }
 },
 "cells": [
  {
   "cell_type": "code",
   "metadata": {
    "id": "Tae_LlCAUZeb"
   },
   "source": [
    "import numpy as np\n",
    "from tensorflow import keras\n",
    "\n",
    "import utils"
   ],
   "execution_count": 1,
   "outputs": []
  },
  {
   "cell_type": "code",
   "metadata": {
    "colab": {
     "base_uri": "https://localhost:8080/"
    },
    "id": "SjWKsi7315CF",
    "outputId": "2304f678-fbd1-4279-f971-c740baa05c6e"
   },
   "source": [
    "(train_images, train_labels), (test_images, test_labels) = keras.datasets.fashion_mnist.load_data()\n",
    "\n",
    "train_images  = train_images / 255.0\n",
    "train_images = np.expand_dims(train_images, axis=-1)\n",
    "print(f\"train_images.shape = {train_images.shape}, train_labels.shape = {train_labels.shape}\")\n",
    "\n",
    "test_images = test_images / 255.0\n",
    "test_images = np.expand_dims(test_images, axis=-1)\n",
    "print(f\"test_images.shape = {test_images.shape}, test_labels.shape = {test_labels.shape}\")"
   ],
   "execution_count": 2,
   "outputs": [
    {
     "output_type": "stream",
     "text": [
      "train_images.shape = (60000, 28, 28, 1), train_labels.shape = (60000,)\n",
      "test_images.shape = (10000, 28, 28, 1), test_labels.shape = (10000,)\n"
     ],
     "name": "stdout"
    }
   ]
  },
  {
   "cell_type": "code",
   "metadata": {
    "id": "J-de23mnSB2q"
   },
   "source": [
    "def split(images, labels):\n",
    "    split_mask = np.isin(labels, [6, 7])\n",
    "    images_a = images[~split_mask]\n",
    "    labels_a = labels[~split_mask]\n",
    "    labels_a[labels_a > 7] -= 2\n",
    "\n",
    "    images_b = images[split_mask]\n",
    "    labels_b = labels[split_mask]\n",
    "    labels_b = labels_b - 6\n",
    "\n",
    "    return (images_a, labels_a), (images_b, labels_b)"
   ],
   "execution_count": 3,
   "outputs": []
  },
  {
   "cell_type": "code",
   "metadata": {
    "colab": {
     "base_uri": "https://localhost:8080/"
    },
    "id": "IPRgmI1TVONS",
    "outputId": "1ae028c5-fceb-4d2b-eda3-b79ba77b5c36"
   },
   "source": [
    "(train_images_a, train_labels_a), (train_images_b, train_labels_b) = split(train_images, train_labels)\n",
    "train_images_b = train_images_b[:8]\n",
    "train_labels_b = train_labels_b[:8]\n",
    "print(f\"train_images_a.shape = {train_images_a.shape}, train_images_b.shape = {train_images_b.shape}\")\n",
    "\n",
    "(test_images_a, test_labels_a), (test_images_b, test_labels_b) = split(test_images, test_labels)\n",
    "print(f\"test_images_a.shape = {test_images_a.shape}, test_images_b.shape = {test_images_b.shape}\")"
   ],
   "execution_count": 4,
   "outputs": [
    {
     "output_type": "stream",
     "text": [
      "train_images_a.shape = (48000, 28, 28, 1), train_images_b.shape = (8, 28, 28, 1)\n",
      "test_images_a.shape = (8000, 28, 28, 1), test_images_b.shape = (2000, 28, 28, 1)\n"
     ],
     "name": "stdout"
    }
   ]
  },
  {
   "cell_type": "markdown",
   "metadata": {
    "id": "sPRT9hIEWl8o"
   },
   "source": [
    "## Model A"
   ]
  },
  {
   "cell_type": "code",
   "metadata": {
    "colab": {
     "base_uri": "https://localhost:8080/"
    },
    "id": "mRurF78nHuzN",
    "outputId": "1ccb1ded-2368-4841-b800-358de83a844a"
   },
   "source": [
    "utils.reset_session()\n",
    "\n",
    "model_a = keras.models.Sequential([\n",
    "    keras.layers.Conv2D(64, (3, 3), activation='relu', input_shape=(28, 28, 1)),\n",
    "    keras.layers.MaxPooling2D(2, 2),\n",
    "    keras.layers.Conv2D(64, (3, 3), activation='relu'),\n",
    "    keras.layers.MaxPooling2D(2, 2),\n",
    "    keras.layers.Flatten(),\n",
    "    keras.layers.Dense(128, activation='relu'), \n",
    "    keras.layers.Dense(8, activation='softmax')\n",
    "])\n",
    "\n",
    "\n",
    "optimizer = keras.optimizers.Adam()\n",
    "model_a.compile(\n",
    "    optimizer=optimizer,\n",
    "    loss='sparse_categorical_crossentropy',\n",
    "    metrics=['accuracy']\n",
    ")\n",
    "\n",
    "history = model_a.fit(\n",
    "    train_images_a, train_labels_a, \n",
    "    epochs=10, \n",
    "    batch_size=64,\n",
    "    validation_data=(test_images_a, test_labels_a)\n",
    ")\n",
    "\n",
    "model_a.save('model_a.h5')"
   ],
   "execution_count": 5,
   "outputs": [
    {
     "output_type": "stream",
     "text": [
      "Epoch 1/10\n",
      "750/750 [==============================] - 3s 3ms/step - loss: 0.3047 - accuracy: 0.8975 - val_loss: 0.2220 - val_accuracy: 0.9261\n",
      "Epoch 2/10\n",
      "750/750 [==============================] - 2s 3ms/step - loss: 0.1825 - accuracy: 0.9375 - val_loss: 0.1685 - val_accuracy: 0.9434\n",
      "Epoch 3/10\n",
      "750/750 [==============================] - 2s 3ms/step - loss: 0.1508 - accuracy: 0.9479 - val_loss: 0.1519 - val_accuracy: 0.9515\n",
      "Epoch 4/10\n",
      "750/750 [==============================] - 2s 3ms/step - loss: 0.1310 - accuracy: 0.9541 - val_loss: 0.1515 - val_accuracy: 0.9496\n",
      "Epoch 5/10\n",
      "750/750 [==============================] - 2s 3ms/step - loss: 0.1134 - accuracy: 0.9585 - val_loss: 0.1413 - val_accuracy: 0.9526\n",
      "Epoch 6/10\n",
      "750/750 [==============================] - 2s 3ms/step - loss: 0.0988 - accuracy: 0.9647 - val_loss: 0.1520 - val_accuracy: 0.9456\n",
      "Epoch 7/10\n",
      "750/750 [==============================] - 2s 3ms/step - loss: 0.0868 - accuracy: 0.9685 - val_loss: 0.1367 - val_accuracy: 0.9553\n",
      "Epoch 8/10\n",
      "750/750 [==============================] - 2s 3ms/step - loss: 0.0782 - accuracy: 0.9716 - val_loss: 0.1572 - val_accuracy: 0.9461\n",
      "Epoch 9/10\n",
      "750/750 [==============================] - 3s 3ms/step - loss: 0.0671 - accuracy: 0.9757 - val_loss: 0.1385 - val_accuracy: 0.9564\n",
      "Epoch 10/10\n",
      "750/750 [==============================] - 3s 4ms/step - loss: 0.0580 - accuracy: 0.9785 - val_loss: 0.1482 - val_accuracy: 0.9541\n"
     ],
     "name": "stdout"
    }
   ]
  },
  {
   "cell_type": "markdown",
   "metadata": {
    "id": "TZGDcEFUWn74"
   },
   "source": [
    "## Model B"
   ]
  },
  {
   "cell_type": "code",
   "metadata": {
    "colab": {
     "base_uri": "https://localhost:8080/"
    },
    "id": "ZxAxGBT2WN-3",
    "outputId": "0dd15575-8deb-4db4-efec-f3a8f9997c90"
   },
   "source": [
    "utils.reset_session()\n",
    "\n",
    "model_b = keras.models.Sequential([\n",
    "    keras.layers.Conv2D(64, (3, 3), activation='relu', input_shape=(28, 28, 1)),\n",
    "    keras.layers.MaxPooling2D(2, 2),\n",
    "    keras.layers.Conv2D(64, (3, 3), activation='relu'),\n",
    "    keras.layers.MaxPooling2D(2, 2),\n",
    "    keras.layers.Flatten(),\n",
    "    keras.layers.Dense(128, activation='relu'), \n",
    "    keras.layers.Dense(1, activation='sigmoid')\n",
    "])\n",
    "\n",
    "\n",
    "optimizer = keras.optimizers.Adam()\n",
    "model_b.compile(\n",
    "    optimizer=optimizer,\n",
    "    loss='binary_crossentropy',\n",
    "    metrics=['accuracy']\n",
    ")\n",
    "\n",
    "history = model_b.fit(\n",
    "    train_images_b, train_labels_b, \n",
    "    epochs=5, \n",
    "    batch_size=8,\n",
    "    validation_data=(test_images_b, test_labels_b)\n",
    ")\n",
    "\n",
    "model_b.save('model_b.h5')"
   ],
   "execution_count": 6,
   "outputs": [
    {
     "output_type": "stream",
     "text": [
      "Epoch 1/5\n",
      "1/1 [==============================] - 1s 506ms/step - loss: 0.6742 - accuracy: 0.6250 - val_loss: 0.6292 - val_accuracy: 0.5000\n",
      "Epoch 2/5\n",
      "1/1 [==============================] - 0s 417ms/step - loss: 0.5771 - accuracy: 0.6250 - val_loss: 0.5815 - val_accuracy: 0.5000\n",
      "Epoch 3/5\n",
      "1/1 [==============================] - 0s 411ms/step - loss: 0.4957 - accuracy: 0.7500 - val_loss: 0.5254 - val_accuracy: 0.5970\n",
      "Epoch 4/5\n",
      "1/1 [==============================] - 0s 481ms/step - loss: 0.4153 - accuracy: 0.8750 - val_loss: 0.4446 - val_accuracy: 0.8315\n",
      "Epoch 5/5\n",
      "1/1 [==============================] - 0s 444ms/step - loss: 0.3283 - accuracy: 1.0000 - val_loss: 0.3446 - val_accuracy: 0.9465\n"
     ],
     "name": "stdout"
    }
   ]
  },
  {
   "cell_type": "markdown",
   "metadata": {
    "id": "u_xI9j0fYDyZ"
   },
   "source": [
    "## Model B on A"
   ]
  },
  {
   "cell_type": "code",
   "metadata": {
    "colab": {
     "base_uri": "https://localhost:8080/"
    },
    "id": "UtF_7-OuX-ri",
    "outputId": "d44be36a-c096-4bbd-955a-ec1d3d2b5751"
   },
   "source": [
    "model_a = keras.models.load_model('model_a.h5')\n",
    "\n",
    "model_b_on_a = keras.models.Sequential(model_a.layers[:-1])\n",
    "model_b_on_a.add(keras.layers.Dense(1, activation='sigmoid'))\n",
    "\n",
    "# for layer in model_b_on_a.layers[:-1]:\n",
    "#     layer.trainable = False\n",
    "\n",
    "optimizer = keras.optimizers.Adam()\n",
    "model_b_on_a.compile(\n",
    "    optimizer=optimizer,\n",
    "    loss='binary_crossentropy',\n",
    "    metrics=['accuracy']\n",
    ")\n",
    "\n",
    "history = model_b_on_a.fit(\n",
    "    train_images_b, train_labels_b, \n",
    "    epochs=5, \n",
    "    batch_size=8,\n",
    "    validation_data=(test_images_b, test_labels_b)\n",
    ")"
   ],
   "execution_count": 7,
   "outputs": [
    {
     "output_type": "stream",
     "text": [
      "Epoch 1/5\n",
      "1/1 [==============================] - 1s 546ms/step - loss: 1.4139 - accuracy: 0.3750 - val_loss: 0.5966 - val_accuracy: 0.6735\n",
      "Epoch 2/5\n",
      "1/1 [==============================] - 0s 481ms/step - loss: 0.7846 - accuracy: 0.3750 - val_loss: 0.3431 - val_accuracy: 0.8320\n",
      "Epoch 3/5\n",
      "1/1 [==============================] - 0s 400ms/step - loss: 0.3817 - accuracy: 0.7500 - val_loss: 0.1879 - val_accuracy: 0.9660\n",
      "Epoch 4/5\n",
      "1/1 [==============================] - 0s 357ms/step - loss: 0.1665 - accuracy: 1.0000 - val_loss: 0.1030 - val_accuracy: 0.9935\n",
      "Epoch 5/5\n",
      "1/1 [==============================] - 0s 372ms/step - loss: 0.0694 - accuracy: 1.0000 - val_loss: 0.0603 - val_accuracy: 0.9975\n"
     ],
     "name": "stdout"
    }
   ]
  }
 ]
}