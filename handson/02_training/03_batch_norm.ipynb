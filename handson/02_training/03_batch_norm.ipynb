{
 "cells": [
  {
   "cell_type": "code",
   "execution_count": null,
   "metadata": {
    "id": "Tae_LlCAUZeb"
   },
   "outputs": [],
   "source": [
    "from tensorflow import keras\n",
    "\n",
    "import utils"
   ]
  },
  {
   "cell_type": "code",
   "execution_count": null,
   "metadata": {
    "colab": {
     "base_uri": "https://localhost:8080/"
    },
    "id": "SjWKsi7315CF",
    "outputId": "f91219c7-4424-4651-bed1-d18b21b33264"
   },
   "outputs": [
    {
     "name": "stdout",
     "output_type": "stream",
     "text": [
      "train_images.shape = (60000, 28, 28), train_labels.shape = (60000,)\n",
      "test_images.shape = (10000, 28, 28), test_labels.shape = (10000,)\n"
     ]
    }
   ],
   "source": [
    "(train_images, train_labels), (test_images, test_labels) = keras.datasets.fashion_mnist.load_data()\n",
    "\n",
    "train_images  = train_images / 255.0\n",
    "print(f\"train_images.shape = {train_images.shape}, train_labels.shape = {train_labels.shape}\")\n",
    "\n",
    "test_images = test_images / 255.0\n",
    "print(f\"test_images.shape = {test_images.shape}, test_labels.shape = {test_labels.shape}\")"
   ]
  },
  {
   "cell_type": "markdown",
   "metadata": {
    "id": "e5euofFZIi02"
   },
   "source": [
    "## No batch norm"
   ]
  },
  {
   "cell_type": "code",
   "execution_count": null,
   "metadata": {
    "colab": {
     "base_uri": "https://localhost:8080/"
    },
    "id": "mRurF78nHuzN",
    "outputId": "ecf6341a-dbce-46a7-bbaf-0dc04091d0ad"
   },
   "outputs": [
    {
     "name": "stdout",
     "output_type": "stream",
     "text": [
      "Epoch 1/10\n",
      "1875/1875 [==============================] - 5s 3ms/step - loss: 0.4779 - accuracy: 0.8287 - val_loss: 0.4006 - val_accuracy: 0.8530\n",
      "Epoch 2/10\n",
      "1875/1875 [==============================] - 5s 3ms/step - loss: 0.3578 - accuracy: 0.8673 - val_loss: 0.4162 - val_accuracy: 0.8568\n",
      "Epoch 3/10\n",
      "1875/1875 [==============================] - 5s 3ms/step - loss: 0.3254 - accuracy: 0.8802 - val_loss: 0.3820 - val_accuracy: 0.8603\n",
      "Epoch 4/10\n",
      "1875/1875 [==============================] - 5s 3ms/step - loss: 0.3008 - accuracy: 0.8901 - val_loss: 0.3723 - val_accuracy: 0.8661\n",
      "Epoch 5/10\n",
      "1875/1875 [==============================] - 5s 3ms/step - loss: 0.2822 - accuracy: 0.8950 - val_loss: 0.3538 - val_accuracy: 0.8713\n",
      "Epoch 6/10\n",
      "1875/1875 [==============================] - 5s 3ms/step - loss: 0.2655 - accuracy: 0.9003 - val_loss: 0.3534 - val_accuracy: 0.8684\n",
      "Epoch 7/10\n",
      "1875/1875 [==============================] - 5s 3ms/step - loss: 0.2564 - accuracy: 0.9033 - val_loss: 0.3579 - val_accuracy: 0.8740\n",
      "Epoch 8/10\n",
      "1875/1875 [==============================] - 5s 3ms/step - loss: 0.2443 - accuracy: 0.9085 - val_loss: 0.3169 - val_accuracy: 0.8902\n",
      "Epoch 9/10\n",
      "1875/1875 [==============================] - 5s 3ms/step - loss: 0.2319 - accuracy: 0.9120 - val_loss: 0.3313 - val_accuracy: 0.8861\n",
      "Epoch 10/10\n",
      "1875/1875 [==============================] - 5s 3ms/step - loss: 0.2258 - accuracy: 0.9147 - val_loss: 0.3482 - val_accuracy: 0.8815\n"
     ]
    }
   ],
   "source": [
    "utils.reset_session()\n",
    "\n",
    "model = keras.models.Sequential([\n",
    "    keras.layers.Flatten(input_shape=[28, 28]),\n",
    "    keras.layers.Dense(300, activation='relu'),\n",
    "    keras.layers.Dense(100, activation='relu'),\n",
    "    keras.layers.Dense(10, activation='softmax')\n",
    "])\n",
    "\n",
    "optimizer = keras.optimizers.Adam()\n",
    "model.compile(\n",
    "    optimizer=optimizer,\n",
    "    loss='sparse_categorical_crossentropy',\n",
    "    metrics=['accuracy']\n",
    ")\n",
    "\n",
    "history = model.fit(\n",
    "    train_images, train_labels, \n",
    "    epochs=10,\n",
    "    validation_data=(test_images, test_labels)\n",
    ")"
   ]
  },
  {
   "cell_type": "markdown",
   "metadata": {
    "id": "HAxpWy4ZIlGa"
   },
   "source": [
    "## Batch norm after activation"
   ]
  },
  {
   "cell_type": "code",
   "execution_count": null,
   "metadata": {
    "colab": {
     "base_uri": "https://localhost:8080/"
    },
    "id": "4Fh3WCYb2cJl",
    "outputId": "c7e87603-47b2-404f-a2ee-96901c505d10"
   },
   "outputs": [
    {
     "name": "stdout",
     "output_type": "stream",
     "text": [
      "Epoch 1/10\n",
      "1875/1875 [==============================] - 7s 4ms/step - loss: 0.4653 - accuracy: 0.8321 - val_loss: 0.3811 - val_accuracy: 0.8610\n",
      "Epoch 2/10\n",
      "1875/1875 [==============================] - 7s 4ms/step - loss: 0.3621 - accuracy: 0.8685 - val_loss: 0.3671 - val_accuracy: 0.8641\n",
      "Epoch 3/10\n",
      "1875/1875 [==============================] - 7s 4ms/step - loss: 0.3245 - accuracy: 0.8798 - val_loss: 0.3432 - val_accuracy: 0.8783\n",
      "Epoch 4/10\n",
      "1875/1875 [==============================] - 7s 4ms/step - loss: 0.3001 - accuracy: 0.8888 - val_loss: 0.3315 - val_accuracy: 0.8793\n",
      "Epoch 5/10\n",
      "1875/1875 [==============================] - 7s 4ms/step - loss: 0.2789 - accuracy: 0.8953 - val_loss: 0.3237 - val_accuracy: 0.8869\n",
      "Epoch 6/10\n",
      "1875/1875 [==============================] - 7s 4ms/step - loss: 0.2626 - accuracy: 0.9011 - val_loss: 0.3316 - val_accuracy: 0.8830\n",
      "Epoch 7/10\n",
      "1875/1875 [==============================] - 7s 4ms/step - loss: 0.2495 - accuracy: 0.9062 - val_loss: 0.3264 - val_accuracy: 0.8828\n",
      "Epoch 8/10\n",
      "1875/1875 [==============================] - 7s 4ms/step - loss: 0.2385 - accuracy: 0.9094 - val_loss: 0.3179 - val_accuracy: 0.8897\n",
      "Epoch 9/10\n",
      "1875/1875 [==============================] - 7s 4ms/step - loss: 0.2241 - accuracy: 0.9153 - val_loss: 0.3034 - val_accuracy: 0.8965\n",
      "Epoch 10/10\n",
      "1875/1875 [==============================] - 7s 4ms/step - loss: 0.2168 - accuracy: 0.9181 - val_loss: 0.3207 - val_accuracy: 0.8886\n"
     ]
    }
   ],
   "source": [
    "utils.reset_session()\n",
    "\n",
    "model = keras.models.Sequential([\n",
    "    keras.layers.Flatten(input_shape=[28, 28]),\n",
    "    keras.layers.BatchNormalization(),\n",
    "    keras.layers.Dense(300, activation='relu'),\n",
    "    keras.layers.BatchNormalization(),\n",
    "    keras.layers.Dense(100, activation='relu'),\n",
    "    keras.layers.BatchNormalization(),\n",
    "    keras.layers.Dense(10, activation='softmax')\n",
    "])\n",
    "\n",
    "optimizer = keras.optimizers.Adam()\n",
    "model.compile(\n",
    "    optimizer=optimizer,\n",
    "    loss='sparse_categorical_crossentropy',\n",
    "    metrics=['accuracy']\n",
    ")\n",
    "\n",
    "history = model.fit(\n",
    "    train_images, train_labels, \n",
    "    epochs=10,\n",
    "    validation_data=(test_images, test_labels)\n",
    ")"
   ]
  },
  {
   "cell_type": "markdown",
   "metadata": {
    "id": "O9_cZ4EHIoks"
   },
   "source": [
    "## Batch norm before activation"
   ]
  },
  {
   "cell_type": "code",
   "execution_count": null,
   "metadata": {
    "colab": {
     "base_uri": "https://localhost:8080/"
    },
    "id": "X9iIGpx73kel",
    "outputId": "0ccce48b-c341-4223-b143-68c4f18d8286"
   },
   "outputs": [
    {
     "name": "stdout",
     "output_type": "stream",
     "text": [
      "Epoch 1/10\n",
      "1875/1875 [==============================] - 7s 4ms/step - loss: 0.4566 - accuracy: 0.8358 - val_loss: 0.3755 - val_accuracy: 0.8635\n",
      "Epoch 2/10\n",
      "1875/1875 [==============================] - 7s 4ms/step - loss: 0.3533 - accuracy: 0.8703 - val_loss: 0.3546 - val_accuracy: 0.8668\n",
      "Epoch 3/10\n",
      "1875/1875 [==============================] - 7s 4ms/step - loss: 0.3154 - accuracy: 0.8834 - val_loss: 0.3313 - val_accuracy: 0.8811\n",
      "Epoch 4/10\n",
      "1875/1875 [==============================] - 7s 4ms/step - loss: 0.2923 - accuracy: 0.8916 - val_loss: 0.3319 - val_accuracy: 0.8806\n",
      "Epoch 5/10\n",
      "1875/1875 [==============================] - 7s 4ms/step - loss: 0.2708 - accuracy: 0.8988 - val_loss: 0.3191 - val_accuracy: 0.8860\n",
      "Epoch 6/10\n",
      "1875/1875 [==============================] - 7s 4ms/step - loss: 0.2536 - accuracy: 0.9056 - val_loss: 0.3190 - val_accuracy: 0.8886\n",
      "Epoch 7/10\n",
      "1875/1875 [==============================] - 7s 4ms/step - loss: 0.2394 - accuracy: 0.9093 - val_loss: 0.3229 - val_accuracy: 0.8873\n",
      "Epoch 8/10\n",
      "1875/1875 [==============================] - 7s 4ms/step - loss: 0.2279 - accuracy: 0.9139 - val_loss: 0.3076 - val_accuracy: 0.8929\n",
      "Epoch 9/10\n",
      "1875/1875 [==============================] - 7s 4ms/step - loss: 0.2129 - accuracy: 0.9205 - val_loss: 0.3125 - val_accuracy: 0.8950\n",
      "Epoch 10/10\n",
      "1875/1875 [==============================] - 7s 4ms/step - loss: 0.2055 - accuracy: 0.9226 - val_loss: 0.3165 - val_accuracy: 0.8985\n"
     ]
    }
   ],
   "source": [
    "utils.reset_session()\n",
    "\n",
    "model = keras.models.Sequential([\n",
    "    keras.layers.Flatten(input_shape=[28, 28]),\n",
    "    keras.layers.BatchNormalization(),\n",
    "    keras.layers.Dense(300, use_bias=False),\n",
    "    keras.layers.BatchNormalization(),\n",
    "    keras.layers.Activation('relu'),\n",
    "    keras.layers.Dense(100, use_bias=False),\n",
    "    keras.layers.BatchNormalization(),\n",
    "    keras.layers.Activation('relu'),\n",
    "    keras.layers.Dense(10, activation='softmax')\n",
    "])\n",
    "\n",
    "optimizer = keras.optimizers.Adam()\n",
    "model.compile(\n",
    "    optimizer=optimizer,\n",
    "    loss='sparse_categorical_crossentropy',\n",
    "    metrics=['accuracy']\n",
    ")\n",
    "\n",
    "history = model.fit(\n",
    "    train_images, train_labels, \n",
    "    epochs=10,\n",
    "    validation_data=(test_images, test_labels)\n",
    ")"
   ]
  }
 ],
 "metadata": {
  "accelerator": "GPU",
  "colab": {
   "collapsed_sections": [],
   "name": "03_batch_norm.ipynb",
   "provenance": [],
   "toc_visible": true
  },
  "kernelspec": {
   "display_name": "Python 3",
   "language": "python",
   "name": "python3"
  },
  "language_info": {
   "codemirror_mode": {
    "name": "ipython",
    "version": 3
   },
   "file_extension": ".py",
   "mimetype": "text/x-python",
   "name": "python",
   "nbconvert_exporter": "python",
   "pygments_lexer": "ipython3",
   "version": "3.7.9"
  }
 },
 "nbformat": 4,
 "nbformat_minor": 4
}