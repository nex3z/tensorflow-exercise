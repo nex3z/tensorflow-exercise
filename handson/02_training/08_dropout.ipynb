{
 "cells": [
  {
   "cell_type": "code",
   "execution_count": 1,
   "metadata": {
    "id": "Tae_LlCAUZeb"
   },
   "outputs": [],
   "source": [
    "from tensorflow import keras\n",
    "\n",
    "import utils"
   ]
  },
  {
   "cell_type": "code",
   "execution_count": 2,
   "metadata": {
    "id": "SjWKsi7315CF"
   },
   "outputs": [],
   "source": [
    "(train_images, train_labels), (test_images, test_labels) = utils.load_fashion_mnist_data()"
   ]
  },
  {
   "cell_type": "markdown",
   "metadata": {
    "id": "e5euofFZIi02"
   },
   "source": [
    "## No dropout"
   ]
  },
  {
   "cell_type": "code",
   "execution_count": 3,
   "metadata": {
    "colab": {
     "base_uri": "https://localhost:8080/"
    },
    "id": "mRurF78nHuzN",
    "outputId": "7ed2c215-f467-4b3f-f263-289295d007b1"
   },
   "outputs": [
    {
     "name": "stdout",
     "output_type": "stream",
     "text": [
      "Epoch 1/20\n",
      "1875/1875 [==============================] - 4s 2ms/step - loss: 0.5083 - accuracy: 0.8237 - val_loss: 0.4448 - val_accuracy: 0.8395\n",
      "Epoch 2/20\n",
      "1875/1875 [==============================] - 3s 2ms/step - loss: 0.3624 - accuracy: 0.8710 - val_loss: 0.3984 - val_accuracy: 0.8581\n",
      "Epoch 3/20\n",
      "1875/1875 [==============================] - 3s 2ms/step - loss: 0.3248 - accuracy: 0.8840 - val_loss: 0.3765 - val_accuracy: 0.8630\n",
      "Epoch 4/20\n",
      "1875/1875 [==============================] - 3s 2ms/step - loss: 0.2990 - accuracy: 0.8920 - val_loss: 0.3611 - val_accuracy: 0.8723\n",
      "Epoch 5/20\n",
      "1875/1875 [==============================] - 3s 2ms/step - loss: 0.2794 - accuracy: 0.8986 - val_loss: 0.3547 - val_accuracy: 0.8722\n",
      "Epoch 6/20\n",
      "1875/1875 [==============================] - 4s 2ms/step - loss: 0.2622 - accuracy: 0.9046 - val_loss: 0.3477 - val_accuracy: 0.8754\n",
      "Epoch 7/20\n",
      "1875/1875 [==============================] - 4s 2ms/step - loss: 0.2467 - accuracy: 0.9095 - val_loss: 0.3618 - val_accuracy: 0.8726\n",
      "Epoch 8/20\n",
      "1875/1875 [==============================] - 3s 2ms/step - loss: 0.2330 - accuracy: 0.9158 - val_loss: 0.3368 - val_accuracy: 0.8820\n",
      "Epoch 9/20\n",
      "1875/1875 [==============================] - 3s 2ms/step - loss: 0.2203 - accuracy: 0.9197 - val_loss: 0.3414 - val_accuracy: 0.8779\n",
      "Epoch 10/20\n",
      "1875/1875 [==============================] - 4s 2ms/step - loss: 0.2088 - accuracy: 0.9241 - val_loss: 0.3426 - val_accuracy: 0.8799\n",
      "Epoch 11/20\n",
      "1875/1875 [==============================] - 4s 2ms/step - loss: 0.1974 - accuracy: 0.9283 - val_loss: 0.3499 - val_accuracy: 0.8790\n",
      "Epoch 12/20\n",
      "1875/1875 [==============================] - 4s 2ms/step - loss: 0.1887 - accuracy: 0.9319 - val_loss: 0.3352 - val_accuracy: 0.8878\n",
      "Epoch 13/20\n",
      "1875/1875 [==============================] - 3s 2ms/step - loss: 0.1774 - accuracy: 0.9362 - val_loss: 0.3491 - val_accuracy: 0.8812\n",
      "Epoch 14/20\n",
      "1875/1875 [==============================] - 3s 2ms/step - loss: 0.1695 - accuracy: 0.9394 - val_loss: 0.3367 - val_accuracy: 0.8868\n",
      "Epoch 15/20\n",
      "1875/1875 [==============================] - 3s 2ms/step - loss: 0.1599 - accuracy: 0.9440 - val_loss: 0.3423 - val_accuracy: 0.8847\n",
      "Epoch 16/20\n",
      "1875/1875 [==============================] - 3s 2ms/step - loss: 0.1523 - accuracy: 0.9468 - val_loss: 0.3501 - val_accuracy: 0.8854\n",
      "Epoch 17/20\n",
      "1875/1875 [==============================] - 3s 2ms/step - loss: 0.1445 - accuracy: 0.9492 - val_loss: 0.3507 - val_accuracy: 0.8849\n",
      "Epoch 18/20\n",
      "1875/1875 [==============================] - 3s 2ms/step - loss: 0.1364 - accuracy: 0.9523 - val_loss: 0.3517 - val_accuracy: 0.8873\n",
      "Epoch 19/20\n",
      "1875/1875 [==============================] - 3s 2ms/step - loss: 0.1296 - accuracy: 0.9555 - val_loss: 0.3589 - val_accuracy: 0.8857\n",
      "Epoch 20/20\n",
      "1875/1875 [==============================] - 3s 2ms/step - loss: 0.1230 - accuracy: 0.9575 - val_loss: 0.3630 - val_accuracy: 0.8895\n"
     ]
    }
   ],
   "source": [
    "utils.reset_session()\n",
    "\n",
    "model = keras.models.Sequential([\n",
    "    keras.layers.Flatten(input_shape=[28, 28]),\n",
    "    keras.layers.Dense(300, activation='relu'),\n",
    "    keras.layers.Dense(100, activation='relu'),\n",
    "    keras.layers.Dense(10, activation='softmax')\n",
    "])\n",
    "\n",
    "optimizer = keras.optimizers.SGD()\n",
    "model.compile(\n",
    "    optimizer=optimizer,\n",
    "    loss='sparse_categorical_crossentropy',\n",
    "    metrics=['accuracy']\n",
    ")\n",
    "\n",
    "history = model.fit(\n",
    "    train_images, train_labels, \n",
    "    epochs=20,\n",
    "    validation_data=(test_images, test_labels)\n",
    ")"
   ]
  },
  {
   "cell_type": "markdown",
   "metadata": {
    "id": "HAxpWy4ZIlGa"
   },
   "source": [
    "## Dropout"
   ]
  },
  {
   "cell_type": "code",
   "execution_count": 4,
   "metadata": {
    "colab": {
     "base_uri": "https://localhost:8080/"
    },
    "id": "4Fh3WCYb2cJl",
    "outputId": "9592be1b-7ba8-4dae-ab47-e9bea7a7591a"
   },
   "outputs": [
    {
     "name": "stdout",
     "output_type": "stream",
     "text": [
      "Epoch 1/20\n",
      "1875/1875 [==============================] - 4s 2ms/step - loss: 0.6200 - accuracy: 0.7824 - val_loss: 0.4439 - val_accuracy: 0.8399\n",
      "Epoch 2/20\n",
      "1875/1875 [==============================] - 4s 2ms/step - loss: 0.4459 - accuracy: 0.8400 - val_loss: 0.4049 - val_accuracy: 0.8502\n",
      "Epoch 3/20\n",
      "1875/1875 [==============================] - 4s 2ms/step - loss: 0.4026 - accuracy: 0.8557 - val_loss: 0.3861 - val_accuracy: 0.8593\n",
      "Epoch 4/20\n",
      "1875/1875 [==============================] - 4s 2ms/step - loss: 0.3776 - accuracy: 0.8630 - val_loss: 0.3731 - val_accuracy: 0.8634\n",
      "Epoch 5/20\n",
      "1875/1875 [==============================] - 4s 2ms/step - loss: 0.3593 - accuracy: 0.8695 - val_loss: 0.3635 - val_accuracy: 0.8647\n",
      "Epoch 6/20\n",
      "1875/1875 [==============================] - 4s 2ms/step - loss: 0.3441 - accuracy: 0.8739 - val_loss: 0.3537 - val_accuracy: 0.8687\n",
      "Epoch 7/20\n",
      "1875/1875 [==============================] - 4s 2ms/step - loss: 0.3329 - accuracy: 0.8774 - val_loss: 0.3512 - val_accuracy: 0.8699\n",
      "Epoch 8/20\n",
      "1875/1875 [==============================] - 4s 2ms/step - loss: 0.3211 - accuracy: 0.8822 - val_loss: 0.3407 - val_accuracy: 0.8753\n",
      "Epoch 9/20\n",
      "1875/1875 [==============================] - 4s 2ms/step - loss: 0.3114 - accuracy: 0.8860 - val_loss: 0.3385 - val_accuracy: 0.8758\n",
      "Epoch 10/20\n",
      "1875/1875 [==============================] - 4s 2ms/step - loss: 0.3034 - accuracy: 0.8885 - val_loss: 0.3356 - val_accuracy: 0.8745\n",
      "Epoch 11/20\n",
      "1875/1875 [==============================] - 4s 2ms/step - loss: 0.2961 - accuracy: 0.8921 - val_loss: 0.3336 - val_accuracy: 0.8751\n",
      "Epoch 12/20\n",
      "1875/1875 [==============================] - 4s 2ms/step - loss: 0.2894 - accuracy: 0.8931 - val_loss: 0.3319 - val_accuracy: 0.8776\n",
      "Epoch 13/20\n",
      "1875/1875 [==============================] - 4s 2ms/step - loss: 0.2812 - accuracy: 0.8958 - val_loss: 0.3290 - val_accuracy: 0.8797\n",
      "Epoch 14/20\n",
      "1875/1875 [==============================] - 4s 2ms/step - loss: 0.2751 - accuracy: 0.8988 - val_loss: 0.3249 - val_accuracy: 0.8807\n",
      "Epoch 15/20\n",
      "1875/1875 [==============================] - 4s 2ms/step - loss: 0.2681 - accuracy: 0.9004 - val_loss: 0.3265 - val_accuracy: 0.8822\n",
      "Epoch 16/20\n",
      "1875/1875 [==============================] - 4s 2ms/step - loss: 0.2633 - accuracy: 0.9011 - val_loss: 0.3237 - val_accuracy: 0.8830\n",
      "Epoch 17/20\n",
      "1875/1875 [==============================] - 4s 2ms/step - loss: 0.2568 - accuracy: 0.9044 - val_loss: 0.3197 - val_accuracy: 0.8837\n",
      "Epoch 18/20\n",
      "1875/1875 [==============================] - 4s 2ms/step - loss: 0.2518 - accuracy: 0.9058 - val_loss: 0.3201 - val_accuracy: 0.8843\n",
      "Epoch 19/20\n",
      "1875/1875 [==============================] - 4s 2ms/step - loss: 0.2460 - accuracy: 0.9079 - val_loss: 0.3198 - val_accuracy: 0.8853\n",
      "Epoch 20/20\n",
      "1875/1875 [==============================] - 4s 2ms/step - loss: 0.2429 - accuracy: 0.9091 - val_loss: 0.3182 - val_accuracy: 0.8869\n"
     ]
    }
   ],
   "source": [
    "utils.reset_session()\n",
    "\n",
    "model = keras.models.Sequential([\n",
    "    keras.layers.Flatten(input_shape=[28, 28]),\n",
    "    keras.layers.Dense(300, activation='relu'),\n",
    "    keras.layers.Dropout(rate=0.2),\n",
    "    keras.layers.Dense(100, activation='relu'),\n",
    "    keras.layers.Dropout(rate=0.2),\n",
    "    keras.layers.Dense(10, activation='softmax')\n",
    "])\n",
    "\n",
    "optimizer = keras.optimizers.SGD()\n",
    "model.compile(\n",
    "    optimizer=optimizer,\n",
    "    loss='sparse_categorical_crossentropy',\n",
    "    metrics=['accuracy']\n",
    ")\n",
    "\n",
    "history = model.fit(\n",
    "    train_images, train_labels, \n",
    "    epochs=20,\n",
    "    validation_data=(test_images, test_labels)\n",
    ")"
   ]
  },
  {
   "cell_type": "markdown",
   "metadata": {
    "id": "YWSnHRAHvCpt"
   },
   "source": [
    "## Alpha droupout with SELU"
   ]
  },
  {
   "cell_type": "code",
   "execution_count": 5,
   "metadata": {
    "colab": {
     "base_uri": "https://localhost:8080/"
    },
    "id": "WR77bZ6Ku-kP",
    "outputId": "d09f6e3a-2fbb-460c-f3f3-6c27e8e5b638"
   },
   "outputs": [
    {
     "name": "stdout",
     "output_type": "stream",
     "text": [
      "Epoch 1/20\n",
      "1875/1875 [==============================] - 4s 2ms/step - loss: 0.7111 - accuracy: 0.7491 - val_loss: 0.5737 - val_accuracy: 0.8267\n",
      "Epoch 2/20\n",
      "1875/1875 [==============================] - 4s 2ms/step - loss: 0.5221 - accuracy: 0.8123 - val_loss: 0.5452 - val_accuracy: 0.8355\n",
      "Epoch 3/20\n",
      "1875/1875 [==============================] - 4s 2ms/step - loss: 0.4810 - accuracy: 0.8281 - val_loss: 0.5197 - val_accuracy: 0.8413\n",
      "Epoch 4/20\n",
      "1875/1875 [==============================] - 4s 2ms/step - loss: 0.4601 - accuracy: 0.8340 - val_loss: 0.5072 - val_accuracy: 0.8434\n",
      "Epoch 5/20\n",
      "1875/1875 [==============================] - 4s 2ms/step - loss: 0.4436 - accuracy: 0.8412 - val_loss: 0.5027 - val_accuracy: 0.8480\n",
      "Epoch 6/20\n",
      "1875/1875 [==============================] - 4s 2ms/step - loss: 0.4265 - accuracy: 0.8451 - val_loss: 0.4866 - val_accuracy: 0.8514\n",
      "Epoch 7/20\n",
      "1875/1875 [==============================] - 4s 2ms/step - loss: 0.4179 - accuracy: 0.8494 - val_loss: 0.4797 - val_accuracy: 0.8535\n",
      "Epoch 8/20\n",
      "1875/1875 [==============================] - 4s 2ms/step - loss: 0.4092 - accuracy: 0.8516 - val_loss: 0.4782 - val_accuracy: 0.8552\n",
      "Epoch 9/20\n",
      "1875/1875 [==============================] - 4s 2ms/step - loss: 0.3989 - accuracy: 0.8551 - val_loss: 0.4749 - val_accuracy: 0.8590\n",
      "Epoch 10/20\n",
      "1875/1875 [==============================] - 4s 2ms/step - loss: 0.3946 - accuracy: 0.8575 - val_loss: 0.4656 - val_accuracy: 0.8574\n",
      "Epoch 11/20\n",
      "1875/1875 [==============================] - 4s 2ms/step - loss: 0.3858 - accuracy: 0.8583 - val_loss: 0.4694 - val_accuracy: 0.8583\n",
      "Epoch 12/20\n",
      "1875/1875 [==============================] - 4s 2ms/step - loss: 0.3810 - accuracy: 0.8621 - val_loss: 0.4603 - val_accuracy: 0.8612\n",
      "Epoch 13/20\n",
      "1875/1875 [==============================] - 4s 2ms/step - loss: 0.3762 - accuracy: 0.8643 - val_loss: 0.4540 - val_accuracy: 0.8630\n",
      "Epoch 14/20\n",
      "1875/1875 [==============================] - 4s 2ms/step - loss: 0.3676 - accuracy: 0.8656 - val_loss: 0.4575 - val_accuracy: 0.8639\n",
      "Epoch 15/20\n",
      "1875/1875 [==============================] - 4s 2ms/step - loss: 0.3662 - accuracy: 0.8662 - val_loss: 0.4404 - val_accuracy: 0.8680\n",
      "Epoch 16/20\n",
      "1875/1875 [==============================] - 4s 2ms/step - loss: 0.3600 - accuracy: 0.8689 - val_loss: 0.4472 - val_accuracy: 0.8671\n",
      "Epoch 17/20\n",
      "1875/1875 [==============================] - 4s 2ms/step - loss: 0.3573 - accuracy: 0.8689 - val_loss: 0.4470 - val_accuracy: 0.8680\n",
      "Epoch 18/20\n",
      "1875/1875 [==============================] - 4s 2ms/step - loss: 0.3535 - accuracy: 0.8704 - val_loss: 0.4383 - val_accuracy: 0.8714\n",
      "Epoch 19/20\n",
      "1875/1875 [==============================] - 4s 2ms/step - loss: 0.3486 - accuracy: 0.8723 - val_loss: 0.4403 - val_accuracy: 0.8701\n",
      "Epoch 20/20\n",
      "1875/1875 [==============================] - 4s 2ms/step - loss: 0.3475 - accuracy: 0.8734 - val_loss: 0.4464 - val_accuracy: 0.8726\n"
     ]
    }
   ],
   "source": [
    "utils.reset_session()\n",
    "\n",
    "model = keras.models.Sequential([\n",
    "    keras.layers.Flatten(input_shape=[28, 28]),\n",
    "    keras.layers.Dense(300, activation='selu', kernel_initializer='lecun_normal'),\n",
    "    keras.layers.AlphaDropout(rate=0.2),\n",
    "    keras.layers.Dense(100, activation='selu', kernel_initializer='lecun_normal'),\n",
    "    keras.layers.AlphaDropout(rate=0.2),\n",
    "    keras.layers.Dense(10, activation='softmax')\n",
    "])\n",
    "\n",
    "optimizer = keras.optimizers.SGD()\n",
    "model.compile(\n",
    "    optimizer=optimizer,\n",
    "    loss='sparse_categorical_crossentropy',\n",
    "    metrics=['accuracy']\n",
    ")\n",
    "\n",
    "history = model.fit(\n",
    "    train_images, train_labels, \n",
    "    epochs=20,\n",
    "    validation_data=(test_images, test_labels)\n",
    ")"
   ]
  }
 ],
 "metadata": {
  "accelerator": "GPU",
  "colab": {
   "collapsed_sections": [],
   "name": "08_dropout.ipynb",
   "provenance": [],
   "toc_visible": true
  },
  "kernelspec": {
   "display_name": "Python 3",
   "language": "python",
   "name": "python3"
  },
  "language_info": {
   "codemirror_mode": {
    "name": "ipython",
    "version": 3
   },
   "file_extension": ".py",
   "mimetype": "text/x-python",
   "name": "python",
   "nbconvert_exporter": "python",
   "pygments_lexer": "ipython3",
   "version": "3.7.9"
  }
 },
 "nbformat": 4,
 "nbformat_minor": 4
}