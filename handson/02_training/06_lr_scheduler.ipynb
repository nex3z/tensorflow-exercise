{
 "cells": [
  {
   "cell_type": "code",
   "execution_count": 1,
   "metadata": {
    "id": "Tae_LlCAUZeb"
   },
   "outputs": [],
   "source": [
    "import matplotlib.pyplot as plt\n",
    "import numpy as np\n",
    "from tensorflow import keras\n",
    "\n",
    "import utils"
   ]
  },
  {
   "cell_type": "code",
   "execution_count": 2,
   "metadata": {
    "id": "HsddsObFqiSm"
   },
   "outputs": [],
   "source": [
    "def exp_decay(initial_lr, s):\n",
    "    def exp_decay_fn(epoch):\n",
    "        return initial_lr * 0.1**(epoch / s)\n",
    "    return exp_decay_fn"
   ]
  },
  {
   "cell_type": "code",
   "execution_count": 3,
   "metadata": {
    "colab": {
     "base_uri": "https://localhost:8080/",
     "height": 265
    },
    "id": "xDP7WcWarPQN",
    "outputId": "bf7ccd48-7b5e-4e7c-c9b2-0e14f84315ab"
   },
   "outputs": [
    {
     "data": {
      "image/png": "[encoded data removed]",
      "text/plain": [
       "<Figure size 432x288 with 1 Axes>"
      ]
     },
     "metadata": {
      "needs_background": "light",
      "tags": []
     },
     "output_type": "display_data"
    }
   ],
   "source": [
    "exp_decay_fn = exp_decay(initial_lr=0.01, s=20)\n",
    "\n",
    "epochs = np.arange(100)\n",
    "lr = exp_decay_fn(epochs)\n",
    "plt.figure()\n",
    "plt.plot(epochs, lr)\n",
    "plt.yscale('log')\n",
    "plt.show()"
   ]
  },
  {
   "cell_type": "code",
   "execution_count": 4,
   "metadata": {
    "colab": {
     "base_uri": "https://localhost:8080/"
    },
    "id": "SjWKsi7315CF",
    "outputId": "03285017-fb6c-4ad3-c25a-ef8a717fcfb6"
   },
   "outputs": [
    {
     "name": "stdout",
     "output_type": "stream",
     "text": [
      "train_images.shape = (60000, 28, 28, 1), train_labels.shape = (60000,)\n",
      "test_images.shape = (10000, 28, 28, 1), test_labels.shape = (10000,)\n"
     ]
    }
   ],
   "source": [
    "(train_images, train_labels), (test_images, test_labels) = keras.datasets.fashion_mnist.load_data()\n",
    "\n",
    "train_images  = train_images / 255.0\n",
    "train_images = np.expand_dims(train_images, axis=-1)\n",
    "print(f\"train_images.shape = {train_images.shape}, train_labels.shape = {train_labels.shape}\")\n",
    "\n",
    "test_images = test_images / 255.0\n",
    "test_images = np.expand_dims(test_images, axis=-1)\n",
    "print(f\"test_images.shape = {test_images.shape}, test_labels.shape = {test_labels.shape}\")"
   ]
  },
  {
   "cell_type": "code",
   "execution_count": 5,
   "metadata": {
    "id": "mRurF78nHuzN"
   },
   "outputs": [],
   "source": [
    "model = keras.models.Sequential([\n",
    "    keras.layers.Conv2D(64, (3, 3), activation='relu', input_shape=(28, 28, 1)),\n",
    "    keras.layers.MaxPooling2D(2, 2),\n",
    "    keras.layers.Conv2D(64, (3, 3), activation='relu'),\n",
    "    keras.layers.MaxPooling2D(2, 2),\n",
    "    keras.layers.Flatten(),\n",
    "    keras.layers.Dense(128, activation='relu'), \n",
    "    keras.layers.Dense(10, activation='softmax')\n",
    "])\n",
    "\n",
    "optimizer = keras.optimizers.Adam()\n",
    "model.compile(\n",
    "    optimizer=optimizer,\n",
    "    loss='sparse_categorical_crossentropy',\n",
    "    metrics=['accuracy']\n",
    ")"
   ]
  },
  {
   "cell_type": "code",
   "execution_count": 6,
   "metadata": {
    "id": "6cYX6UkRsrvH"
   },
   "outputs": [],
   "source": [
    "exp_decay_fn = exp_decay(initial_lr=0.01, s=10)\n",
    "lr_scheduler = keras.callbacks.LearningRateScheduler(exp_decay_fn, verbose=1)"
   ]
  },
  {
   "cell_type": "code",
   "execution_count": 7,
   "metadata": {
    "id": "QCbyd64tsrxR"
   },
   "outputs": [],
   "source": [
    "# lr_scheduler = keras.callbacks.ReduceLROnPlateau(factor=0.5, patience=5)"
   ]
  },
  {
   "cell_type": "code",
   "execution_count": 8,
   "metadata": {
    "colab": {
     "base_uri": "https://localhost:8080/"
    },
    "id": "lOjIfHS3r7cF",
    "outputId": "58adf3af-12b4-45c6-eee1-a59bcde88d65"
   },
   "outputs": [
    {
     "name": "stdout",
     "output_type": "stream",
     "text": [
      "\n",
      "Epoch 00001: LearningRateScheduler reducing learning rate to 0.01.\n",
      "Epoch 1/10\n",
      "938/938 [==============================] - 6s 6ms/step - loss: 0.4342 - accuracy: 0.8407 - val_loss: 0.3471 - val_accuracy: 0.8699\n",
      "\n",
      "Epoch 00002: LearningRateScheduler reducing learning rate to 0.007943282347242816.\n",
      "Epoch 2/10\n",
      "938/938 [==============================] - 5s 6ms/step - loss: 0.3102 - accuracy: 0.8841 - val_loss: 0.2832 - val_accuracy: 0.8890\n",
      "\n",
      "Epoch 00003: LearningRateScheduler reducing learning rate to 0.006309573444801933.\n",
      "Epoch 3/10\n",
      "938/938 [==============================] - 5s 6ms/step - loss: 0.2688 - accuracy: 0.8981 - val_loss: 0.2486 - val_accuracy: 0.9046\n",
      "\n",
      "Epoch 00004: LearningRateScheduler reducing learning rate to 0.005011872336272724.\n",
      "Epoch 4/10\n",
      "938/938 [==============================] - 5s 6ms/step - loss: 0.2340 - accuracy: 0.9106 - val_loss: 0.2086 - val_accuracy: 0.9187\n",
      "\n",
      "Epoch 00005: LearningRateScheduler reducing learning rate to 0.0039810717055349725.\n",
      "Epoch 5/10\n",
      "938/938 [==============================] - 5s 6ms/step - loss: 0.2072 - accuracy: 0.9219 - val_loss: 0.1919 - val_accuracy: 0.9257\n",
      "\n",
      "Epoch 00006: LearningRateScheduler reducing learning rate to 0.0031622776601683794.\n",
      "Epoch 6/10\n",
      "938/938 [==============================] - 5s 6ms/step - loss: 0.1790 - accuracy: 0.9319 - val_loss: 0.1633 - val_accuracy: 0.9374\n",
      "\n",
      "Epoch 00007: LearningRateScheduler reducing learning rate to 0.0025118864315095803.\n",
      "Epoch 7/10\n",
      "938/938 [==============================] - 5s 6ms/step - loss: 0.1575 - accuracy: 0.9392 - val_loss: 0.1392 - val_accuracy: 0.9474\n",
      "\n",
      "Epoch 00008: LearningRateScheduler reducing learning rate to 0.0019952623149688802.\n",
      "Epoch 8/10\n",
      "938/938 [==============================] - 5s 6ms/step - loss: 0.1375 - accuracy: 0.9475 - val_loss: 0.1263 - val_accuracy: 0.9517\n",
      "\n",
      "Epoch 00009: LearningRateScheduler reducing learning rate to 0.0015848931924611134.\n",
      "Epoch 9/10\n",
      "938/938 [==============================] - 5s 6ms/step - loss: 0.1204 - accuracy: 0.9542 - val_loss: 0.1021 - val_accuracy: 0.9627\n",
      "\n",
      "Epoch 00010: LearningRateScheduler reducing learning rate to 0.0012589254117941673.\n",
      "Epoch 10/10\n",
      "938/938 [==============================] - 5s 6ms/step - loss: 0.1060 - accuracy: 0.9606 - val_loss: 0.0898 - val_accuracy: 0.9677\n"
     ]
    }
   ],
   "source": [
    "utils.reset_session()\n",
    "\n",
    "history = model.fit(\n",
    "    train_images, train_labels, \n",
    "    epochs=10, \n",
    "    batch_size=64,\n",
    "    validation_data=(train_images, train_labels),\n",
    "    callbacks=[lr_scheduler]\n",
    ")"
   ]
  }
 ],
 "metadata": {
  "accelerator": "GPU",
  "colab": {
   "collapsed_sections": [],
   "name": "06_lr_scheduler.ipynb",
   "provenance": [],
   "toc_visible": true
  },
  "kernelspec": {
   "display_name": "Python 3",
   "language": "python",
   "name": "python3"
  },
  "language_info": {
   "codemirror_mode": {
    "name": "ipython",
    "version": 3
   },
   "file_extension": ".py",
   "mimetype": "text/x-python",
   "name": "python",
   "nbconvert_exporter": "python",
   "pygments_lexer": "ipython3",
   "version": "3.7.9"
  }
 },
 "nbformat": 4,
 "nbformat_minor": 4
}