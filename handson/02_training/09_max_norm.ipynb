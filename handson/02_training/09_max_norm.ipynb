{
 "cells": [
  {
   "cell_type": "code",
   "execution_count": 1,
   "metadata": {
    "id": "Tae_LlCAUZeb"
   },
   "outputs": [],
   "source": [
    "from tensorflow import keras\n",
    "\n",
    "import utils"
   ]
  },
  {
   "cell_type": "code",
   "execution_count": 2,
   "metadata": {
    "id": "SjWKsi7315CF"
   },
   "outputs": [],
   "source": [
    "(train_images, train_labels), (test_images, test_labels) = utils.load_fashion_mnist_data()"
   ]
  },
  {
   "cell_type": "markdown",
   "metadata": {
    "id": "e5euofFZIi02"
   },
   "source": [
    "## No max norm"
   ]
  },
  {
   "cell_type": "code",
   "execution_count": 3,
   "metadata": {
    "colab": {
     "base_uri": "https://localhost:8080/"
    },
    "id": "mRurF78nHuzN",
    "outputId": "430317d1-1747-42f7-a150-8f1c5361379b"
   },
   "outputs": [
    {
     "name": "stdout",
     "output_type": "stream",
     "text": [
      "Epoch 1/20\n",
      "1875/1875 [==============================] - 4s 2ms/step - loss: 0.5083 - accuracy: 0.8237 - val_loss: 0.4448 - val_accuracy: 0.8395\n",
      "Epoch 2/20\n",
      "1875/1875 [==============================] - 3s 2ms/step - loss: 0.3624 - accuracy: 0.8710 - val_loss: 0.3984 - val_accuracy: 0.8581\n",
      "Epoch 3/20\n",
      "1875/1875 [==============================] - 3s 2ms/step - loss: 0.3248 - accuracy: 0.8839 - val_loss: 0.3768 - val_accuracy: 0.8634\n",
      "Epoch 4/20\n",
      "1875/1875 [==============================] - 3s 2ms/step - loss: 0.2991 - accuracy: 0.8922 - val_loss: 0.3617 - val_accuracy: 0.8724\n",
      "Epoch 5/20\n",
      "1875/1875 [==============================] - 3s 2ms/step - loss: 0.2795 - accuracy: 0.8979 - val_loss: 0.3548 - val_accuracy: 0.8720\n",
      "Epoch 6/20\n",
      "1875/1875 [==============================] - 3s 2ms/step - loss: 0.2623 - accuracy: 0.9047 - val_loss: 0.3483 - val_accuracy: 0.8753\n",
      "Epoch 7/20\n",
      "1875/1875 [==============================] - 3s 2ms/step - loss: 0.2467 - accuracy: 0.9097 - val_loss: 0.3616 - val_accuracy: 0.8729\n",
      "Epoch 8/20\n",
      "1875/1875 [==============================] - 3s 2ms/step - loss: 0.2329 - accuracy: 0.9154 - val_loss: 0.3371 - val_accuracy: 0.8819\n",
      "Epoch 9/20\n",
      "1875/1875 [==============================] - 4s 2ms/step - loss: 0.2203 - accuracy: 0.9196 - val_loss: 0.3419 - val_accuracy: 0.8778\n",
      "Epoch 10/20\n",
      "1875/1875 [==============================] - 4s 2ms/step - loss: 0.2087 - accuracy: 0.9237 - val_loss: 0.3430 - val_accuracy: 0.8795\n",
      "Epoch 11/20\n",
      "1875/1875 [==============================] - 3s 2ms/step - loss: 0.1972 - accuracy: 0.9287 - val_loss: 0.3497 - val_accuracy: 0.8779\n",
      "Epoch 12/20\n",
      "1875/1875 [==============================] - 3s 2ms/step - loss: 0.1884 - accuracy: 0.9318 - val_loss: 0.3358 - val_accuracy: 0.8870\n",
      "Epoch 13/20\n",
      "1875/1875 [==============================] - 3s 2ms/step - loss: 0.1772 - accuracy: 0.9362 - val_loss: 0.3499 - val_accuracy: 0.8811\n",
      "Epoch 14/20\n",
      "1875/1875 [==============================] - 3s 2ms/step - loss: 0.1693 - accuracy: 0.9394 - val_loss: 0.3367 - val_accuracy: 0.8867\n",
      "Epoch 15/20\n",
      "1875/1875 [==============================] - 3s 2ms/step - loss: 0.1598 - accuracy: 0.9434 - val_loss: 0.3423 - val_accuracy: 0.8853\n",
      "Epoch 16/20\n",
      "1875/1875 [==============================] - 3s 2ms/step - loss: 0.1521 - accuracy: 0.9470 - val_loss: 0.3524 - val_accuracy: 0.8869\n",
      "Epoch 17/20\n",
      "1875/1875 [==============================] - 3s 2ms/step - loss: 0.1443 - accuracy: 0.9490 - val_loss: 0.3505 - val_accuracy: 0.8842\n",
      "Epoch 18/20\n",
      "1875/1875 [==============================] - 3s 2ms/step - loss: 0.1362 - accuracy: 0.9528 - val_loss: 0.3518 - val_accuracy: 0.8871\n",
      "Epoch 19/20\n",
      "1875/1875 [==============================] - 3s 2ms/step - loss: 0.1296 - accuracy: 0.9554 - val_loss: 0.3600 - val_accuracy: 0.8865\n",
      "Epoch 20/20\n",
      "1875/1875 [==============================] - 4s 2ms/step - loss: 0.1230 - accuracy: 0.9578 - val_loss: 0.3648 - val_accuracy: 0.8895\n"
     ]
    }
   ],
   "source": [
    "utils.reset_session()\n",
    "\n",
    "model = keras.models.Sequential([\n",
    "    keras.layers.Flatten(input_shape=[28, 28]),\n",
    "    keras.layers.Dense(300, activation='relu'),\n",
    "    keras.layers.Dense(100, activation='relu'),\n",
    "    keras.layers.Dense(10, activation='softmax')\n",
    "])\n",
    "\n",
    "optimizer = keras.optimizers.SGD()\n",
    "model.compile(\n",
    "    optimizer=optimizer,\n",
    "    loss='sparse_categorical_crossentropy',\n",
    "    metrics=['accuracy']\n",
    ")\n",
    "\n",
    "history = model.fit(\n",
    "    train_images, train_labels, \n",
    "    epochs=20,\n",
    "    validation_data=(test_images, test_labels)\n",
    ")"
   ]
  },
  {
   "cell_type": "markdown",
   "metadata": {
    "id": "HAxpWy4ZIlGa"
   },
   "source": [
    "## Max norm"
   ]
  },
  {
   "cell_type": "code",
   "execution_count": 4,
   "metadata": {
    "colab": {
     "base_uri": "https://localhost:8080/"
    },
    "id": "4Fh3WCYb2cJl",
    "outputId": "72b11303-2e07-4953-9bb4-2423422d8702"
   },
   "outputs": [
    {
     "name": "stdout",
     "output_type": "stream",
     "text": [
      "Epoch 1/20\n",
      "1875/1875 [==============================] - 4s 2ms/step - loss: 0.5182 - accuracy: 0.8215 - val_loss: 0.4462 - val_accuracy: 0.8391\n",
      "Epoch 2/20\n",
      "1875/1875 [==============================] - 4s 2ms/step - loss: 0.3665 - accuracy: 0.8692 - val_loss: 0.3970 - val_accuracy: 0.8576\n",
      "Epoch 3/20\n",
      "1875/1875 [==============================] - 4s 2ms/step - loss: 0.3298 - accuracy: 0.8819 - val_loss: 0.3750 - val_accuracy: 0.8627\n",
      "Epoch 4/20\n",
      "1875/1875 [==============================] - 4s 2ms/step - loss: 0.3048 - accuracy: 0.8899 - val_loss: 0.3613 - val_accuracy: 0.8724\n",
      "Epoch 5/20\n",
      "1875/1875 [==============================] - 4s 2ms/step - loss: 0.2858 - accuracy: 0.8968 - val_loss: 0.3534 - val_accuracy: 0.8716\n",
      "Epoch 6/20\n",
      "1875/1875 [==============================] - 4s 2ms/step - loss: 0.2694 - accuracy: 0.9025 - val_loss: 0.3462 - val_accuracy: 0.8740\n",
      "Epoch 7/20\n",
      "1875/1875 [==============================] - 4s 2ms/step - loss: 0.2553 - accuracy: 0.9069 - val_loss: 0.3599 - val_accuracy: 0.8724\n",
      "Epoch 8/20\n",
      "1875/1875 [==============================] - 4s 2ms/step - loss: 0.2418 - accuracy: 0.9121 - val_loss: 0.3335 - val_accuracy: 0.8819\n",
      "Epoch 9/20\n",
      "1875/1875 [==============================] - 4s 2ms/step - loss: 0.2299 - accuracy: 0.9173 - val_loss: 0.3363 - val_accuracy: 0.8800\n",
      "Epoch 10/20\n",
      "1875/1875 [==============================] - 4s 2ms/step - loss: 0.2191 - accuracy: 0.9205 - val_loss: 0.3411 - val_accuracy: 0.8810\n",
      "Epoch 11/20\n",
      "1875/1875 [==============================] - 4s 2ms/step - loss: 0.2084 - accuracy: 0.9244 - val_loss: 0.3481 - val_accuracy: 0.8779\n",
      "Epoch 12/20\n",
      "1875/1875 [==============================] - 4s 2ms/step - loss: 0.2004 - accuracy: 0.9273 - val_loss: 0.3281 - val_accuracy: 0.8882\n",
      "Epoch 13/20\n",
      "1875/1875 [==============================] - 4s 2ms/step - loss: 0.1901 - accuracy: 0.9321 - val_loss: 0.3394 - val_accuracy: 0.8840\n",
      "Epoch 14/20\n",
      "1875/1875 [==============================] - 4s 2ms/step - loss: 0.1829 - accuracy: 0.9347 - val_loss: 0.3262 - val_accuracy: 0.8885\n",
      "Epoch 15/20\n",
      "1875/1875 [==============================] - 4s 2ms/step - loss: 0.1739 - accuracy: 0.9373 - val_loss: 0.3297 - val_accuracy: 0.8880\n",
      "Epoch 16/20\n",
      "1875/1875 [==============================] - 4s 2ms/step - loss: 0.1665 - accuracy: 0.9416 - val_loss: 0.3435 - val_accuracy: 0.8846\n",
      "Epoch 17/20\n",
      "1875/1875 [==============================] - 4s 2ms/step - loss: 0.1594 - accuracy: 0.9432 - val_loss: 0.3360 - val_accuracy: 0.8869\n",
      "Epoch 18/20\n",
      "1875/1875 [==============================] - 4s 2ms/step - loss: 0.1526 - accuracy: 0.9464 - val_loss: 0.3359 - val_accuracy: 0.8899\n",
      "Epoch 19/20\n",
      "1875/1875 [==============================] - 4s 2ms/step - loss: 0.1464 - accuracy: 0.9479 - val_loss: 0.3426 - val_accuracy: 0.8875\n",
      "Epoch 20/20\n",
      "1875/1875 [==============================] - 4s 2ms/step - loss: 0.1412 - accuracy: 0.9506 - val_loss: 0.3529 - val_accuracy: 0.8875\n"
     ]
    }
   ],
   "source": [
    "utils.reset_session()\n",
    "\n",
    "model = keras.models.Sequential([\n",
    "    keras.layers.Flatten(input_shape=[28, 28]),\n",
    "    keras.layers.Dense(300, activation='relu', kernel_constraint=keras.constraints.max_norm(1.0)),\n",
    "    keras.layers.Dense(100, activation='relu', kernel_constraint=keras.constraints.max_norm(1.0)),\n",
    "    keras.layers.Dense(10, activation='softmax')\n",
    "])\n",
    "\n",
    "optimizer = keras.optimizers.SGD()\n",
    "model.compile(\n",
    "    optimizer=optimizer,\n",
    "    loss='sparse_categorical_crossentropy',\n",
    "    metrics=['accuracy']\n",
    ")\n",
    "\n",
    "history = model.fit(\n",
    "    train_images, train_labels, \n",
    "    epochs=20,\n",
    "    validation_data=(test_images, test_labels)\n",
    ")"
   ]
  }
 ],
 "metadata": {
  "accelerator": "GPU",
  "colab": {
   "collapsed_sections": [],
   "name": "09_max_norm.ipynb",
   "provenance": [],
   "toc_visible": true
  },
  "kernelspec": {
   "display_name": "Python 3",
   "language": "python",
   "name": "python3"
  },
  "language_info": {
   "codemirror_mode": {
    "name": "ipython",
    "version": 3
   },
   "file_extension": ".py",
   "mimetype": "text/x-python",
   "name": "python",
   "nbconvert_exporter": "python",
   "pygments_lexer": "ipython3",
   "version": "3.7.9"
  }
 },
 "nbformat": 4,
 "nbformat_minor": 4
}