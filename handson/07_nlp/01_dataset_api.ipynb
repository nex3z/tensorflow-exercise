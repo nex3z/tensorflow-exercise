{
 "cells": [
  {
   "cell_type": "code",
   "execution_count": 1,
   "metadata": {},
   "outputs": [],
   "source": [
    "import tensorflow as tf"
   ]
  },
  {
   "cell_type": "code",
   "execution_count": 2,
   "metadata": {},
   "outputs": [],
   "source": [
    "num_steps = 5"
   ]
  },
  {
   "cell_type": "code",
   "execution_count": 3,
   "metadata": {},
   "outputs": [],
   "source": [
    "def print_dataset(dataset):\n",
    "    for i, data in enumerate(dataset):\n",
    "        print(i, \":\\t\", data)"
   ]
  },
  {
   "cell_type": "code",
   "execution_count": 4,
   "metadata": {},
   "outputs": [
    {
     "name": "stdout",
     "output_type": "stream",
     "text": [
      "0 :\t tf.Tensor(0, shape=(), dtype=int32)\n",
      "1 :\t tf.Tensor(1, shape=(), dtype=int32)\n",
      "2 :\t tf.Tensor(2, shape=(), dtype=int32)\n",
      "3 :\t tf.Tensor(3, shape=(), dtype=int32)\n",
      "4 :\t tf.Tensor(4, shape=(), dtype=int32)\n",
      "5 :\t tf.Tensor(5, shape=(), dtype=int32)\n",
      "6 :\t tf.Tensor(6, shape=(), dtype=int32)\n",
      "7 :\t tf.Tensor(7, shape=(), dtype=int32)\n",
      "8 :\t tf.Tensor(8, shape=(), dtype=int32)\n",
      "9 :\t tf.Tensor(9, shape=(), dtype=int32)\n",
      "10 :\t tf.Tensor(10, shape=(), dtype=int32)\n",
      "11 :\t tf.Tensor(11, shape=(), dtype=int32)\n",
      "12 :\t tf.Tensor(12, shape=(), dtype=int32)\n",
      "13 :\t tf.Tensor(13, shape=(), dtype=int32)\n",
      "14 :\t tf.Tensor(14, shape=(), dtype=int32)\n"
     ]
    }
   ],
   "source": [
    "dataset = tf.data.Dataset.from_tensor_slices(tf.range(15))\n",
    "print_dataset(dataset)"
   ]
  },
  {
   "cell_type": "code",
   "execution_count": 5,
   "metadata": {},
   "outputs": [
    {
     "name": "stdout",
     "output_type": "stream",
     "text": [
      "0 :\t <_VariantDataset shapes: (), types: tf.int32>\n",
      "1 :\t <_VariantDataset shapes: (), types: tf.int32>\n",
      "2 :\t <_VariantDataset shapes: (), types: tf.int32>\n",
      "3 :\t <_VariantDataset shapes: (), types: tf.int32>\n",
      "4 :\t <_VariantDataset shapes: (), types: tf.int32>\n",
      "5 :\t <_VariantDataset shapes: (), types: tf.int32>\n"
     ]
    }
   ],
   "source": [
    "dataset = dataset.window(num_steps, shift=2, drop_remainder=True)\n",
    "print_dataset(dataset)"
   ]
  },
  {
   "cell_type": "code",
   "execution_count": 6,
   "metadata": {},
   "outputs": [
    {
     "name": "stdout",
     "output_type": "stream",
     "text": [
      "0 :\t tf.Tensor([0 1 2 3 4], shape=(5,), dtype=int32)\n",
      "1 :\t tf.Tensor([2 3 4 5 6], shape=(5,), dtype=int32)\n",
      "2 :\t tf.Tensor([4 5 6 7 8], shape=(5,), dtype=int32)\n",
      "3 :\t tf.Tensor([ 6  7  8  9 10], shape=(5,), dtype=int32)\n",
      "4 :\t tf.Tensor([ 8  9 10 11 12], shape=(5,), dtype=int32)\n",
      "5 :\t tf.Tensor([10 11 12 13 14], shape=(5,), dtype=int32)\n"
     ]
    }
   ],
   "source": [
    "dataset = dataset.flat_map(lambda window: window.batch(num_steps))\n",
    "print_dataset(dataset)"
   ]
  },
  {
   "cell_type": "code",
   "execution_count": 7,
   "metadata": {},
   "outputs": [
    {
     "name": "stdout",
     "output_type": "stream",
     "text": [
      "0 :\t (<tf.Tensor: shape=(4,), dtype=int32, numpy=array([2, 3, 4, 5])>, <tf.Tensor: shape=(4,), dtype=int32, numpy=array([3, 4, 5, 6])>)\n",
      "1 :\t (<tf.Tensor: shape=(4,), dtype=int32, numpy=array([4, 5, 6, 7])>, <tf.Tensor: shape=(4,), dtype=int32, numpy=array([5, 6, 7, 8])>)\n",
      "2 :\t (<tf.Tensor: shape=(4,), dtype=int32, numpy=array([6, 7, 8, 9])>, <tf.Tensor: shape=(4,), dtype=int32, numpy=array([ 7,  8,  9, 10])>)\n",
      "3 :\t (<tf.Tensor: shape=(4,), dtype=int32, numpy=array([10, 11, 12, 13])>, <tf.Tensor: shape=(4,), dtype=int32, numpy=array([11, 12, 13, 14])>)\n",
      "4 :\t (<tf.Tensor: shape=(4,), dtype=int32, numpy=array([ 8,  9, 10, 11])>, <tf.Tensor: shape=(4,), dtype=int32, numpy=array([ 9, 10, 11, 12])>)\n",
      "5 :\t (<tf.Tensor: shape=(4,), dtype=int32, numpy=array([0, 1, 2, 3])>, <tf.Tensor: shape=(4,), dtype=int32, numpy=array([1, 2, 3, 4])>)\n"
     ]
    }
   ],
   "source": [
    "dataset = dataset.shuffle(10).map(lambda window: (window[:-1], window[1:]))\n",
    "print_dataset(dataset)"
   ]
  },
  {
   "cell_type": "code",
   "execution_count": 8,
   "metadata": {},
   "outputs": [
    {
     "name": "stdout",
     "output_type": "stream",
     "text": [
      "0 :\t (<tf.Tensor: shape=(3, 4), dtype=int32, numpy=\n",
      "array([[10, 11, 12, 13],\n",
      "       [ 6,  7,  8,  9],\n",
      "       [ 8,  9, 10, 11]])>, <tf.Tensor: shape=(3, 4), dtype=int32, numpy=\n",
      "array([[11, 12, 13, 14],\n",
      "       [ 7,  8,  9, 10],\n",
      "       [ 9, 10, 11, 12]])>)\n",
      "1 :\t (<tf.Tensor: shape=(3, 4), dtype=int32, numpy=\n",
      "array([[0, 1, 2, 3],\n",
      "       [4, 5, 6, 7],\n",
      "       [2, 3, 4, 5]])>, <tf.Tensor: shape=(3, 4), dtype=int32, numpy=\n",
      "array([[1, 2, 3, 4],\n",
      "       [5, 6, 7, 8],\n",
      "       [3, 4, 5, 6]])>)\n"
     ]
    }
   ],
   "source": [
    "dataset = dataset.batch(3).prefetch(1)\n",
    "print_dataset(dataset)"
   ]
  }
 ],
 "metadata": {
  "kernelspec": {
   "display_name": "Python 3",
   "language": "python",
   "name": "python3"
  },
  "language_info": {
   "codemirror_mode": {
    "name": "ipython",
    "version": 3
   },
   "file_extension": ".py",
   "mimetype": "text/x-python",
   "name": "python",
   "nbconvert_exporter": "python",
   "pygments_lexer": "ipython3",
   "version": "3.7.9"
  }
 },
 "nbformat": 4,
 "nbformat_minor": 4
}
