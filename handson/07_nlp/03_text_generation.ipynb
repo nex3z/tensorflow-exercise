{
 "cells": [
  {
   "cell_type": "code",
   "execution_count": 1,
   "metadata": {},
   "outputs": [],
   "source": [
    "import numpy as np\n",
    "import tensorflow as tf\n",
    "from tensorflow import keras\n",
    "import utils"
   ]
  },
  {
   "cell_type": "code",
   "execution_count": 2,
   "metadata": {},
   "outputs": [],
   "source": [
    "tokenizer, dataset = utils.load_text_generation_dataset()\n",
    "vocab_size = len(tokenizer.word_index)"
   ]
  },
  {
   "cell_type": "code",
   "execution_count": 8,
   "metadata": {},
   "outputs": [
    {
     "name": "stdout",
     "output_type": "stream",
     "text": [
      "Epoch 1/20\n",
      "16/16 [==============================] - 1s 87ms/step - loss: 2.8714 - accuracy: 0.1918\n",
      "Epoch 2/20\n",
      "16/16 [==============================] - 2s 104ms/step - loss: 2.3649 - accuracy: 0.3108\n",
      "Epoch 3/20\n",
      "16/16 [==============================] - 2s 109ms/step - loss: 1.9530 - accuracy: 0.4127\n",
      "Epoch 4/20\n",
      "16/16 [==============================] - 2s 143ms/step - loss: 1.6196 - accuracy: 0.5064\n",
      "Epoch 5/20\n",
      "16/16 [==============================] - 2s 125ms/step - loss: 1.3554 - accuracy: 0.5770\n",
      "Epoch 6/20\n",
      "16/16 [==============================] - 2s 113ms/step - loss: 1.1307 - accuracy: 0.6441\n",
      "Epoch 7/20\n",
      "16/16 [==============================] - 2s 106ms/step - loss: 0.9560 - accuracy: 0.6977\n",
      "Epoch 8/20\n",
      "16/16 [==============================] - 2s 99ms/step - loss: 0.8315 - accuracy: 0.7383\n",
      "Epoch 9/20\n",
      "16/16 [==============================] - 2s 100ms/step - loss: 0.7328 - accuracy: 0.7702\n",
      "Epoch 10/20\n",
      "16/16 [==============================] - 2s 100ms/step - loss: 0.6537 - accuracy: 0.7942\n",
      "Epoch 11/20\n",
      "16/16 [==============================] - 2s 98ms/step - loss: 0.6059 - accuracy: 0.8085\n",
      "Epoch 12/20\n",
      "16/16 [==============================] - 2s 100ms/step - loss: 0.5541 - accuracy: 0.8267\n",
      "Epoch 13/20\n",
      "16/16 [==============================] - 2s 103ms/step - loss: 0.5193 - accuracy: 0.8335\n",
      "Epoch 14/20\n",
      "16/16 [==============================] - 2s 96ms/step - loss: 0.4823 - accuracy: 0.8478\n",
      "Epoch 15/20\n",
      "16/16 [==============================] - 2s 135ms/step - loss: 0.4575 - accuracy: 0.8551\n",
      "Epoch 16/20\n",
      "16/16 [==============================] - 2s 104ms/step - loss: 0.4328 - accuracy: 0.8621\n",
      "Epoch 17/20\n",
      "16/16 [==============================] - 2s 100ms/step - loss: 0.4183 - accuracy: 0.8669\n",
      "Epoch 18/20\n",
      "16/16 [==============================] - 2s 107ms/step - loss: 0.3943 - accuracy: 0.8732\n",
      "Epoch 19/20\n",
      "16/16 [==============================] - 2s 115ms/step - loss: 0.3811 - accuracy: 0.8779\n",
      "Epoch 20/20\n",
      "16/16 [==============================] - 2s 112ms/step - loss: 0.3686 - accuracy: 0.8809\n"
     ]
    }
   ],
   "source": [
    "utils.reset_session()\n",
    "\n",
    "model = keras.models.Sequential([\n",
    "    keras.layers.GRU(32, return_sequences=True, input_shape=[None, vocab_size], dropout=0.2, recurrent_dropout=0.2),\n",
    "    keras.layers.GRU(32, return_sequences=True, dropout=0.2, recurrent_dropout=0.2),\n",
    "    keras.layers.TimeDistributed(keras.layers.Dense(vocab_size, activation='softmax'))\n",
    "])\n",
    "\n",
    "optimizer = keras.optimizers.Adam(learning_rate=1e-2)\n",
    "model.compile(loss='sparse_categorical_crossentropy', optimizer=optimizer, metrics=['accuracy'])\n",
    "\n",
    "history = model.fit(dataset, epochs=20)"
   ]
  },
  {
   "cell_type": "code",
   "execution_count": 4,
   "metadata": {},
   "outputs": [],
   "source": [
    "def preprocess(texts):\n",
    "    x = np.array(tokenizer.texts_to_sequences(texts)) - 1\n",
    "    return tf.one_hot(x, vocab_size)"
   ]
  },
  {
   "cell_type": "code",
   "execution_count": 5,
   "metadata": {},
   "outputs": [
    {
     "name": "stdout",
     "output_type": "stream",
     "text": [
      "WARNING:tensorflow:From <ipython-input-5-d4631fbb8212>:2: Sequential.predict_classes (from tensorflow.python.keras.engine.sequential) is deprecated and will be removed after 2021-01-01.\n",
      "Instructions for updating:\n",
      "Please use instead:* `np.argmax(model.predict(x), axis=-1)`,   if your model does multi-class classification   (e.g. if it uses a `softmax` last-layer activation).* `(model.predict(x) > 0.5).astype(\"int32\")`,   if your model does binary classification   (e.g. if it uses a `sigmoid` last-layer activation).\n"
     ]
    },
    {
     "data": {
      "text/plain": [
       "'e'"
      ]
     },
     "execution_count": 5,
     "metadata": {},
     "output_type": "execute_result"
    }
   ],
   "source": [
    "x_new = preprocess([\"It was the b\"])\n",
    "y_pred = model.predict_classes(x_new)\n",
    "tokenizer.sequences_to_texts(y_pred + 1)[0][-1]"
   ]
  },
  {
   "cell_type": "code",
   "execution_count": 6,
   "metadata": {},
   "outputs": [
    {
     "data": {
      "text/plain": [
       "array([[ 2,  0, 10,  6,  5,  0,  2,  7,  1,  0,  5,  1]], dtype=int64)"
      ]
     },
     "execution_count": 6,
     "metadata": {},
     "output_type": "execute_result"
    }
   ],
   "source": [
    "y_pred"
   ]
  },
  {
   "cell_type": "code",
   "execution_count": 7,
   "metadata": {},
   "outputs": [
    {
     "data": {
      "text/plain": [
       "['t   w a s   t h e   s e']"
      ]
     },
     "execution_count": 7,
     "metadata": {},
     "output_type": "execute_result"
    }
   ],
   "source": [
    "tokenizer.sequences_to_texts(y_pred + 1)"
   ]
  },
  {
   "cell_type": "code",
   "execution_count": null,
   "metadata": {},
   "outputs": [],
   "source": []
  }
 ],
 "metadata": {
  "kernelspec": {
   "display_name": "Python 3",
   "language": "python",
   "name": "python3"
  },
  "language_info": {
   "codemirror_mode": {
    "name": "ipython",
    "version": 3
   },
   "file_extension": ".py",
   "mimetype": "text/x-python",
   "name": "python",
   "nbconvert_exporter": "python",
   "pygments_lexer": "ipython3",
   "version": "3.7.9"
  }
 },
 "nbformat": 4,
 "nbformat_minor": 4
}
