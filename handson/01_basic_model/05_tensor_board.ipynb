{
  "nbformat": 4,
  "nbformat_minor": 0,
  "metadata": {
    "colab": {
      "name": "05_tensor_board.ipynb",
      "provenance": [],
      "collapsed_sections": [],
      "toc_visible": true
    },
    "kernelspec": {
      "name": "python3",
      "display_name": "Python 3"
    },
    "accelerator": "GPU"
  },
  "cells": [
    {
      "cell_type": "code",
      "metadata": {
        "id": "jOPTEwRffRpn"
      },
      "source": [
        "import os\n",
        "from datetime import datetime\n",
        "\n",
        "import numpy as np\n",
        "import tensorflow as tf\n",
        "from tensorflow import keras"
      ],
      "execution_count": 1,
      "outputs": []
    },
    {
      "cell_type": "code",
      "metadata": {
        "id": "hFGlPFTtJSqp"
      },
      "source": [
        "LOG_BASE_DIR = './logs'"
      ],
      "execution_count": 2,
      "outputs": []
    },
    {
      "cell_type": "code",
      "metadata": {
        "colab": {
          "base_uri": "https://localhost:8080/"
        },
        "id": "Ti8twVcICgn4",
        "outputId": "53052859-7219-4147-ff69-86faa0dab961"
      },
      "source": [
        "(train_images, train_labels), (test_images, test_labels) = keras.datasets.fashion_mnist.load_data()\n",
        "\n",
        "train_images  = train_images / 255.0\n",
        "train_images = np.expand_dims(train_images, axis=-1)\n",
        "print(f\"train_images.shape = {train_images.shape}, train_labels.shape = {train_labels.shape}\")\n",
        "test_images = test_images / 255.0\n",
        "test_images = np.expand_dims(test_images, axis=-1)\n",
        "print(f\"test_images.shape = {test_images.shape}, test_labels.shape = {test_labels.shape}\")"
      ],
      "execution_count": 3,
      "outputs": [
        {
          "output_type": "stream",
          "text": [
            "train_images.shape = (60000, 28, 28, 1), train_labels.shape = (60000,)\n",
            "test_images.shape = (10000, 28, 28, 1), test_labels.shape = (10000,)\n"
          ],
          "name": "stdout"
        }
      ]
    },
    {
      "cell_type": "code",
      "metadata": {
        "id": "lIFtCkoMCpsb"
      },
      "source": [
        "def build_model():\n",
        "    model = keras.models.Sequential([\n",
        "        keras.layers.Conv2D(64, (3, 3), activation='relu', input_shape=(28, 28, 1)),\n",
        "        keras.layers.MaxPooling2D(2, 2),\n",
        "        keras.layers.Conv2D(64, (3, 3), activation='relu'),\n",
        "        keras.layers.MaxPooling2D(2, 2),\n",
        "        keras.layers.Flatten(),\n",
        "        keras.layers.Dense(128, activation='relu'), \n",
        "        keras.layers.Dense(10, activation='softmax')\n",
        "    ])\n",
        "    model.compile(\n",
        "        optimizer=keras.optimizers.Adam(),\n",
        "        loss='sparse_categorical_crossentropy',\n",
        "        metrics=['accuracy']\n",
        "    )\n",
        "    return model"
      ],
      "execution_count": 4,
      "outputs": []
    },
    {
      "cell_type": "code",
      "metadata": {
        "colab": {
          "base_uri": "https://localhost:8080/"
        },
        "id": "cZZVDzmnJPxT",
        "outputId": "1f2b2b13-1164-49e9-a20e-3d9ad130c0b8"
      },
      "source": [
        "log_dir = os.path.join(LOG_BASE_DIR, datetime.now().strftime(\"%Y%m%d_%H%M%S\"))\n",
        "print(f\"log_dir = {log_dir}\")\n",
        "\n",
        "cb_tensor_board = keras.callbacks.TensorBoard(log_dir)"
      ],
      "execution_count": 5,
      "outputs": [
        {
          "output_type": "stream",
          "text": [
            "log_dir = ./logs/20201123_101944\n"
          ],
          "name": "stdout"
        }
      ]
    },
    {
      "cell_type": "code",
      "metadata": {
        "colab": {
          "base_uri": "https://localhost:8080/"
        },
        "id": "LWoiobcp6_01",
        "outputId": "1ecc0b72-67dc-41d5-f621-a608496e34a9"
      },
      "source": [
        "keras.backend.clear_session()\n",
        "\n",
        "model = build_model()\n",
        "\n",
        "history = model.fit(\n",
        "    train_images,\n",
        "    train_labels, \n",
        "    epochs=10,\n",
        "    batch_size=64,\n",
        "    validation_data=(test_images, test_labels),\n",
        "    callbacks=[cb_tensor_board],\n",
        "    verbose=1\n",
        ")"
      ],
      "execution_count": 6,
      "outputs": [
        {
          "output_type": "stream",
          "text": [
            "Epoch 1/10\n",
            "  1/938 [..............................] - ETA: 0s - loss: 2.3044 - accuracy: 0.0625WARNING:tensorflow:From /usr/local/lib/python3.6/dist-packages/tensorflow/python/ops/summary_ops_v2.py:1277: stop (from tensorflow.python.eager.profiler) is deprecated and will be removed after 2020-07-01.\n",
            "Instructions for updating:\n",
            "use `tf.profiler.experimental.stop` instead.\n",
            "  2/938 [..............................] - ETA: 37s - loss: 2.2846 - accuracy: 0.1250WARNING:tensorflow:Callbacks method `on_train_batch_end` is slow compared to the batch time (batch time: 0.0061s vs `on_train_batch_end` time: 0.0680s). Check your callbacks.\n",
            "938/938 [==============================] - 3s 4ms/step - loss: 0.4775 - accuracy: 0.8276 - val_loss: 0.3836 - val_accuracy: 0.8566\n",
            "Epoch 2/10\n",
            "938/938 [==============================] - 3s 3ms/step - loss: 0.3176 - accuracy: 0.8837 - val_loss: 0.3225 - val_accuracy: 0.8803\n",
            "Epoch 3/10\n",
            "938/938 [==============================] - 3s 3ms/step - loss: 0.2705 - accuracy: 0.8999 - val_loss: 0.2867 - val_accuracy: 0.8956\n",
            "Epoch 4/10\n",
            "938/938 [==============================] - 3s 3ms/step - loss: 0.2400 - accuracy: 0.9116 - val_loss: 0.2696 - val_accuracy: 0.9020\n",
            "Epoch 5/10\n",
            "938/938 [==============================] - 3s 3ms/step - loss: 0.2148 - accuracy: 0.9206 - val_loss: 0.2590 - val_accuracy: 0.9075\n",
            "Epoch 6/10\n",
            "938/938 [==============================] - 3s 3ms/step - loss: 0.1909 - accuracy: 0.9298 - val_loss: 0.2701 - val_accuracy: 0.9061\n",
            "Epoch 7/10\n",
            "938/938 [==============================] - 3s 3ms/step - loss: 0.1736 - accuracy: 0.9352 - val_loss: 0.2596 - val_accuracy: 0.9111\n",
            "Epoch 8/10\n",
            "938/938 [==============================] - 3s 4ms/step - loss: 0.1529 - accuracy: 0.9422 - val_loss: 0.2537 - val_accuracy: 0.9110\n",
            "Epoch 9/10\n",
            "938/938 [==============================] - 3s 3ms/step - loss: 0.1381 - accuracy: 0.9489 - val_loss: 0.2564 - val_accuracy: 0.9148\n",
            "Epoch 10/10\n",
            "938/938 [==============================] - 3s 3ms/step - loss: 0.1212 - accuracy: 0.9555 - val_loss: 0.2639 - val_accuracy: 0.9078\n"
          ],
          "name": "stdout"
        }
      ]
    },
    {
      "cell_type": "code",
      "metadata": {
        "id": "_tE-b-ccJ0xo"
      },
      "source": [
        "%load_ext tensorboard"
      ],
      "execution_count": 7,
      "outputs": []
    },
    {
      "cell_type": "code",
      "metadata": {
        "id": "Hl9aYE_2J3-M"
      },
      "source": [
        "%tensorboard --logdir {LOG_BASE_DIR}"
      ],
      "execution_count": null,
      "outputs": []
    }
  ]
}