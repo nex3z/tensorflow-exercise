{
  "nbformat": 4,
  "nbformat_minor": 0,
  "metadata": {
    "colab": {
      "name": "06_hyperparameter_search.ipynb",
      "provenance": [],
      "collapsed_sections": [],
      "toc_visible": true
    },
    "kernelspec": {
      "name": "python3",
      "display_name": "Python 3"
    },
    "accelerator": "GPU"
  },
  "cells": [
    {
      "cell_type": "code",
      "metadata": {
        "id": "jOPTEwRffRpn"
      },
      "source": [
        "import os\n",
        "from datetime import datetime\n",
        "\n",
        "import numpy as np\n",
        "import tensorflow as tf\n",
        "from scipy.stats import reciprocal\n",
        "from sklearn.model_selection import RandomizedSearchCV\n",
        "from tensorflow import keras"
      ],
      "execution_count": 1,
      "outputs": []
    },
    {
      "cell_type": "code",
      "metadata": {
        "id": "hFGlPFTtJSqp"
      },
      "source": [
        "LOG_BASE_DIR = './logs'"
      ],
      "execution_count": 2,
      "outputs": []
    },
    {
      "cell_type": "code",
      "metadata": {
        "colab": {
          "base_uri": "https://localhost:8080/"
        },
        "id": "Ti8twVcICgn4",
        "outputId": "bc5f3d39-fdbc-4147-e788-67245883cde7"
      },
      "source": [
        "(train_images, train_labels), (test_images, test_labels) = keras.datasets.fashion_mnist.load_data()\n",
        "\n",
        "train_images  = train_images / 255.0\n",
        "train_images = np.expand_dims(train_images, axis=-1)\n",
        "print(f\"train_images.shape = {train_images.shape}, train_labels.shape = {train_labels.shape}\")\n",
        "test_images = test_images / 255.0\n",
        "test_images = np.expand_dims(test_images, axis=-1)\n",
        "print(f\"test_images.shape = {test_images.shape}, test_labels.shape = {test_labels.shape}\")"
      ],
      "execution_count": 3,
      "outputs": [
        {
          "output_type": "stream",
          "text": [
            "train_images.shape = (60000, 28, 28, 1), train_labels.shape = (60000,)\n",
            "test_images.shape = (10000, 28, 28, 1), test_labels.shape = (10000,)\n"
          ],
          "name": "stdout"
        }
      ]
    },
    {
      "cell_type": "code",
      "metadata": {
        "id": "UzSEA0aUgq8B"
      },
      "source": [
        "def build_model(num_conv_blocks=2, conv_filter_size=(3, 3), learning_rate=0.001):\n",
        "    print(f\"build_model(): {locals()}\")\n",
        "    model = keras.models.Sequential()\n",
        "\n",
        "    model.add(keras.layers.InputLayer(input_shape=(28, 28, 1)))\n",
        "\n",
        "    for _ in range(num_conv_blocks):\n",
        "        model.add(keras.layers.Conv2D(64, (3, 3), activation='relu'))\n",
        "        model.add(keras.layers.MaxPooling2D(2, 2))\n",
        "\n",
        "    model.add(keras.layers.Flatten())\n",
        "    model.add(keras.layers.Dense(128, activation='relu'))\n",
        "    model.add(keras.layers.Dense(10, activation='softmax'))\n",
        "\n",
        "    model.compile(\n",
        "        optimizer=keras.optimizers.Adam(learning_rate=learning_rate),\n",
        "        loss='sparse_categorical_crossentropy',\n",
        "        metrics=['accuracy']\n",
        "    )\n",
        "\n",
        "    return model"
      ],
      "execution_count": 4,
      "outputs": []
    },
    {
      "cell_type": "markdown",
      "metadata": {
        "id": "j0D94Wemc1TT"
      },
      "source": [
        "## KerasRegressor"
      ]
    },
    {
      "cell_type": "code",
      "metadata": {
        "id": "LWoiobcp6_01"
      },
      "source": [
        "keras.backend.clear_session()\n",
        "\n",
        "reg = keras.wrappers.scikit_learn.KerasRegressor(build_model)"
      ],
      "execution_count": 5,
      "outputs": []
    },
    {
      "cell_type": "code",
      "metadata": {
        "colab": {
          "base_uri": "https://localhost:8080/"
        },
        "id": "22ma4JSBjiTz",
        "outputId": "4de058c5-c5dd-463f-cbc8-0ccf294847ee"
      },
      "source": [
        "reg.fit(\n",
        "    train_images,\n",
        "    train_labels, \n",
        "    epochs=10,\n",
        "    batch_size=64,\n",
        "    validation_data=(test_images, test_labels),\n",
        "    verbose=1\n",
        ")"
      ],
      "execution_count": 6,
      "outputs": [
        {
          "output_type": "stream",
          "text": [
            "build_model(): {'learning_rate': 0.001, 'conv_filter_size': (3, 3), 'num_conv_blocks': 2}\n",
            "Epoch 1/10\n",
            "938/938 [==============================] - 3s 3ms/step - loss: 0.4723 - accuracy: 0.8298 - val_loss: 0.3637 - val_accuracy: 0.8684\n",
            "Epoch 2/10\n",
            "938/938 [==============================] - 3s 4ms/step - loss: 0.3172 - accuracy: 0.8841 - val_loss: 0.3094 - val_accuracy: 0.8883\n",
            "Epoch 3/10\n",
            "938/938 [==============================] - 3s 4ms/step - loss: 0.2707 - accuracy: 0.9008 - val_loss: 0.3118 - val_accuracy: 0.8849\n",
            "Epoch 4/10\n",
            "938/938 [==============================] - 3s 4ms/step - loss: 0.2411 - accuracy: 0.9101 - val_loss: 0.2675 - val_accuracy: 0.9002\n",
            "Epoch 5/10\n",
            "938/938 [==============================] - 3s 3ms/step - loss: 0.2185 - accuracy: 0.9190 - val_loss: 0.2573 - val_accuracy: 0.9048\n",
            "Epoch 6/10\n",
            "938/938 [==============================] - 3s 3ms/step - loss: 0.1937 - accuracy: 0.9282 - val_loss: 0.2635 - val_accuracy: 0.9038\n",
            "Epoch 7/10\n",
            "938/938 [==============================] - 3s 3ms/step - loss: 0.1728 - accuracy: 0.9341 - val_loss: 0.2690 - val_accuracy: 0.9050\n",
            "Epoch 8/10\n",
            "938/938 [==============================] - 3s 3ms/step - loss: 0.1563 - accuracy: 0.9407 - val_loss: 0.2677 - val_accuracy: 0.9030\n",
            "Epoch 9/10\n",
            "938/938 [==============================] - 3s 3ms/step - loss: 0.1403 - accuracy: 0.9469 - val_loss: 0.2549 - val_accuracy: 0.9139\n",
            "Epoch 10/10\n",
            "938/938 [==============================] - 3s 3ms/step - loss: 0.1245 - accuracy: 0.9532 - val_loss: 0.2644 - val_accuracy: 0.9152\n"
          ],
          "name": "stdout"
        },
        {
          "output_type": "execute_result",
          "data": {
            "text/plain": [
              "<tensorflow.python.keras.callbacks.History at 0x7f961c0ef1d0>"
            ]
          },
          "metadata": {
            "tags": []
          },
          "execution_count": 6
        }
      ]
    },
    {
      "cell_type": "markdown",
      "metadata": {
        "id": "dQzlyIIzc4KW"
      },
      "source": [
        "## RandomizedSearchCV"
      ]
    },
    {
      "cell_type": "code",
      "metadata": {
        "id": "3d-5pwojiNhM"
      },
      "source": [
        "keras.backend.clear_session()\n",
        "\n",
        "params = {\n",
        "    'num_conv_blocks': [1, 2, 3],\n",
        "    'conv_filter_size': [(3, 3), (5, 5)],\n",
        "    'learning_rate': [1e-3, 1e-4],\n",
        "}\n",
        "\n",
        "reg = keras.wrappers.scikit_learn.KerasRegressor(build_model)"
      ],
      "execution_count": 7,
      "outputs": []
    },
    {
      "cell_type": "code",
      "metadata": {
        "colab": {
          "base_uri": "https://localhost:8080/"
        },
        "id": "o92G1xrcc6so",
        "outputId": "a84d2e56-3b5a-4328-ed8b-0b589297a05e"
      },
      "source": [
        "search = RandomizedSearchCV(reg, params, n_iter=10, cv=3, verbose=2)\n",
        "\n",
        "search.fit(\n",
        "    train_images,\n",
        "    train_labels, \n",
        "    epochs=10,\n",
        "    batch_size=64,\n",
        "    validation_data=(test_images, test_labels),\n",
        "    verbose=0\n",
        ")"
      ],
      "execution_count": 8,
      "outputs": [
        {
          "output_type": "stream",
          "text": [
            "Fitting 3 folds for each of 10 candidates, totalling 30 fits\n",
            "[CV] num_conv_blocks=3, learning_rate=0.001, conv_filter_size=(5, 5) .\n",
            "build_model(): {'learning_rate': 0.001, 'conv_filter_size': (5, 5), 'num_conv_blocks': 3}\n"
          ],
          "name": "stdout"
        },
        {
          "output_type": "stream",
          "text": [
            "[Parallel(n_jobs=1)]: Using backend SequentialBackend with 1 concurrent workers.\n"
          ],
          "name": "stderr"
        },
        {
          "output_type": "stream",
          "text": [
            "  1/625 [..............................] - ETA: 0s - loss: 0.2442 - accuracy: 0.9062WARNING:tensorflow:Callbacks method `on_test_batch_end` is slow compared to the batch time (batch time: 0.0022s vs `on_test_batch_end` time: 0.0036s). Check your callbacks.\n",
            "625/625 [==============================] - 1s 2ms/step - loss: 0.3040 - accuracy: 0.8888\n",
            "[CV]  num_conv_blocks=3, learning_rate=0.001, conv_filter_size=(5, 5), total=  15.3s\n",
            "[CV] num_conv_blocks=3, learning_rate=0.001, conv_filter_size=(5, 5) .\n",
            "build_model(): {'learning_rate': 0.001, 'conv_filter_size': (5, 5), 'num_conv_blocks': 3}\n"
          ],
          "name": "stdout"
        },
        {
          "output_type": "stream",
          "text": [
            "[Parallel(n_jobs=1)]: Done   1 out of   1 | elapsed:   15.3s remaining:    0.0s\n"
          ],
          "name": "stderr"
        },
        {
          "output_type": "stream",
          "text": [
            "625/625 [==============================] - 1s 2ms/step - loss: 0.3263 - accuracy: 0.8799\n",
            "[CV]  num_conv_blocks=3, learning_rate=0.001, conv_filter_size=(5, 5), total=  15.1s\n",
            "[CV] num_conv_blocks=3, learning_rate=0.001, conv_filter_size=(5, 5) .\n",
            "build_model(): {'learning_rate': 0.001, 'conv_filter_size': (5, 5), 'num_conv_blocks': 3}\n",
            "625/625 [==============================] - 1s 2ms/step - loss: 0.3261 - accuracy: 0.8837\n",
            "[CV]  num_conv_blocks=3, learning_rate=0.001, conv_filter_size=(5, 5), total=  15.1s\n",
            "[CV] num_conv_blocks=1, learning_rate=0.0001, conv_filter_size=(5, 5) \n",
            "build_model(): {'learning_rate': 0.0001, 'conv_filter_size': (5, 5), 'num_conv_blocks': 1}\n",
            "625/625 [==============================] - 1s 2ms/step - loss: 0.3031 - accuracy: 0.8927\n",
            "[CV]  num_conv_blocks=1, learning_rate=0.0001, conv_filter_size=(5, 5), total=  12.5s\n",
            "[CV] num_conv_blocks=1, learning_rate=0.0001, conv_filter_size=(5, 5) \n",
            "build_model(): {'learning_rate': 0.0001, 'conv_filter_size': (5, 5), 'num_conv_blocks': 1}\n",
            "  1/625 [..............................] - ETA: 0s - loss: 0.1414 - accuracy: 0.9688WARNING:tensorflow:Callbacks method `on_test_batch_end` is slow compared to the batch time (batch time: 0.0018s vs `on_test_batch_end` time: 0.0034s). Check your callbacks.\n",
            "625/625 [==============================] - 1s 2ms/step - loss: 0.2850 - accuracy: 0.9010\n",
            "[CV]  num_conv_blocks=1, learning_rate=0.0001, conv_filter_size=(5, 5), total=  12.6s\n",
            "[CV] num_conv_blocks=1, learning_rate=0.0001, conv_filter_size=(5, 5) \n",
            "build_model(): {'learning_rate': 0.0001, 'conv_filter_size': (5, 5), 'num_conv_blocks': 1}\n",
            "  1/625 [..............................] - ETA: 0s - loss: 0.5187 - accuracy: 0.8125WARNING:tensorflow:Callbacks method `on_test_batch_end` is slow compared to the batch time (batch time: 0.0020s vs `on_test_batch_end` time: 0.0032s). Check your callbacks.\n",
            "625/625 [==============================] - 1s 2ms/step - loss: 0.3061 - accuracy: 0.8914\n",
            "[CV]  num_conv_blocks=1, learning_rate=0.0001, conv_filter_size=(5, 5), total=  12.4s\n",
            "[CV] num_conv_blocks=3, learning_rate=0.0001, conv_filter_size=(3, 3) \n",
            "build_model(): {'learning_rate': 0.0001, 'conv_filter_size': (3, 3), 'num_conv_blocks': 3}\n",
            "625/625 [==============================] - 1s 2ms/step - loss: 0.4396 - accuracy: 0.8414\n",
            "[CV]  num_conv_blocks=3, learning_rate=0.0001, conv_filter_size=(3, 3), total=  15.2s\n",
            "[CV] num_conv_blocks=3, learning_rate=0.0001, conv_filter_size=(3, 3) \n",
            "build_model(): {'learning_rate': 0.0001, 'conv_filter_size': (3, 3), 'num_conv_blocks': 3}\n",
            "  1/625 [..............................] - ETA: 0s - loss: 0.2632 - accuracy: 0.9688WARNING:tensorflow:Callbacks method `on_test_batch_end` is slow compared to the batch time (batch time: 0.0021s vs `on_test_batch_end` time: 0.0034s). Check your callbacks.\n",
            "625/625 [==============================] - 1s 2ms/step - loss: 0.4485 - accuracy: 0.8385\n",
            "[CV]  num_conv_blocks=3, learning_rate=0.0001, conv_filter_size=(3, 3), total=  15.1s\n",
            "[CV] num_conv_blocks=3, learning_rate=0.0001, conv_filter_size=(3, 3) \n",
            "build_model(): {'learning_rate': 0.0001, 'conv_filter_size': (3, 3), 'num_conv_blocks': 3}\n",
            "625/625 [==============================] - 1s 2ms/step - loss: 0.4576 - accuracy: 0.8358\n",
            "[CV]  num_conv_blocks=3, learning_rate=0.0001, conv_filter_size=(3, 3), total=  15.2s\n",
            "[CV] num_conv_blocks=1, learning_rate=0.001, conv_filter_size=(5, 5) .\n",
            "build_model(): {'learning_rate': 0.001, 'conv_filter_size': (5, 5), 'num_conv_blocks': 1}\n",
            "625/625 [==============================] - 1s 2ms/step - loss: 0.3128 - accuracy: 0.9104\n",
            "[CV]  num_conv_blocks=1, learning_rate=0.001, conv_filter_size=(5, 5), total=  12.6s\n",
            "[CV] num_conv_blocks=1, learning_rate=0.001, conv_filter_size=(5, 5) .\n",
            "build_model(): {'learning_rate': 0.001, 'conv_filter_size': (5, 5), 'num_conv_blocks': 1}\n",
            "625/625 [==============================] - 1s 2ms/step - loss: 0.2711 - accuracy: 0.9172\n",
            "[CV]  num_conv_blocks=1, learning_rate=0.001, conv_filter_size=(5, 5), total=  12.5s\n",
            "[CV] num_conv_blocks=1, learning_rate=0.001, conv_filter_size=(5, 5) .\n",
            "build_model(): {'learning_rate': 0.001, 'conv_filter_size': (5, 5), 'num_conv_blocks': 1}\n",
            "625/625 [==============================] - 1s 2ms/step - loss: 0.3235 - accuracy: 0.9081\n",
            "[CV]  num_conv_blocks=1, learning_rate=0.001, conv_filter_size=(5, 5), total=  12.5s\n",
            "[CV] num_conv_blocks=2, learning_rate=0.001, conv_filter_size=(5, 5) .\n",
            "build_model(): {'learning_rate': 0.001, 'conv_filter_size': (5, 5), 'num_conv_blocks': 2}\n",
            "625/625 [==============================] - 1s 2ms/step - loss: 0.2847 - accuracy: 0.9036\n",
            "[CV]  num_conv_blocks=2, learning_rate=0.001, conv_filter_size=(5, 5), total=  14.4s\n",
            "[CV] num_conv_blocks=2, learning_rate=0.001, conv_filter_size=(5, 5) .\n",
            "build_model(): {'learning_rate': 0.001, 'conv_filter_size': (5, 5), 'num_conv_blocks': 2}\n",
            "625/625 [==============================] - 1s 2ms/step - loss: 0.2548 - accuracy: 0.9141\n",
            "[CV]  num_conv_blocks=2, learning_rate=0.001, conv_filter_size=(5, 5), total=  14.2s\n",
            "[CV] num_conv_blocks=2, learning_rate=0.001, conv_filter_size=(5, 5) .\n",
            "build_model(): {'learning_rate': 0.001, 'conv_filter_size': (5, 5), 'num_conv_blocks': 2}\n",
            "625/625 [==============================] - 1s 2ms/step - loss: 0.2773 - accuracy: 0.9128\n",
            "[CV]  num_conv_blocks=2, learning_rate=0.001, conv_filter_size=(5, 5), total=  14.3s\n",
            "[CV] num_conv_blocks=3, learning_rate=0.001, conv_filter_size=(3, 3) .\n",
            "build_model(): {'learning_rate': 0.001, 'conv_filter_size': (3, 3), 'num_conv_blocks': 3}\n",
            "  1/625 [..............................] - ETA: 0s - loss: 0.2200 - accuracy: 0.9062WARNING:tensorflow:Callbacks method `on_test_batch_end` is slow compared to the batch time (batch time: 0.0019s vs `on_test_batch_end` time: 0.0032s). Check your callbacks.\n",
            "625/625 [==============================] - 1s 2ms/step - loss: 0.3124 - accuracy: 0.8879\n",
            "[CV]  num_conv_blocks=3, learning_rate=0.001, conv_filter_size=(3, 3), total=  15.3s\n",
            "[CV] num_conv_blocks=3, learning_rate=0.001, conv_filter_size=(3, 3) .\n",
            "build_model(): {'learning_rate': 0.001, 'conv_filter_size': (3, 3), 'num_conv_blocks': 3}\n",
            "625/625 [==============================] - 1s 2ms/step - loss: 0.3113 - accuracy: 0.8925\n",
            "[CV]  num_conv_blocks=3, learning_rate=0.001, conv_filter_size=(3, 3), total=  15.1s\n",
            "[CV] num_conv_blocks=3, learning_rate=0.001, conv_filter_size=(3, 3) .\n",
            "build_model(): {'learning_rate': 0.001, 'conv_filter_size': (3, 3), 'num_conv_blocks': 3}\n",
            "625/625 [==============================] - 1s 2ms/step - loss: 0.3214 - accuracy: 0.8870\n",
            "[CV]  num_conv_blocks=3, learning_rate=0.001, conv_filter_size=(3, 3), total=  15.1s\n",
            "[CV] num_conv_blocks=1, learning_rate=0.0001, conv_filter_size=(3, 3) \n",
            "build_model(): {'learning_rate': 0.0001, 'conv_filter_size': (3, 3), 'num_conv_blocks': 1}\n",
            "625/625 [==============================] - 1s 2ms/step - loss: 0.2910 - accuracy: 0.8956\n",
            "[CV]  num_conv_blocks=1, learning_rate=0.0001, conv_filter_size=(3, 3), total=  12.5s\n",
            "[CV] num_conv_blocks=1, learning_rate=0.0001, conv_filter_size=(3, 3) \n",
            "build_model(): {'learning_rate': 0.0001, 'conv_filter_size': (3, 3), 'num_conv_blocks': 1}\n",
            "625/625 [==============================] - 1s 2ms/step - loss: 0.2828 - accuracy: 0.9026\n",
            "[CV]  num_conv_blocks=1, learning_rate=0.0001, conv_filter_size=(3, 3), total=  12.5s\n",
            "[CV] num_conv_blocks=1, learning_rate=0.0001, conv_filter_size=(3, 3) \n",
            "build_model(): {'learning_rate': 0.0001, 'conv_filter_size': (3, 3), 'num_conv_blocks': 1}\n",
            "625/625 [==============================] - 1s 2ms/step - loss: 0.2862 - accuracy: 0.9003\n",
            "[CV]  num_conv_blocks=1, learning_rate=0.0001, conv_filter_size=(3, 3), total=  13.5s\n",
            "[CV] num_conv_blocks=3, learning_rate=0.0001, conv_filter_size=(5, 5) \n",
            "build_model(): {'learning_rate': 0.0001, 'conv_filter_size': (5, 5), 'num_conv_blocks': 3}\n",
            "625/625 [==============================] - 1s 2ms/step - loss: 0.4490 - accuracy: 0.8401\n",
            "[CV]  num_conv_blocks=3, learning_rate=0.0001, conv_filter_size=(5, 5), total=  15.4s\n",
            "[CV] num_conv_blocks=3, learning_rate=0.0001, conv_filter_size=(5, 5) \n",
            "build_model(): {'learning_rate': 0.0001, 'conv_filter_size': (5, 5), 'num_conv_blocks': 3}\n",
            "625/625 [==============================] - 1s 2ms/step - loss: 0.4585 - accuracy: 0.8336\n",
            "[CV]  num_conv_blocks=3, learning_rate=0.0001, conv_filter_size=(5, 5), total=  15.2s\n",
            "[CV] num_conv_blocks=3, learning_rate=0.0001, conv_filter_size=(5, 5) \n",
            "build_model(): {'learning_rate': 0.0001, 'conv_filter_size': (5, 5), 'num_conv_blocks': 3}\n",
            "625/625 [==============================] - 1s 2ms/step - loss: 0.4607 - accuracy: 0.8343\n",
            "[CV]  num_conv_blocks=3, learning_rate=0.0001, conv_filter_size=(5, 5), total=  15.3s\n",
            "[CV] num_conv_blocks=2, learning_rate=0.001, conv_filter_size=(3, 3) .\n",
            "build_model(): {'learning_rate': 0.001, 'conv_filter_size': (3, 3), 'num_conv_blocks': 2}\n",
            "625/625 [==============================] - 1s 2ms/step - loss: 0.2750 - accuracy: 0.9058\n",
            "[CV]  num_conv_blocks=2, learning_rate=0.001, conv_filter_size=(3, 3), total=  14.3s\n",
            "[CV] num_conv_blocks=2, learning_rate=0.001, conv_filter_size=(3, 3) .\n",
            "build_model(): {'learning_rate': 0.001, 'conv_filter_size': (3, 3), 'num_conv_blocks': 2}\n",
            "625/625 [==============================] - 1s 2ms/step - loss: 0.2555 - accuracy: 0.9099\n",
            "[CV]  num_conv_blocks=2, learning_rate=0.001, conv_filter_size=(3, 3), total=  14.3s\n",
            "[CV] num_conv_blocks=2, learning_rate=0.001, conv_filter_size=(3, 3) .\n",
            "build_model(): {'learning_rate': 0.001, 'conv_filter_size': (3, 3), 'num_conv_blocks': 2}\n",
            "625/625 [==============================] - 1s 2ms/step - loss: 0.2691 - accuracy: 0.9097\n",
            "[CV]  num_conv_blocks=2, learning_rate=0.001, conv_filter_size=(3, 3), total=  14.4s\n",
            "[CV] num_conv_blocks=2, learning_rate=0.0001, conv_filter_size=(5, 5) \n",
            "build_model(): {'learning_rate': 0.0001, 'conv_filter_size': (5, 5), 'num_conv_blocks': 2}\n",
            "625/625 [==============================] - 1s 2ms/step - loss: 0.3477 - accuracy: 0.8752\n",
            "[CV]  num_conv_blocks=2, learning_rate=0.0001, conv_filter_size=(5, 5), total=  14.3s\n",
            "[CV] num_conv_blocks=2, learning_rate=0.0001, conv_filter_size=(5, 5) \n",
            "build_model(): {'learning_rate': 0.0001, 'conv_filter_size': (5, 5), 'num_conv_blocks': 2}\n",
            "625/625 [==============================] - 1s 2ms/step - loss: 0.3262 - accuracy: 0.8860\n",
            "[CV]  num_conv_blocks=2, learning_rate=0.0001, conv_filter_size=(5, 5), total=  14.6s\n",
            "[CV] num_conv_blocks=2, learning_rate=0.0001, conv_filter_size=(5, 5) \n",
            "build_model(): {'learning_rate': 0.0001, 'conv_filter_size': (5, 5), 'num_conv_blocks': 2}\n",
            "625/625 [==============================] - 1s 2ms/step - loss: 0.3454 - accuracy: 0.8770\n",
            "[CV]  num_conv_blocks=2, learning_rate=0.0001, conv_filter_size=(5, 5), total=  14.3s\n",
            "build_model(): {'learning_rate': 0.001, 'conv_filter_size': (3, 3), 'num_conv_blocks': 2}\n"
          ],
          "name": "stdout"
        },
        {
          "output_type": "stream",
          "text": [
            "[Parallel(n_jobs=1)]: Done  30 out of  30 | elapsed:  7.1min finished\n"
          ],
          "name": "stderr"
        },
        {
          "output_type": "execute_result",
          "data": {
            "text/plain": [
              "RandomizedSearchCV(cv=3, error_score=nan,\n",
              "                   estimator=<tensorflow.python.keras.wrappers.scikit_learn.KerasRegressor object at 0x7f9605ed8c18>,\n",
              "                   iid='deprecated', n_iter=10, n_jobs=None,\n",
              "                   param_distributions={'conv_filter_size': [(3, 3), (5, 5)],\n",
              "                                        'learning_rate': [0.001, 0.0001],\n",
              "                                        'num_conv_blocks': [1, 2, 3]},\n",
              "                   pre_dispatch='2*n_jobs', random_state=None, refit=True,\n",
              "                   return_train_score=False, scoring=None, verbose=2)"
            ]
          },
          "metadata": {
            "tags": []
          },
          "execution_count": 8
        }
      ]
    },
    {
      "cell_type": "code",
      "metadata": {
        "colab": {
          "base_uri": "https://localhost:8080/"
        },
        "id": "EKrXUUQ5hw_-",
        "outputId": "e81b7d39-849a-4d85-a292-b90ac56221a0"
      },
      "source": [
        "search.best_params_"
      ],
      "execution_count": 9,
      "outputs": [
        {
          "output_type": "execute_result",
          "data": {
            "text/plain": [
              "{'conv_filter_size': (3, 3), 'learning_rate': 0.001, 'num_conv_blocks': 2}"
            ]
          },
          "metadata": {
            "tags": []
          },
          "execution_count": 9
        }
      ]
    },
    {
      "cell_type": "code",
      "metadata": {
        "colab": {
          "base_uri": "https://localhost:8080/"
        },
        "id": "IT7kzHb5jNAl",
        "outputId": "c74293e6-36cc-4cb7-be00-09cc38464488"
      },
      "source": [
        "search.best_score_"
      ],
      "execution_count": 10,
      "outputs": [
        {
          "output_type": "execute_result",
          "data": {
            "text/plain": [
              "-0.2665172219276428"
            ]
          },
          "metadata": {
            "tags": []
          },
          "execution_count": 10
        }
      ]
    },
    {
      "cell_type": "code",
      "metadata": {
        "colab": {
          "base_uri": "https://localhost:8080/"
        },
        "id": "BM9xvxUKjwGU",
        "outputId": "65afbcc3-7502-4488-d938-1e844857d858"
      },
      "source": [
        "search.score(test_images, test_labels)"
      ],
      "execution_count": 11,
      "outputs": [
        {
          "output_type": "stream",
          "text": [
            "313/313 [==============================] - 1s 2ms/step - loss: 0.2761 - accuracy: 0.9117\n"
          ],
          "name": "stdout"
        },
        {
          "output_type": "execute_result",
          "data": {
            "text/plain": [
              "-0.2760579586029053"
            ]
          },
          "metadata": {
            "tags": []
          },
          "execution_count": 11
        }
      ]
    },
    {
      "cell_type": "code",
      "metadata": {
        "colab": {
          "base_uri": "https://localhost:8080/"
        },
        "id": "zgLkiCccjsVp",
        "outputId": "66962a9b-6656-4d5f-803c-238f59f52eab"
      },
      "source": [
        "model = search.best_estimator_.model\n",
        "model.evaluate(test_images, test_labels)"
      ],
      "execution_count": 12,
      "outputs": [
        {
          "output_type": "stream",
          "text": [
            "313/313 [==============================] - 1s 2ms/step - loss: 0.2761 - accuracy: 0.9117\n"
          ],
          "name": "stdout"
        },
        {
          "output_type": "execute_result",
          "data": {
            "text/plain": [
              "[0.2760579586029053, 0.9117000102996826]"
            ]
          },
          "metadata": {
            "tags": []
          },
          "execution_count": 12
        }
      ]
    }
  ]
}