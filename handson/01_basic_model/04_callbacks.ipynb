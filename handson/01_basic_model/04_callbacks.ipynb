{
  "nbformat": 4,
  "nbformat_minor": 0,
  "metadata": {
    "colab": {
      "name": "04_callbacks.ipynb",
      "provenance": [],
      "collapsed_sections": [],
      "toc_visible": true
    },
    "kernelspec": {
      "name": "python3",
      "display_name": "Python 3"
    },
    "accelerator": "GPU"
  },
  "cells": [
    {
      "cell_type": "code",
      "metadata": {
        "id": "jOPTEwRffRpn"
      },
      "source": [
        "import numpy as np\n",
        "import tensorflow as tf\n",
        "from tensorflow import keras"
      ],
      "execution_count": 1,
      "outputs": []
    },
    {
      "cell_type": "code",
      "metadata": {
        "colab": {
          "base_uri": "https://localhost:8080/"
        },
        "id": "Ti8twVcICgn4",
        "outputId": "de478156-3443-4ea9-b1a3-fa0896bd63e1"
      },
      "source": [
        "(train_images, train_labels), (test_images, test_labels) = keras.datasets.fashion_mnist.load_data()\n",
        "\n",
        "train_images  = train_images / 255.0\n",
        "train_images = np.expand_dims(train_images, axis=-1)\n",
        "print(f\"train_images.shape = {train_images.shape}, train_labels.shape = {train_labels.shape}\")\n",
        "test_images = test_images / 255.0\n",
        "test_images = np.expand_dims(test_images, axis=-1)\n",
        "print(f\"test_images.shape = {test_images.shape}, test_labels.shape = {test_labels.shape}\")"
      ],
      "execution_count": 2,
      "outputs": [
        {
          "output_type": "stream",
          "text": [
            "train_images.shape = (60000, 28, 28, 1), train_labels.shape = (60000,)\n",
            "test_images.shape = (10000, 28, 28, 1), test_labels.shape = (10000,)\n"
          ],
          "name": "stdout"
        }
      ]
    },
    {
      "cell_type": "code",
      "metadata": {
        "id": "lIFtCkoMCpsb"
      },
      "source": [
        "def build_model():\n",
        "    model = keras.models.Sequential([\n",
        "        keras.layers.Conv2D(64, (3, 3), activation='relu', input_shape=(28, 28, 1)),\n",
        "        keras.layers.MaxPooling2D(2, 2),\n",
        "        keras.layers.Conv2D(64, (3, 3), activation='relu'),\n",
        "        keras.layers.MaxPooling2D(2, 2),\n",
        "        keras.layers.Flatten(),\n",
        "        keras.layers.Dense(128, activation='relu'), \n",
        "        keras.layers.Dense(10, activation='softmax')\n",
        "    ])\n",
        "    model.compile(\n",
        "        optimizer=keras.optimizers.Adam(),\n",
        "        loss='sparse_categorical_crossentropy',\n",
        "        metrics=['accuracy']\n",
        "    )\n",
        "    return model"
      ],
      "execution_count": 3,
      "outputs": []
    },
    {
      "cell_type": "markdown",
      "metadata": {
        "id": "5n4wRO3M7OG8"
      },
      "source": [
        "## ModelCheckpoint"
      ]
    },
    {
      "cell_type": "code",
      "metadata": {
        "id": "tFtaxt1x5tEU"
      },
      "source": [
        "cb_checkpoint = keras.callbacks.ModelCheckpoint(\n",
        "    'model_{epoch:02d}_{val_loss:.4f}.h5', \n",
        "    save_best_only=True,\n",
        "    verbose=1\n",
        ")"
      ],
      "execution_count": 4,
      "outputs": []
    },
    {
      "cell_type": "code",
      "metadata": {
        "colab": {
          "base_uri": "https://localhost:8080/"
        },
        "id": "LWoiobcp6_01",
        "outputId": "815d9d3d-108c-43ff-c9d2-041c8af9f31d"
      },
      "source": [
        "keras.backend.clear_session()\n",
        "\n",
        "model = build_model()\n",
        "\n",
        "history = model.fit(\n",
        "    train_images,\n",
        "    train_labels, \n",
        "    epochs=10,\n",
        "    batch_size=64,\n",
        "    validation_data=(test_images, test_labels),\n",
        "    callbacks=[cb_checkpoint],\n",
        "    verbose=2\n",
        ")"
      ],
      "execution_count": 5,
      "outputs": [
        {
          "output_type": "stream",
          "text": [
            "Epoch 1/10\n",
            "\n",
            "Epoch 00001: val_loss improved from inf to 0.34827, saving model to model_01_0.3483.h5\n",
            "938/938 - 3s - loss: 0.4710 - accuracy: 0.8300 - val_loss: 0.3483 - val_accuracy: 0.8745\n",
            "Epoch 2/10\n",
            "\n",
            "Epoch 00002: val_loss improved from 0.34827 to 0.29981, saving model to model_02_0.2998.h5\n",
            "938/938 - 3s - loss: 0.3112 - accuracy: 0.8872 - val_loss: 0.2998 - val_accuracy: 0.8939\n",
            "Epoch 3/10\n",
            "\n",
            "Epoch 00003: val_loss improved from 0.29981 to 0.28246, saving model to model_03_0.2825.h5\n",
            "938/938 - 3s - loss: 0.2631 - accuracy: 0.9042 - val_loss: 0.2825 - val_accuracy: 0.8941\n",
            "Epoch 4/10\n",
            "\n",
            "Epoch 00004: val_loss improved from 0.28246 to 0.26089, saving model to model_04_0.2609.h5\n",
            "938/938 - 3s - loss: 0.2331 - accuracy: 0.9138 - val_loss: 0.2609 - val_accuracy: 0.9059\n",
            "Epoch 5/10\n",
            "\n",
            "Epoch 00005: val_loss improved from 0.26089 to 0.25364, saving model to model_05_0.2536.h5\n",
            "938/938 - 3s - loss: 0.2075 - accuracy: 0.9230 - val_loss: 0.2536 - val_accuracy: 0.9063\n",
            "Epoch 6/10\n",
            "\n",
            "Epoch 00006: val_loss did not improve from 0.25364\n",
            "938/938 - 3s - loss: 0.1846 - accuracy: 0.9312 - val_loss: 0.2643 - val_accuracy: 0.9030\n",
            "Epoch 7/10\n",
            "\n",
            "Epoch 00007: val_loss improved from 0.25364 to 0.25318, saving model to model_07_0.2532.h5\n",
            "938/938 - 3s - loss: 0.1677 - accuracy: 0.9381 - val_loss: 0.2532 - val_accuracy: 0.9090\n",
            "Epoch 8/10\n",
            "\n",
            "Epoch 00008: val_loss did not improve from 0.25318\n",
            "938/938 - 3s - loss: 0.1467 - accuracy: 0.9451 - val_loss: 0.2616 - val_accuracy: 0.9085\n",
            "Epoch 9/10\n",
            "\n",
            "Epoch 00009: val_loss improved from 0.25318 to 0.24619, saving model to model_09_0.2462.h5\n",
            "938/938 - 3s - loss: 0.1317 - accuracy: 0.9503 - val_loss: 0.2462 - val_accuracy: 0.9179\n",
            "Epoch 10/10\n",
            "\n",
            "Epoch 00010: val_loss did not improve from 0.24619\n",
            "938/938 - 3s - loss: 0.1165 - accuracy: 0.9563 - val_loss: 0.2730 - val_accuracy: 0.9123\n"
          ],
          "name": "stdout"
        }
      ]
    },
    {
      "cell_type": "markdown",
      "metadata": {
        "id": "h2ZAWKfx8O4A"
      },
      "source": [
        "## EarlyStopping"
      ]
    },
    {
      "cell_type": "code",
      "metadata": {
        "id": "wSWXzoRhSa_8"
      },
      "source": [
        "cb_early_stopping = keras.callbacks.EarlyStopping(\n",
        "    patience=2, \n",
        "    restore_best_weights=True,\n",
        "    verbose=1\n",
        ")"
      ],
      "execution_count": 6,
      "outputs": []
    },
    {
      "cell_type": "code",
      "metadata": {
        "colab": {
          "base_uri": "https://localhost:8080/"
        },
        "id": "MNbtKS-rSbCS",
        "outputId": "96db7d9a-e493-41f2-ff22-ba0fb0da6d39"
      },
      "source": [
        "keras.backend.clear_session()\n",
        "\n",
        "model = build_model()\n",
        "\n",
        "history = model.fit(\n",
        "    train_images,\n",
        "    train_labels, \n",
        "    epochs=20,\n",
        "    batch_size=64,\n",
        "    validation_data=(test_images, test_labels),\n",
        "    callbacks=[cb_early_stopping],\n",
        "    verbose=2\n",
        ")"
      ],
      "execution_count": 7,
      "outputs": [
        {
          "output_type": "stream",
          "text": [
            "Epoch 1/20\n",
            "938/938 - 3s - loss: 0.4692 - accuracy: 0.8320 - val_loss: 0.3583 - val_accuracy: 0.8706\n",
            "Epoch 2/20\n",
            "938/938 - 3s - loss: 0.3152 - accuracy: 0.8863 - val_loss: 0.3132 - val_accuracy: 0.8905\n",
            "Epoch 3/20\n",
            "938/938 - 3s - loss: 0.2698 - accuracy: 0.9016 - val_loss: 0.3077 - val_accuracy: 0.8897\n",
            "Epoch 4/20\n",
            "938/938 - 3s - loss: 0.2359 - accuracy: 0.9133 - val_loss: 0.3101 - val_accuracy: 0.8866\n",
            "Epoch 5/20\n",
            "938/938 - 3s - loss: 0.2155 - accuracy: 0.9204 - val_loss: 0.2713 - val_accuracy: 0.9037\n",
            "Epoch 6/20\n",
            "938/938 - 3s - loss: 0.1917 - accuracy: 0.9289 - val_loss: 0.2509 - val_accuracy: 0.9066\n",
            "Epoch 7/20\n",
            "938/938 - 3s - loss: 0.1732 - accuracy: 0.9342 - val_loss: 0.2733 - val_accuracy: 0.9064\n",
            "Epoch 8/20\n",
            "Restoring model weights from the end of the best epoch.\n",
            "938/938 - 3s - loss: 0.1564 - accuracy: 0.9423 - val_loss: 0.2532 - val_accuracy: 0.9127\n",
            "Epoch 00008: early stopping\n"
          ],
          "name": "stdout"
        }
      ]
    },
    {
      "cell_type": "markdown",
      "metadata": {
        "id": "wtTnpuMxA2R_"
      },
      "source": [
        "## Custom callback"
      ]
    },
    {
      "cell_type": "code",
      "metadata": {
        "id": "WlxkH_lf8bsw"
      },
      "source": [
        "from datetime import datetime\n",
        "\n",
        "class TimestampLoggerCallback(keras.callbacks.Callback):\n",
        "    def __init__(self):\n",
        "        super().__init__()\n",
        "\n",
        "    def on_epoch_begin(self, batch, logs=None):\n",
        "        print(f\"on_epoch_begin(): {self.current_timestamp()}\")\n",
        "\n",
        "    def on_epoch_end(self, batch, logs=None):\n",
        "        print(f\"on_epoch_end(): {self.current_timestamp()}\")\n",
        "\n",
        "    @staticmethod\n",
        "    def current_timestamp():\n",
        "        return datetime.now().strftime('%Y/%m/%d %H:%M:%S')\n"
      ],
      "execution_count": 8,
      "outputs": []
    },
    {
      "cell_type": "code",
      "metadata": {
        "id": "311oDaM4A6Ce"
      },
      "source": [
        "cb_custom = TimestampLoggerCallback()"
      ],
      "execution_count": 9,
      "outputs": []
    },
    {
      "cell_type": "code",
      "metadata": {
        "colab": {
          "base_uri": "https://localhost:8080/"
        },
        "id": "g7RECyFaA9DL",
        "outputId": "2f38dac3-9dfe-41b2-e0b6-874f72893854"
      },
      "source": [
        "keras.backend.clear_session()\n",
        "\n",
        "model = build_model()\n",
        "\n",
        "history = model.fit(\n",
        "    train_images,\n",
        "    train_labels, \n",
        "    epochs=5,\n",
        "    batch_size=64,\n",
        "    validation_data=(test_images, test_labels),\n",
        "    callbacks=[cb_custom],\n",
        "    verbose=2\n",
        ")"
      ],
      "execution_count": 10,
      "outputs": [
        {
          "output_type": "stream",
          "text": [
            "on_epoch_begin(): 2020/11/23 10:23:50\n",
            "Epoch 1/5\n",
            "on_epoch_end(): 2020/11/23 10:23:53\n",
            "938/938 - 3s - loss: 0.4832 - accuracy: 0.8246 - val_loss: 0.3663 - val_accuracy: 0.8647\n",
            "on_epoch_begin(): 2020/11/23 10:23:53\n",
            "Epoch 2/5\n",
            "on_epoch_end(): 2020/11/23 10:23:56\n",
            "938/938 - 3s - loss: 0.3166 - accuracy: 0.8839 - val_loss: 0.3100 - val_accuracy: 0.8888\n",
            "on_epoch_begin(): 2020/11/23 10:23:56\n",
            "Epoch 3/5\n",
            "on_epoch_end(): 2020/11/23 10:23:59\n",
            "938/938 - 3s - loss: 0.2685 - accuracy: 0.9018 - val_loss: 0.2824 - val_accuracy: 0.8981\n",
            "on_epoch_begin(): 2020/11/23 10:23:59\n",
            "Epoch 4/5\n",
            "on_epoch_end(): 2020/11/23 10:24:02\n",
            "938/938 - 3s - loss: 0.2378 - accuracy: 0.9128 - val_loss: 0.2767 - val_accuracy: 0.8997\n",
            "on_epoch_begin(): 2020/11/23 10:24:02\n",
            "Epoch 5/5\n",
            "on_epoch_end(): 2020/11/23 10:24:05\n",
            "938/938 - 3s - loss: 0.2142 - accuracy: 0.9214 - val_loss: 0.2609 - val_accuracy: 0.9026\n"
          ],
          "name": "stdout"
        }
      ]
    }
  ]
}