{
  "nbformat": 4,
  "nbformat_minor": 0,
  "metadata": {
    "accelerator": "GPU",
    "colab": {
      "name": "example_08_lstm_conv1d_sarcasm.ipynb",
      "provenance": [],
      "collapsed_sections": []
    },
    "kernelspec": {
      "display_name": "Python 3",
      "language": "python",
      "name": "python3"
    },
    "language_info": {
      "codemirror_mode": {
        "name": "ipython",
        "version": 3
      },
      "file_extension": ".py",
      "mimetype": "text/x-python",
      "name": "python",
      "nbconvert_exporter": "python",
      "pygments_lexer": "ipython3",
      "version": "3.7.9"
    }
  },
  "cells": [
    {
      "cell_type": "code",
      "metadata": {
        "id": "f19795We4JT3"
      },
      "source": [
        "import os\n",
        "import json\n",
        "import numpy as np\n",
        "import tensorflow_datasets as tfds\n",
        "import matplotlib.pyplot as plt\n",
        "from tensorflow import keras\n",
        "from tensorflow.keras.preprocessing.sequence import pad_sequences\n",
        "from tensorflow.keras.preprocessing.text import Tokenizer\n",
        "import utils"
      ],
      "execution_count": 1,
      "outputs": []
    },
    {
      "cell_type": "code",
      "metadata": {
        "id": "IAcJa4gI7OYo"
      },
      "source": [
        "DATA_URL = 'https://storage.googleapis.com/laurencemoroney-blog.appspot.com/sarcasm.json'"
      ],
      "execution_count": 2,
      "outputs": []
    },
    {
      "cell_type": "code",
      "metadata": {
        "id": "3Je9agAz63H6"
      },
      "source": [
        "VOCAB_SIZE = 1000\n",
        "OOV_TOKEN = '<OOV>'\n",
        "MAX_LENGTH = 120\n",
        "TRUNCATING = 'post'\n",
        "PADDING = 'post'\n",
        "TRAINING_SIZE = 20000\n",
        "EMBEDDING_DIM = 16\n",
        "NUM_EPOCHS = 50"
      ],
      "execution_count": 3,
      "outputs": []
    },
    {
      "cell_type": "code",
      "metadata": {
        "id": "_ixplt_P7LZk"
      },
      "source": [
        "data_dir = keras.utils.get_file(\n",
        "    os.path.basename(DATA_URL),\n",
        "    DATA_URL,\n",
        "    cache_dir='./',\n",
        "    cache_subdir=''\n",
        ")"
      ],
      "execution_count": 4,
      "outputs": []
    },
    {
      "cell_type": "code",
      "metadata": {
        "id": "nrkWuT1d8Z7_"
      },
      "source": [
        "with open(data_dir, 'r') as f:\n",
        "    datastore = json.load(f)\n",
        "\n",
        "sentences = [] \n",
        "labels = []\n",
        "\n",
        "for item in datastore:\n",
        "    sentences.append(item['headline'])\n",
        "    labels.append(item['is_sarcastic'])"
      ],
      "execution_count": 5,
      "outputs": []
    },
    {
      "cell_type": "code",
      "metadata": {
        "id": "Guxg1-T18izw"
      },
      "source": [
        "train_sentences = sentences[0:TRAINING_SIZE]\n",
        "train_labels = labels[0:TRAINING_SIZE]\n",
        "val_sentences = sentences[TRAINING_SIZE:]\n",
        "val_labels = labels[TRAINING_SIZE:]"
      ],
      "execution_count": 6,
      "outputs": []
    },
    {
      "cell_type": "code",
      "metadata": {
        "id": "stVv7vU48v8_"
      },
      "source": [
        "tokenizer = Tokenizer(num_words=VOCAB_SIZE, oov_token=OOV_TOKEN)\n",
        "tokenizer.fit_on_texts(train_sentences)\n",
        "\n",
        "word_index = tokenizer.word_index\n",
        "reverse_word_index = dict([(idx, word) for (word, idx) in word_index.items()])"
      ],
      "execution_count": 7,
      "outputs": []
    },
    {
      "cell_type": "code",
      "metadata": {
        "id": "J-8RKm_a9CcC"
      },
      "source": [
        "train_sequences = tokenizer.texts_to_sequences(train_sentences)\n",
        "train_padded = pad_sequences(train_sequences, maxlen=MAX_LENGTH, padding=PADDING, truncating=TRUNCATING)\n",
        "val_sequences = tokenizer.texts_to_sequences(val_sentences)\n",
        "val_padded = pad_sequences(val_sequences, maxlen=MAX_LENGTH, padding=PADDING, truncating=TRUNCATING)\n",
        "\n",
        "train_padded = np.array(train_padded)\n",
        "train_labels = np.array(train_labels)\n",
        "val_sentences = np.array(val_sentences)\n",
        "val_labels = np.array(val_labels)"
      ],
      "execution_count": 8,
      "outputs": []
    },
    {
      "cell_type": "code",
      "metadata": {
        "id": "ynGRlaYinlIP"
      },
      "source": [
        "def build_model_lstm():\n",
        "    model = keras.Sequential([\n",
        "        keras.layers.Embedding(VOCAB_SIZE, EMBEDDING_DIM, input_length=MAX_LENGTH),\n",
        "        keras.layers.Bidirectional(keras.layers.LSTM(32)),\n",
        "        keras.layers.Dense(64, activation='relu'),\n",
        "        keras.layers.Dense(1, activation='sigmoid')\n",
        "    ])\n",
        "    model.compile(loss='binary_crossentropy', optimizer='adam', metrics=['accuracy'])\n",
        "    return model\n",
        "\n",
        "def build_model_conv1d():\n",
        "    model = keras.Sequential([\n",
        "        keras.layers.Embedding(VOCAB_SIZE, EMBEDDING_DIM, input_length=MAX_LENGTH),\n",
        "        keras.layers.Conv1D(128, 5, activation='relu'),\n",
        "        keras.layers.GlobalAveragePooling1D(),\n",
        "        keras.layers.Dense(64, activation='relu'),\n",
        "        keras.layers.Dense(1, activation='sigmoid')\n",
        "    ])\n",
        "    model.compile(loss='binary_crossentropy', optimizer='adam', metrics=['accuracy'])\n",
        "    return model"
      ],
      "execution_count": 9,
      "outputs": []
    },
    {
      "cell_type": "code",
      "metadata": {
        "id": "jW_9bz9P9PD1",
        "outputId": "c580c7f8-ffa4-4403-eaca-707c7f96e7c1",
        "colab": {
          "base_uri": "https://localhost:8080/"
        }
      },
      "source": [
        "model_lstm = build_model_lstm()\n",
        "model_lstm.summary()\n",
        "history_lstm = model_lstm.fit(\n",
        "    train_padded, \n",
        "    train_labels, \n",
        "    epochs=NUM_EPOCHS,\n",
        "    validation_data=(val_padded, val_labels), \n",
        "    verbose=1\n",
        ")"
      ],
      "execution_count": 10,
      "outputs": [
        {
          "output_type": "stream",
          "text": [
            "Model: \"sequential\"\n",
            "_________________________________________________________________\n",
            "Layer (type)                 Output Shape              Param #   \n",
            "=================================================================\n",
            "embedding (Embedding)        (None, 120, 16)           16000     \n",
            "_________________________________________________________________\n",
            "bidirectional (Bidirectional (None, 64)                12544     \n",
            "_________________________________________________________________\n",
            "dense (Dense)                (None, 64)                4160      \n",
            "_________________________________________________________________\n",
            "dense_1 (Dense)              (None, 1)                 65        \n",
            "=================================================================\n",
            "Total params: 32,769\n",
            "Trainable params: 32,769\n",
            "Non-trainable params: 0\n",
            "_________________________________________________________________\n",
            "Epoch 1/50\n",
            "625/625 [==============================] - 9s 14ms/step - loss: 0.4425 - accuracy: 0.7776 - val_loss: 0.3807 - val_accuracy: 0.8304\n",
            "Epoch 2/50\n",
            "625/625 [==============================] - 8s 13ms/step - loss: 0.3454 - accuracy: 0.8422 - val_loss: 0.3760 - val_accuracy: 0.8292\n",
            "Epoch 3/50\n",
            "625/625 [==============================] - 8s 13ms/step - loss: 0.3227 - accuracy: 0.8569 - val_loss: 0.3725 - val_accuracy: 0.8271\n",
            "Epoch 4/50\n",
            "625/625 [==============================] - 8s 13ms/step - loss: 0.3077 - accuracy: 0.8619 - val_loss: 0.3734 - val_accuracy: 0.8335\n",
            "Epoch 5/50\n",
            "625/625 [==============================] - 8s 13ms/step - loss: 0.2974 - accuracy: 0.8687 - val_loss: 0.3760 - val_accuracy: 0.8314\n",
            "Epoch 6/50\n",
            "625/625 [==============================] - 8s 13ms/step - loss: 0.2883 - accuracy: 0.8719 - val_loss: 0.3751 - val_accuracy: 0.8301\n",
            "Epoch 7/50\n",
            "625/625 [==============================] - 8s 13ms/step - loss: 0.2784 - accuracy: 0.8789 - val_loss: 0.3826 - val_accuracy: 0.8299\n",
            "Epoch 8/50\n",
            "625/625 [==============================] - 8s 13ms/step - loss: 0.2709 - accuracy: 0.8832 - val_loss: 0.3865 - val_accuracy: 0.8268\n",
            "Epoch 9/50\n",
            "625/625 [==============================] - 8s 13ms/step - loss: 0.2641 - accuracy: 0.8871 - val_loss: 0.4066 - val_accuracy: 0.8296\n",
            "Epoch 10/50\n",
            "625/625 [==============================] - 9s 14ms/step - loss: 0.2562 - accuracy: 0.8920 - val_loss: 0.4060 - val_accuracy: 0.8237\n",
            "Epoch 11/50\n",
            "625/625 [==============================] - 8s 13ms/step - loss: 0.2843 - accuracy: 0.8827 - val_loss: 0.4005 - val_accuracy: 0.8246\n",
            "Epoch 12/50\n",
            "625/625 [==============================] - 8s 13ms/step - loss: 0.2438 - accuracy: 0.8960 - val_loss: 0.4178 - val_accuracy: 0.8244\n",
            "Epoch 13/50\n",
            "625/625 [==============================] - 8s 13ms/step - loss: 0.2342 - accuracy: 0.9018 - val_loss: 0.4272 - val_accuracy: 0.8225\n",
            "Epoch 14/50\n",
            "625/625 [==============================] - 8s 14ms/step - loss: 0.2253 - accuracy: 0.9076 - val_loss: 0.4487 - val_accuracy: 0.8176\n",
            "Epoch 15/50\n",
            "625/625 [==============================] - 8s 14ms/step - loss: 0.2186 - accuracy: 0.9089 - val_loss: 0.4908 - val_accuracy: 0.8183\n",
            "Epoch 16/50\n",
            "625/625 [==============================] - 9s 14ms/step - loss: 0.2126 - accuracy: 0.9127 - val_loss: 0.4949 - val_accuracy: 0.8179\n",
            "Epoch 17/50\n",
            "625/625 [==============================] - 9s 14ms/step - loss: 0.2039 - accuracy: 0.9158 - val_loss: 0.5235 - val_accuracy: 0.8177\n",
            "Epoch 18/50\n",
            "625/625 [==============================] - 9s 14ms/step - loss: 0.1990 - accuracy: 0.9172 - val_loss: 0.5250 - val_accuracy: 0.8177\n",
            "Epoch 19/50\n",
            "625/625 [==============================] - 9s 14ms/step - loss: 0.1902 - accuracy: 0.9232 - val_loss: 0.5780 - val_accuracy: 0.8167\n",
            "Epoch 20/50\n",
            "625/625 [==============================] - 9s 14ms/step - loss: 0.1827 - accuracy: 0.9261 - val_loss: 0.5711 - val_accuracy: 0.8107\n",
            "Epoch 21/50\n",
            "625/625 [==============================] - 8s 13ms/step - loss: 0.1779 - accuracy: 0.9277 - val_loss: 0.6160 - val_accuracy: 0.8132\n",
            "Epoch 22/50\n",
            "625/625 [==============================] - 8s 13ms/step - loss: 0.1706 - accuracy: 0.9301 - val_loss: 0.6688 - val_accuracy: 0.8134\n",
            "Epoch 23/50\n",
            "625/625 [==============================] - 9s 14ms/step - loss: 0.1643 - accuracy: 0.9337 - val_loss: 0.7046 - val_accuracy: 0.8065\n",
            "Epoch 24/50\n",
            "625/625 [==============================] - 9s 14ms/step - loss: 0.1612 - accuracy: 0.9355 - val_loss: 0.7154 - val_accuracy: 0.8071\n",
            "Epoch 25/50\n",
            "625/625 [==============================] - 8s 13ms/step - loss: 0.1544 - accuracy: 0.9374 - val_loss: 0.7931 - val_accuracy: 0.8077\n",
            "Epoch 26/50\n",
            "625/625 [==============================] - 9s 14ms/step - loss: 0.1486 - accuracy: 0.9391 - val_loss: 0.7942 - val_accuracy: 0.8106\n",
            "Epoch 27/50\n",
            "625/625 [==============================] - 8s 13ms/step - loss: 0.1415 - accuracy: 0.9427 - val_loss: 0.8359 - val_accuracy: 0.8097\n",
            "Epoch 28/50\n",
            "625/625 [==============================] - 9s 14ms/step - loss: 0.1370 - accuracy: 0.9435 - val_loss: 0.9013 - val_accuracy: 0.8089\n",
            "Epoch 29/50\n",
            "625/625 [==============================] - 9s 14ms/step - loss: 0.1311 - accuracy: 0.9460 - val_loss: 1.0152 - val_accuracy: 0.8049\n",
            "Epoch 30/50\n",
            "625/625 [==============================] - 9s 14ms/step - loss: 0.1316 - accuracy: 0.9447 - val_loss: 1.0736 - val_accuracy: 0.8080\n",
            "Epoch 31/50\n",
            "625/625 [==============================] - 9s 14ms/step - loss: 0.1214 - accuracy: 0.9493 - val_loss: 1.0599 - val_accuracy: 0.8076\n",
            "Epoch 32/50\n",
            "625/625 [==============================] - 8s 14ms/step - loss: 0.1189 - accuracy: 0.9495 - val_loss: 1.0916 - val_accuracy: 0.8098\n",
            "Epoch 33/50\n",
            "625/625 [==============================] - 8s 14ms/step - loss: 0.1152 - accuracy: 0.9506 - val_loss: 1.0858 - val_accuracy: 0.8028\n",
            "Epoch 34/50\n",
            "625/625 [==============================] - 8s 14ms/step - loss: 0.1083 - accuracy: 0.9546 - val_loss: 1.2307 - val_accuracy: 0.8052\n",
            "Epoch 35/50\n",
            "625/625 [==============================] - 9s 14ms/step - loss: 0.1102 - accuracy: 0.9523 - val_loss: 1.2447 - val_accuracy: 0.8059\n",
            "Epoch 36/50\n",
            "625/625 [==============================] - 9s 15ms/step - loss: 0.1019 - accuracy: 0.9560 - val_loss: 1.2629 - val_accuracy: 0.7974\n",
            "Epoch 37/50\n",
            "625/625 [==============================] - 9s 14ms/step - loss: 0.0989 - accuracy: 0.9576 - val_loss: 1.3675 - val_accuracy: 0.7934\n",
            "Epoch 38/50\n",
            "625/625 [==============================] - 8s 13ms/step - loss: 0.0974 - accuracy: 0.9572 - val_loss: 1.4752 - val_accuracy: 0.8035\n",
            "Epoch 39/50\n",
            "625/625 [==============================] - 8s 13ms/step - loss: 0.0916 - accuracy: 0.9602 - val_loss: 1.4531 - val_accuracy: 0.7992\n",
            "Epoch 40/50\n",
            "625/625 [==============================] - 9s 14ms/step - loss: 0.0883 - accuracy: 0.9607 - val_loss: 1.4930 - val_accuracy: 0.8055\n",
            "Epoch 41/50\n",
            "625/625 [==============================] - 9s 14ms/step - loss: 0.0878 - accuracy: 0.9613 - val_loss: 1.4805 - val_accuracy: 0.7940\n",
            "Epoch 42/50\n",
            "625/625 [==============================] - 9s 14ms/step - loss: 0.0863 - accuracy: 0.9614 - val_loss: 1.5298 - val_accuracy: 0.8061\n",
            "Epoch 43/50\n",
            "625/625 [==============================] - 8s 13ms/step - loss: 0.0840 - accuracy: 0.9618 - val_loss: 1.6280 - val_accuracy: 0.8038\n",
            "Epoch 44/50\n",
            "625/625 [==============================] - 9s 14ms/step - loss: 0.0832 - accuracy: 0.9619 - val_loss: 1.6634 - val_accuracy: 0.8064\n",
            "Epoch 45/50\n",
            "625/625 [==============================] - 9s 14ms/step - loss: 0.0788 - accuracy: 0.9645 - val_loss: 1.6793 - val_accuracy: 0.8065\n",
            "Epoch 46/50\n",
            "625/625 [==============================] - 9s 14ms/step - loss: 0.0738 - accuracy: 0.9663 - val_loss: 1.8384 - val_accuracy: 0.8074\n",
            "Epoch 47/50\n",
            "625/625 [==============================] - 8s 14ms/step - loss: 0.0741 - accuracy: 0.9654 - val_loss: 1.8253 - val_accuracy: 0.8043\n",
            "Epoch 48/50\n",
            "625/625 [==============================] - 8s 13ms/step - loss: 0.0728 - accuracy: 0.9657 - val_loss: 1.8878 - val_accuracy: 0.8034\n",
            "Epoch 49/50\n",
            "625/625 [==============================] - 9s 14ms/step - loss: 0.0756 - accuracy: 0.9642 - val_loss: 1.8579 - val_accuracy: 0.8012\n",
            "Epoch 50/50\n",
            "625/625 [==============================] - 9s 14ms/step - loss: 0.0692 - accuracy: 0.9676 - val_loss: 1.8652 - val_accuracy: 0.8021\n"
          ],
          "name": "stdout"
        }
      ]
    },
    {
      "cell_type": "code",
      "metadata": {
        "id": "6vNSZG2VpMF3",
        "outputId": "5ba9ad85-7842-4eb4-e3bd-30e00b0b6879",
        "colab": {
          "base_uri": "https://localhost:8080/",
          "height": 266
        }
      },
      "source": [
        "utils.plot_history(history_lstm)"
      ],
      "execution_count": 11,
      "outputs": [
        {
          "output_type": "display_data",
          "data": {
            "image/png": "[encoded data removed]",
            "text/plain": [
              "<Figure size 864x288 with 2 Axes>"
            ]
          },
          "metadata": {
            "tags": [],
            "needs_background": "light"
          }
        }
      ]
    },
    {
      "cell_type": "code",
      "metadata": {
        "id": "utWXaoljpMpB",
        "outputId": "06de9e06-db4e-47ff-8b12-4441a9c05c70",
        "colab": {
          "base_uri": "https://localhost:8080/"
        }
      },
      "source": [
        "model_conv1d = build_model_conv1d()\n",
        "model_conv1d.summary()\n",
        "history_conv1d = model_conv1d.fit(\n",
        "    train_padded, \n",
        "    train_labels, \n",
        "    epochs=NUM_EPOCHS,\n",
        "    validation_data=(val_padded, val_labels), \n",
        "    verbose=1\n",
        ")"
      ],
      "execution_count": 12,
      "outputs": [
        {
          "output_type": "stream",
          "text": [
            "Model: \"sequential_1\"\n",
            "_________________________________________________________________\n",
            "Layer (type)                 Output Shape              Param #   \n",
            "=================================================================\n",
            "embedding_1 (Embedding)      (None, 120, 16)           16000     \n",
            "_________________________________________________________________\n",
            "conv1d (Conv1D)              (None, 116, 128)          10368     \n",
            "_________________________________________________________________\n",
            "global_average_pooling1d (Gl (None, 128)               0         \n",
            "_________________________________________________________________\n",
            "dense_2 (Dense)              (None, 64)                8256      \n",
            "_________________________________________________________________\n",
            "dense_3 (Dense)              (None, 1)                 65        \n",
            "=================================================================\n",
            "Total params: 34,689\n",
            "Trainable params: 34,689\n",
            "Non-trainable params: 0\n",
            "_________________________________________________________________\n",
            "Epoch 1/50\n",
            "625/625 [==============================] - 3s 4ms/step - loss: 0.5162 - accuracy: 0.7291 - val_loss: 0.4234 - val_accuracy: 0.8030\n",
            "Epoch 2/50\n",
            "625/625 [==============================] - 3s 4ms/step - loss: 0.3856 - accuracy: 0.8260 - val_loss: 0.3989 - val_accuracy: 0.8202\n",
            "Epoch 3/50\n",
            "625/625 [==============================] - 3s 4ms/step - loss: 0.3633 - accuracy: 0.8373 - val_loss: 0.3956 - val_accuracy: 0.8223\n",
            "Epoch 4/50\n",
            "625/625 [==============================] - 3s 4ms/step - loss: 0.3475 - accuracy: 0.8445 - val_loss: 0.3949 - val_accuracy: 0.8176\n",
            "Epoch 5/50\n",
            "625/625 [==============================] - 3s 4ms/step - loss: 0.3331 - accuracy: 0.8500 - val_loss: 0.3901 - val_accuracy: 0.8232\n",
            "Epoch 6/50\n",
            "625/625 [==============================] - 2s 4ms/step - loss: 0.3202 - accuracy: 0.8593 - val_loss: 0.3982 - val_accuracy: 0.8217\n",
            "Epoch 7/50\n",
            "625/625 [==============================] - 2s 4ms/step - loss: 0.3112 - accuracy: 0.8615 - val_loss: 0.3942 - val_accuracy: 0.8238\n",
            "Epoch 8/50\n",
            "625/625 [==============================] - 3s 4ms/step - loss: 0.3024 - accuracy: 0.8652 - val_loss: 0.4092 - val_accuracy: 0.8211\n",
            "Epoch 9/50\n",
            "625/625 [==============================] - 3s 4ms/step - loss: 0.2950 - accuracy: 0.8681 - val_loss: 0.4125 - val_accuracy: 0.8161\n",
            "Epoch 10/50\n",
            "625/625 [==============================] - 3s 4ms/step - loss: 0.2864 - accuracy: 0.8740 - val_loss: 0.4106 - val_accuracy: 0.8235\n",
            "Epoch 11/50\n",
            "625/625 [==============================] - 3s 4ms/step - loss: 0.2780 - accuracy: 0.8796 - val_loss: 0.4129 - val_accuracy: 0.8232\n",
            "Epoch 12/50\n",
            "625/625 [==============================] - 3s 4ms/step - loss: 0.2720 - accuracy: 0.8801 - val_loss: 0.4187 - val_accuracy: 0.8237\n",
            "Epoch 13/50\n",
            "625/625 [==============================] - 3s 4ms/step - loss: 0.2623 - accuracy: 0.8856 - val_loss: 0.4287 - val_accuracy: 0.8174\n",
            "Epoch 14/50\n",
            "625/625 [==============================] - 3s 4ms/step - loss: 0.2549 - accuracy: 0.8896 - val_loss: 0.4414 - val_accuracy: 0.8189\n",
            "Epoch 15/50\n",
            "625/625 [==============================] - 3s 4ms/step - loss: 0.2442 - accuracy: 0.8940 - val_loss: 0.4586 - val_accuracy: 0.8132\n",
            "Epoch 16/50\n",
            "625/625 [==============================] - 2s 4ms/step - loss: 0.2359 - accuracy: 0.9011 - val_loss: 0.4613 - val_accuracy: 0.8177\n",
            "Epoch 17/50\n",
            "625/625 [==============================] - 2s 4ms/step - loss: 0.2276 - accuracy: 0.9032 - val_loss: 0.4803 - val_accuracy: 0.8132\n",
            "Epoch 18/50\n",
            "625/625 [==============================] - 2s 4ms/step - loss: 0.2187 - accuracy: 0.9095 - val_loss: 0.4871 - val_accuracy: 0.8146\n",
            "Epoch 19/50\n",
            "625/625 [==============================] - 2s 4ms/step - loss: 0.2089 - accuracy: 0.9147 - val_loss: 0.4978 - val_accuracy: 0.8061\n",
            "Epoch 20/50\n",
            "625/625 [==============================] - 3s 4ms/step - loss: 0.2002 - accuracy: 0.9196 - val_loss: 0.5173 - val_accuracy: 0.8134\n",
            "Epoch 21/50\n",
            "625/625 [==============================] - 3s 4ms/step - loss: 0.1895 - accuracy: 0.9258 - val_loss: 0.5339 - val_accuracy: 0.8073\n",
            "Epoch 22/50\n",
            "625/625 [==============================] - 3s 4ms/step - loss: 0.1796 - accuracy: 0.9301 - val_loss: 0.5588 - val_accuracy: 0.8062\n",
            "Epoch 23/50\n",
            "625/625 [==============================] - 3s 4ms/step - loss: 0.1723 - accuracy: 0.9342 - val_loss: 0.5896 - val_accuracy: 0.8073\n",
            "Epoch 24/50\n",
            "625/625 [==============================] - 3s 4ms/step - loss: 0.1641 - accuracy: 0.9380 - val_loss: 0.5940 - val_accuracy: 0.8035\n",
            "Epoch 25/50\n",
            "625/625 [==============================] - 3s 4ms/step - loss: 0.1539 - accuracy: 0.9423 - val_loss: 0.6200 - val_accuracy: 0.8031\n",
            "Epoch 26/50\n",
            "625/625 [==============================] - 3s 4ms/step - loss: 0.1464 - accuracy: 0.9470 - val_loss: 0.6556 - val_accuracy: 0.8009\n",
            "Epoch 27/50\n",
            "625/625 [==============================] - 2s 4ms/step - loss: 0.1385 - accuracy: 0.9503 - val_loss: 0.6796 - val_accuracy: 0.7952\n",
            "Epoch 28/50\n",
            "625/625 [==============================] - 3s 4ms/step - loss: 0.1291 - accuracy: 0.9549 - val_loss: 0.7150 - val_accuracy: 0.8000\n",
            "Epoch 29/50\n",
            "625/625 [==============================] - 3s 4ms/step - loss: 0.1254 - accuracy: 0.9553 - val_loss: 0.7635 - val_accuracy: 0.7933\n",
            "Epoch 30/50\n",
            "625/625 [==============================] - 3s 4ms/step - loss: 0.1187 - accuracy: 0.9578 - val_loss: 0.7979 - val_accuracy: 0.7997\n",
            "Epoch 31/50\n",
            "625/625 [==============================] - 2s 4ms/step - loss: 0.1114 - accuracy: 0.9617 - val_loss: 0.8385 - val_accuracy: 0.7937\n",
            "Epoch 32/50\n",
            "625/625 [==============================] - 2s 4ms/step - loss: 0.1054 - accuracy: 0.9634 - val_loss: 0.8810 - val_accuracy: 0.7948\n",
            "Epoch 33/50\n",
            "625/625 [==============================] - 2s 4ms/step - loss: 0.1002 - accuracy: 0.9643 - val_loss: 0.9201 - val_accuracy: 0.7906\n",
            "Epoch 34/50\n",
            "625/625 [==============================] - 3s 4ms/step - loss: 0.0935 - accuracy: 0.9685 - val_loss: 0.9973 - val_accuracy: 0.7927\n",
            "Epoch 35/50\n",
            "625/625 [==============================] - 2s 4ms/step - loss: 0.0898 - accuracy: 0.9689 - val_loss: 0.9959 - val_accuracy: 0.7904\n",
            "Epoch 36/50\n",
            "625/625 [==============================] - 2s 4ms/step - loss: 0.0876 - accuracy: 0.9700 - val_loss: 1.0472 - val_accuracy: 0.7892\n",
            "Epoch 37/50\n",
            "625/625 [==============================] - 3s 4ms/step - loss: 0.0841 - accuracy: 0.9710 - val_loss: 1.1163 - val_accuracy: 0.7912\n",
            "Epoch 38/50\n",
            "625/625 [==============================] - 3s 4ms/step - loss: 0.0801 - accuracy: 0.9722 - val_loss: 1.1404 - val_accuracy: 0.7900\n",
            "Epoch 39/50\n",
            "625/625 [==============================] - 2s 4ms/step - loss: 0.0753 - accuracy: 0.9736 - val_loss: 1.2169 - val_accuracy: 0.7888\n",
            "Epoch 40/50\n",
            "625/625 [==============================] - 3s 4ms/step - loss: 0.0711 - accuracy: 0.9748 - val_loss: 1.3047 - val_accuracy: 0.7870\n",
            "Epoch 41/50\n",
            "625/625 [==============================] - 3s 4ms/step - loss: 0.0698 - accuracy: 0.9757 - val_loss: 1.3085 - val_accuracy: 0.7874\n",
            "Epoch 42/50\n",
            "625/625 [==============================] - 3s 4ms/step - loss: 0.0681 - accuracy: 0.9741 - val_loss: 1.4519 - val_accuracy: 0.7807\n",
            "Epoch 43/50\n",
            "625/625 [==============================] - 3s 4ms/step - loss: 0.0651 - accuracy: 0.9756 - val_loss: 1.4647 - val_accuracy: 0.7866\n",
            "Epoch 44/50\n",
            "625/625 [==============================] - 3s 4ms/step - loss: 0.0612 - accuracy: 0.9768 - val_loss: 1.4918 - val_accuracy: 0.7863\n",
            "Epoch 45/50\n",
            "625/625 [==============================] - 3s 4ms/step - loss: 0.0584 - accuracy: 0.9777 - val_loss: 1.5610 - val_accuracy: 0.7849\n",
            "Epoch 46/50\n",
            "625/625 [==============================] - 3s 5ms/step - loss: 0.0572 - accuracy: 0.9779 - val_loss: 1.5502 - val_accuracy: 0.7864\n",
            "Epoch 47/50\n",
            "625/625 [==============================] - 3s 4ms/step - loss: 0.0559 - accuracy: 0.9775 - val_loss: 1.6226 - val_accuracy: 0.7900\n",
            "Epoch 48/50\n",
            "625/625 [==============================] - 3s 4ms/step - loss: 0.0550 - accuracy: 0.9779 - val_loss: 1.6915 - val_accuracy: 0.7883\n",
            "Epoch 49/50\n",
            "625/625 [==============================] - 3s 4ms/step - loss: 0.0517 - accuracy: 0.9790 - val_loss: 1.7659 - val_accuracy: 0.7837\n",
            "Epoch 50/50\n",
            "625/625 [==============================] - 2s 4ms/step - loss: 0.0498 - accuracy: 0.9797 - val_loss: 1.8083 - val_accuracy: 0.7852\n"
          ],
          "name": "stdout"
        }
      ]
    },
    {
      "cell_type": "code",
      "metadata": {
        "id": "vFsdhIgTpMq-",
        "outputId": "64e84a6b-1f8d-403f-f6da-3109fbf84898",
        "colab": {
          "base_uri": "https://localhost:8080/",
          "height": 264
        }
      },
      "source": [
        "utils.plot_history(history_conv1d)"
      ],
      "execution_count": 13,
      "outputs": [
        {
          "output_type": "display_data",
          "data": {
            "image/png": "[encoded data removed]",
            "text/plain": [
              "<Figure size 864x288 with 2 Axes>"
            ]
          },
          "metadata": {
            "tags": [],
            "needs_background": "light"
          }
        }
      ]
    }
  ]
}