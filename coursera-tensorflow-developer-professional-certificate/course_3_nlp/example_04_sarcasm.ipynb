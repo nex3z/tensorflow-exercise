{
 "cells": [
  {
   "cell_type": "code",
   "execution_count": null,
   "metadata": {
    "id": "f19795We4JT3"
   },
   "outputs": [],
   "source": [
    "import os\n",
    "import json\n",
    "import numpy as np\n",
    "import tensorflow_datasets as tfds\n",
    "import matplotlib.pyplot as plt\n",
    "from tensorflow import keras\n",
    "from tensorflow.keras.preprocessing.sequence import pad_sequences\n",
    "from tensorflow.keras.preprocessing.text import Tokenizer"
   ]
  },
  {
   "cell_type": "code",
   "execution_count": null,
   "metadata": {
    "id": "IAcJa4gI7OYo"
   },
   "outputs": [],
   "source": [
    "DATA_URL = 'https://storage.googleapis.com/laurencemoroney-blog.appspot.com/sarcasm.json'"
   ]
  },
  {
   "cell_type": "code",
   "execution_count": null,
   "metadata": {
    "id": "3Je9agAz63H6"
   },
   "outputs": [],
   "source": [
    "VOCAB_SIZE = 10000\n",
    "OOV_TOKEN = '<OOV>'\n",
    "MAX_LENGTH = 100\n",
    "TRUNCATING = 'post'\n",
    "PADDING = 'post'\n",
    "EMBEDDING_DIM = 16\n",
    "TRAINING_SIZE = 20000"
   ]
  },
  {
   "cell_type": "code",
   "execution_count": null,
   "metadata": {
    "id": "_ixplt_P7LZk"
   },
   "outputs": [],
   "source": [
    "data_dir = keras.utils.get_file(\n",
    "    os.path.basename(DATA_URL),\n",
    "    DATA_URL,\n",
    "    cache_dir='./',\n",
    "    cache_subdir=''\n",
    ")"
   ]
  },
  {
   "cell_type": "code",
   "execution_count": null,
   "metadata": {
    "id": "nrkWuT1d8Z7_"
   },
   "outputs": [],
   "source": [
    "with open(data_dir, 'r') as f:\n",
    "    datastore = json.load(f)\n",
    "\n",
    "sentences = [] \n",
    "labels = []\n",
    "\n",
    "for item in datastore:\n",
    "    sentences.append(item['headline'])\n",
    "    labels.append(item['is_sarcastic'])"
   ]
  },
  {
   "cell_type": "code",
   "execution_count": null,
   "metadata": {
    "id": "Guxg1-T18izw"
   },
   "outputs": [],
   "source": [
    "train_sentences = sentences[0:TRAINING_SIZE]\n",
    "train_labels = labels[0:TRAINING_SIZE]\n",
    "val_sentences = sentences[TRAINING_SIZE:]\n",
    "val_labels = labels[TRAINING_SIZE:]"
   ]
  },
  {
   "cell_type": "code",
   "execution_count": null,
   "metadata": {
    "id": "stVv7vU48v8_"
   },
   "outputs": [],
   "source": [
    "tokenizer = Tokenizer(num_words=VOCAB_SIZE, oov_token=OOV_TOKEN)\n",
    "tokenizer.fit_on_texts(train_sentences)\n",
    "\n",
    "word_index = tokenizer.word_index\n",
    "reverse_word_index = dict([(idx, word) for (word, idx) in word_index.items()])"
   ]
  },
  {
   "cell_type": "code",
   "execution_count": null,
   "metadata": {
    "id": "J-8RKm_a9CcC"
   },
   "outputs": [],
   "source": [
    "train_sequences = tokenizer.texts_to_sequences(train_sentences)\n",
    "train_padded = pad_sequences(train_sequences, maxlen=MAX_LENGTH, padding=PADDING, truncating=TRUNCATING)\n",
    "val_sequences = tokenizer.texts_to_sequences(val_sentences)\n",
    "val_padded = pad_sequences(val_sequences, maxlen=MAX_LENGTH, padding=PADDING, truncating=TRUNCATING)\n",
    "\n",
    "train_padded = np.array(train_padded)\n",
    "train_labels = np.array(train_labels)\n",
    "val_sentences = np.array(val_sentences)\n",
    "val_labels = np.array(val_labels)"
   ]
  },
  {
   "cell_type": "code",
   "execution_count": null,
   "metadata": {
    "colab": {
     "base_uri": "https://localhost:8080/"
    },
    "id": "anJ15Ffx9KVS",
    "outputId": "3550f1ab-dca6-4253-e604-7fb56f44af1d"
   },
   "outputs": [
    {
     "name": "stdout",
     "output_type": "stream",
     "text": [
      "Model: \"sequential\"\n",
      "_________________________________________________________________\n",
      "Layer (type)                 Output Shape              Param #   \n",
      "=================================================================\n",
      "embedding (Embedding)        (None, 100, 16)           160000    \n",
      "_________________________________________________________________\n",
      "global_average_pooling1d (Gl (None, 16)                0         \n",
      "_________________________________________________________________\n",
      "dense (Dense)                (None, 24)                408       \n",
      "_________________________________________________________________\n",
      "dense_1 (Dense)              (None, 1)                 25        \n",
      "=================================================================\n",
      "Total params: 160,433\n",
      "Trainable params: 160,433\n",
      "Non-trainable params: 0\n",
      "_________________________________________________________________\n"
     ]
    }
   ],
   "source": [
    "model = keras.Sequential([\n",
    "    keras.layers.Embedding(VOCAB_SIZE, EMBEDDING_DIM, input_length=MAX_LENGTH),\n",
    "    keras.layers.GlobalAveragePooling1D(),\n",
    "    keras.layers.Dense(24, activation='relu'),\n",
    "    keras.layers.Dense(1, activation='sigmoid')\n",
    "])\n",
    "\n",
    "model.compile(loss='binary_crossentropy', optimizer='adam', metrics=['accuracy'])\n",
    "model.summary()"
   ]
  },
  {
   "cell_type": "code",
   "execution_count": null,
   "metadata": {
    "colab": {
     "base_uri": "https://localhost:8080/"
    },
    "id": "jW_9bz9P9PD1",
    "outputId": "5e29b684-aec6-466b-b76d-35963929a340"
   },
   "outputs": [
    {
     "name": "stdout",
     "output_type": "stream",
     "text": [
      "Epoch 1/30\n",
      "625/625 [==============================] - 3s 4ms/step - loss: 0.6656 - accuracy: 0.5839 - val_loss: 0.6022 - val_accuracy: 0.8016\n",
      "Epoch 2/30\n",
      "625/625 [==============================] - 2s 4ms/step - loss: 0.4472 - accuracy: 0.8255 - val_loss: 0.3928 - val_accuracy: 0.8392\n",
      "Epoch 3/30\n",
      "625/625 [==============================] - 3s 4ms/step - loss: 0.3213 - accuracy: 0.8730 - val_loss: 0.3578 - val_accuracy: 0.8515\n",
      "Epoch 4/30\n",
      "625/625 [==============================] - 2s 4ms/step - loss: 0.2673 - accuracy: 0.8968 - val_loss: 0.3447 - val_accuracy: 0.8557\n",
      "Epoch 5/30\n",
      "625/625 [==============================] - 2s 4ms/step - loss: 0.2303 - accuracy: 0.9122 - val_loss: 0.3496 - val_accuracy: 0.8490\n",
      "Epoch 6/30\n",
      "625/625 [==============================] - 3s 4ms/step - loss: 0.2028 - accuracy: 0.9226 - val_loss: 0.3565 - val_accuracy: 0.8504\n",
      "Epoch 7/30\n",
      "625/625 [==============================] - 2s 4ms/step - loss: 0.1813 - accuracy: 0.9330 - val_loss: 0.3578 - val_accuracy: 0.8539\n",
      "Epoch 8/30\n",
      "625/625 [==============================] - 3s 4ms/step - loss: 0.1620 - accuracy: 0.9402 - val_loss: 0.3873 - val_accuracy: 0.8466\n",
      "Epoch 9/30\n",
      "625/625 [==============================] - 3s 4ms/step - loss: 0.1481 - accuracy: 0.9466 - val_loss: 0.3923 - val_accuracy: 0.8475\n",
      "Epoch 10/30\n",
      "625/625 [==============================] - 2s 4ms/step - loss: 0.1323 - accuracy: 0.9536 - val_loss: 0.4090 - val_accuracy: 0.8481\n",
      "Epoch 11/30\n",
      "625/625 [==============================] - 3s 4ms/step - loss: 0.1220 - accuracy: 0.9589 - val_loss: 0.4647 - val_accuracy: 0.8329\n",
      "Epoch 12/30\n",
      "625/625 [==============================] - 2s 4ms/step - loss: 0.1108 - accuracy: 0.9621 - val_loss: 0.4442 - val_accuracy: 0.8477\n",
      "Epoch 13/30\n",
      "625/625 [==============================] - 2s 4ms/step - loss: 0.1015 - accuracy: 0.9656 - val_loss: 0.4803 - val_accuracy: 0.8417\n",
      "Epoch 14/30\n",
      "625/625 [==============================] - 3s 4ms/step - loss: 0.0929 - accuracy: 0.9684 - val_loss: 0.5082 - val_accuracy: 0.8390\n",
      "Epoch 15/30\n",
      "625/625 [==============================] - 2s 4ms/step - loss: 0.0862 - accuracy: 0.9729 - val_loss: 0.5201 - val_accuracy: 0.8411\n",
      "Epoch 16/30\n",
      "625/625 [==============================] - 2s 4ms/step - loss: 0.0789 - accuracy: 0.9733 - val_loss: 0.5567 - val_accuracy: 0.8319\n",
      "Epoch 17/30\n",
      "625/625 [==============================] - 2s 4ms/step - loss: 0.0728 - accuracy: 0.9762 - val_loss: 0.5818 - val_accuracy: 0.8365\n",
      "Epoch 18/30\n",
      "625/625 [==============================] - 3s 4ms/step - loss: 0.0661 - accuracy: 0.9785 - val_loss: 0.6118 - val_accuracy: 0.8335\n",
      "Epoch 19/30\n",
      "625/625 [==============================] - 3s 4ms/step - loss: 0.0605 - accuracy: 0.9809 - val_loss: 0.6432 - val_accuracy: 0.8322\n",
      "Epoch 20/30\n",
      "625/625 [==============================] - 3s 4ms/step - loss: 0.0572 - accuracy: 0.9818 - val_loss: 0.6760 - val_accuracy: 0.8293\n",
      "Epoch 21/30\n",
      "625/625 [==============================] - 2s 4ms/step - loss: 0.0527 - accuracy: 0.9841 - val_loss: 0.7208 - val_accuracy: 0.8229\n",
      "Epoch 22/30\n",
      "625/625 [==============================] - 2s 4ms/step - loss: 0.0472 - accuracy: 0.9860 - val_loss: 0.7611 - val_accuracy: 0.8241\n",
      "Epoch 23/30\n",
      "625/625 [==============================] - 3s 4ms/step - loss: 0.0439 - accuracy: 0.9872 - val_loss: 0.7969 - val_accuracy: 0.8226\n",
      "Epoch 24/30\n",
      "625/625 [==============================] - 3s 4ms/step - loss: 0.0398 - accuracy: 0.9887 - val_loss: 0.8523 - val_accuracy: 0.8192\n",
      "Epoch 25/30\n",
      "625/625 [==============================] - 3s 4ms/step - loss: 0.0389 - accuracy: 0.9889 - val_loss: 0.8681 - val_accuracy: 0.8205\n",
      "Epoch 26/30\n",
      "625/625 [==============================] - 3s 4ms/step - loss: 0.0346 - accuracy: 0.9900 - val_loss: 0.8947 - val_accuracy: 0.8192\n",
      "Epoch 27/30\n",
      "625/625 [==============================] - 2s 4ms/step - loss: 0.0330 - accuracy: 0.9901 - val_loss: 0.9337 - val_accuracy: 0.8152\n",
      "Epoch 28/30\n",
      "625/625 [==============================] - 3s 4ms/step - loss: 0.0300 - accuracy: 0.9912 - val_loss: 1.0054 - val_accuracy: 0.8195\n",
      "Epoch 29/30\n",
      "625/625 [==============================] - 3s 4ms/step - loss: 0.0278 - accuracy: 0.9926 - val_loss: 1.0164 - val_accuracy: 0.8143\n",
      "Epoch 30/30\n",
      "625/625 [==============================] - 2s 4ms/step - loss: 0.0266 - accuracy: 0.9929 - val_loss: 1.0594 - val_accuracy: 0.8152\n"
     ]
    }
   ],
   "source": [
    "history = model.fit(\n",
    "    train_padded, \n",
    "    train_labels, \n",
    "    epochs=30,\n",
    "    validation_data=(val_padded, val_labels), \n",
    "    verbose=1\n",
    ")"
   ]
  },
  {
   "cell_type": "code",
   "execution_count": null,
   "metadata": {
    "colab": {
     "base_uri": "https://localhost:8080/",
     "height": 265
    },
    "id": "gdY20lpr9fZj",
    "outputId": "2cb3ccbf-4729-43aa-9d89-fbd3b63f091b"
   },
   "outputs": [
    {
     "data": {
      "image/png": "[encoded data removed]",
      "text/plain": [
       "<Figure size 864x288 with 2 Axes>"
      ]
     },
     "metadata": {
      "needs_background": "light",
      "tags": []
     },
     "output_type": "display_data"
    }
   ],
   "source": [
    "epochs = range(len(history.history['accuracy']))\n",
    "plt.figure(figsize=(12, 4))\n",
    "plt.subplot(1, 2, 1)\n",
    "plt.plot(epochs, history.history['accuracy'], label='accuracy')\n",
    "plt.plot(epochs, history.history['val_accuracy'], label='val_accuracy')\n",
    "plt.legend()\n",
    "\n",
    "plt.subplot(1, 2, 2)\n",
    "plt.plot(epochs, history.history['loss'], label='loss')\n",
    "plt.plot(epochs, history.history['val_loss'], label='val_loss')\n",
    "plt.legend()\n",
    "plt.show()"
   ]
  },
  {
   "cell_type": "code",
   "execution_count": null,
   "metadata": {
    "colab": {
     "base_uri": "https://localhost:8080/"
    },
    "id": "3GftF-tM4wsN",
    "outputId": "b9187662-fa2d-4457-f9fc-90ba5a3bba4c"
   },
   "outputs": [
    {
     "name": "stdout",
     "output_type": "stream",
     "text": [
      "[[8.510113e-01]\n",
      " [7.880818e-06]]\n"
     ]
    }
   ],
   "source": [
    "sentence = [\n",
    "    \"granny starting to fear spiders in the garden might be real\",\n",
    "    \"game of thrones season finale showing this sunday night\"\n",
    "]\n",
    "sequence = tokenizer.texts_to_sequences(sentence)\n",
    "padded = pad_sequences(sequence, maxlen=MAX_LENGTH, padding=PADDING, truncating=TRUNCATING)\n",
    "print(model.predict(padded))"
   ]
  },
  {
   "cell_type": "code",
   "execution_count": null,
   "metadata": {
    "colab": {
     "base_uri": "https://localhost:8080/"
    },
    "id": "gcsXyrfD3-cR",
    "outputId": "638a9701-d629-4356-84f6-5b507149899f"
   },
   "outputs": [
    {
     "name": "stdout",
     "output_type": "stream",
     "text": [
      "mom starting to fear son's web series closest thing she will have to grandchild ? ? ? ? ? ? ? ? ? ? ? ? ? ? ? ? ? ? ? ? ? ? ? ? ? ? ? ? ? ? ? ? ? ? ? ? ? ? ? ? ? ? ? ? ? ? ? ? ? ? ? ? ? ? ? ? ? ? ? ? ? ? ? ? ? ? ? ? ? ? ? ? ? ? ? ? ? ? ? ? ? ? ? ? ? ?\n",
      "mom starting to fear son's web series closest thing she will have to grandchild\n",
      "1\n"
     ]
    }
   ],
   "source": [
    "def decode_sequence(sequence):\n",
    "    return ' '.join([reverse_word_index.get(i, '?') for i in sequence])\n",
    "\n",
    "print(decode_sequence(train_padded[2]))\n",
    "print(train_sentences[2])\n",
    "print(labels[2])"
   ]
  },
  {
   "cell_type": "code",
   "execution_count": null,
   "metadata": {
    "colab": {
     "base_uri": "https://localhost:8080/"
    },
    "id": "S2LwsbIY4kBN",
    "outputId": "e72a0bd3-2184-4194-aad4-1fc0c22dd0b3"
   },
   "outputs": [
    {
     "name": "stdout",
     "output_type": "stream",
     "text": [
      "(10000, 16)\n"
     ]
    }
   ],
   "source": [
    "embedding_layer = model.layers[0]\n",
    "weights = embedding_layer.get_weights()[0]\n",
    "print(weights.shape) # shape: (vocab_size, embedding_dim)"
   ]
  },
  {
   "cell_type": "code",
   "execution_count": null,
   "metadata": {
    "id": "0lFSQs8N4R-d"
   },
   "outputs": [],
   "source": [
    "import io\n",
    "\n",
    "out_v = io.open('vecs.tsv', 'w', encoding='utf-8')\n",
    "out_m = io.open('meta.tsv', 'w', encoding='utf-8')\n",
    "for word_num in range(1, VOCAB_SIZE):\n",
    "    word = reverse_word_index[word_num]\n",
    "    embeddings = weights[word_num]\n",
    "    out_m.write(word + \"\\n\")\n",
    "    out_v.write(\"\\t\".join([str(x) for x in embeddings]) + \"\\n\")\n",
    "out_v.close()\n",
    "out_m.close()"
   ]
  },
  {
   "cell_type": "code",
   "execution_count": null,
   "metadata": {
    "colab": {
     "base_uri": "https://localhost:8080/",
     "height": 17
    },
    "id": "rbC1cOo24ahj",
    "outputId": "b047dc83-5802-4ef0-b635-7952e223fd88"
   },
   "outputs": [
    {
     "data": {
      "application/javascript": [
       "\n",
       "    async function download(id, filename, size) {\n",
       "      if (!google.colab.kernel.accessAllowed) {\n",
       "        return;\n",
       "      }\n",
       "      const div = document.createElement('div');\n",
       "      const label = document.createElement('label');\n",
       "      label.textContent = `Downloading \"${filename}\": `;\n",
       "      div.appendChild(label);\n",
       "      const progress = document.createElement('progress');\n",
       "      progress.max = size;\n",
       "      div.appendChild(progress);\n",
       "      document.body.appendChild(div);\n",
       "\n",
       "      const buffers = [];\n",
       "      let downloaded = 0;\n",
       "\n",
       "      const channel = await google.colab.kernel.comms.open(id);\n",
       "      // Send a message to notify the kernel that we're ready.\n",
       "      channel.send({})\n",
       "\n",
       "      for await (const message of channel.messages) {\n",
       "        // Send a message to notify the kernel that we're ready.\n",
       "        channel.send({})\n",
       "        if (message.buffers) {\n",
       "          for (const buffer of message.buffers) {\n",
       "            buffers.push(buffer);\n",
       "            downloaded += buffer.byteLength;\n",
       "            progress.value = downloaded;\n",
       "          }\n",
       "        }\n",
       "      }\n",
       "      const blob = new Blob(buffers, {type: 'application/binary'});\n",
       "      const a = document.createElement('a');\n",
       "      a.href = window.URL.createObjectURL(blob);\n",
       "      a.download = filename;\n",
       "      div.appendChild(a);\n",
       "      a.click();\n",
       "      div.remove();\n",
       "    }\n",
       "  "
      ],
      "text/plain": [
       "<IPython.core.display.Javascript object>"
      ]
     },
     "metadata": {
      "tags": []
     },
     "output_type": "display_data"
    },
    {
     "data": {
      "application/javascript": [
       "download(\"download_321711a2-7715-42eb-ad4f-427afcca7b0b\", \"vecs.tsv\", 1810167)"
      ],
      "text/plain": [
       "<IPython.core.display.Javascript object>"
      ]
     },
     "metadata": {
      "tags": []
     },
     "output_type": "display_data"
    },
    {
     "data": {
      "application/javascript": [
       "\n",
       "    async function download(id, filename, size) {\n",
       "      if (!google.colab.kernel.accessAllowed) {\n",
       "        return;\n",
       "      }\n",
       "      const div = document.createElement('div');\n",
       "      const label = document.createElement('label');\n",
       "      label.textContent = `Downloading \"${filename}\": `;\n",
       "      div.appendChild(label);\n",
       "      const progress = document.createElement('progress');\n",
       "      progress.max = size;\n",
       "      div.appendChild(progress);\n",
       "      document.body.appendChild(div);\n",
       "\n",
       "      const buffers = [];\n",
       "      let downloaded = 0;\n",
       "\n",
       "      const channel = await google.colab.kernel.comms.open(id);\n",
       "      // Send a message to notify the kernel that we're ready.\n",
       "      channel.send({})\n",
       "\n",
       "      for await (const message of channel.messages) {\n",
       "        // Send a message to notify the kernel that we're ready.\n",
       "        channel.send({})\n",
       "        if (message.buffers) {\n",
       "          for (const buffer of message.buffers) {\n",
       "            buffers.push(buffer);\n",
       "            downloaded += buffer.byteLength;\n",
       "            progress.value = downloaded;\n",
       "          }\n",
       "        }\n",
       "      }\n",
       "      const blob = new Blob(buffers, {type: 'application/binary'});\n",
       "      const a = document.createElement('a');\n",
       "      a.href = window.URL.createObjectURL(blob);\n",
       "      a.download = filename;\n",
       "      div.appendChild(a);\n",
       "      a.click();\n",
       "      div.remove();\n",
       "    }\n",
       "  "
      ],
      "text/plain": [
       "<IPython.core.display.Javascript object>"
      ]
     },
     "metadata": {
      "tags": []
     },
     "output_type": "display_data"
    },
    {
     "data": {
      "application/javascript": [
       "download(\"download_5034a816-07bd-405a-a569-ff5d7189b682\", \"meta.tsv\", 75974)"
      ],
      "text/plain": [
       "<IPython.core.display.Javascript object>"
      ]
     },
     "metadata": {
      "tags": []
     },
     "output_type": "display_data"
    }
   ],
   "source": [
    "try:\n",
    "    from google.colab import files\n",
    "except ImportError:\n",
    "    pass\n",
    "else:\n",
    "  files.download('vecs.tsv')\n",
    "  files.download('meta.tsv')"
   ]
  }
 ],
 "metadata": {
  "accelerator": "GPU",
  "colab": {
   "collapsed_sections": [],
   "name": "example_04_sarcasm.ipynb",
   "provenance": []
  },
  "kernelspec": {
   "display_name": "Python 3",
   "language": "python",
   "name": "python3"
  },
  "language_info": {
   "codemirror_mode": {
    "name": "ipython",
    "version": 3
   },
   "file_extension": ".py",
   "mimetype": "text/x-python",
   "name": "python",
   "nbconvert_exporter": "python",
   "pygments_lexer": "ipython3",
   "version": "3.7.9"
  }
 },
 "nbformat": 4,
 "nbformat_minor": 4
}