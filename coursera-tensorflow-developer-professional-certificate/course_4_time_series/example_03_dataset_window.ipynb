{
 "cells": [
  {
   "cell_type": "code",
   "execution_count": 1,
   "metadata": {
    "id": "BCjMnbh9Cf7F"
   },
   "outputs": [],
   "source": [
    "import numpy as np\n",
    "import tensorflow as tf"
   ]
  },
  {
   "cell_type": "code",
   "execution_count": 2,
   "metadata": {
    "colab": {
     "base_uri": "https://localhost:8080/"
    },
    "id": "mkqxPpYkDDKr",
    "outputId": "0f3a719b-cfde-4143-af19-8d0de6d84686"
   },
   "outputs": [
    {
     "name": "stdout",
     "output_type": "stream",
     "text": [
      "0\n",
      "1\n",
      "2\n",
      "3\n",
      "4\n",
      "5\n",
      "6\n",
      "7\n",
      "8\n",
      "9\n"
     ]
    }
   ],
   "source": [
    "dataset = tf.data.Dataset.range(10)\n",
    "\n",
    "for data in dataset:\n",
    "    print(data.numpy())"
   ]
  },
  {
   "cell_type": "code",
   "execution_count": 3,
   "metadata": {
    "colab": {
     "base_uri": "https://localhost:8080/"
    },
    "id": "f9bipaB7DHVc",
    "outputId": "f97be1cb-e4ab-4ad5-f9a5-c4676e9710cb"
   },
   "outputs": [
    {
     "name": "stdout",
     "output_type": "stream",
     "text": [
      "list(window) = [<tf.Tensor: shape=(), dtype=int64, numpy=0>, <tf.Tensor: shape=(), dtype=int64, numpy=1>, <tf.Tensor: shape=(), dtype=int64, numpy=2>, <tf.Tensor: shape=(), dtype=int64, numpy=3>, <tf.Tensor: shape=(), dtype=int64, numpy=4>]\n",
      "list(window) = [<tf.Tensor: shape=(), dtype=int64, numpy=1>, <tf.Tensor: shape=(), dtype=int64, numpy=2>, <tf.Tensor: shape=(), dtype=int64, numpy=3>, <tf.Tensor: shape=(), dtype=int64, numpy=4>, <tf.Tensor: shape=(), dtype=int64, numpy=5>]\n",
      "list(window) = [<tf.Tensor: shape=(), dtype=int64, numpy=2>, <tf.Tensor: shape=(), dtype=int64, numpy=3>, <tf.Tensor: shape=(), dtype=int64, numpy=4>, <tf.Tensor: shape=(), dtype=int64, numpy=5>, <tf.Tensor: shape=(), dtype=int64, numpy=6>]\n",
      "list(window) = [<tf.Tensor: shape=(), dtype=int64, numpy=3>, <tf.Tensor: shape=(), dtype=int64, numpy=4>, <tf.Tensor: shape=(), dtype=int64, numpy=5>, <tf.Tensor: shape=(), dtype=int64, numpy=6>, <tf.Tensor: shape=(), dtype=int64, numpy=7>]\n",
      "list(window) = [<tf.Tensor: shape=(), dtype=int64, numpy=4>, <tf.Tensor: shape=(), dtype=int64, numpy=5>, <tf.Tensor: shape=(), dtype=int64, numpy=6>, <tf.Tensor: shape=(), dtype=int64, numpy=7>, <tf.Tensor: shape=(), dtype=int64, numpy=8>]\n",
      "list(window) = [<tf.Tensor: shape=(), dtype=int64, numpy=5>, <tf.Tensor: shape=(), dtype=int64, numpy=6>, <tf.Tensor: shape=(), dtype=int64, numpy=7>, <tf.Tensor: shape=(), dtype=int64, numpy=8>, <tf.Tensor: shape=(), dtype=int64, numpy=9>]\n",
      "list(window) = [<tf.Tensor: shape=(), dtype=int64, numpy=6>, <tf.Tensor: shape=(), dtype=int64, numpy=7>, <tf.Tensor: shape=(), dtype=int64, numpy=8>, <tf.Tensor: shape=(), dtype=int64, numpy=9>]\n",
      "list(window) = [<tf.Tensor: shape=(), dtype=int64, numpy=7>, <tf.Tensor: shape=(), dtype=int64, numpy=8>, <tf.Tensor: shape=(), dtype=int64, numpy=9>]\n",
      "list(window) = [<tf.Tensor: shape=(), dtype=int64, numpy=8>, <tf.Tensor: shape=(), dtype=int64, numpy=9>]\n",
      "list(window) = [<tf.Tensor: shape=(), dtype=int64, numpy=9>]\n"
     ]
    }
   ],
   "source": [
    "dataset = tf.data.Dataset.range(10)\\\n",
    "    .window(5, shift=1)\n",
    "\n",
    "for window in dataset:\n",
    "    print(f\"list(window) = {list(window)}\")"
   ]
  },
  {
   "cell_type": "code",
   "execution_count": 4,
   "metadata": {
    "colab": {
     "base_uri": "https://localhost:8080/"
    },
    "id": "5oqNKW4rDTf1",
    "outputId": "76cf8706-a841-479e-f2d0-3d14514cb482"
   },
   "outputs": [
    {
     "name": "stdout",
     "output_type": "stream",
     "text": [
      "0 1 2 3 4 \n",
      "1 2 3 4 5 \n",
      "2 3 4 5 6 \n",
      "3 4 5 6 7 \n",
      "4 5 6 7 8 \n",
      "5 6 7 8 9 \n",
      "6 7 8 9 \n",
      "7 8 9 \n",
      "8 9 \n",
      "9 \n"
     ]
    }
   ],
   "source": [
    "for window in dataset:\n",
    "    for value in window:\n",
    "        print(value.numpy(), end=\" \")\n",
    "    print()"
   ]
  },
  {
   "cell_type": "code",
   "execution_count": 5,
   "metadata": {
    "colab": {
     "base_uri": "https://localhost:8080/"
    },
    "id": "irRoG12ALPPM",
    "outputId": "97dc74df-5d63-4e24-baee-2d73cfa0945d"
   },
   "outputs": [
    {
     "name": "stdout",
     "output_type": "stream",
     "text": [
      "0 1 2 3 4 \n",
      "1 2 3 4 5 \n",
      "2 3 4 5 6 \n",
      "3 4 5 6 7 \n",
      "4 5 6 7 8 \n",
      "5 6 7 8 9 \n"
     ]
    }
   ],
   "source": [
    "dataset = tf.data.Dataset.range(10)\\\n",
    "    .window(5, shift=1, drop_remainder=True)\n",
    "    \n",
    "for window in dataset:\n",
    "    for value in window:\n",
    "        print(value.numpy(), end=\" \")\n",
    "    print()"
   ]
  },
  {
   "cell_type": "code",
   "execution_count": 6,
   "metadata": {
    "colab": {
     "base_uri": "https://localhost:8080/"
    },
    "id": "I5zhzlxkLRDw",
    "outputId": "85363c19-961e-412e-d4c2-30051f8d6694"
   },
   "outputs": [
    {
     "name": "stdout",
     "output_type": "stream",
     "text": [
      "[0 1 2 3 4]\n",
      "[1 2 3 4 5]\n",
      "[2 3 4 5 6]\n",
      "[3 4 5 6 7]\n",
      "[4 5 6 7 8]\n",
      "[5 6 7 8 9]\n"
     ]
    }
   ],
   "source": [
    "dataset = tf.data.Dataset.range(10)\\\n",
    "    .window(5, shift=1, drop_remainder=True)\\\n",
    "    .flat_map(lambda window: window.batch(5))\n",
    "\n",
    "for window in dataset:\n",
    "    print(window.numpy())"
   ]
  },
  {
   "cell_type": "code",
   "execution_count": 7,
   "metadata": {
    "colab": {
     "base_uri": "https://localhost:8080/"
    },
    "id": "2Luh8YVRLgY3",
    "outputId": "79638d8a-5809-486e-a0af-b06bb17dee49"
   },
   "outputs": [
    {
     "name": "stdout",
     "output_type": "stream",
     "text": [
      "[0 1 2 3] [4]\n",
      "[1 2 3 4] [5]\n",
      "[2 3 4 5] [6]\n",
      "[3 4 5 6] [7]\n",
      "[4 5 6 7] [8]\n",
      "[5 6 7 8] [9]\n"
     ]
    }
   ],
   "source": [
    "def split_x_y(window):\n",
    "    return window[:-1], window[-1:]\n",
    "\n",
    "dataset = tf.data.Dataset.range(10)\\\n",
    "    .window(5, shift=1, drop_remainder=True)\\\n",
    "    .flat_map(lambda window: window.batch(5))\\\n",
    "    .map(split_x_y)\n",
    "\n",
    "for x, y in dataset:\n",
    "  print(x.numpy(), y.numpy())"
   ]
  },
  {
   "cell_type": "code",
   "execution_count": 8,
   "metadata": {
    "colab": {
     "base_uri": "https://localhost:8080/"
    },
    "id": "dXUmfP9hQSDy",
    "outputId": "8bdc2012-f1ba-4138-d796-f7fd5dcab858"
   },
   "outputs": [
    {
     "name": "stdout",
     "output_type": "stream",
     "text": [
      "[2 3 4 5] [6]\n",
      "[3 4 5 6] [7]\n",
      "[5 6 7 8] [9]\n",
      "[4 5 6 7] [8]\n",
      "[1 2 3 4] [5]\n",
      "[0 1 2 3] [4]\n"
     ]
    }
   ],
   "source": [
    "dataset = tf.data.Dataset.range(10)\\\n",
    "    .window(5, shift=1, drop_remainder=True)\\\n",
    "    .flat_map(lambda window: window.batch(5))\\\n",
    "    .map(split_x_y)\\\n",
    "    .shuffle(buffer_size=10)\n",
    "\n",
    "for x, y in dataset:\n",
    "  print(x.numpy(), y.numpy())"
   ]
  },
  {
   "cell_type": "code",
   "execution_count": 9,
   "metadata": {
    "colab": {
     "base_uri": "https://localhost:8080/"
    },
    "id": "VTiDYeVDR3Te",
    "outputId": "1ad96a08-617e-40d3-cc3a-34691fa6706e"
   },
   "outputs": [
    {
     "name": "stdout",
     "output_type": "stream",
     "text": [
      "x = \n",
      " [[1 2 3 4]\n",
      " [0 1 2 3]]\n",
      "y = \n",
      " [[5]\n",
      " [4]]\n",
      "x = \n",
      " [[3 4 5 6]\n",
      " [2 3 4 5]]\n",
      "y = \n",
      " [[7]\n",
      " [6]]\n",
      "x = \n",
      " [[4 5 6 7]\n",
      " [5 6 7 8]]\n",
      "y = \n",
      " [[8]\n",
      " [9]]\n"
     ]
    }
   ],
   "source": [
    "dataset = tf.data.Dataset.range(10)\\\n",
    "    .window(5, shift=1, drop_remainder=True)\\\n",
    "    .flat_map(lambda window: window.batch(5))\\\n",
    "    .map(split_x_y)\\\n",
    "    .shuffle(buffer_size=10)\\\n",
    "    .batch(2).prefetch(1)\n",
    "\n",
    "for x, y in dataset:\n",
    "    print(\"x = \\n\", x.numpy())\n",
    "    print(\"y = \\n\", y.numpy())"
   ]
  }
 ],
 "metadata": {
  "colab": {
   "collapsed_sections": [],
   "name": "example_03_dataset_window.ipynb",
   "provenance": []
  },
  "kernelspec": {
   "display_name": "Python 3",
   "language": "python",
   "name": "python3"
  },
  "language_info": {
   "codemirror_mode": {
    "name": "ipython",
    "version": 3
   },
   "file_extension": ".py",
   "mimetype": "text/x-python",
   "name": "python",
   "nbconvert_exporter": "python",
   "pygments_lexer": "ipython3",
   "version": "3.7.9"
  }
 },
 "nbformat": 4,
 "nbformat_minor": 4
}