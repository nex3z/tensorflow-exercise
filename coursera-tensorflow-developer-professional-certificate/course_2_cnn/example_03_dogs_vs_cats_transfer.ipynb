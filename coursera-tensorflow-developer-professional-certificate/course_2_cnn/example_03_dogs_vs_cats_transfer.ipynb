{
  "nbformat": 4,
  "nbformat_minor": 0,
  "metadata": {
    "colab": {
      "name": "example_03_dogs_vs_cats_transfer.ipynb",
      "provenance": [],
      "collapsed_sections": []
    },
    "kernelspec": {
      "name": "python3",
      "display_name": "Python 3"
    },
    "accelerator": "GPU"
  },
  "cells": [
    {
      "cell_type": "code",
      "metadata": {
        "id": "C4h6-_oPX084"
      },
      "source": [
        "import glob\n",
        "import os\n",
        "import random\n",
        "\n",
        "import matplotlib.pyplot as plt\n",
        "import numpy as np\n",
        "from tensorflow import keras\n",
        "from tensorflow.keras.preprocessing.image import ImageDataGenerator, load_img, img_to_array\n",
        "from tensorflow.keras.applications.inception_v3 import InceptionV3\n",
        "from tensorflow.keras.optimizers import RMSprop"
      ],
      "execution_count": null,
      "outputs": []
    },
    {
      "cell_type": "code",
      "metadata": {
        "id": "NNaQ-JqFX6i2"
      },
      "source": [
        "DATA_URL = 'https://storage.googleapis.com/mledu-datasets/cats_and_dogs_filtered.zip'\n",
        "INPUT_SIZE = 150\n",
        "\n",
        "WEIGHT_URL = 'https://storage.googleapis.com/mledu-datasets/inception_v3_weights_tf_dim_ordering_tf_kernels_notop.h5'"
      ],
      "execution_count": null,
      "outputs": []
    },
    {
      "cell_type": "code",
      "metadata": {
        "id": "D_O6gjtjZQj4"
      },
      "source": [
        "data_dir = keras.utils.get_file(\n",
        "    os.path.basename(DATA_URL),\n",
        "    DATA_URL,\n",
        "    cache_dir='./',\n",
        "    cache_subdir='',\n",
        "    extract=True\n",
        ")\n",
        "train_dir = os.path.join(os.path.splitext(data_dir)[0], 'train')\n",
        "val_dir = os.path.join(os.path.splitext(data_dir)[0], 'validation')"
      ],
      "execution_count": null,
      "outputs": []
    },
    {
      "cell_type": "code",
      "metadata": {
        "id": "7RXSLJ0pX-MZ",
        "outputId": "88fe1aca-aac5-4f8b-ab05-e6f4334eac20",
        "colab": {
          "base_uri": "https://localhost:8080/"
        }
      },
      "source": [
        "train_data = ImageDataGenerator(\n",
        "    rescale=1.0/255,\n",
        "    rotation_range=40,\n",
        "    width_shift_range=0.2,\n",
        "    height_shift_range=0.2,\n",
        "    shear_range=0.2,\n",
        "    zoom_range=0.2,\n",
        "    horizontal_flip=True\n",
        ")\n",
        "train_generator = train_data.flow_from_directory(\n",
        "    train_dir,\n",
        "    target_size=(INPUT_SIZE, INPUT_SIZE),\n",
        "    batch_size=32,\n",
        "    class_mode='binary'\n",
        ")\n",
        "\n",
        "val_data = ImageDataGenerator(rescale=1.0/255)\n",
        "val_generator = val_data.flow_from_directory(\n",
        "    val_dir,\n",
        "    target_size=(INPUT_SIZE, INPUT_SIZE),\n",
        "    batch_size=32,\n",
        "    class_mode='binary'\n",
        ")\n"
      ],
      "execution_count": null,
      "outputs": [
        {
          "output_type": "stream",
          "text": [
            "Found 2000 images belonging to 2 classes.\n",
            "Found 1000 images belonging to 2 classes.\n"
          ],
          "name": "stdout"
        }
      ]
    },
    {
      "cell_type": "code",
      "metadata": {
        "id": "cfBUymRzYLpg"
      },
      "source": [
        "weight_path = keras.utils.get_file(\n",
        "    os.path.basename(WEIGHT_URL),\n",
        "    WEIGHT_URL,\n",
        "    cache_dir='./',\n",
        "    cache_subdir=''\n",
        ")"
      ],
      "execution_count": null,
      "outputs": []
    },
    {
      "cell_type": "code",
      "metadata": {
        "id": "NsKwXeCOYSXj",
        "outputId": "ad195372-cef6-415a-f466-0312d759dc4f",
        "colab": {
          "base_uri": "https://localhost:8080/"
        }
      },
      "source": [
        "pre_trained_model = InceptionV3(\n",
        "    input_shape=(INPUT_SIZE, INPUT_SIZE, 3), \n",
        "    include_top=False, \n",
        "    weights=None\n",
        ")\n",
        "\n",
        "pre_trained_model.load_weights(weight_path)\n",
        "\n",
        "for layer in pre_trained_model.layers:\n",
        "    layer.trainable = False\n",
        "\n",
        "last_layer = pre_trained_model.get_layer('mixed7')\n",
        "print('last layer output shape: ', last_layer.output_shape)\n",
        "last_output = last_layer.output"
      ],
      "execution_count": null,
      "outputs": [
        {
          "output_type": "stream",
          "text": [
            "last layer output shape:  (None, 7, 7, 768)\n"
          ],
          "name": "stdout"
        }
      ]
    },
    {
      "cell_type": "code",
      "metadata": {
        "id": "yRfHm_dgYfkG"
      },
      "source": [
        "x = keras.layers.Flatten()(last_output)\n",
        "x = keras.layers.Dense(1024, activation='relu')(x)\n",
        "x = keras.layers.Dropout(0.2)(x)                  \n",
        "x = keras.layers.Dense  (1, activation='sigmoid')(x)           \n",
        "\n",
        "model = keras.Model( pre_trained_model.input, x)\n",
        "\n",
        "model.compile(\n",
        "    optimizer=RMSprop(lr=0.0001), \n",
        "    loss='binary_crossentropy', \n",
        "    metrics=['accuracy']\n",
        ")"
      ],
      "execution_count": null,
      "outputs": []
    },
    {
      "cell_type": "code",
      "metadata": {
        "id": "Y_8suSTxYs3C",
        "outputId": "dc49622e-d819-4fe9-8471-65d2a1ef7ebe",
        "colab": {
          "base_uri": "https://localhost:8080/"
        }
      },
      "source": [
        "history = model.fit(\n",
        "    train_generator,\n",
        "    epochs=20,\n",
        "    validation_data=val_generator,\n",
        "    verbose=1\n",
        ")"
      ],
      "execution_count": null,
      "outputs": [
        {
          "output_type": "stream",
          "text": [
            "Epoch 1/20\n",
            "63/63 [==============================] - 19s 308ms/step - loss: 0.3918 - accuracy: 0.8435 - val_loss: 0.0885 - val_accuracy: 0.9620\n",
            "Epoch 2/20\n",
            "63/63 [==============================] - 18s 291ms/step - loss: 0.2316 - accuracy: 0.9060 - val_loss: 0.1516 - val_accuracy: 0.9420\n",
            "Epoch 3/20\n",
            "63/63 [==============================] - 18s 293ms/step - loss: 0.1747 - accuracy: 0.9325 - val_loss: 0.1152 - val_accuracy: 0.9570\n",
            "Epoch 4/20\n",
            "63/63 [==============================] - 19s 296ms/step - loss: 0.1804 - accuracy: 0.9380 - val_loss: 0.1257 - val_accuracy: 0.9530\n",
            "Epoch 5/20\n",
            "63/63 [==============================] - 19s 297ms/step - loss: 0.1679 - accuracy: 0.9360 - val_loss: 0.1670 - val_accuracy: 0.9430\n",
            "Epoch 6/20\n",
            "63/63 [==============================] - 19s 294ms/step - loss: 0.1717 - accuracy: 0.9390 - val_loss: 0.0943 - val_accuracy: 0.9610\n",
            "Epoch 7/20\n",
            "63/63 [==============================] - 18s 293ms/step - loss: 0.1587 - accuracy: 0.9390 - val_loss: 0.1055 - val_accuracy: 0.9600\n",
            "Epoch 8/20\n",
            "63/63 [==============================] - 19s 295ms/step - loss: 0.1526 - accuracy: 0.9455 - val_loss: 0.1313 - val_accuracy: 0.9550\n",
            "Epoch 9/20\n",
            "63/63 [==============================] - 19s 295ms/step - loss: 0.1614 - accuracy: 0.9415 - val_loss: 0.0928 - val_accuracy: 0.9670\n",
            "Epoch 10/20\n",
            "63/63 [==============================] - 19s 295ms/step - loss: 0.1326 - accuracy: 0.9490 - val_loss: 0.1092 - val_accuracy: 0.9620\n",
            "Epoch 11/20\n",
            "63/63 [==============================] - 19s 294ms/step - loss: 0.1571 - accuracy: 0.9470 - val_loss: 0.0963 - val_accuracy: 0.9710\n",
            "Epoch 12/20\n",
            "63/63 [==============================] - 19s 294ms/step - loss: 0.1410 - accuracy: 0.9455 - val_loss: 0.0932 - val_accuracy: 0.9660\n",
            "Epoch 13/20\n",
            "63/63 [==============================] - 19s 295ms/step - loss: 0.1466 - accuracy: 0.9425 - val_loss: 0.0938 - val_accuracy: 0.9660\n",
            "Epoch 14/20\n",
            "63/63 [==============================] - 18s 293ms/step - loss: 0.1224 - accuracy: 0.9485 - val_loss: 0.1087 - val_accuracy: 0.9650\n",
            "Epoch 15/20\n",
            "63/63 [==============================] - 19s 295ms/step - loss: 0.1218 - accuracy: 0.9590 - val_loss: 0.1287 - val_accuracy: 0.9610\n",
            "Epoch 16/20\n",
            "63/63 [==============================] - 18s 293ms/step - loss: 0.1360 - accuracy: 0.9530 - val_loss: 0.1200 - val_accuracy: 0.9600\n",
            "Epoch 17/20\n",
            "63/63 [==============================] - 19s 294ms/step - loss: 0.1283 - accuracy: 0.9570 - val_loss: 0.1168 - val_accuracy: 0.9600\n",
            "Epoch 18/20\n",
            "63/63 [==============================] - 18s 291ms/step - loss: 0.1270 - accuracy: 0.9500 - val_loss: 0.1248 - val_accuracy: 0.9590\n",
            "Epoch 19/20\n",
            "63/63 [==============================] - 18s 291ms/step - loss: 0.1258 - accuracy: 0.9550 - val_loss: 0.1071 - val_accuracy: 0.9670\n",
            "Epoch 20/20\n",
            "63/63 [==============================] - 18s 289ms/step - loss: 0.1190 - accuracy: 0.9550 - val_loss: 0.1030 - val_accuracy: 0.9700\n"
          ],
          "name": "stdout"
        }
      ]
    },
    {
      "cell_type": "code",
      "metadata": {
        "id": "eoH513n6ZZbO",
        "outputId": "606b2bff-371e-448c-98f5-8b45fb71be9d",
        "colab": {
          "base_uri": "https://localhost:8080/",
          "height": 235
        }
      },
      "source": [
        "epochs = range(len(history.history['accuracy']))\n",
        "plt.figure(figsize=(12, 4))\n",
        "plt.subplot(1, 2, 1)\n",
        "plt.plot(epochs, history.history['accuracy'], label='accuracy')\n",
        "plt.plot(epochs, history.history['val_accuracy'], label='val_accuracy')\n",
        "plt.legend()\n",
        "\n",
        "plt.subplot(1, 2, 2)\n",
        "plt.plot(epochs, history.history['loss'], label='loss')\n",
        "plt.plot(epochs, history.history['val_loss'], label='val_loss')\n",
        "plt.legend()\n",
        "plt.show()"
      ],
      "execution_count": null,
      "outputs": [
        {
          "output_type": "display_data",
          "data": {
            "image/png": "[encoded data removed]",
            "text/plain": [
              "<Figure size 864x288 with 2 Axes>"
            ]
          },
          "metadata": {
            "tags": [],
            "needs_background": "light"
          }
        }
      ]
    }
  ]
}