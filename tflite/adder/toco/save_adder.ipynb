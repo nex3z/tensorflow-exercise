{
 "cells": [
  {
   "cell_type": "code",
   "execution_count": 1,
   "metadata": {},
   "outputs": [],
   "source": [
    "import tensorflow as tf\n",
    "from tensorflow.python.framework import graph_util"
   ]
  },
  {
   "cell_type": "code",
   "execution_count": 2,
   "metadata": {},
   "outputs": [],
   "source": [
    "x = tf.placeholder(dtype=tf.float32, shape=[1], name=\"x\")\n",
    "val = x + tf.constant([1.0], dtype=tf.float32)\n",
    "output = tf.identity(val, name=\"output\")"
   ]
  },
  {
   "cell_type": "code",
   "execution_count": 3,
   "metadata": {},
   "outputs": [
    {
     "name": "stdout",
     "output_type": "stream",
     "text": [
      "Tensor(\"x:0\", shape=(1,), dtype=float32) Tensor(\"output:0\", shape=(1,), dtype=float32)\n"
     ]
    }
   ],
   "source": [
    "print(x, output)"
   ]
  },
  {
   "cell_type": "code",
   "execution_count": 4,
   "metadata": {},
   "outputs": [
    {
     "name": "stdout",
     "output_type": "stream",
     "text": [
      "INFO:tensorflow:Froze 0 variables.\n",
      "Converted 0 variables to const ops.\n"
     ]
    }
   ],
   "source": [
    "with tf.Session() as sess:\n",
    "    sess.run(tf.global_variables_initializer())\n",
    "    graph_def = tf.get_default_graph().as_graph_def()\n",
    "    output = graph_util.convert_variables_to_constants(sess, graph_def, [\"output\"])\n",
    "    with tf.gfile.GFile(\"./add_by_one.pb\", \"wb\") as f:\n",
    "        f.write(output.SerializeToString())"
   ]
  },
  {
   "cell_type": "markdown",
   "metadata": {},
   "source": [
    "Build toco:\n",
    "\n",
    "```\n",
    "bazel build TENSORFLOW_REPO_DIR/contrib/lite/toco:toco\n",
    "```\n",
    "\n",
    "Generate tflite file by toco:\n",
    "```\n",
    "TENSORFLOW_REPO_DIR/bazel-bin/tensorflow/contrib/lite/toco/toco \\\n",
    "  --input_file=add_by_one.pb \\\n",
    "  --input_format=TENSORFLOW_GRAPHDEF  --output_format=TFLITE \\\n",
    "  --output_file=add_by_one.tflite --inference_type=FLOAT \\\n",
    "  --input_type=FLOAT --input_arrays=x \\\n",
    "  --output_arrays=output --input_shapes=1\n",
    "```\n",
    "\n",
    "Relpace `TENSORFLOW_REPO_DIR` with the location of tensorflow repository."
   ]
  }
 ],
 "metadata": {
  "kernelspec": {
   "display_name": "Python [conda env:tensorflow36]",
   "language": "python",
   "name": "conda-env-tensorflow36-py"
  },
  "language_info": {
   "codemirror_mode": {
    "name": "ipython",
    "version": 3
   },
   "file_extension": ".py",
   "mimetype": "text/x-python",
   "name": "python",
   "nbconvert_exporter": "python",
   "pygments_lexer": "ipython3",
   "version": "3.6.4"
  }
 },
 "nbformat": 4,
 "nbformat_minor": 2
}
