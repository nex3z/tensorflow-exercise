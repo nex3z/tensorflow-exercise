{
 "cells": [
  {
   "cell_type": "code",
   "execution_count": 1,
   "metadata": {},
   "outputs": [],
   "source": [
    "import numpy as np\n",
    "import tensorflow as tf\n",
    "from tensorflow import keras\n",
    "from tensorflow.keras.preprocessing.sequence import pad_sequences\n",
    "from tensorflow.keras.preprocessing.text import Tokenizer"
   ]
  },
  {
   "cell_type": "code",
   "execution_count": 2,
   "metadata": {},
   "outputs": [],
   "source": [
    "DATA_FILE = './shakespeare.txt'\n",
    "MAX_LENGTH = 100\n",
    "TRUNCATING = 'post'\n",
    "PADDING = 'post'"
   ]
  },
  {
   "cell_type": "code",
   "execution_count": 3,
   "metadata": {},
   "outputs": [],
   "source": [
    "BATCH_SIZE = 64\n",
    "SHUFFLE_BUFFER_SIZE = 10000"
   ]
  },
  {
   "cell_type": "code",
   "execution_count": 4,
   "metadata": {},
   "outputs": [
    {
     "data": {
      "text/plain": [
       "1115394"
      ]
     },
     "execution_count": 4,
     "metadata": {},
     "output_type": "execute_result"
    }
   ],
   "source": [
    "text = open(DATA_FILE, 'rb').read().decode(encoding='utf-8')\n",
    "len(text)"
   ]
  },
  {
   "cell_type": "code",
   "execution_count": 5,
   "metadata": {},
   "outputs": [
    {
     "data": {
      "text/plain": [
       "'First Citizen:\\nBefore we proceed any further, hear me speak.\\n\\nAll:\\nSpeak, speak.\\n\\nFirst Citizen:\\nYou are all resolved rather to die than to famish?\\n\\nAll:\\nResolved. resolved.\\n\\nFirst Citizen:\\nFirst, you know Caius Marcius is chief enemy to the people.\\n'"
      ]
     },
     "execution_count": 5,
     "metadata": {},
     "output_type": "execute_result"
    }
   ],
   "source": [
    "text[:250]"
   ]
  },
  {
   "cell_type": "code",
   "execution_count": 6,
   "metadata": {},
   "outputs": [],
   "source": [
    "tokenizer = Tokenizer(char_level=True, filters=None, lower=False)\n",
    "tokenizer.fit_on_texts(text)\n",
    "char2idx = tokenizer.word_index\n",
    "idx2char = dict([(idx, word) for (word, idx) in char2idx.items()])"
   ]
  },
  {
   "cell_type": "code",
   "execution_count": 7,
   "metadata": {},
   "outputs": [
    {
     "name": "stdout",
     "output_type": "stream",
     "text": [
      "{' ': 1, 'e': 2, 't': 3, 'o': 4, 'a': 5, 'h': 6, 's': 7, 'r': 8, 'n': 9, 'i': 10, '\\n': 11, 'l': 12, 'd': 13, 'u': 14, 'm': 15, 'y': 16, ',': 17, 'w': 18, 'f': 19, 'c': 20, 'g': 21, 'I': 22, 'b': 23, 'p': 24, ':': 25, '.': 26, 'A': 27, 'v': 28, 'k': 29, 'T': 30, \"'\": 31, 'E': 32, 'O': 33, 'N': 34, 'R': 35, 'S': 36, 'L': 37, 'C': 38, ';': 39, 'W': 40, 'U': 41, 'H': 42, 'M': 43, 'B': 44, '?': 45, 'G': 46, '!': 47, 'D': 48, '-': 49, 'F': 50, 'Y': 51, 'P': 52, 'K': 53, 'V': 54, 'j': 55, 'q': 56, 'x': 57, 'z': 58, 'J': 59, 'Q': 60, 'Z': 61, 'X': 62, '3': 63, '&': 64, '$': 65}\n"
     ]
    }
   ],
   "source": [
    "print(char2idx)"
   ]
  },
  {
   "cell_type": "code",
   "execution_count": 8,
   "metadata": {},
   "outputs": [
    {
     "name": "stdout",
     "output_type": "stream",
     "text": [
      "{1: ' ', 2: 'e', 3: 't', 4: 'o', 5: 'a', 6: 'h', 7: 's', 8: 'r', 9: 'n', 10: 'i', 11: '\\n', 12: 'l', 13: 'd', 14: 'u', 15: 'm', 16: 'y', 17: ',', 18: 'w', 19: 'f', 20: 'c', 21: 'g', 22: 'I', 23: 'b', 24: 'p', 25: ':', 26: '.', 27: 'A', 28: 'v', 29: 'k', 30: 'T', 31: \"'\", 32: 'E', 33: 'O', 34: 'N', 35: 'R', 36: 'S', 37: 'L', 38: 'C', 39: ';', 40: 'W', 41: 'U', 42: 'H', 43: 'M', 44: 'B', 45: '?', 46: 'G', 47: '!', 48: 'D', 49: '-', 50: 'F', 51: 'Y', 52: 'P', 53: 'K', 54: 'V', 55: 'j', 56: 'q', 57: 'x', 58: 'z', 59: 'J', 60: 'Q', 61: 'Z', 62: 'X', 63: '3', 64: '&', 65: '$'}\n"
     ]
    }
   ],
   "source": [
    "print(idx2char)"
   ]
  }
 ],
 "metadata": {
  "kernelspec": {
   "display_name": "Python 3",
   "language": "python",
   "name": "python3"
  },
  "language_info": {
   "codemirror_mode": {
    "name": "ipython",
    "version": 3
   },
   "file_extension": ".py",
   "mimetype": "text/x-python",
   "name": "python",
   "nbconvert_exporter": "python",
   "pygments_lexer": "ipython3",
   "version": "3.8.0"
  }
 },
 "nbformat": 4,
 "nbformat_minor": 4
}
