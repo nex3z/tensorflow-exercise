{
 "cells": [
  {
   "cell_type": "code",
   "execution_count": 1,
   "metadata": {},
   "outputs": [],
   "source": [
    "import re\n",
    "import string\n",
    "import tensorflow as tf\n",
    "from tensorflow import keras"
   ]
  },
  {
   "cell_type": "code",
   "execution_count": 2,
   "metadata": {},
   "outputs": [],
   "source": [
    "TRAIN_DIR = 'aclImdb/train'\n",
    "VAL_SPLIT = 0.2\n",
    "BATCH_SIZE = 1024\n",
    "SEED = 42"
   ]
  },
  {
   "cell_type": "code",
   "execution_count": 3,
   "metadata": {},
   "outputs": [],
   "source": [
    "VOCAB_SIZE = 10000\n",
    "MAX_SEQUENCE_LENGTH = 100"
   ]
  },
  {
   "cell_type": "code",
   "execution_count": 4,
   "metadata": {},
   "outputs": [
    {
     "name": "stdout",
     "output_type": "stream",
     "text": [
      "Found 25000 files belonging to 2 classes.\n",
      "Using 20000 files for training.\n",
      "Found 25000 files belonging to 2 classes.\n",
      "Using 5000 files for validation.\n"
     ]
    }
   ],
   "source": [
    "train_ds = keras.preprocessing.text_dataset_from_directory(\n",
    "    TRAIN_DIR, \n",
    "    batch_size=BATCH_SIZE, \n",
    "    validation_split=VAL_SPLIT, \n",
    "    subset='training',\n",
    "    seed=SEED\n",
    ")\n",
    "\n",
    "val_ds = keras.preprocessing.text_dataset_from_directory(\n",
    "    TRAIN_DIR, \n",
    "    batch_size=BATCH_SIZE, \n",
    "    validation_split=VAL_SPLIT, \n",
    "    subset='validation', \n",
    "    seed=SEED\n",
    ")"
   ]
  },
  {
   "cell_type": "code",
   "execution_count": 5,
   "metadata": {},
   "outputs": [
    {
     "name": "stdout",
     "output_type": "stream",
     "text": [
      "x_batch.shape = (1024,)\n",
      "y_batch.shape = (1024,)\n",
      "================================================\n",
      "label = b\"I married a Japanese woman 14 years ago. We're still together.<br /><br />However in the 1950's it would never have been as easy.<br /><br />Life in the military had been mined for action, drama, and comedy for years by this point. Mined to death. The mixed relationships gave it new ground to cover. This is old hat today, but then...? Marrying an Asian back then meant you either owed somebody something or you were a freak of some sort. This touched on both possibilities along with the third. Maybe it IS love? <br /><br />Brando did his usual good job. Garner did a better job than he usually does. He's good, but this showed how good he could be. Umecki-chan had a helluva debut here and while I think she earned her statue, she didn't really stretch. It was a role that no one who hadn't been overseas would have recognized and the newness was the corker.<br /><br />The real scene stealer was Red Buttons. Red was the best thing in this film. Bank on it. And the Japanese lifestyles were shown in an admirable light as well.<br /><br />A classic.\"\n",
      "text = 1\n",
      "================================================\n",
      "label = b\"Italian-born Eleonora has inherited from her deceased lover Karl, an ultra-modern and isolated house in the middle of the woods. It's winter and she meets the mysterious caretaker Leslie, who eventually ends up not only just looking after the house, but also that of Eleonora, as she tries to adapt to her new surroundings and a growing attraction between the pair.<br /><br />What was I expecting? A thriller indeed, but it wasn't quite so. That's just the advertising on the package for ya! I'm quite perplex about everything. The title, the story and the motivation. So how to classify it? Well, this wooden character drama is more a enigmatically moody romance bound-story of alienation, possession and dependence twisted into a complicatedly passionate relationship of two masked individuals. Co-writer (along with William Dafoe) and director Giada Colagrande's art-house film is just too clinical, distant and calculated with its mysteriously metaphoric story, which it leaves you questioning what does it all really mean\\xc2\\x85 although when its sudden conclusion materialises, you'll thinking why should I actually care. What we go through feels aimless with ponderous exposition of dead air that focuses of insignificant details and images. Sterile dialogues can contributed to many awkward developments, but more so make for an leaden experience, as it never delves deep enough. Like it believes it does. The sexually salty activities filtered in just never convince and are far from erotic. They are kind of a bump in the already sluggish flow. The base of the plot makes for something interesting and fresh, but it's never fulfilling and I thought there'll be more to it then all of this dreary lingering. Colagrande's direction is professionally stylish and suitably gloomy to want she imagines, but everything feels like it's in slow motion and can get caught up admiring the same views. Most of the action stays at the one location\\xc2\\x85 the house. Camera-work is potently taut, but the sullen musical score can get a bit ridiculous when it goes for some dramatically stabbing music cues that served little sense and purpose to the scenes. Giada Colagrande plays it sensually and William Dafoe sleep walks the part. He looks dog tired! While Seymour Cassel, pokes his head in now and then.<br /><br />Just where is it heading, is anyone's guess. Well, that's if you can wait around for it. I think I'll give it the benefit of the doubt, as it's definitely not what I was expecting from this Indie film.\"\n",
      "text = 0\n"
     ]
    }
   ],
   "source": [
    "for x_batch, y_batch in train_ds.take(1):\n",
    "    print(f\"x_batch.shape = {x_batch.shape}\")\n",
    "    print(f\"y_batch.shape = {y_batch.shape}\")\n",
    "    for i in range(2):\n",
    "        print(\"=\" * 48)\n",
    "        print(f\"label = {x_batch[i].numpy()}\")\n",
    "        print(f\"text = {y_batch[i].numpy()}\")"
   ]
  }
 ],
 "metadata": {
  "kernelspec": {
   "display_name": "Python 3",
   "language": "python",
   "name": "python3"
  },
  "language_info": {
   "codemirror_mode": {
    "name": "ipython",
    "version": 3
   },
   "file_extension": ".py",
   "mimetype": "text/x-python",
   "name": "python",
   "nbconvert_exporter": "python",
   "pygments_lexer": "ipython3",
   "version": "3.8.0"
  }
 },
 "nbformat": 4,
 "nbformat_minor": 4
}
