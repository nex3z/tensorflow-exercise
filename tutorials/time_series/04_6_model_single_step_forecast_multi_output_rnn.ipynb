{
 "cells": [
  {
   "cell_type": "code",
   "execution_count": 1,
   "metadata": {},
   "outputs": [],
   "source": [
    "import numpy as np\n",
    "import tensorflow as tf\n",
    "from tensorflow import keras\n",
    "\n",
    "import utils"
   ]
  },
  {
   "cell_type": "code",
   "execution_count": 2,
   "metadata": {},
   "outputs": [],
   "source": [
    "WINDOW_SIZE = 24\n",
    "BATCH_SIZE = 32"
   ]
  },
  {
   "cell_type": "code",
   "execution_count": 3,
   "metadata": {},
   "outputs": [
    {
     "name": "stdout",
     "output_type": "stream",
     "text": [
      "df_train.shape = (49063, 19), df_val.shape = (14018, 19), df_test.shape = (7010, 19)\n"
     ]
    },
    {
     "data": {
      "text/html": [
       "<div>\n",
       "<style scoped>\n",
       "    .dataframe tbody tr th:only-of-type {\n",
       "        vertical-align: middle;\n",
       "    }\n",
       "\n",
       "    .dataframe tbody tr th {\n",
       "        vertical-align: top;\n",
       "    }\n",
       "\n",
       "    .dataframe thead th {\n",
       "        text-align: right;\n",
       "    }\n",
       "</style>\n",
       "<table border=\"1\" class=\"dataframe\">\n",
       "  <thead>\n",
       "    <tr style=\"text-align: right;\">\n",
       "      <th></th>\n",
       "      <th>p (mbar)</th>\n",
       "      <th>T (degC)</th>\n",
       "      <th>Tpot (K)</th>\n",
       "      <th>Tdew (degC)</th>\n",
       "      <th>rh (%)</th>\n",
       "      <th>VPmax (mbar)</th>\n",
       "      <th>VPact (mbar)</th>\n",
       "      <th>VPdef (mbar)</th>\n",
       "      <th>sh (g/kg)</th>\n",
       "      <th>H2OC (mmol/mol)</th>\n",
       "      <th>rho (g/m**3)</th>\n",
       "      <th>Wx</th>\n",
       "      <th>Wy</th>\n",
       "      <th>max Wx</th>\n",
       "      <th>max Wy</th>\n",
       "      <th>Day sin</th>\n",
       "      <th>Day cos</th>\n",
       "      <th>Year sin</th>\n",
       "      <th>Year cos</th>\n",
       "    </tr>\n",
       "  </thead>\n",
       "  <tbody>\n",
       "    <tr>\n",
       "      <th>5</th>\n",
       "      <td>0.945308</td>\n",
       "      <td>-1.982473</td>\n",
       "      <td>-2.041888</td>\n",
       "      <td>-1.918973</td>\n",
       "      <td>1.117102</td>\n",
       "      <td>-1.302851</td>\n",
       "      <td>-1.477323</td>\n",
       "      <td>-0.790424</td>\n",
       "      <td>-1.480036</td>\n",
       "      <td>-1.482697</td>\n",
       "      <td>2.218524</td>\n",
       "      <td>0.193409</td>\n",
       "      <td>0.221161</td>\n",
       "      <td>0.111140</td>\n",
       "      <td>0.217928</td>\n",
       "      <td>-1.366064</td>\n",
       "      <td>-0.366026</td>\n",
       "      <td>-0.069373</td>\n",
       "      <td>1.427981</td>\n",
       "    </tr>\n",
       "    <tr>\n",
       "      <th>11</th>\n",
       "      <td>0.959770</td>\n",
       "      <td>-2.078372</td>\n",
       "      <td>-2.138166</td>\n",
       "      <td>-2.060964</td>\n",
       "      <td>1.044617</td>\n",
       "      <td>-1.330143</td>\n",
       "      <td>-1.534354</td>\n",
       "      <td>-0.786272</td>\n",
       "      <td>-1.536190</td>\n",
       "      <td>-1.539035</td>\n",
       "      <td>2.325708</td>\n",
       "      <td>0.172987</td>\n",
       "      <td>0.222101</td>\n",
       "      <td>0.109458</td>\n",
       "      <td>0.227798</td>\n",
       "      <td>-1.414249</td>\n",
       "      <td>0.000015</td>\n",
       "      <td>-0.068349</td>\n",
       "      <td>1.427977</td>\n",
       "    </tr>\n",
       "    <tr>\n",
       "      <th>17</th>\n",
       "      <td>0.986284</td>\n",
       "      <td>-2.070284</td>\n",
       "      <td>-2.132435</td>\n",
       "      <td>-2.045187</td>\n",
       "      <td>1.062738</td>\n",
       "      <td>-1.328843</td>\n",
       "      <td>-1.527225</td>\n",
       "      <td>-0.788348</td>\n",
       "      <td>-1.528703</td>\n",
       "      <td>-1.531992</td>\n",
       "      <td>2.323998</td>\n",
       "      <td>0.207983</td>\n",
       "      <td>0.276266</td>\n",
       "      <td>0.111218</td>\n",
       "      <td>0.324078</td>\n",
       "      <td>-1.366064</td>\n",
       "      <td>0.366057</td>\n",
       "      <td>-0.067326</td>\n",
       "      <td>1.427971</td>\n",
       "    </tr>\n",
       "    <tr>\n",
       "      <th>23</th>\n",
       "      <td>1.004362</td>\n",
       "      <td>-2.098014</td>\n",
       "      <td>-2.161090</td>\n",
       "      <td>-2.096820</td>\n",
       "      <td>1.008375</td>\n",
       "      <td>-1.336641</td>\n",
       "      <td>-1.546235</td>\n",
       "      <td>-0.782121</td>\n",
       "      <td>-1.547420</td>\n",
       "      <td>-1.553119</td>\n",
       "      <td>2.358913</td>\n",
       "      <td>0.270343</td>\n",
       "      <td>0.195267</td>\n",
       "      <td>0.246907</td>\n",
       "      <td>0.145176</td>\n",
       "      <td>-1.224793</td>\n",
       "      <td>0.707153</td>\n",
       "      <td>-0.066303</td>\n",
       "      <td>1.427965</td>\n",
       "    </tr>\n",
       "    <tr>\n",
       "      <th>29</th>\n",
       "      <td>1.061006</td>\n",
       "      <td>-2.165028</td>\n",
       "      <td>-2.232152</td>\n",
       "      <td>-2.187178</td>\n",
       "      <td>0.984214</td>\n",
       "      <td>-1.353535</td>\n",
       "      <td>-1.579503</td>\n",
       "      <td>-0.782121</td>\n",
       "      <td>-1.581113</td>\n",
       "      <td>-1.585982</td>\n",
       "      <td>2.446320</td>\n",
       "      <td>0.112264</td>\n",
       "      <td>0.350818</td>\n",
       "      <td>0.048640</td>\n",
       "      <td>0.402053</td>\n",
       "      <td>-1.000062</td>\n",
       "      <td>1.000060</td>\n",
       "      <td>-0.065280</td>\n",
       "      <td>1.427958</td>\n",
       "    </tr>\n",
       "  </tbody>\n",
       "</table>\n",
       "</div>"
      ],
      "text/plain": [
       "    p (mbar)  T (degC)  Tpot (K)  Tdew (degC)    rh (%)  VPmax (mbar)  \\\n",
       "5   0.945308 -1.982473 -2.041888    -1.918973  1.117102     -1.302851   \n",
       "11  0.959770 -2.078372 -2.138166    -2.060964  1.044617     -1.330143   \n",
       "17  0.986284 -2.070284 -2.132435    -2.045187  1.062738     -1.328843   \n",
       "23  1.004362 -2.098014 -2.161090    -2.096820  1.008375     -1.336641   \n",
       "29  1.061006 -2.165028 -2.232152    -2.187178  0.984214     -1.353535   \n",
       "\n",
       "    VPact (mbar)  VPdef (mbar)  sh (g/kg)  H2OC (mmol/mol)  rho (g/m**3)  \\\n",
       "5      -1.477323     -0.790424  -1.480036        -1.482697      2.218524   \n",
       "11     -1.534354     -0.786272  -1.536190        -1.539035      2.325708   \n",
       "17     -1.527225     -0.788348  -1.528703        -1.531992      2.323998   \n",
       "23     -1.546235     -0.782121  -1.547420        -1.553119      2.358913   \n",
       "29     -1.579503     -0.782121  -1.581113        -1.585982      2.446320   \n",
       "\n",
       "          Wx        Wy    max Wx    max Wy   Day sin   Day cos  Year sin  \\\n",
       "5   0.193409  0.221161  0.111140  0.217928 -1.366064 -0.366026 -0.069373   \n",
       "11  0.172987  0.222101  0.109458  0.227798 -1.414249  0.000015 -0.068349   \n",
       "17  0.207983  0.276266  0.111218  0.324078 -1.366064  0.366057 -0.067326   \n",
       "23  0.270343  0.195267  0.246907  0.145176 -1.224793  0.707153 -0.066303   \n",
       "29  0.112264  0.350818  0.048640  0.402053 -1.000062  1.000060 -0.065280   \n",
       "\n",
       "    Year cos  \n",
       "5   1.427981  \n",
       "11  1.427977  \n",
       "17  1.427971  \n",
       "23  1.427965  \n",
       "29  1.427958  "
      ]
     },
     "execution_count": 3,
     "metadata": {},
     "output_type": "execute_result"
    }
   ],
   "source": [
    "df_train, df_val, df_test = utils.load_data()\n",
    "print(f\"df_train.shape = {df_train.shape}, df_val.shape = {df_val.shape}, df_test.shape = {df_test.shape}\")\n",
    "df_train.head()"
   ]
  },
  {
   "cell_type": "code",
   "execution_count": 4,
   "metadata": {},
   "outputs": [
    {
     "data": {
      "text/plain": [
       "19"
      ]
     },
     "execution_count": 4,
     "metadata": {},
     "output_type": "execute_result"
    }
   ],
   "source": [
    "num_features = len(df_train.columns)\n",
    "num_features"
   ]
  },
  {
   "cell_type": "code",
   "execution_count": 5,
   "metadata": {},
   "outputs": [],
   "source": [
    "def build_dataset(df_data, window_size, batch_size, shuffle=True):\n",
    "    data = np.array(df_data, dtype=np.float32)\n",
    "    ds = keras.preprocessing.timeseries_dataset_from_array(\n",
    "        data=data,\n",
    "        targets=None,\n",
    "        sequence_length=window_size + 1,\n",
    "        sequence_stride=1,\n",
    "        shuffle=shuffle,\n",
    "        batch_size=batch_size,\n",
    "    )\n",
    "    # Note: Use batched_window[:, 1: ...\n",
    "    ds = ds.map(lambda batched_window: (batched_window[:, :-1, :], batched_window[:, 1:, :]))\n",
    "    return ds"
   ]
  },
  {
   "cell_type": "code",
   "execution_count": 6,
   "metadata": {},
   "outputs": [
    {
     "name": "stdout",
     "output_type": "stream",
     "text": [
      "x_batch.shape = (32, 24, 19)\n",
      "x_batch[0, :3] = \n",
      "[[ 9.45307612e-01 -1.98247325e+00 -2.04188848e+00 -1.91897273e+00\n",
      "   1.11710155e+00 -1.30285120e+00 -1.47732317e+00 -7.90423632e-01\n",
      "  -1.48003638e+00 -1.48269725e+00  2.21852374e+00  1.93409234e-01\n",
      "   2.21161291e-01  1.11140452e-01  2.17927873e-01 -1.36606407e+00\n",
      "  -3.66026342e-01 -6.93725795e-02  1.42798138e+00]\n",
      " [ 9.59769845e-01 -2.07837200e+00 -2.13816643e+00 -2.06096363e+00\n",
      "   1.04461730e+00 -1.33014262e+00 -1.53435397e+00 -7.86272287e-01\n",
      "  -1.53618979e+00 -1.53903449e+00  2.32570744e+00  1.72986776e-01\n",
      "   2.22100869e-01  1.09458245e-01  2.27798492e-01 -1.41424906e+00\n",
      "   1.52973589e-05 -6.83494657e-02  1.42797673e+00]\n",
      " [ 9.86283958e-01 -2.07028437e+00 -2.13243556e+00 -2.04518700e+00\n",
      "   1.06273842e+00 -1.32884300e+00 -1.52722502e+00 -7.88347960e-01\n",
      "  -1.52870274e+00 -1.53199232e+00  2.32399845e+00  2.07982704e-01\n",
      "   2.76266009e-01  1.11218050e-01  3.24078411e-01 -1.36606407e+00\n",
      "   3.66056949e-01 -6.73263520e-02  1.42797124e+00]]\n",
      "y_batch.shape = (32, 24, 19)\n",
      "y_batch[0, :3] = \n",
      "[[ 9.59769845e-01 -2.07837200e+00 -2.13816643e+00 -2.06096363e+00\n",
      "   1.04461730e+00 -1.33014262e+00 -1.53435397e+00 -7.86272287e-01\n",
      "  -1.53618979e+00 -1.53903449e+00  2.32570744e+00  1.72986776e-01\n",
      "   2.22100869e-01  1.09458245e-01  2.27798492e-01 -1.41424906e+00\n",
      "   1.52973589e-05 -6.83494657e-02  1.42797673e+00]\n",
      " [ 9.86283958e-01 -2.07028437e+00 -2.13243556e+00 -2.04518700e+00\n",
      "   1.06273842e+00 -1.32884300e+00 -1.52722502e+00 -7.88347960e-01\n",
      "  -1.52870274e+00 -1.53199232e+00  2.32399845e+00  2.07982704e-01\n",
      "   2.76266009e-01  1.11218050e-01  3.24078411e-01 -1.36606407e+00\n",
      "   3.66056949e-01 -6.73263520e-02  1.42797124e+00]\n",
      " [ 1.00436175e+00 -2.09801412e+00 -2.16108966e+00 -2.09682012e+00\n",
      "   1.00837529e+00 -1.33664048e+00 -1.54623532e+00 -7.82121003e-01\n",
      "  -1.54742050e+00 -1.55311882e+00  2.35891247e+00  2.70342976e-01\n",
      "   1.95266545e-01  2.46907339e-01  1.45175561e-01 -1.22479260e+00\n",
      "   7.07153440e-01 -6.63032457e-02  1.42796516e+00]]\n"
     ]
    }
   ],
   "source": [
    "train_ds = build_dataset(df_train, WINDOW_SIZE, BATCH_SIZE, shuffle=False)\n",
    "\n",
    "for x_batch, y_batch in train_ds.take(1):\n",
    "    print(f\"x_batch.shape = {x_batch.shape}\")\n",
    "    print(f\"x_batch[0, :3] = \\n{x_batch[0, :3]}\")\n",
    "    print(f\"y_batch.shape = {y_batch.shape}\")\n",
    "    print(f\"y_batch[0, :3] = \\n{y_batch[0, :3]}\")"
   ]
  },
  {
   "cell_type": "code",
   "execution_count": 7,
   "metadata": {},
   "outputs": [],
   "source": [
    "train_ds = build_dataset(df_train, WINDOW_SIZE, BATCH_SIZE)\n",
    "val_ds = build_dataset(df_val, WINDOW_SIZE, BATCH_SIZE)"
   ]
  },
  {
   "cell_type": "code",
   "execution_count": 8,
   "metadata": {},
   "outputs": [
    {
     "name": "stdout",
     "output_type": "stream",
     "text": [
      "Epoch 1/20\n",
      "1533/1533 [==============================] - 3s 2ms/step - loss: 0.0963 - mean_absolute_error: 0.1737 - val_loss: 0.0701 - val_mean_absolute_error: 0.1388\n",
      "Epoch 2/20\n",
      "1533/1533 [==============================] - 3s 2ms/step - loss: 0.0685 - mean_absolute_error: 0.1343 - val_loss: 0.0675 - val_mean_absolute_error: 0.1309\n",
      "Epoch 3/20\n",
      "1533/1533 [==============================] - 4s 3ms/step - loss: 0.0669 - mean_absolute_error: 0.1290 - val_loss: 0.0673 - val_mean_absolute_error: 0.1281\n",
      "Epoch 4/20\n",
      "1533/1533 [==============================] - 4s 3ms/step - loss: 0.0660 - mean_absolute_error: 0.1261 - val_loss: 0.0665 - val_mean_absolute_error: 0.1258\n",
      "Epoch 5/20\n",
      "1533/1533 [==============================] - 5s 3ms/step - loss: 0.0654 - mean_absolute_error: 0.1244 - val_loss: 0.0670 - val_mean_absolute_error: 0.1257\n",
      "Epoch 6/20\n",
      "1533/1533 [==============================] - 5s 3ms/step - loss: 0.0651 - mean_absolute_error: 0.1234 - val_loss: 0.0663 - val_mean_absolute_error: 0.1242\n",
      "Epoch 7/20\n",
      "1533/1533 [==============================] - 5s 3ms/step - loss: 0.0647 - mean_absolute_error: 0.1226 - val_loss: 0.0661 - val_mean_absolute_error: 0.1232\n",
      "Epoch 8/20\n",
      "1533/1533 [==============================] - 5s 3ms/step - loss: 0.0645 - mean_absolute_error: 0.1222 - val_loss: 0.0661 - val_mean_absolute_error: 0.1239\n",
      "Epoch 9/20\n",
      "1533/1533 [==============================] - 5s 3ms/step - loss: 0.0643 - mean_absolute_error: 0.1218 - val_loss: 0.0660 - val_mean_absolute_error: 0.1232\n",
      "Epoch 10/20\n",
      "1533/1533 [==============================] - 5s 3ms/step - loss: 0.0642 - mean_absolute_error: 0.1216 - val_loss: 0.0661 - val_mean_absolute_error: 0.1227\n",
      "Epoch 11/20\n",
      "1533/1533 [==============================] - 4s 3ms/step - loss: 0.0640 - mean_absolute_error: 0.1214 - val_loss: 0.0662 - val_mean_absolute_error: 0.1232\n"
     ]
    }
   ],
   "source": [
    "model = keras.Sequential([\n",
    "    tf.keras.layers.Dense(units=64, activation='relu'),\n",
    "    tf.keras.layers.Dense(units=64, activation='relu'),\n",
    "    tf.keras.layers.Dense(units=num_features)\n",
    "])\n",
    "\n",
    "model.compile(\n",
    "    loss=tf.losses.MeanSquaredError(),\n",
    "    optimizer=tf.optimizers.Adam(),\n",
    "    metrics=[tf.metrics.MeanAbsoluteError()]\n",
    ")\n",
    "\n",
    "early_stopping = keras.callbacks.EarlyStopping(\n",
    "    monitor='val_loss',\n",
    "    patience=2,\n",
    "    mode='min'\n",
    ")\n",
    "\n",
    "history = model.fit(\n",
    "    train_ds, \n",
    "    epochs=20,\n",
    "    validation_data=val_ds,\n",
    "    callbacks=[early_stopping]\n",
    ")"
   ]
  },
  {
   "cell_type": "code",
   "execution_count": 9,
   "metadata": {},
   "outputs": [
    {
     "name": "stdout",
     "output_type": "stream",
     "text": [
      "Model: \"sequential\"\n",
      "_________________________________________________________________\n",
      "Layer (type)                 Output Shape              Param #   \n",
      "=================================================================\n",
      "dense (Dense)                (None, None, 64)          1280      \n",
      "_________________________________________________________________\n",
      "dense_1 (Dense)              (None, None, 64)          4160      \n",
      "_________________________________________________________________\n",
      "dense_2 (Dense)              (None, None, 19)          1235      \n",
      "=================================================================\n",
      "Total params: 6,675\n",
      "Trainable params: 6,675\n",
      "Non-trainable params: 0\n",
      "_________________________________________________________________\n"
     ]
    }
   ],
   "source": [
    "model.summary()"
   ]
  },
  {
   "cell_type": "code",
   "execution_count": 13,
   "metadata": {},
   "outputs": [],
   "source": [
    "forecast_period = range(24)\n",
    "actual = []\n",
    "forecasts = []\n",
    "\n",
    "for i in forecast_period:\n",
    "    new_data = df_val.iloc[i:i + WINDOW_SIZE].to_numpy()\n",
    "    new_data = np.expand_dims(new_data, 0)\n",
    "    forecast = model.predict(new_data)\n",
    "    forecast = tf.squeeze(forecast).numpy()[-1]\n",
    "    forecasts.append(forecast)\n",
    "    actual.append(df_val.iloc[i + WINDOW_SIZE].to_numpy())\n",
    "    \n",
    "actual = np.array(actual)\n",
    "forecasts = np.array(forecasts)"
   ]
  },
  {
   "cell_type": "code",
   "execution_count": 24,
   "metadata": {},
   "outputs": [
    {
     "data": {
      "text/plain": [
       "array([0.02175704, 0.04915795, 0.0522131 , 0.06774788, 0.19918346,\n",
       "       0.07696137, 0.12007221, 0.1712347 , 0.11825751, 0.11926982,\n",
       "       0.05047981, 0.3109407 , 0.38331106, 0.29778148, 0.36315585,\n",
       "       0.01571874, 0.01443078, 0.01341569, 0.02196164])"
      ]
     },
     "execution_count": 24,
     "metadata": {},
     "output_type": "execute_result"
    }
   ],
   "source": [
    "ae = np.abs(forecasts - actual)\n",
    "mae = np.mean(ae, axis=0)\n",
    "mae"
   ]
  }
 ],
 "metadata": {
  "kernelspec": {
   "display_name": "Python 3",
   "language": "python",
   "name": "python3"
  },
  "language_info": {
   "codemirror_mode": {
    "name": "ipython",
    "version": 3
   },
   "file_extension": ".py",
   "mimetype": "text/x-python",
   "name": "python",
   "nbconvert_exporter": "python",
   "pygments_lexer": "ipython3",
   "version": "3.8.0"
  }
 },
 "nbformat": 4,
 "nbformat_minor": 4
}
