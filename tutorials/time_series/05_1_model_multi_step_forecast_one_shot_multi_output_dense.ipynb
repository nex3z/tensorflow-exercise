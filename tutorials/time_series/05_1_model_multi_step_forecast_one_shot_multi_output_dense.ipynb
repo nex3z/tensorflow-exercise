{
 "cells": [
  {
   "cell_type": "code",
   "execution_count": 1,
   "metadata": {},
   "outputs": [],
   "source": [
    "import numpy as np\n",
    "import tensorflow as tf\n",
    "from tensorflow import keras\n",
    "\n",
    "import utils"
   ]
  },
  {
   "cell_type": "code",
   "execution_count": 2,
   "metadata": {},
   "outputs": [],
   "source": [
    "WINDOW_SIZE = 24\n",
    "FORECAST_PERIOD = 24\n",
    "BATCH_SIZE = 32\n",
    "LABEL_NAME = 'T (degC)'"
   ]
  },
  {
   "cell_type": "code",
   "execution_count": 3,
   "metadata": {},
   "outputs": [
    {
     "name": "stdout",
     "output_type": "stream",
     "text": [
      "df_train.shape = (49063, 19), df_val.shape = (14018, 19), df_test.shape = (7010, 19)\n"
     ]
    }
   ],
   "source": [
    "df_train, df_val, df_test = utils.load_data()\n",
    "print(f\"df_train.shape = {df_train.shape}, df_val.shape = {df_val.shape}, df_test.shape = {df_test.shape}\")"
   ]
  },
  {
   "cell_type": "code",
   "execution_count": 4,
   "metadata": {},
   "outputs": [
    {
     "data": {
      "text/html": [
       "<div>\n",
       "<style scoped>\n",
       "    .dataframe tbody tr th:only-of-type {\n",
       "        vertical-align: middle;\n",
       "    }\n",
       "\n",
       "    .dataframe tbody tr th {\n",
       "        vertical-align: top;\n",
       "    }\n",
       "\n",
       "    .dataframe thead th {\n",
       "        text-align: right;\n",
       "    }\n",
       "</style>\n",
       "<table border=\"1\" class=\"dataframe\">\n",
       "  <thead>\n",
       "    <tr style=\"text-align: right;\">\n",
       "      <th></th>\n",
       "      <th>p (mbar)</th>\n",
       "      <th>T (degC)</th>\n",
       "      <th>Tpot (K)</th>\n",
       "      <th>Tdew (degC)</th>\n",
       "      <th>rh (%)</th>\n",
       "      <th>VPmax (mbar)</th>\n",
       "      <th>VPact (mbar)</th>\n",
       "      <th>VPdef (mbar)</th>\n",
       "      <th>sh (g/kg)</th>\n",
       "      <th>H2OC (mmol/mol)</th>\n",
       "      <th>rho (g/m**3)</th>\n",
       "      <th>Wx</th>\n",
       "      <th>Wy</th>\n",
       "      <th>max Wx</th>\n",
       "      <th>max Wy</th>\n",
       "      <th>Day sin</th>\n",
       "      <th>Day cos</th>\n",
       "      <th>Year sin</th>\n",
       "      <th>Year cos</th>\n",
       "    </tr>\n",
       "  </thead>\n",
       "  <tbody>\n",
       "    <tr>\n",
       "      <th>5</th>\n",
       "      <td>0.945308</td>\n",
       "      <td>-1.982473</td>\n",
       "      <td>-2.041888</td>\n",
       "      <td>-1.918973</td>\n",
       "      <td>1.117102</td>\n",
       "      <td>-1.302851</td>\n",
       "      <td>-1.477323</td>\n",
       "      <td>-0.790424</td>\n",
       "      <td>-1.480036</td>\n",
       "      <td>-1.482697</td>\n",
       "      <td>2.218524</td>\n",
       "      <td>0.193409</td>\n",
       "      <td>0.221161</td>\n",
       "      <td>0.111140</td>\n",
       "      <td>0.217928</td>\n",
       "      <td>-1.366064</td>\n",
       "      <td>-0.366026</td>\n",
       "      <td>-0.069373</td>\n",
       "      <td>1.427981</td>\n",
       "    </tr>\n",
       "    <tr>\n",
       "      <th>11</th>\n",
       "      <td>0.959770</td>\n",
       "      <td>-2.078372</td>\n",
       "      <td>-2.138166</td>\n",
       "      <td>-2.060964</td>\n",
       "      <td>1.044617</td>\n",
       "      <td>-1.330143</td>\n",
       "      <td>-1.534354</td>\n",
       "      <td>-0.786272</td>\n",
       "      <td>-1.536190</td>\n",
       "      <td>-1.539035</td>\n",
       "      <td>2.325708</td>\n",
       "      <td>0.172987</td>\n",
       "      <td>0.222101</td>\n",
       "      <td>0.109458</td>\n",
       "      <td>0.227798</td>\n",
       "      <td>-1.414249</td>\n",
       "      <td>0.000015</td>\n",
       "      <td>-0.068349</td>\n",
       "      <td>1.427977</td>\n",
       "    </tr>\n",
       "    <tr>\n",
       "      <th>17</th>\n",
       "      <td>0.986284</td>\n",
       "      <td>-2.070284</td>\n",
       "      <td>-2.132435</td>\n",
       "      <td>-2.045187</td>\n",
       "      <td>1.062738</td>\n",
       "      <td>-1.328843</td>\n",
       "      <td>-1.527225</td>\n",
       "      <td>-0.788348</td>\n",
       "      <td>-1.528703</td>\n",
       "      <td>-1.531992</td>\n",
       "      <td>2.323998</td>\n",
       "      <td>0.207983</td>\n",
       "      <td>0.276266</td>\n",
       "      <td>0.111218</td>\n",
       "      <td>0.324078</td>\n",
       "      <td>-1.366064</td>\n",
       "      <td>0.366057</td>\n",
       "      <td>-0.067326</td>\n",
       "      <td>1.427971</td>\n",
       "    </tr>\n",
       "  </tbody>\n",
       "</table>\n",
       "</div>"
      ],
      "text/plain": [
       "    p (mbar)  T (degC)  Tpot (K)  Tdew (degC)    rh (%)  VPmax (mbar)  \\\n",
       "5   0.945308 -1.982473 -2.041888    -1.918973  1.117102     -1.302851   \n",
       "11  0.959770 -2.078372 -2.138166    -2.060964  1.044617     -1.330143   \n",
       "17  0.986284 -2.070284 -2.132435    -2.045187  1.062738     -1.328843   \n",
       "\n",
       "    VPact (mbar)  VPdef (mbar)  sh (g/kg)  H2OC (mmol/mol)  rho (g/m**3)  \\\n",
       "5      -1.477323     -0.790424  -1.480036        -1.482697      2.218524   \n",
       "11     -1.534354     -0.786272  -1.536190        -1.539035      2.325708   \n",
       "17     -1.527225     -0.788348  -1.528703        -1.531992      2.323998   \n",
       "\n",
       "          Wx        Wy    max Wx    max Wy   Day sin   Day cos  Year sin  \\\n",
       "5   0.193409  0.221161  0.111140  0.217928 -1.366064 -0.366026 -0.069373   \n",
       "11  0.172987  0.222101  0.109458  0.227798 -1.414249  0.000015 -0.068349   \n",
       "17  0.207983  0.276266  0.111218  0.324078 -1.366064  0.366057 -0.067326   \n",
       "\n",
       "    Year cos  \n",
       "5   1.427981  \n",
       "11  1.427977  \n",
       "17  1.427971  "
      ]
     },
     "execution_count": 4,
     "metadata": {},
     "output_type": "execute_result"
    }
   ],
   "source": [
    "df_train.iloc[:3]"
   ]
  },
  {
   "cell_type": "code",
   "execution_count": 5,
   "metadata": {},
   "outputs": [
    {
     "data": {
      "text/html": [
       "<div>\n",
       "<style scoped>\n",
       "    .dataframe tbody tr th:only-of-type {\n",
       "        vertical-align: middle;\n",
       "    }\n",
       "\n",
       "    .dataframe tbody tr th {\n",
       "        vertical-align: top;\n",
       "    }\n",
       "\n",
       "    .dataframe thead th {\n",
       "        text-align: right;\n",
       "    }\n",
       "</style>\n",
       "<table border=\"1\" class=\"dataframe\">\n",
       "  <thead>\n",
       "    <tr style=\"text-align: right;\">\n",
       "      <th></th>\n",
       "      <th>p (mbar)</th>\n",
       "      <th>T (degC)</th>\n",
       "      <th>Tpot (K)</th>\n",
       "      <th>Tdew (degC)</th>\n",
       "      <th>rh (%)</th>\n",
       "      <th>VPmax (mbar)</th>\n",
       "      <th>VPact (mbar)</th>\n",
       "      <th>VPdef (mbar)</th>\n",
       "      <th>sh (g/kg)</th>\n",
       "      <th>H2OC (mmol/mol)</th>\n",
       "      <th>rho (g/m**3)</th>\n",
       "      <th>Wx</th>\n",
       "      <th>Wy</th>\n",
       "      <th>max Wx</th>\n",
       "      <th>max Wy</th>\n",
       "      <th>Day sin</th>\n",
       "      <th>Day cos</th>\n",
       "      <th>Year sin</th>\n",
       "      <th>Year cos</th>\n",
       "    </tr>\n",
       "  </thead>\n",
       "  <tbody>\n",
       "    <tr>\n",
       "      <th>149</th>\n",
       "      <td>1.287581</td>\n",
       "      <td>-1.565371</td>\n",
       "      <td>-1.653338</td>\n",
       "      <td>-1.404076</td>\n",
       "      <td>1.117102</td>\n",
       "      <td>-1.165095</td>\n",
       "      <td>-1.237319</td>\n",
       "      <td>-0.777970</td>\n",
       "      <td>-1.247935</td>\n",
       "      <td>-1.247958</td>\n",
       "      <td>1.867186</td>\n",
       "      <td>0.177090</td>\n",
       "      <td>0.345484</td>\n",
       "      <td>0.036193</td>\n",
       "      <td>0.472518</td>\n",
       "      <td>-1.366064</td>\n",
       "      <td>-0.366026</td>\n",
       "      <td>-0.044820</td>\n",
       "      <td>1.427669</td>\n",
       "    </tr>\n",
       "    <tr>\n",
       "      <th>155</th>\n",
       "      <td>1.238168</td>\n",
       "      <td>-1.548040</td>\n",
       "      <td>-1.632707</td>\n",
       "      <td>-1.382562</td>\n",
       "      <td>1.123142</td>\n",
       "      <td>-1.158597</td>\n",
       "      <td>-1.225438</td>\n",
       "      <td>-0.780045</td>\n",
       "      <td>-1.232961</td>\n",
       "      <td>-1.236221</td>\n",
       "      <td>1.836666</td>\n",
       "      <td>0.083946</td>\n",
       "      <td>0.094777</td>\n",
       "      <td>0.063481</td>\n",
       "      <td>0.103854</td>\n",
       "      <td>-1.414249</td>\n",
       "      <td>0.000015</td>\n",
       "      <td>-0.043797</td>\n",
       "      <td>1.427647</td>\n",
       "    </tr>\n",
       "    <tr>\n",
       "      <th>161</th>\n",
       "      <td>1.209244</td>\n",
       "      <td>-1.566526</td>\n",
       "      <td>-1.648754</td>\n",
       "      <td>-1.398339</td>\n",
       "      <td>1.141263</td>\n",
       "      <td>-1.165095</td>\n",
       "      <td>-1.234943</td>\n",
       "      <td>-0.782121</td>\n",
       "      <td>-1.244192</td>\n",
       "      <td>-1.245611</td>\n",
       "      <td>1.848142</td>\n",
       "      <td>-0.001395</td>\n",
       "      <td>0.086076</td>\n",
       "      <td>0.013978</td>\n",
       "      <td>0.119807</td>\n",
       "      <td>-1.366064</td>\n",
       "      <td>0.366057</td>\n",
       "      <td>-0.042774</td>\n",
       "      <td>1.427624</td>\n",
       "    </tr>\n",
       "  </tbody>\n",
       "</table>\n",
       "</div>"
      ],
      "text/plain": [
       "     p (mbar)  T (degC)  Tpot (K)  Tdew (degC)    rh (%)  VPmax (mbar)  \\\n",
       "149  1.287581 -1.565371 -1.653338    -1.404076  1.117102     -1.165095   \n",
       "155  1.238168 -1.548040 -1.632707    -1.382562  1.123142     -1.158597   \n",
       "161  1.209244 -1.566526 -1.648754    -1.398339  1.141263     -1.165095   \n",
       "\n",
       "     VPact (mbar)  VPdef (mbar)  sh (g/kg)  H2OC (mmol/mol)  rho (g/m**3)  \\\n",
       "149     -1.237319     -0.777970  -1.247935        -1.247958      1.867186   \n",
       "155     -1.225438     -0.780045  -1.232961        -1.236221      1.836666   \n",
       "161     -1.234943     -0.782121  -1.244192        -1.245611      1.848142   \n",
       "\n",
       "           Wx        Wy    max Wx    max Wy   Day sin   Day cos  Year sin  \\\n",
       "149  0.177090  0.345484  0.036193  0.472518 -1.366064 -0.366026 -0.044820   \n",
       "155  0.083946  0.094777  0.063481  0.103854 -1.414249  0.000015 -0.043797   \n",
       "161 -0.001395  0.086076  0.013978  0.119807 -1.366064  0.366057 -0.042774   \n",
       "\n",
       "     Year cos  \n",
       "149  1.427669  \n",
       "155  1.427647  \n",
       "161  1.427624  "
      ]
     },
     "execution_count": 5,
     "metadata": {},
     "output_type": "execute_result"
    }
   ],
   "source": [
    "df_train.iloc[24:27]"
   ]
  },
  {
   "cell_type": "code",
   "execution_count": 6,
   "metadata": {},
   "outputs": [
    {
     "data": {
      "text/plain": [
       "19"
      ]
     },
     "execution_count": 6,
     "metadata": {},
     "output_type": "execute_result"
    }
   ],
   "source": [
    "num_features = len(df_train.columns)\n",
    "num_features"
   ]
  },
  {
   "cell_type": "code",
   "execution_count": 7,
   "metadata": {},
   "outputs": [],
   "source": [
    "def build_dataset(df_data, window_size, forecast_period, batch_size, shuffle=True):\n",
    "    data = np.array(df_data, dtype=np.float32)\n",
    "    ds = keras.preprocessing.timeseries_dataset_from_array(\n",
    "        data=data,\n",
    "        targets=None,\n",
    "        sequence_length=window_size + forecast_period,\n",
    "        sequence_stride=window_size,\n",
    "        shuffle=shuffle,\n",
    "        batch_size=batch_size,\n",
    "    )\n",
    "    # Note: Use batched_window[:, 1: ...\n",
    "    ds = ds.map(lambda batched_window: (batched_window[:, :window_size, :], batched_window[:, window_size:, :]))\n",
    "    return ds"
   ]
  },
  {
   "cell_type": "code",
   "execution_count": 8,
   "metadata": {},
   "outputs": [
    {
     "name": "stdout",
     "output_type": "stream",
     "text": [
      "x_batch.shape = (32, 24, 19)\n",
      "x_batch[0, :3] = \n",
      "[[ 9.45307612e-01 -1.98247325e+00 -2.04188848e+00 -1.91897273e+00\n",
      "   1.11710155e+00 -1.30285120e+00 -1.47732317e+00 -7.90423632e-01\n",
      "  -1.48003638e+00 -1.48269725e+00  2.21852374e+00  1.93409234e-01\n",
      "   2.21161291e-01  1.11140452e-01  2.17927873e-01 -1.36606407e+00\n",
      "  -3.66026342e-01 -6.93725795e-02  1.42798138e+00]\n",
      " [ 9.59769845e-01 -2.07837200e+00 -2.13816643e+00 -2.06096363e+00\n",
      "   1.04461730e+00 -1.33014262e+00 -1.53435397e+00 -7.86272287e-01\n",
      "  -1.53618979e+00 -1.53903449e+00  2.32570744e+00  1.72986776e-01\n",
      "   2.22100869e-01  1.09458245e-01  2.27798492e-01 -1.41424906e+00\n",
      "   1.52973589e-05 -6.83494657e-02  1.42797673e+00]\n",
      " [ 9.86283958e-01 -2.07028437e+00 -2.13243556e+00 -2.04518700e+00\n",
      "   1.06273842e+00 -1.32884300e+00 -1.52722502e+00 -7.88347960e-01\n",
      "  -1.52870274e+00 -1.53199232e+00  2.32399845e+00  2.07982704e-01\n",
      "   2.76266009e-01  1.11218050e-01  3.24078411e-01 -1.36606407e+00\n",
      "   3.66056949e-01 -6.73263520e-02  1.42797124e+00]]\n",
      "y_batch.shape = (32, 24, 19)\n",
      "y_batch[0, :3] = \n",
      "[[ 1.28758073e+00 -1.56537092e+00 -1.65333843e+00 -1.40407622e+00\n",
      "   1.11710155e+00 -1.16509473e+00 -1.23731899e+00 -7.77969658e-01\n",
      "  -1.24793553e+00 -1.24795842e+00  1.86718571e+00  1.77089840e-01\n",
      "   3.45483750e-01  3.61929685e-02  4.72518414e-01 -1.36606407e+00\n",
      "  -3.66026342e-01 -4.48198803e-02  1.42766917e+00]\n",
      " [ 1.23816812e+00 -1.54803979e+00 -1.63270748e+00 -1.38256252e+00\n",
      "   1.12314188e+00 -1.15859675e+00 -1.22543764e+00 -7.80045331e-01\n",
      "  -1.23296118e+00 -1.23622143e+00  1.83666646e+00  8.39455426e-02\n",
      "   9.47773084e-02  6.34808838e-02  1.03854433e-01 -1.41424906e+00\n",
      "   1.52973444e-05 -4.37969975e-02  1.42764711e+00]\n",
      " [ 1.20924366e+00 -1.56652629e+00 -1.64875376e+00 -1.39833927e+00\n",
      "   1.14126289e+00 -1.16509473e+00 -1.23494267e+00 -7.82121003e-01\n",
      "  -1.24419188e+00 -1.24561107e+00  1.84814167e+00 -1.39523821e-03\n",
      "   8.60758871e-02  1.39775751e-02  1.19807474e-01 -1.36606407e+00\n",
      "   3.66056949e-01 -4.27741334e-02  1.42762434e+00]]\n"
     ]
    }
   ],
   "source": [
    "train_ds = build_dataset(df_train, WINDOW_SIZE, FORECAST_PERIOD, BATCH_SIZE, shuffle=False)\n",
    "\n",
    "for x_batch, y_batch in train_ds.take(1):\n",
    "    print(f\"x_batch.shape = {x_batch.shape}\")\n",
    "    print(f\"x_batch[0, :3] = \\n{x_batch[0, :3]}\")\n",
    "    print(f\"y_batch.shape = {y_batch.shape}\")\n",
    "    print(f\"y_batch[0, :3] = \\n{y_batch[0, :3]}\")"
   ]
  },
  {
   "cell_type": "code",
   "execution_count": 9,
   "metadata": {},
   "outputs": [],
   "source": [
    "train_ds = build_dataset(df_train, WINDOW_SIZE, FORECAST_PERIOD, BATCH_SIZE)\n",
    "val_ds = build_dataset(df_val, WINDOW_SIZE, FORECAST_PERIOD, BATCH_SIZE)"
   ]
  },
  {
   "cell_type": "code",
   "execution_count": 10,
   "metadata": {},
   "outputs": [
    {
     "name": "stdout",
     "output_type": "stream",
     "text": [
      "Epoch 1/20\n",
      "64/64 [==============================] - 0s 8ms/step - loss: 0.4172 - mean_absolute_error: 0.4522 - val_loss: 0.3856 - val_mean_absolute_error: 0.4407\n",
      "Epoch 2/20\n",
      "64/64 [==============================] - 0s 5ms/step - loss: 0.2544 - mean_absolute_error: 0.3165 - val_loss: 0.3147 - val_mean_absolute_error: 0.3932\n",
      "Epoch 3/20\n",
      "64/64 [==============================] - 0s 5ms/step - loss: 0.2416 - mean_absolute_error: 0.2981 - val_loss: 0.2924 - val_mean_absolute_error: 0.3764\n",
      "Epoch 4/20\n",
      "64/64 [==============================] - 0s 5ms/step - loss: 0.2379 - mean_absolute_error: 0.2935 - val_loss: 0.2896 - val_mean_absolute_error: 0.3714\n",
      "Epoch 5/20\n",
      "64/64 [==============================] - 0s 5ms/step - loss: 0.2352 - mean_absolute_error: 0.2902 - val_loss: 0.2831 - val_mean_absolute_error: 0.3676\n",
      "Epoch 6/20\n",
      "64/64 [==============================] - 0s 5ms/step - loss: 0.2336 - mean_absolute_error: 0.2885 - val_loss: 0.2793 - val_mean_absolute_error: 0.3634\n",
      "Epoch 7/20\n",
      "64/64 [==============================] - 0s 5ms/step - loss: 0.2319 - mean_absolute_error: 0.2866 - val_loss: 0.2778 - val_mean_absolute_error: 0.3607\n",
      "Epoch 8/20\n",
      "64/64 [==============================] - 0s 5ms/step - loss: 0.2308 - mean_absolute_error: 0.2856 - val_loss: 0.2749 - val_mean_absolute_error: 0.3577\n",
      "Epoch 9/20\n",
      "64/64 [==============================] - 0s 5ms/step - loss: 0.2290 - mean_absolute_error: 0.2842 - val_loss: 0.2708 - val_mean_absolute_error: 0.3531\n",
      "Epoch 10/20\n",
      "64/64 [==============================] - 0s 5ms/step - loss: 0.2280 - mean_absolute_error: 0.2829 - val_loss: 0.2719 - val_mean_absolute_error: 0.3516\n",
      "Epoch 11/20\n",
      "64/64 [==============================] - 0s 5ms/step - loss: 0.2274 - mean_absolute_error: 0.2821 - val_loss: 0.2701 - val_mean_absolute_error: 0.3514\n",
      "Epoch 12/20\n",
      "64/64 [==============================] - 0s 5ms/step - loss: 0.2266 - mean_absolute_error: 0.2823 - val_loss: 0.2710 - val_mean_absolute_error: 0.3489\n",
      "Epoch 13/20\n",
      "64/64 [==============================] - 0s 5ms/step - loss: 0.2257 - mean_absolute_error: 0.2813 - val_loss: 0.2738 - val_mean_absolute_error: 0.3538\n"
     ]
    }
   ],
   "source": [
    "model = keras.Sequential([\n",
    "    # Take the last time-step.\n",
    "    # Shape [batch, time, features] => [batch, 1, features]\n",
    "    keras.layers.Lambda(lambda x: x[:, -1:, :]),\n",
    "    keras.layers.Dense(512, activation='relu'),\n",
    "    # Shape => [batch, 1, out_steps*features]\n",
    "    keras.layers.Dense(FORECAST_PERIOD * num_features, kernel_initializer=tf.initializers.zeros),\n",
    "    # Shape => [batch, out_steps, features]\n",
    "    keras.layers.Reshape([FORECAST_PERIOD, num_features])\n",
    "])\n",
    "\n",
    "model.compile(\n",
    "    loss=tf.losses.MeanSquaredError(),\n",
    "    optimizer=tf.optimizers.Adam(),\n",
    "    metrics=[tf.metrics.MeanAbsoluteError()]\n",
    ")\n",
    "\n",
    "early_stopping = keras.callbacks.EarlyStopping(\n",
    "    monitor='val_loss',\n",
    "    patience=2,\n",
    "    mode='min'\n",
    ")\n",
    "\n",
    "history = model.fit(\n",
    "    train_ds, \n",
    "    epochs=20,\n",
    "    validation_data=val_ds,\n",
    "    callbacks=[early_stopping]\n",
    ")"
   ]
  },
  {
   "cell_type": "code",
   "execution_count": 11,
   "metadata": {},
   "outputs": [
    {
     "name": "stdout",
     "output_type": "stream",
     "text": [
      "forecast.shape = (24, 19), actual.shape = (24, 19)\n"
     ]
    }
   ],
   "source": [
    "new_data = df_val.iloc[:WINDOW_SIZE].to_numpy()\n",
    "new_data = np.expand_dims(new_data, 0)\n",
    "forecast = model.predict(new_data)\n",
    "forecast = tf.squeeze(forecast).numpy()\n",
    "actual = df_val.iloc[WINDOW_SIZE:WINDOW_SIZE + FORECAST_PERIOD].to_numpy()\n",
    "print(f\"forecast.shape = {forecast.shape}, actual.shape = {actual.shape}\")"
   ]
  },
  {
   "cell_type": "code",
   "execution_count": 12,
   "metadata": {},
   "outputs": [
    {
     "data": {
      "text/plain": [
       "array([0.19991274, 0.11818098, 0.12236682, 0.10189328, 0.35032897,\n",
       "       0.18561156, 0.17984783, 0.34185266, 0.1828324 , 0.18230437,\n",
       "       0.12681686, 0.38923121, 0.54239337, 0.38623106, 0.53303617,\n",
       "       0.11681716, 0.11542896, 0.00572138, 0.07372898])"
      ]
     },
     "execution_count": 12,
     "metadata": {},
     "output_type": "execute_result"
    }
   ],
   "source": [
    "ae = np.abs(forecast - actual)\n",
    "mae = np.mean(ae, axis=0)\n",
    "mae"
   ]
  },
  {
   "cell_type": "code",
   "execution_count": null,
   "metadata": {},
   "outputs": [],
   "source": [
    "LABEL_NAME = 'T (degC)'\n",
    "label_idx = list(df_train.columns).index(LABEL_NAME)\n",
    "utils.plot_result(actual[:, label_idx], forecast[:, label_idx])\n",
    "utils.evaluate(actual[:, label_idx], forecast[:, label_idx])"
   ]
  }
 ],
 "metadata": {
  "kernelspec": {
   "display_name": "Python 3",
   "language": "python",
   "name": "python3"
  },
  "language_info": {
   "codemirror_mode": {
    "name": "ipython",
    "version": 3
   },
   "file_extension": ".py",
   "mimetype": "text/x-python",
   "name": "python",
   "nbconvert_exporter": "python",
   "pygments_lexer": "ipython3",
   "version": "3.8.0"
  }
 },
 "nbformat": 4,
 "nbformat_minor": 4
}
