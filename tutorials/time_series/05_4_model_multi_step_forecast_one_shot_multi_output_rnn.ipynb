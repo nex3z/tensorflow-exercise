{
 "cells": [
  {
   "cell_type": "code",
   "execution_count": 1,
   "metadata": {},
   "outputs": [],
   "source": [
    "import numpy as np\n",
    "import tensorflow as tf\n",
    "from tensorflow import keras\n",
    "\n",
    "import utils"
   ]
  },
  {
   "cell_type": "code",
   "execution_count": 2,
   "metadata": {},
   "outputs": [],
   "source": [
    "WINDOW_SIZE = 24\n",
    "FORECAST_PERIOD = 24\n",
    "BATCH_SIZE = 32\n",
    "LABEL_NAME = 'T (degC)'"
   ]
  },
  {
   "cell_type": "code",
   "execution_count": 3,
   "metadata": {},
   "outputs": [
    {
     "name": "stdout",
     "output_type": "stream",
     "text": [
      "df_train.shape = (49063, 19), df_val.shape = (14018, 19), df_test.shape = (7010, 19)\n"
     ]
    }
   ],
   "source": [
    "df_train, df_val, df_test = utils.load_data()\n",
    "print(f\"df_train.shape = {df_train.shape}, df_val.shape = {df_val.shape}, df_test.shape = {df_test.shape}\")"
   ]
  },
  {
   "cell_type": "code",
   "execution_count": 4,
   "metadata": {},
   "outputs": [
    {
     "data": {
      "text/plain": [
       "19"
      ]
     },
     "execution_count": 4,
     "metadata": {},
     "output_type": "execute_result"
    }
   ],
   "source": [
    "num_features = len(df_train.columns)\n",
    "num_features"
   ]
  },
  {
   "cell_type": "code",
   "execution_count": 5,
   "metadata": {},
   "outputs": [],
   "source": [
    "def build_dataset(df_data, window_size, forecast_period, batch_size, shuffle=True):\n",
    "    data = np.array(df_data, dtype=np.float32)\n",
    "    ds = keras.preprocessing.timeseries_dataset_from_array(\n",
    "        data=data,\n",
    "        targets=None,\n",
    "        sequence_length=window_size + forecast_period,\n",
    "        sequence_stride=window_size,\n",
    "        shuffle=shuffle,\n",
    "        batch_size=batch_size,\n",
    "    )\n",
    "    # Note: Use batched_window[:, 1: ...\n",
    "    ds = ds.map(lambda batched_window: (batched_window[:, :window_size, :], batched_window[:, window_size:, :]))\n",
    "    return ds"
   ]
  },
  {
   "cell_type": "code",
   "execution_count": 6,
   "metadata": {},
   "outputs": [
    {
     "name": "stdout",
     "output_type": "stream",
     "text": [
      "x_batch.shape = (32, 24, 19)\n",
      "y_batch.shape = (32, 24, 19)\n"
     ]
    }
   ],
   "source": [
    "train_ds = build_dataset(df_train, WINDOW_SIZE, FORECAST_PERIOD, BATCH_SIZE, shuffle=False)\n",
    "\n",
    "for x_batch, y_batch in train_ds.take(1):\n",
    "    print(f\"x_batch.shape = {x_batch.shape}\")\n",
    "    print(f\"y_batch.shape = {y_batch.shape}\")"
   ]
  },
  {
   "cell_type": "code",
   "execution_count": 7,
   "metadata": {},
   "outputs": [],
   "source": [
    "train_ds = build_dataset(df_train, WINDOW_SIZE, FORECAST_PERIOD, BATCH_SIZE)\n",
    "val_ds = build_dataset(df_val, WINDOW_SIZE, FORECAST_PERIOD, BATCH_SIZE)"
   ]
  },
  {
   "cell_type": "code",
   "execution_count": 8,
   "metadata": {},
   "outputs": [
    {
     "name": "stdout",
     "output_type": "stream",
     "text": [
      "Epoch 1/20\n",
      "64/64 [==============================] - 1s 12ms/step - loss: 0.7268 - mean_absolute_error: 0.6587 - val_loss: 0.6402 - val_mean_absolute_error: 0.5939\n",
      "Epoch 2/20\n",
      "64/64 [==============================] - 0s 5ms/step - loss: 0.4242 - mean_absolute_error: 0.4644 - val_loss: 0.5815 - val_mean_absolute_error: 0.5594\n",
      "Epoch 3/20\n",
      "64/64 [==============================] - 0s 5ms/step - loss: 0.3250 - mean_absolute_error: 0.3930 - val_loss: 0.5145 - val_mean_absolute_error: 0.5215\n",
      "Epoch 4/20\n",
      "64/64 [==============================] - 0s 5ms/step - loss: 0.2913 - mean_absolute_error: 0.3663 - val_loss: 0.4694 - val_mean_absolute_error: 0.4988\n",
      "Epoch 5/20\n",
      "64/64 [==============================] - 0s 5ms/step - loss: 0.2717 - mean_absolute_error: 0.3498 - val_loss: 0.4362 - val_mean_absolute_error: 0.4810\n",
      "Epoch 6/20\n",
      "64/64 [==============================] - 0s 5ms/step - loss: 0.2573 - mean_absolute_error: 0.3360 - val_loss: 0.4079 - val_mean_absolute_error: 0.4641\n",
      "Epoch 7/20\n",
      "64/64 [==============================] - 0s 5ms/step - loss: 0.2472 - mean_absolute_error: 0.3254 - val_loss: 0.3876 - val_mean_absolute_error: 0.4492\n",
      "Epoch 8/20\n",
      "64/64 [==============================] - 0s 5ms/step - loss: 0.2410 - mean_absolute_error: 0.3186 - val_loss: 0.3743 - val_mean_absolute_error: 0.4404\n",
      "Epoch 9/20\n",
      "64/64 [==============================] - 0s 5ms/step - loss: 0.2359 - mean_absolute_error: 0.3126 - val_loss: 0.3661 - val_mean_absolute_error: 0.4344\n",
      "Epoch 10/20\n",
      "64/64 [==============================] - 0s 5ms/step - loss: 0.2321 - mean_absolute_error: 0.3087 - val_loss: 0.3604 - val_mean_absolute_error: 0.4313\n",
      "Epoch 11/20\n",
      "64/64 [==============================] - 0s 5ms/step - loss: 0.2291 - mean_absolute_error: 0.3055 - val_loss: 0.3563 - val_mean_absolute_error: 0.4275\n",
      "Epoch 12/20\n",
      "64/64 [==============================] - 0s 5ms/step - loss: 0.2260 - mean_absolute_error: 0.3015 - val_loss: 0.3517 - val_mean_absolute_error: 0.4240\n",
      "Epoch 13/20\n",
      "64/64 [==============================] - 0s 5ms/step - loss: 0.2238 - mean_absolute_error: 0.2992 - val_loss: 0.3481 - val_mean_absolute_error: 0.4210\n",
      "Epoch 14/20\n",
      "64/64 [==============================] - 0s 5ms/step - loss: 0.2210 - mean_absolute_error: 0.2960 - val_loss: 0.3458 - val_mean_absolute_error: 0.4181\n",
      "Epoch 15/20\n",
      "64/64 [==============================] - 0s 5ms/step - loss: 0.2199 - mean_absolute_error: 0.2949 - val_loss: 0.3445 - val_mean_absolute_error: 0.4176\n",
      "Epoch 16/20\n",
      "64/64 [==============================] - 0s 5ms/step - loss: 0.2178 - mean_absolute_error: 0.2928 - val_loss: 0.3419 - val_mean_absolute_error: 0.4153\n",
      "Epoch 17/20\n",
      "64/64 [==============================] - 0s 5ms/step - loss: 0.2160 - mean_absolute_error: 0.2906 - val_loss: 0.3410 - val_mean_absolute_error: 0.4139\n",
      "Epoch 18/20\n",
      "64/64 [==============================] - 0s 5ms/step - loss: 0.2147 - mean_absolute_error: 0.2890 - val_loss: 0.3397 - val_mean_absolute_error: 0.4124\n",
      "Epoch 19/20\n",
      "64/64 [==============================] - 0s 6ms/step - loss: 0.2141 - mean_absolute_error: 0.2883 - val_loss: 0.3396 - val_mean_absolute_error: 0.4124\n",
      "Epoch 20/20\n",
      "64/64 [==============================] - 0s 6ms/step - loss: 0.2128 - mean_absolute_error: 0.2864 - val_loss: 0.3380 - val_mean_absolute_error: 0.4103\n"
     ]
    }
   ],
   "source": [
    "model = keras.Sequential([\n",
    "    # Shape [batch, time, features] => [batch, lstm_units]\n",
    "    # Adding more `lstm_units` just overfits more quickly.\n",
    "    tf.keras.layers.LSTM(32, return_sequences=False),\n",
    "    # Shape => [batch, out_steps*features]\n",
    "    tf.keras.layers.Dense(FORECAST_PERIOD*num_features, kernel_initializer=tf.initializers.zeros),\n",
    "    # Shape => [batch, out_steps, features]\n",
    "    tf.keras.layers.Reshape([FORECAST_PERIOD, num_features])\n",
    "])\n",
    "\n",
    "model.compile(\n",
    "    loss=tf.losses.MeanSquaredError(),\n",
    "    optimizer=tf.optimizers.Adam(),\n",
    "    metrics=[tf.metrics.MeanAbsoluteError()]\n",
    ")\n",
    "\n",
    "early_stopping = keras.callbacks.EarlyStopping(\n",
    "    monitor='val_loss',\n",
    "    patience=2,\n",
    "    mode='min'\n",
    ")\n",
    "\n",
    "history = model.fit(\n",
    "    train_ds, \n",
    "    epochs=20,\n",
    "    validation_data=val_ds,\n",
    "    callbacks=[early_stopping]\n",
    ")"
   ]
  },
  {
   "cell_type": "code",
   "execution_count": 9,
   "metadata": {},
   "outputs": [
    {
     "name": "stdout",
     "output_type": "stream",
     "text": [
      "forecast.shape = (24, 19), actual.shape = (24, 19)\n"
     ]
    }
   ],
   "source": [
    "new_data = df_val.iloc[:WINDOW_SIZE].to_numpy()\n",
    "new_data = np.expand_dims(new_data, 0)\n",
    "forecast = model.predict(new_data)\n",
    "forecast = tf.squeeze(forecast).numpy()\n",
    "actual = df_val.iloc[WINDOW_SIZE:WINDOW_SIZE + FORECAST_PERIOD].to_numpy()\n",
    "print(f\"forecast.shape = {forecast.shape}, actual.shape = {actual.shape}\")"
   ]
  },
  {
   "cell_type": "code",
   "execution_count": 10,
   "metadata": {},
   "outputs": [
    {
     "data": {
      "text/plain": [
       "array([0.38960314, 0.07996972, 0.10137789, 0.11776336, 0.28714941,\n",
       "       0.17475224, 0.21608245, 0.26522025, 0.22021628, 0.21968523,\n",
       "       0.14699699, 0.36379495, 0.51843806, 0.36361087, 0.49693466,\n",
       "       0.14701613, 0.14607258, 0.23934306, 0.07055798])"
      ]
     },
     "execution_count": 10,
     "metadata": {},
     "output_type": "execute_result"
    }
   ],
   "source": [
    "ae = np.abs(forecast - actual)\n",
    "mae = np.mean(ae, axis=0)\n",
    "mae"
   ]
  },
  {
   "cell_type": "code",
   "execution_count": 11,
   "metadata": {},
   "outputs": [
    {
     "data": {
      "image/png": "[encoded data removed]",
      "text/plain": [
       "<Figure size 576x288 with 1 Axes>"
      ]
     },
     "metadata": {
      "needs_background": "light"
     },
     "output_type": "display_data"
    },
    {
     "name": "stdout",
     "output_type": "stream",
     "text": [
      "mse = 0.0097, mae = 0.0800\n"
     ]
    }
   ],
   "source": [
    "LABEL_NAME = 'T (degC)'\n",
    "label_idx = list(df_train.columns).index(LABEL_NAME)\n",
    "utils.plot_result(actual[:, label_idx], forecast[:, label_idx])\n",
    "utils.evaluate(actual[:, label_idx], forecast[:, label_idx])"
   ]
  }
 ],
 "metadata": {
  "kernelspec": {
   "display_name": "Python 3",
   "language": "python",
   "name": "python3"
  },
  "language_info": {
   "codemirror_mode": {
    "name": "ipython",
    "version": 3
   },
   "file_extension": ".py",
   "mimetype": "text/x-python",
   "name": "python",
   "nbconvert_exporter": "python",
   "pygments_lexer": "ipython3",
   "version": "3.8.0"
  }
 },
 "nbformat": 4,
 "nbformat_minor": 4
}
