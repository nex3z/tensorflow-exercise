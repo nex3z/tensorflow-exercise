{
 "cells": [
  {
   "cell_type": "code",
   "execution_count": 1,
   "metadata": {},
   "outputs": [],
   "source": [
    "import numpy as np\n",
    "import tensorflow as tf\n",
    "from tensorflow import keras\n",
    "\n",
    "from feedback_model import FeedbackModel\n",
    "import utils"
   ]
  },
  {
   "cell_type": "code",
   "execution_count": 2,
   "metadata": {},
   "outputs": [],
   "source": [
    "WINDOW_SIZE = 24\n",
    "FORECAST_PERIOD = 24\n",
    "BATCH_SIZE = 32\n",
    "LABEL_NAME = 'T (degC)'"
   ]
  },
  {
   "cell_type": "code",
   "execution_count": 3,
   "metadata": {},
   "outputs": [
    {
     "name": "stdout",
     "output_type": "stream",
     "text": [
      "df_train.shape = (49063, 19), df_val.shape = (14018, 19), df_test.shape = (7010, 19)\n"
     ]
    }
   ],
   "source": [
    "df_train, df_val, df_test = utils.load_data()\n",
    "print(f\"df_train.shape = {df_train.shape}, df_val.shape = {df_val.shape}, df_test.shape = {df_test.shape}\")"
   ]
  },
  {
   "cell_type": "code",
   "execution_count": 4,
   "metadata": {},
   "outputs": [
    {
     "data": {
      "text/plain": [
       "19"
      ]
     },
     "execution_count": 4,
     "metadata": {},
     "output_type": "execute_result"
    }
   ],
   "source": [
    "num_features = len(df_train.columns)\n",
    "num_features"
   ]
  },
  {
   "cell_type": "code",
   "execution_count": 5,
   "metadata": {},
   "outputs": [],
   "source": [
    "def build_dataset(df_data, window_size, forecast_period, batch_size, shuffle=True):\n",
    "    data = np.array(df_data, dtype=np.float32)\n",
    "    ds = keras.preprocessing.timeseries_dataset_from_array(\n",
    "        data=data,\n",
    "        targets=None,\n",
    "        sequence_length=window_size + forecast_period,\n",
    "        sequence_stride=window_size,\n",
    "        shuffle=shuffle,\n",
    "        batch_size=batch_size,\n",
    "    )\n",
    "    # Note: Use batched_window[:, 1: ...\n",
    "    ds = ds.map(lambda batched_window: (batched_window[:, :window_size, :], batched_window[:, window_size:, :]))\n",
    "    return ds"
   ]
  },
  {
   "cell_type": "code",
   "execution_count": 6,
   "metadata": {},
   "outputs": [
    {
     "name": "stdout",
     "output_type": "stream",
     "text": [
      "x_batch.shape = (32, 24, 19)\n",
      "y_batch.shape = (32, 24, 19)\n"
     ]
    }
   ],
   "source": [
    "train_ds = build_dataset(df_train, WINDOW_SIZE, FORECAST_PERIOD, BATCH_SIZE, shuffle=False)\n",
    "\n",
    "for x_batch, y_batch in train_ds.take(1):\n",
    "    print(f\"x_batch.shape = {x_batch.shape}\")\n",
    "    print(f\"y_batch.shape = {y_batch.shape}\")"
   ]
  },
  {
   "cell_type": "code",
   "execution_count": 7,
   "metadata": {},
   "outputs": [],
   "source": [
    "train_ds = build_dataset(df_train, WINDOW_SIZE, FORECAST_PERIOD, BATCH_SIZE)\n",
    "val_ds = build_dataset(df_val, WINDOW_SIZE, FORECAST_PERIOD, BATCH_SIZE)"
   ]
  },
  {
   "cell_type": "code",
   "execution_count": 8,
   "metadata": {},
   "outputs": [],
   "source": [
    "model = FeedbackModel(units=32, forecast_period=FORECAST_PERIOD, num_features=num_features)"
   ]
  },
  {
   "cell_type": "code",
   "execution_count": 9,
   "metadata": {},
   "outputs": [
    {
     "data": {
      "text/plain": [
       "TensorShape([32, 19])"
      ]
     },
     "execution_count": 9,
     "metadata": {},
     "output_type": "execute_result"
    }
   ],
   "source": [
    "prediction, state = model.warmup(x_batch)\n",
    "prediction.shape"
   ]
  },
  {
   "cell_type": "code",
   "execution_count": 10,
   "metadata": {},
   "outputs": [
    {
     "name": "stdout",
     "output_type": "stream",
     "text": [
      "Epoch 1/20\n",
      "64/64 [==============================] - 5s 74ms/step - loss: 0.7611 - mean_absolute_error: 0.6783 - val_loss: 0.6081 - val_mean_absolute_error: 0.5938\n",
      "Epoch 2/20\n",
      "64/64 [==============================] - 4s 59ms/step - loss: 0.5571 - mean_absolute_error: 0.5624 - val_loss: 0.5453 - val_mean_absolute_error: 0.5545\n",
      "Epoch 3/20\n",
      "64/64 [==============================] - 4s 58ms/step - loss: 0.4984 - mean_absolute_error: 0.5270 - val_loss: 0.4964 - val_mean_absolute_error: 0.5275\n",
      "Epoch 4/20\n",
      "64/64 [==============================] - 4s 59ms/step - loss: 0.4220 - mean_absolute_error: 0.4792 - val_loss: 0.4173 - val_mean_absolute_error: 0.4763\n",
      "Epoch 5/20\n",
      "64/64 [==============================] - 4s 59ms/step - loss: 0.3570 - mean_absolute_error: 0.4303 - val_loss: 0.3651 - val_mean_absolute_error: 0.4374\n",
      "Epoch 6/20\n",
      "64/64 [==============================] - 4s 59ms/step - loss: 0.3251 - mean_absolute_error: 0.4034 - val_loss: 0.3334 - val_mean_absolute_error: 0.4115\n",
      "Epoch 7/20\n",
      "64/64 [==============================] - 4s 58ms/step - loss: 0.3064 - mean_absolute_error: 0.3874 - val_loss: 0.3237 - val_mean_absolute_error: 0.4000\n",
      "Epoch 8/20\n",
      "64/64 [==============================] - 4s 57ms/step - loss: 0.2978 - mean_absolute_error: 0.3785 - val_loss: 0.3096 - val_mean_absolute_error: 0.3893\n",
      "Epoch 9/20\n",
      "64/64 [==============================] - 4s 58ms/step - loss: 0.2883 - mean_absolute_error: 0.3705 - val_loss: 0.3011 - val_mean_absolute_error: 0.3820\n",
      "Epoch 10/20\n",
      "64/64 [==============================] - 4s 58ms/step - loss: 0.2798 - mean_absolute_error: 0.3635 - val_loss: 0.2941 - val_mean_absolute_error: 0.3763\n",
      "Epoch 11/20\n",
      "64/64 [==============================] - 4s 59ms/step - loss: 0.2757 - mean_absolute_error: 0.3587 - val_loss: 0.2919 - val_mean_absolute_error: 0.3737\n",
      "Epoch 12/20\n",
      "64/64 [==============================] - 4s 59ms/step - loss: 0.2708 - mean_absolute_error: 0.3540 - val_loss: 0.2843 - val_mean_absolute_error: 0.3681\n",
      "Epoch 13/20\n",
      "64/64 [==============================] - 4s 58ms/step - loss: 0.2655 - mean_absolute_error: 0.3493 - val_loss: 0.2843 - val_mean_absolute_error: 0.3683\n",
      "Epoch 14/20\n",
      "64/64 [==============================] - 4s 58ms/step - loss: 0.2641 - mean_absolute_error: 0.3478 - val_loss: 0.2836 - val_mean_absolute_error: 0.3686\n",
      "Epoch 15/20\n",
      "64/64 [==============================] - 4s 58ms/step - loss: 0.2634 - mean_absolute_error: 0.3473 - val_loss: 0.2767 - val_mean_absolute_error: 0.3591\n",
      "Epoch 16/20\n",
      "64/64 [==============================] - 4s 57ms/step - loss: 0.2579 - mean_absolute_error: 0.3414 - val_loss: 0.2785 - val_mean_absolute_error: 0.3612\n",
      "Epoch 17/20\n",
      "64/64 [==============================] - 4s 57ms/step - loss: 0.2570 - mean_absolute_error: 0.3411 - val_loss: 0.2766 - val_mean_absolute_error: 0.3600\n",
      "Epoch 18/20\n",
      "64/64 [==============================] - 4s 59ms/step - loss: 0.2538 - mean_absolute_error: 0.3373 - val_loss: 0.2695 - val_mean_absolute_error: 0.3534\n",
      "Epoch 19/20\n",
      "64/64 [==============================] - 4s 58ms/step - loss: 0.2520 - mean_absolute_error: 0.3352 - val_loss: 0.2771 - val_mean_absolute_error: 0.3600\n",
      "Epoch 20/20\n",
      "64/64 [==============================] - 4s 58ms/step - loss: 0.2505 - mean_absolute_error: 0.3342 - val_loss: 0.2728 - val_mean_absolute_error: 0.3550\n"
     ]
    }
   ],
   "source": [
    "model.compile(\n",
    "    loss=tf.losses.MeanSquaredError(),\n",
    "    optimizer=tf.optimizers.Adam(),\n",
    "    metrics=[tf.metrics.MeanAbsoluteError()]\n",
    ")\n",
    "\n",
    "early_stopping = keras.callbacks.EarlyStopping(\n",
    "    monitor='val_loss',\n",
    "    patience=2,\n",
    "    mode='min'\n",
    ")\n",
    "\n",
    "history = model.fit(\n",
    "    train_ds, \n",
    "    epochs=20,\n",
    "    validation_data=val_ds,\n",
    "    callbacks=[early_stopping]\n",
    ")"
   ]
  },
  {
   "cell_type": "code",
   "execution_count": 11,
   "metadata": {},
   "outputs": [
    {
     "name": "stdout",
     "output_type": "stream",
     "text": [
      "forecast.shape = (24, 19), actual.shape = (24, 19)\n"
     ]
    }
   ],
   "source": [
    "new_data = df_val.iloc[:WINDOW_SIZE].to_numpy()\n",
    "new_data = np.expand_dims(new_data, 0)\n",
    "forecast = model.predict(new_data)\n",
    "forecast = tf.squeeze(forecast).numpy()\n",
    "actual = df_val.iloc[WINDOW_SIZE:WINDOW_SIZE + FORECAST_PERIOD].to_numpy()\n",
    "print(f\"forecast.shape = {forecast.shape}, actual.shape = {actual.shape}\")"
   ]
  },
  {
   "cell_type": "code",
   "execution_count": 14,
   "metadata": {},
   "outputs": [
    {
     "data": {
      "text/plain": [
       "array([0.51693027, 0.20278785, 0.18992642, 0.1207515 , 0.47058422,\n",
       "       0.24625329, 0.28646907, 0.45006596, 0.3167378 , 0.30177713,\n",
       "       0.34795291, 0.4279267 , 0.54336602, 0.44320858, 0.5544356 ,\n",
       "       0.21853566, 0.19551009, 0.06937422, 0.16002025])"
      ]
     },
     "execution_count": 14,
     "metadata": {},
     "output_type": "execute_result"
    }
   ],
   "source": [
    "ae = np.abs(forecast - actual)\n",
    "mae = np.mean(ae, axis=0)\n",
    "mae"
   ]
  },
  {
   "cell_type": "code",
   "execution_count": 15,
   "metadata": {},
   "outputs": [
    {
     "data": {
      "image/png": "[encoded data removed]",
      "text/plain": [
       "<Figure size 576x288 with 1 Axes>"
      ]
     },
     "metadata": {
      "needs_background": "light"
     },
     "output_type": "display_data"
    },
    {
     "name": "stdout",
     "output_type": "stream",
     "text": [
      "mse = 0.0632, mae = 0.2028\n"
     ]
    }
   ],
   "source": [
    "LABEL_NAME = 'T (degC)'\n",
    "label_idx = list(df_train.columns).index(LABEL_NAME)\n",
    "utils.plot_result(actual[:, label_idx], forecast[:, label_idx])\n",
    "utils.evaluate(actual[:, label_idx], forecast[:, label_idx])"
   ]
  }
 ],
 "metadata": {
  "kernelspec": {
   "display_name": "Python 3",
   "language": "python",
   "name": "python3"
  },
  "language_info": {
   "codemirror_mode": {
    "name": "ipython",
    "version": 3
   },
   "file_extension": ".py",
   "mimetype": "text/x-python",
   "name": "python",
   "nbconvert_exporter": "python",
   "pygments_lexer": "ipython3",
   "version": "3.8.0"
  }
 },
 "nbformat": 4,
 "nbformat_minor": 4
}
