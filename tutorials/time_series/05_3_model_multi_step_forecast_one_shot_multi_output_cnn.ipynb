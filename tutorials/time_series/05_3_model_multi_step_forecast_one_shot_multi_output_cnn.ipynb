{
 "cells": [
  {
   "cell_type": "code",
   "execution_count": 1,
   "metadata": {},
   "outputs": [],
   "source": [
    "import numpy as np\n",
    "import tensorflow as tf\n",
    "from tensorflow import keras\n",
    "\n",
    "import utils"
   ]
  },
  {
   "cell_type": "code",
   "execution_count": 2,
   "metadata": {},
   "outputs": [],
   "source": [
    "WINDOW_SIZE = 24\n",
    "FORECAST_PERIOD = 24\n",
    "BATCH_SIZE = 32\n",
    "LABEL_NAME = 'T (degC)'\n",
    "CONV_WIDTH = 3"
   ]
  },
  {
   "cell_type": "code",
   "execution_count": 3,
   "metadata": {},
   "outputs": [
    {
     "name": "stdout",
     "output_type": "stream",
     "text": [
      "df_train.shape = (49063, 19), df_val.shape = (14018, 19), df_test.shape = (7010, 19)\n"
     ]
    }
   ],
   "source": [
    "df_train, df_val, df_test = utils.load_data()\n",
    "print(f\"df_train.shape = {df_train.shape}, df_val.shape = {df_val.shape}, df_test.shape = {df_test.shape}\")"
   ]
  },
  {
   "cell_type": "code",
   "execution_count": 4,
   "metadata": {},
   "outputs": [
    {
     "data": {
      "text/plain": [
       "19"
      ]
     },
     "execution_count": 4,
     "metadata": {},
     "output_type": "execute_result"
    }
   ],
   "source": [
    "num_features = len(df_train.columns)\n",
    "num_features"
   ]
  },
  {
   "cell_type": "code",
   "execution_count": 5,
   "metadata": {},
   "outputs": [],
   "source": [
    "def build_dataset(df_data, window_size, forecast_period, batch_size, shuffle=True):\n",
    "    data = np.array(df_data, dtype=np.float32)\n",
    "    ds = keras.preprocessing.timeseries_dataset_from_array(\n",
    "        data=data,\n",
    "        targets=None,\n",
    "        sequence_length=window_size + forecast_period,\n",
    "        sequence_stride=window_size,\n",
    "        shuffle=shuffle,\n",
    "        batch_size=batch_size,\n",
    "    )\n",
    "    # Note: Use batched_window[:, 1: ...\n",
    "    ds = ds.map(lambda batched_window: (batched_window[:, :window_size, :], batched_window[:, window_size:, :]))\n",
    "    return ds"
   ]
  },
  {
   "cell_type": "code",
   "execution_count": 6,
   "metadata": {},
   "outputs": [
    {
     "name": "stdout",
     "output_type": "stream",
     "text": [
      "x_batch.shape = (32, 24, 19)\n",
      "y_batch.shape = (32, 24, 19)\n"
     ]
    }
   ],
   "source": [
    "train_ds = build_dataset(df_train, WINDOW_SIZE, FORECAST_PERIOD, BATCH_SIZE, shuffle=False)\n",
    "\n",
    "for x_batch, y_batch in train_ds.take(1):\n",
    "    print(f\"x_batch.shape = {x_batch.shape}\")\n",
    "    print(f\"y_batch.shape = {y_batch.shape}\")"
   ]
  },
  {
   "cell_type": "code",
   "execution_count": 7,
   "metadata": {},
   "outputs": [],
   "source": [
    "train_ds = build_dataset(df_train, WINDOW_SIZE, FORECAST_PERIOD, BATCH_SIZE)\n",
    "val_ds = build_dataset(df_val, WINDOW_SIZE, FORECAST_PERIOD, BATCH_SIZE)"
   ]
  },
  {
   "cell_type": "code",
   "execution_count": 8,
   "metadata": {},
   "outputs": [
    {
     "name": "stdout",
     "output_type": "stream",
     "text": [
      "Epoch 1/20\n",
      "64/64 [==============================] - 1s 9ms/step - loss: 0.4170 - mean_absolute_error: 0.4569 - val_loss: 0.4327 - val_mean_absolute_error: 0.4819\n",
      "Epoch 2/20\n",
      "64/64 [==============================] - 0s 4ms/step - loss: 0.2513 - mean_absolute_error: 0.3220 - val_loss: 0.3519 - val_mean_absolute_error: 0.4274\n",
      "Epoch 3/20\n",
      "64/64 [==============================] - 0s 4ms/step - loss: 0.2366 - mean_absolute_error: 0.3020 - val_loss: 0.3323 - val_mean_absolute_error: 0.4116\n",
      "Epoch 4/20\n",
      "64/64 [==============================] - 0s 4ms/step - loss: 0.2315 - mean_absolute_error: 0.2938 - val_loss: 0.3154 - val_mean_absolute_error: 0.3997\n",
      "Epoch 5/20\n",
      "64/64 [==============================] - 0s 4ms/step - loss: 0.2287 - mean_absolute_error: 0.2912 - val_loss: 0.3084 - val_mean_absolute_error: 0.3947\n",
      "Epoch 6/20\n",
      "64/64 [==============================] - 0s 4ms/step - loss: 0.2261 - mean_absolute_error: 0.2876 - val_loss: 0.2985 - val_mean_absolute_error: 0.3844\n",
      "Epoch 7/20\n",
      "64/64 [==============================] - 0s 4ms/step - loss: 0.2237 - mean_absolute_error: 0.2850 - val_loss: 0.2934 - val_mean_absolute_error: 0.3773\n",
      "Epoch 8/20\n",
      "64/64 [==============================] - 0s 4ms/step - loss: 0.2219 - mean_absolute_error: 0.2829 - val_loss: 0.2913 - val_mean_absolute_error: 0.3759\n",
      "Epoch 9/20\n",
      "64/64 [==============================] - 0s 4ms/step - loss: 0.2215 - mean_absolute_error: 0.2821 - val_loss: 0.2855 - val_mean_absolute_error: 0.3687\n",
      "Epoch 10/20\n",
      "64/64 [==============================] - 0s 4ms/step - loss: 0.2196 - mean_absolute_error: 0.2813 - val_loss: 0.2813 - val_mean_absolute_error: 0.3662\n",
      "Epoch 11/20\n",
      "64/64 [==============================] - 0s 4ms/step - loss: 0.2188 - mean_absolute_error: 0.2801 - val_loss: 0.2833 - val_mean_absolute_error: 0.3663\n",
      "Epoch 12/20\n",
      "64/64 [==============================] - 0s 4ms/step - loss: 0.2173 - mean_absolute_error: 0.2789 - val_loss: 0.2835 - val_mean_absolute_error: 0.3654\n"
     ]
    }
   ],
   "source": [
    "model = keras.Sequential([\n",
    "    # Shape [batch, time, features] => [batch, CONV_WIDTH, features]\n",
    "    tf.keras.layers.Lambda(lambda x: x[:, -CONV_WIDTH:, :]),\n",
    "    # Shape => [batch, 1, conv_units]\n",
    "    tf.keras.layers.Conv1D(256, activation='relu', kernel_size=(CONV_WIDTH)),\n",
    "    # Shape => [batch, 1,  out_steps*features]\n",
    "    tf.keras.layers.Dense(FORECAST_PERIOD*num_features, kernel_initializer=tf.initializers.zeros),\n",
    "    # Shape => [batch, out_steps, features]\n",
    "    tf.keras.layers.Reshape([FORECAST_PERIOD, num_features])\n",
    "])\n",
    "\n",
    "model.compile(\n",
    "    loss=tf.losses.MeanSquaredError(),\n",
    "    optimizer=tf.optimizers.Adam(),\n",
    "    metrics=[tf.metrics.MeanAbsoluteError()]\n",
    ")\n",
    "\n",
    "early_stopping = keras.callbacks.EarlyStopping(\n",
    "    monitor='val_loss',\n",
    "    patience=2,\n",
    "    mode='min'\n",
    ")\n",
    "\n",
    "history = model.fit(\n",
    "    train_ds, \n",
    "    epochs=20,\n",
    "    validation_data=val_ds,\n",
    "    callbacks=[early_stopping]\n",
    ")"
   ]
  },
  {
   "cell_type": "code",
   "execution_count": 9,
   "metadata": {},
   "outputs": [
    {
     "name": "stdout",
     "output_type": "stream",
     "text": [
      "forecast.shape = (24, 19), actual.shape = (24, 19)\n"
     ]
    }
   ],
   "source": [
    "new_data = df_val.iloc[:WINDOW_SIZE].to_numpy()\n",
    "new_data = np.expand_dims(new_data, 0)\n",
    "forecast = model.predict(new_data)\n",
    "forecast = tf.squeeze(forecast).numpy()\n",
    "actual = df_val.iloc[WINDOW_SIZE:WINDOW_SIZE + FORECAST_PERIOD].to_numpy()\n",
    "print(f\"forecast.shape = {forecast.shape}, actual.shape = {actual.shape}\")"
   ]
  },
  {
   "cell_type": "code",
   "execution_count": 10,
   "metadata": {},
   "outputs": [
    {
     "data": {
      "text/plain": [
       "array([0.28584545, 0.17626545, 0.1925884 , 0.15806978, 0.43640556,\n",
       "       0.2395965 , 0.21360849, 0.3906724 , 0.21777561, 0.21745909,\n",
       "       0.21494627, 0.37240555, 0.56511385, 0.36496484, 0.55681669,\n",
       "       0.13396039, 0.1319953 , 0.01159242, 0.04183642])"
      ]
     },
     "execution_count": 10,
     "metadata": {},
     "output_type": "execute_result"
    }
   ],
   "source": [
    "ae = np.abs(forecast - actual)\n",
    "mae = np.mean(ae, axis=0)\n",
    "mae"
   ]
  },
  {
   "cell_type": "code",
   "execution_count": 15,
   "metadata": {},
   "outputs": [
    {
     "data": {
      "image/png": "[encoded data removed]",
      "text/plain": [
       "<Figure size 576x288 with 1 Axes>"
      ]
     },
     "metadata": {
      "needs_background": "light"
     },
     "output_type": "display_data"
    },
    {
     "name": "stdout",
     "output_type": "stream",
     "text": [
      "mse = 0.0423, mae = 0.1763\n"
     ]
    }
   ],
   "source": [
    "LABEL_NAME = 'T (degC)'\n",
    "label_idx = list(df_train.columns).index(LABEL_NAME)\n",
    "utils.plot_result(actual[:, label_idx], forecast[:, label_idx])\n",
    "utils.evaluate(actual[:, label_idx], forecast[:, label_idx])"
   ]
  }
 ],
 "metadata": {
  "kernelspec": {
   "display_name": "Python 3",
   "language": "python",
   "name": "python3"
  },
  "language_info": {
   "codemirror_mode": {
    "name": "ipython",
    "version": 3
   },
   "file_extension": ".py",
   "mimetype": "text/x-python",
   "name": "python",
   "nbconvert_exporter": "python",
   "pygments_lexer": "ipython3",
   "version": "3.8.0"
  }
 },
 "nbformat": 4,
 "nbformat_minor": 4
}
