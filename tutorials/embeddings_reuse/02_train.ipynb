{
 "cells": [
  {
   "cell_type": "code",
   "execution_count": 1,
   "metadata": {},
   "outputs": [],
   "source": [
    "import tensorflow as tf\n",
    "import tensorflow_datasets as tfds\n",
    "import tensorflow_hub as hub\n",
    "from tensorflow import keras"
   ]
  },
  {
   "cell_type": "code",
   "execution_count": 2,
   "metadata": {},
   "outputs": [],
   "source": [
    "BATCH_SIZE = 512\n",
    "SHUFFLE_BUFFER_SIZE = 10000"
   ]
  },
  {
   "cell_type": "code",
   "execution_count": 3,
   "metadata": {},
   "outputs": [],
   "source": [
    "train_data, val_data, test_data = tfds.load(\n",
    "    name='imdb_reviews', \n",
    "    split=('train[:60%]', 'train[60%:]', 'test'),\n",
    "    as_supervised=True\n",
    ")"
   ]
  },
  {
   "cell_type": "code",
   "execution_count": 4,
   "metadata": {},
   "outputs": [],
   "source": [
    "train_ds = train_data\\\n",
    "    .shuffle(SHUFFLE_BUFFER_SIZE)\\\n",
    "    .batch(BATCH_SIZE)\n",
    "\n",
    "val_ds = val_data.batch(BATCH_SIZE)\n",
    "\n",
    "test_ds = test_data.batch(BATCH_SIZE)"
   ]
  },
  {
   "cell_type": "code",
   "execution_count": 5,
   "metadata": {},
   "outputs": [],
   "source": [
    "embedding = \"https://tfhub.dev/google/nnlm-en-dim50/2\"\n",
    "hub_layer = hub.KerasLayer(embedding, input_shape=[], dtype=tf.string, trainable=True)"
   ]
  },
  {
   "cell_type": "code",
   "execution_count": 6,
   "metadata": {},
   "outputs": [
    {
     "name": "stdout",
     "output_type": "stream",
     "text": [
      "Model: \"sequential\"\n",
      "_________________________________________________________________\n",
      "Layer (type)                 Output Shape              Param #   \n",
      "=================================================================\n",
      "keras_layer (KerasLayer)     (None, 50)                48190600  \n",
      "_________________________________________________________________\n",
      "dense (Dense)                (None, 16)                816       \n",
      "_________________________________________________________________\n",
      "dense_1 (Dense)              (None, 1)                 17        \n",
      "=================================================================\n",
      "Total params: 48,191,433\n",
      "Trainable params: 48,191,433\n",
      "Non-trainable params: 0\n",
      "_________________________________________________________________\n"
     ]
    }
   ],
   "source": [
    "model = keras.Sequential([\n",
    "    hub_layer,\n",
    "    keras.layers.Dense(16, activation='relu'),\n",
    "    keras.layers.Dense(1)\n",
    "])\n",
    "\n",
    "model.summary()"
   ]
  },
  {
   "cell_type": "code",
   "execution_count": 7,
   "metadata": {},
   "outputs": [],
   "source": [
    "model.compile(\n",
    "    optimizer='adam',\n",
    "    loss=keras.losses.BinaryCrossentropy(from_logits=True),\n",
    "    metrics=['accuracy']\n",
    ")"
   ]
  },
  {
   "cell_type": "code",
   "execution_count": 8,
   "metadata": {},
   "outputs": [
    {
     "name": "stdout",
     "output_type": "stream",
     "text": [
      "Epoch 1/10\n",
      "30/30 [==============================] - 3s 94ms/step - loss: 0.6869 - accuracy: 0.4973 - val_loss: 0.6535 - val_accuracy: 0.5206\n",
      "Epoch 2/10\n",
      "30/30 [==============================] - 3s 84ms/step - loss: 0.6131 - accuracy: 0.5797 - val_loss: 0.5819 - val_accuracy: 0.6448\n",
      "Epoch 3/10\n",
      "30/30 [==============================] - 3s 85ms/step - loss: 0.5139 - accuracy: 0.7284 - val_loss: 0.4886 - val_accuracy: 0.7458\n",
      "Epoch 4/10\n",
      "30/30 [==============================] - 3s 84ms/step - loss: 0.3980 - accuracy: 0.8304 - val_loss: 0.4039 - val_accuracy: 0.8275\n",
      "Epoch 5/10\n",
      "30/30 [==============================] - 3s 84ms/step - loss: 0.2965 - accuracy: 0.8903 - val_loss: 0.3503 - val_accuracy: 0.8520\n",
      "Epoch 6/10\n",
      "30/30 [==============================] - 3s 85ms/step - loss: 0.2229 - accuracy: 0.9234 - val_loss: 0.3215 - val_accuracy: 0.8613\n",
      "Epoch 7/10\n",
      "30/30 [==============================] - 3s 84ms/step - loss: 0.1680 - accuracy: 0.9465 - val_loss: 0.3077 - val_accuracy: 0.8667\n",
      "Epoch 8/10\n",
      "30/30 [==============================] - 3s 84ms/step - loss: 0.1251 - accuracy: 0.9639 - val_loss: 0.3037 - val_accuracy: 0.8679\n",
      "Epoch 9/10\n",
      "30/30 [==============================] - 3s 84ms/step - loss: 0.0930 - accuracy: 0.9765 - val_loss: 0.3064 - val_accuracy: 0.8703\n",
      "Epoch 10/10\n",
      "30/30 [==============================] - 3s 83ms/step - loss: 0.0685 - accuracy: 0.9845 - val_loss: 0.3147 - val_accuracy: 0.8703\n"
     ]
    }
   ],
   "source": [
    "history = model.fit(\n",
    "    train_ds,\n",
    "    epochs=10,\n",
    "    validation_data=val_ds,\n",
    "    verbose=1\n",
    ")"
   ]
  },
  {
   "cell_type": "code",
   "execution_count": 9,
   "metadata": {},
   "outputs": [
    {
     "name": "stdout",
     "output_type": "stream",
     "text": [
      "49/49 - 1s - loss: 0.3352 - accuracy: 0.8575\n"
     ]
    }
   ],
   "source": [
    "result = model.evaluate(test_ds, verbose=2)"
   ]
  },
  {
   "cell_type": "code",
   "execution_count": 10,
   "metadata": {},
   "outputs": [
    {
     "data": {
      "text/plain": [
       "<tf.Tensor: shape=(1, 1), dtype=float32, numpy=array([[0.923278]], dtype=float32)>"
      ]
     },
     "execution_count": 10,
     "metadata": {},
     "output_type": "execute_result"
    }
   ],
   "source": [
    "new_data = \"There are films that make careers. For George Romero, it was NIGHT OF THE LIVING DEAD; for Kevin Smith, CLERKS; for Robert Rodriguez, EL MARIACHI. Add to that list Onur Tukel's absolutely amazing DING-A-LING-LESS. Flawless film-making, and as assured and as professional as any of the aforementioned movies. I haven't laughed this hard since I saw THE FULL MONTY. (And, even then, I don't think I laughed quite this hard... So to speak.) Tukel's talent is considerable: DING-A-LING-LESS is so chock full of double entendres that one would have to sit down with a copy of this script and do a line-by-line examination of it to fully appreciate the, uh, breadth and width of it. Every shot is beautifully composed (a clear sign of a sure-handed director), and the performances all around are solid (there's none of the over-the-top scenery chewing one might've expected from a film like this). DING-A-LING-LESS is a film whose time has come.\"\n",
    "logits = model.predict([new_data])\n",
    "prediction = tf.sigmoid(logits)\n",
    "prediction"
   ]
  }
 ],
 "metadata": {
  "kernelspec": {
   "display_name": "Python 3",
   "language": "python",
   "name": "python3"
  },
  "language_info": {
   "codemirror_mode": {
    "name": "ipython",
    "version": 3
   },
   "file_extension": ".py",
   "mimetype": "text/x-python",
   "name": "python",
   "nbconvert_exporter": "python",
   "pygments_lexer": "ipython3",
   "version": "3.8.0"
  }
 },
 "nbformat": 4,
 "nbformat_minor": 4
}
