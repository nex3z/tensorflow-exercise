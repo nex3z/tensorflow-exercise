{
  "nbformat": 4,
  "nbformat_minor": 0,
  "metadata": {
    "kernelspec": {
      "display_name": "Python 3",
      "language": "python",
      "name": "python3"
    },
    "language_info": {
      "codemirror_mode": {
        "name": "ipython",
        "version": 3
      },
      "file_extension": ".py",
      "mimetype": "text/x-python",
      "name": "python",
      "nbconvert_exporter": "python",
      "pygments_lexer": "ipython3",
      "version": "3.8.0"
    },
    "colab": {
      "name": "03_feature_columns.ipynb",
      "provenance": [],
      "collapsed_sections": [],
      "toc_visible": true
    }
  },
  "cells": [
    {
      "cell_type": "code",
      "metadata": {
        "id": "ZSBAHu1Dss20"
      },
      "source": [
        "import numpy as np\n",
        "import tensorflow as tf\n",
        "from tensorflow import keras\n",
        "import utils"
      ],
      "execution_count": 1,
      "outputs": []
    },
    {
      "cell_type": "code",
      "metadata": {
        "colab": {
          "base_uri": "https://localhost:8080/"
        },
        "id": "AAwWEuIQss25",
        "outputId": "5eedf1f1-1956-49a2-f5a1-71d188bdfc12"
      },
      "source": [
        "df_train, df_val, df_test = utils.load_data()\n",
        "print(f\"len(df_train) = {len(df_train)}, len(df_val) = {len(df_val)}, len(df_test) = {len(df_test)}\")"
      ],
      "execution_count": 2,
      "outputs": [
        {
          "output_type": "stream",
          "text": [
            "len(df_train) = 7383, len(df_val) = 1846, len(df_test) = 2308\n"
          ],
          "name": "stdout"
        }
      ]
    },
    {
      "cell_type": "code",
      "metadata": {
        "colab": {
          "base_uri": "https://localhost:8080/",
          "height": 272
        },
        "id": "eW9WGU8lss26",
        "outputId": "8a636637-3ebc-44dc-fd3f-f18898df04d1"
      },
      "source": [
        "df_train.head()"
      ],
      "execution_count": 3,
      "outputs": [
        {
          "output_type": "execute_result",
          "data": {
            "text/html": [
              "<div>\n",
              "<style scoped>\n",
              "    .dataframe tbody tr th:only-of-type {\n",
              "        vertical-align: middle;\n",
              "    }\n",
              "\n",
              "    .dataframe tbody tr th {\n",
              "        vertical-align: top;\n",
              "    }\n",
              "\n",
              "    .dataframe thead th {\n",
              "        text-align: right;\n",
              "    }\n",
              "</style>\n",
              "<table border=\"1\" class=\"dataframe\">\n",
              "  <thead>\n",
              "    <tr style=\"text-align: right;\">\n",
              "      <th></th>\n",
              "      <th>Type</th>\n",
              "      <th>Age</th>\n",
              "      <th>Breed1</th>\n",
              "      <th>Gender</th>\n",
              "      <th>Color1</th>\n",
              "      <th>Color2</th>\n",
              "      <th>MaturitySize</th>\n",
              "      <th>FurLength</th>\n",
              "      <th>Vaccinated</th>\n",
              "      <th>Sterilized</th>\n",
              "      <th>Health</th>\n",
              "      <th>Fee</th>\n",
              "      <th>PhotoAmt</th>\n",
              "      <th>target</th>\n",
              "    </tr>\n",
              "  </thead>\n",
              "  <tbody>\n",
              "    <tr>\n",
              "      <th>2219</th>\n",
              "      <td>Dog</td>\n",
              "      <td>8</td>\n",
              "      <td>Mixed Breed</td>\n",
              "      <td>Female</td>\n",
              "      <td>Brown</td>\n",
              "      <td>No Color</td>\n",
              "      <td>Medium</td>\n",
              "      <td>Medium</td>\n",
              "      <td>Yes</td>\n",
              "      <td>No</td>\n",
              "      <td>Minor Injury</td>\n",
              "      <td>0</td>\n",
              "      <td>2</td>\n",
              "      <td>1</td>\n",
              "    </tr>\n",
              "    <tr>\n",
              "      <th>2015</th>\n",
              "      <td>Dog</td>\n",
              "      <td>5</td>\n",
              "      <td>Doberman Pinscher</td>\n",
              "      <td>Female</td>\n",
              "      <td>Black</td>\n",
              "      <td>Brown</td>\n",
              "      <td>Medium</td>\n",
              "      <td>Medium</td>\n",
              "      <td>Yes</td>\n",
              "      <td>Yes</td>\n",
              "      <td>Healthy</td>\n",
              "      <td>0</td>\n",
              "      <td>5</td>\n",
              "      <td>1</td>\n",
              "    </tr>\n",
              "    <tr>\n",
              "      <th>4584</th>\n",
              "      <td>Cat</td>\n",
              "      <td>12</td>\n",
              "      <td>Domestic Medium Hair</td>\n",
              "      <td>Male</td>\n",
              "      <td>Yellow</td>\n",
              "      <td>White</td>\n",
              "      <td>Large</td>\n",
              "      <td>Medium</td>\n",
              "      <td>Yes</td>\n",
              "      <td>Not Sure</td>\n",
              "      <td>Healthy</td>\n",
              "      <td>0</td>\n",
              "      <td>6</td>\n",
              "      <td>0</td>\n",
              "    </tr>\n",
              "    <tr>\n",
              "      <th>4695</th>\n",
              "      <td>Dog</td>\n",
              "      <td>3</td>\n",
              "      <td>Mixed Breed</td>\n",
              "      <td>Female</td>\n",
              "      <td>Brown</td>\n",
              "      <td>Cream</td>\n",
              "      <td>Large</td>\n",
              "      <td>Short</td>\n",
              "      <td>Yes</td>\n",
              "      <td>No</td>\n",
              "      <td>Healthy</td>\n",
              "      <td>0</td>\n",
              "      <td>15</td>\n",
              "      <td>1</td>\n",
              "    </tr>\n",
              "    <tr>\n",
              "      <th>8499</th>\n",
              "      <td>Dog</td>\n",
              "      <td>2</td>\n",
              "      <td>Mixed Breed</td>\n",
              "      <td>Female</td>\n",
              "      <td>Brown</td>\n",
              "      <td>No Color</td>\n",
              "      <td>Medium</td>\n",
              "      <td>Medium</td>\n",
              "      <td>Yes</td>\n",
              "      <td>No</td>\n",
              "      <td>Healthy</td>\n",
              "      <td>0</td>\n",
              "      <td>7</td>\n",
              "      <td>1</td>\n",
              "    </tr>\n",
              "  </tbody>\n",
              "</table>\n",
              "</div>"
            ],
            "text/plain": [
              "     Type  Age                Breed1  ... Fee PhotoAmt target\n",
              "2219  Dog    8           Mixed Breed  ...   0        2      1\n",
              "2015  Dog    5     Doberman Pinscher  ...   0        5      1\n",
              "4584  Cat   12  Domestic Medium Hair  ...   0        6      0\n",
              "4695  Dog    3           Mixed Breed  ...   0       15      1\n",
              "8499  Dog    2           Mixed Breed  ...   0        7      1\n",
              "\n",
              "[5 rows x 14 columns]"
            ]
          },
          "metadata": {
            "tags": []
          },
          "execution_count": 3
        }
      ]
    },
    {
      "cell_type": "code",
      "metadata": {
        "id": "NADUfbFxss27"
      },
      "source": [
        "x = df_train.copy()\n",
        "y = x.pop('target')\n",
        "batch_size = 4"
      ],
      "execution_count": 4,
      "outputs": []
    },
    {
      "cell_type": "code",
      "metadata": {
        "id": "yvovmH3Iss27"
      },
      "source": [
        "ds = tf.data.Dataset.from_tensor_slices((dict(x), y))\n",
        "# ds = ds.shuffle(buffer_size=len(df_train_x))\n",
        "ds = ds.batch(batch_size)"
      ],
      "execution_count": 5,
      "outputs": []
    },
    {
      "cell_type": "code",
      "metadata": {
        "colab": {
          "base_uri": "https://localhost:8080/"
        },
        "id": "ZFnbsqINss27",
        "outputId": "5d6a6ac0-3acc-4390-b5bb-e655f18855e8"
      },
      "source": [
        "for batch_x, batch_y in ds.take(1):\n",
        "    print(f\"type(batch_x) = {type(batch_x)}\")\n",
        "    print(f\"batch_x = {batch_x}\")\n",
        "    print(f\"batch_y.shape = {batch_y.shape}\")\n",
        "    print(f\"batch_y = {batch_y}\")"
      ],
      "execution_count": 6,
      "outputs": [
        {
          "output_type": "stream",
          "text": [
            "type(batch_x) = <class 'dict'>\n",
            "batch_x = {'Type': <tf.Tensor: shape=(4,), dtype=string, numpy=array([b'Dog', b'Dog', b'Cat', b'Dog'], dtype=object)>, 'Age': <tf.Tensor: shape=(4,), dtype=int64, numpy=array([ 8,  5, 12,  3])>, 'Breed1': <tf.Tensor: shape=(4,), dtype=string, numpy=\n",
            "array([b'Mixed Breed', b'Doberman Pinscher', b'Domestic Medium Hair',\n",
            "       b'Mixed Breed'], dtype=object)>, 'Gender': <tf.Tensor: shape=(4,), dtype=string, numpy=array([b'Female', b'Female', b'Male', b'Female'], dtype=object)>, 'Color1': <tf.Tensor: shape=(4,), dtype=string, numpy=array([b'Brown', b'Black', b'Yellow', b'Brown'], dtype=object)>, 'Color2': <tf.Tensor: shape=(4,), dtype=string, numpy=array([b'No Color', b'Brown', b'White', b'Cream'], dtype=object)>, 'MaturitySize': <tf.Tensor: shape=(4,), dtype=string, numpy=array([b'Medium', b'Medium', b'Large', b'Large'], dtype=object)>, 'FurLength': <tf.Tensor: shape=(4,), dtype=string, numpy=array([b'Medium', b'Medium', b'Medium', b'Short'], dtype=object)>, 'Vaccinated': <tf.Tensor: shape=(4,), dtype=string, numpy=array([b'Yes', b'Yes', b'Yes', b'Yes'], dtype=object)>, 'Sterilized': <tf.Tensor: shape=(4,), dtype=string, numpy=array([b'No', b'Yes', b'Not Sure', b'No'], dtype=object)>, 'Health': <tf.Tensor: shape=(4,), dtype=string, numpy=array([b'Minor Injury', b'Healthy', b'Healthy', b'Healthy'], dtype=object)>, 'Fee': <tf.Tensor: shape=(4,), dtype=int64, numpy=array([0, 0, 0, 0])>, 'PhotoAmt': <tf.Tensor: shape=(4,), dtype=int64, numpy=array([ 2,  5,  6, 15])>}\n",
            "batch_y.shape = (4,)\n",
            "batch_y = [1 1 0 1]\n"
          ],
          "name": "stdout"
        }
      ]
    },
    {
      "cell_type": "markdown",
      "metadata": {
        "id": "ZQRqaPhuss27"
      },
      "source": [
        "## Numeric columns"
      ]
    },
    {
      "cell_type": "code",
      "metadata": {
        "colab": {
          "base_uri": "https://localhost:8080/"
        },
        "id": "Vnvz-pwEss28",
        "outputId": "013a8de2-ed71-4507-d1f8-00bda314297a"
      },
      "source": [
        "photo_amt = tf.feature_column.numeric_column('PhotoAmt')\n",
        "photo_amt_layer = keras.layers.DenseFeatures(photo_amt)\n",
        "photo_amt_layer(batch_x)"
      ],
      "execution_count": 7,
      "outputs": [
        {
          "output_type": "execute_result",
          "data": {
            "text/plain": [
              "<tf.Tensor: shape=(4, 1), dtype=float32, numpy=\n",
              "array([[ 2.],\n",
              "       [ 5.],\n",
              "       [ 6.],\n",
              "       [15.]], dtype=float32)>"
            ]
          },
          "metadata": {
            "tags": []
          },
          "execution_count": 7
        }
      ]
    },
    {
      "cell_type": "code",
      "metadata": {
        "colab": {
          "base_uri": "https://localhost:8080/"
        },
        "id": "3_-DDvLMss28",
        "outputId": "ca1a3ebe-f72e-49f2-8141-87783728c869"
      },
      "source": [
        "age = tf.feature_column.numeric_column('Age')\n",
        "age_layer = keras.layers.DenseFeatures(age)\n",
        "age_layer(batch_x)"
      ],
      "execution_count": 8,
      "outputs": [
        {
          "output_type": "execute_result",
          "data": {
            "text/plain": [
              "<tf.Tensor: shape=(4, 1), dtype=float32, numpy=\n",
              "array([[ 8.],\n",
              "       [ 5.],\n",
              "       [12.],\n",
              "       [ 3.]], dtype=float32)>"
            ]
          },
          "metadata": {
            "tags": []
          },
          "execution_count": 8
        }
      ]
    },
    {
      "cell_type": "markdown",
      "metadata": {
        "id": "8IiolO8Hss28"
      },
      "source": [
        "## Bucketized columns"
      ]
    },
    {
      "cell_type": "code",
      "metadata": {
        "colab": {
          "base_uri": "https://localhost:8080/"
        },
        "id": "BAVLXOEpss28",
        "outputId": "cdcb168c-80a5-4672-c26a-8e0c0d4c24bb"
      },
      "source": [
        "age_buckets = tf.feature_column.bucketized_column(age, boundaries=[1, 11, 21])\n",
        "age_buckets_layer = keras.layers.DenseFeatures(age_buckets)\n",
        "age_buckets_layer(batch_x)"
      ],
      "execution_count": 9,
      "outputs": [
        {
          "output_type": "execute_result",
          "data": {
            "text/plain": [
              "<tf.Tensor: shape=(4, 4), dtype=float32, numpy=\n",
              "array([[0., 1., 0., 0.],\n",
              "       [0., 1., 0., 0.],\n",
              "       [0., 0., 1., 0.],\n",
              "       [0., 1., 0., 0.]], dtype=float32)>"
            ]
          },
          "metadata": {
            "tags": []
          },
          "execution_count": 9
        }
      ]
    },
    {
      "cell_type": "markdown",
      "metadata": {
        "id": "887-uUnQss29"
      },
      "source": [
        "## Categorical columns"
      ]
    },
    {
      "cell_type": "code",
      "metadata": {
        "colab": {
          "base_uri": "https://localhost:8080/"
        },
        "id": "jy81sVlMss29",
        "outputId": "7c1a3e5b-595b-425b-b6e2-aa8bdd6376d4"
      },
      "source": [
        "animal_type = tf.feature_column.categorical_column_with_vocabulary_list('Type', ['Cat', 'Dog'])\n",
        "animal_type_one_hot = tf.feature_column.indicator_column(animal_type)\n",
        "animal_type_one_hot_layer = keras.layers.DenseFeatures(animal_type_one_hot)\n",
        "animal_type_one_hot_layer(batch_x)"
      ],
      "execution_count": 10,
      "outputs": [
        {
          "output_type": "execute_result",
          "data": {
            "text/plain": [
              "<tf.Tensor: shape=(4, 2), dtype=float32, numpy=\n",
              "array([[0., 1.],\n",
              "       [0., 1.],\n",
              "       [1., 0.],\n",
              "       [0., 1.]], dtype=float32)>"
            ]
          },
          "metadata": {
            "tags": []
          },
          "execution_count": 10
        }
      ]
    },
    {
      "cell_type": "markdown",
      "metadata": {
        "id": "pUxKRhLIss29"
      },
      "source": [
        "## Embedding columns"
      ]
    },
    {
      "cell_type": "code",
      "metadata": {
        "colab": {
          "base_uri": "https://localhost:8080/"
        },
        "id": "EEBCM-vhss29",
        "outputId": "3f82c107-0526-4535-8557-3d13f63e0b94"
      },
      "source": [
        "breed1 = tf.feature_column.categorical_column_with_vocabulary_list( 'Breed1', df_train['Breed1'].unique())\n",
        "breed1_embedding = tf.feature_column.embedding_column(breed1, dimension=8)\n",
        "breed1_embedding_layer = keras.layers.DenseFeatures(breed1_embedding)\n",
        "breed1_embedding_layer(batch_x)"
      ],
      "execution_count": 11,
      "outputs": [
        {
          "output_type": "execute_result",
          "data": {
            "text/plain": [
              "<tf.Tensor: shape=(4, 8), dtype=float32, numpy=\n",
              "array([[-0.15347214, -0.60907835,  0.48046753, -0.14703505,  0.0536376 ,\n",
              "        -0.36827904,  0.1981471 , -0.09632463],\n",
              "       [-0.35149214,  0.05514221, -0.6010382 ,  0.09352157, -0.15485992,\n",
              "         0.36382204,  0.22900997,  0.28699714],\n",
              "       [-0.5057705 , -0.28656134, -0.3124    , -0.2752822 ,  0.17508066,\n",
              "        -0.6928375 , -0.30052555,  0.30505255],\n",
              "       [-0.15347214, -0.60907835,  0.48046753, -0.14703505,  0.0536376 ,\n",
              "        -0.36827904,  0.1981471 , -0.09632463]], dtype=float32)>"
            ]
          },
          "metadata": {
            "tags": []
          },
          "execution_count": 11
        }
      ]
    },
    {
      "cell_type": "markdown",
      "metadata": {
        "id": "5l4I0GVWss29"
      },
      "source": [
        "## Hashed feature columns"
      ]
    },
    {
      "cell_type": "code",
      "metadata": {
        "colab": {
          "base_uri": "https://localhost:8080/"
        },
        "id": "ll3wAh9tss2-",
        "outputId": "727860d4-27e5-413d-8a7b-ac77b3a56633"
      },
      "source": [
        "breed1_hashed = tf.feature_column.categorical_column_with_hash_bucket('Breed1', hash_bucket_size=10)\n",
        "breed1_hashed_ind = tf.feature_column.indicator_column(breed1_hashed)\n",
        "breed1_hashed_layer = keras.layers.DenseFeatures(breed1_hashed_ind)\n",
        "breed1_hashed_layer(batch_x)"
      ],
      "execution_count": 12,
      "outputs": [
        {
          "output_type": "execute_result",
          "data": {
            "text/plain": [
              "<tf.Tensor: shape=(4, 10), dtype=float32, numpy=\n",
              "array([[0., 0., 0., 0., 0., 0., 0., 1., 0., 0.],\n",
              "       [0., 0., 0., 1., 0., 0., 0., 0., 0., 0.],\n",
              "       [0., 0., 0., 0., 1., 0., 0., 0., 0., 0.],\n",
              "       [0., 0., 0., 0., 0., 0., 0., 1., 0., 0.]], dtype=float32)>"
            ]
          },
          "metadata": {
            "tags": []
          },
          "execution_count": 12
        }
      ]
    },
    {
      "cell_type": "markdown",
      "metadata": {
        "id": "PssCWsANss2-"
      },
      "source": [
        "## Crossed feature columns"
      ]
    },
    {
      "cell_type": "code",
      "metadata": {
        "colab": {
          "base_uri": "https://localhost:8080/"
        },
        "id": "n2XWgLvjss2-",
        "outputId": "3ef9fd27-342b-437e-fd5c-e2a2ccd275a5"
      },
      "source": [
        "crossed_feature = tf.feature_column.crossed_column([age_buckets, animal_type], hash_bucket_size=10)\n",
        "crossed_feature_ind = tf.feature_column.indicator_column(crossed_feature)\n",
        "crossed_feature_ind_layer = keras.layers.DenseFeatures(crossed_feature_ind)\n",
        "crossed_feature_ind_layer(batch_x)"
      ],
      "execution_count": 13,
      "outputs": [
        {
          "output_type": "execute_result",
          "data": {
            "text/plain": [
              "<tf.Tensor: shape=(4, 10), dtype=float32, numpy=\n",
              "array([[0., 1., 0., 0., 0., 0., 0., 0., 0., 0.],\n",
              "       [0., 1., 0., 0., 0., 0., 0., 0., 0., 0.],\n",
              "       [0., 1., 0., 0., 0., 0., 0., 0., 0., 0.],\n",
              "       [0., 1., 0., 0., 0., 0., 0., 0., 0., 0.]], dtype=float32)>"
            ]
          },
          "metadata": {
            "tags": []
          },
          "execution_count": 13
        }
      ]
    }
  ]
}