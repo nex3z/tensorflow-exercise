{
 "cells": [
  {
   "cell_type": "code",
   "execution_count": 1,
   "metadata": {
    "collapsed": true
   },
   "outputs": [],
   "source": [
    "from __future__ import absolute_import\n",
    "from __future__ import division\n",
    "from __future__ import print_function\n",
    "\n",
    "import tensorflow as tf\n",
    "import numpy as np\n",
    "import os\n",
    "from urllib.request import urlopen\n",
    "# For Python 2, use:\n",
    "# from urllib import urlopen"
   ]
  },
  {
   "cell_type": "code",
   "execution_count": 2,
   "metadata": {
    "collapsed": true
   },
   "outputs": [],
   "source": [
    "# Data sets\n",
    "IRIS_TRAINING = \"data/iris_training.csv\"\n",
    "IRIS_TRAINING_URL = \"http://download.tensorflow.org/data/iris_training.csv\"\n",
    "\n",
    "IRIS_TEST = \"data/iris_test.csv\"\n",
    "IRIS_TEST_URL = \"http://download.tensorflow.org/data/iris_test.csv\""
   ]
  },
  {
   "cell_type": "code",
   "execution_count": 3,
   "metadata": {
    "collapsed": true
   },
   "outputs": [],
   "source": [
    "# Define the training inputs\n",
    "def get_train_inputs():\n",
    "    x = tf.constant(training_set.data)\n",
    "    y = tf.constant(training_set.target)\n",
    "    return x, y\n",
    "\n",
    "# Define the test inputs\n",
    "def get_test_inputs():\n",
    "    x = tf.constant(test_set.data)\n",
    "    y = tf.constant(test_set.target)\n",
    "    return x, y\n",
    "\n",
    "# Classify two new flower samples.\n",
    "def new_samples():\n",
    "    return np.array(\n",
    "        [[6.4, 3.2, 4.5, 1.5],\n",
    "         [5.9, 3.1, 5.0, 1.8]], \n",
    "        dtype=np.float32)"
   ]
  },
  {
   "cell_type": "code",
   "execution_count": 4,
   "metadata": {},
   "outputs": [
    {
     "name": "stdout",
     "output_type": "stream",
     "text": [
      "INFO:tensorflow:Using default config.\n",
      "INFO:tensorflow:Using config: {'_cluster_spec': <tensorflow.python.training.server_lib.ClusterSpec object at 0x0000025CB416DC88>, '_keep_checkpoint_max': 5, '_master': '', '_task_id': 0, '_save_checkpoints_secs': 600, '_num_worker_replicas': 0, '_save_summary_steps': 100, '_tf_config': gpu_options {\n",
      "  per_process_gpu_memory_fraction: 1\n",
      "}\n",
      ", '_task_type': None, '_num_ps_replicas': 0, '_save_checkpoints_steps': None, '_environment': 'local', '_session_config': None, '_evaluation_master': '', '_model_dir': None, '_keep_checkpoint_every_n_hours': 10000, '_tf_random_seed': None, '_is_chief': True}\n",
      "INFO:tensorflow:Create CheckpointSaverHook.\n",
      "INFO:tensorflow:Restoring parameters from tmp/iris_model\\model.ckpt-32000\n",
      "INFO:tensorflow:Saving checkpoints for 32001 into tmp/iris_model\\model.ckpt.\n",
      "INFO:tensorflow:loss = 0.000687283, step = 32001\n",
      "INFO:tensorflow:global_step/sec: 351.253\n",
      "INFO:tensorflow:loss = 0.000681881, step = 32101 (0.288 sec)\n",
      "INFO:tensorflow:global_step/sec: 375.196\n",
      "INFO:tensorflow:loss = 0.000678468, step = 32201 (0.265 sec)\n",
      "INFO:tensorflow:global_step/sec: 379.152\n",
      "INFO:tensorflow:loss = 0.000673466, step = 32301 (0.262 sec)\n",
      "INFO:tensorflow:global_step/sec: 368.812\n",
      "INFO:tensorflow:loss = 0.000670321, step = 32401 (0.271 sec)\n",
      "INFO:tensorflow:global_step/sec: 296.034\n",
      "INFO:tensorflow:loss = 0.000665538, step = 32501 (0.338 sec)\n",
      "INFO:tensorflow:global_step/sec: 408.143\n",
      "INFO:tensorflow:loss = 0.000667302, step = 32601 (0.245 sec)\n",
      "INFO:tensorflow:global_step/sec: 461.738\n",
      "INFO:tensorflow:loss = 0.00065812, step = 32701 (0.217 sec)\n",
      "INFO:tensorflow:global_step/sec: 500.513\n",
      "INFO:tensorflow:loss = 0.000653738, step = 32801 (0.204 sec)\n",
      "INFO:tensorflow:global_step/sec: 465.28\n",
      "INFO:tensorflow:loss = 0.000650655, step = 32901 (0.211 sec)\n",
      "INFO:tensorflow:global_step/sec: 371.77\n",
      "INFO:tensorflow:loss = 0.000646599, step = 33001 (0.269 sec)\n",
      "INFO:tensorflow:global_step/sec: 405.081\n",
      "INFO:tensorflow:loss = 0.000642552, step = 33101 (0.247 sec)\n",
      "INFO:tensorflow:global_step/sec: 420.109\n",
      "INFO:tensorflow:loss = 0.000638545, step = 33201 (0.238 sec)\n",
      "INFO:tensorflow:global_step/sec: 502.699\n",
      "INFO:tensorflow:loss = 0.000634789, step = 33301 (0.200 sec)\n",
      "INFO:tensorflow:global_step/sec: 460.496\n",
      "INFO:tensorflow:loss = 0.000630935, step = 33401 (0.216 sec)\n",
      "INFO:tensorflow:global_step/sec: 404.499\n",
      "INFO:tensorflow:loss = 0.000627233, step = 33501 (0.247 sec)\n",
      "INFO:tensorflow:global_step/sec: 394.605\n",
      "INFO:tensorflow:loss = 0.000623735, step = 33601 (0.253 sec)\n",
      "INFO:tensorflow:global_step/sec: 462.565\n",
      "INFO:tensorflow:loss = 0.000620258, step = 33701 (0.216 sec)\n",
      "INFO:tensorflow:global_step/sec: 464.988\n",
      "INFO:tensorflow:loss = 0.000616914, step = 33801 (0.215 sec)\n",
      "INFO:tensorflow:global_step/sec: 371.497\n",
      "INFO:tensorflow:loss = 0.000613708, step = 33901 (0.269 sec)\n",
      "INFO:tensorflow:Saving checkpoints for 34000 into tmp/iris_model\\model.ckpt.\n",
      "INFO:tensorflow:Loss for final step: 0.000609381.\n",
      "INFO:tensorflow:Starting evaluation at 2017-05-13-08:10:57\n",
      "INFO:tensorflow:Restoring parameters from tmp/iris_model\\model.ckpt-34000\n",
      "INFO:tensorflow:Evaluation [1/1]\n",
      "INFO:tensorflow:Finished evaluation at 2017-05-13-08:10:57\n",
      "INFO:tensorflow:Saving dict for global step 34000: accuracy = 0.966667, global_step = 34000, loss = 0.570349\n",
      "WARNING:tensorflow:Skipping summary for global_step, must be a float or np.float32.\n",
      "\n",
      "Test Accuracy: 0.966667\n",
      "\n",
      "INFO:tensorflow:Restoring parameters from tmp/iris_model\\model.ckpt-34000\n",
      "New Samples, Class Predictions:    [1, 2]\n",
      "\n"
     ]
    }
   ],
   "source": [
    "# If the training and test sets aren't stored locally, download them.\n",
    "if not os.path.exists(IRIS_TRAINING):\n",
    "    raw = urlopen(IRIS_TRAINING_URL).read()\n",
    "    with open(IRIS_TRAINING, \"wb\") as f:\n",
    "        f.write(raw)\n",
    "\n",
    "if not os.path.exists(IRIS_TEST):\n",
    "    raw = urlopen(IRIS_TEST_URL).read()\n",
    "    with open(IRIS_TEST, \"wb\") as f:\n",
    "        f.write(raw)\n",
    "\n",
    "# Load datasets.\n",
    "training_set = tf.contrib.learn.datasets.base.load_csv_with_header(\n",
    "    filename=IRIS_TRAINING,\n",
    "    target_dtype=np.int,\n",
    "    features_dtype=np.float32)\n",
    "\n",
    "test_set = tf.contrib.learn.datasets.base.load_csv_with_header(\n",
    "    filename=IRIS_TEST,\n",
    "    target_dtype=np.int,\n",
    "    features_dtype=np.float32)\n",
    "\n",
    "# Specify that all features have real-value data\n",
    "feature_columns = [tf.contrib.layers.real_valued_column(\"\", dimension=4)]\n",
    "\n",
    "# Build 3 layer DNN with 10, 20, 10 units respectively.\n",
    "classifier = tf.contrib.learn.DNNClassifier(\n",
    "    feature_columns=feature_columns,\n",
    "    hidden_units=[10, 20, 10],\n",
    "    n_classes=3,\n",
    "    model_dir=\"tmp/iris_model\")\n",
    "\n",
    "# Fit model.\n",
    "classifier.fit(input_fn=get_train_inputs, steps=2000)\n",
    "\n",
    "# Evaluate accuracy.\n",
    "accuracy_score = classifier.evaluate(input_fn=get_test_inputs, steps=1)[\"accuracy\"]\n",
    "\n",
    "print(\"\\nTest Accuracy: {0:f}\\n\".format(accuracy_score))\n",
    "\n",
    "predictions = list(classifier.predict_classes(input_fn=new_samples))\n",
    "\n",
    "print(\"New Samples, Class Predictions:    {}\\n\".format(predictions))"
   ]
  }
 ],
 "metadata": {
  "anaconda-cloud": {},
  "kernelspec": {
   "display_name": "Python [conda env:tensorflow]",
   "language": "python",
   "name": "conda-env-tensorflow-py"
  },
  "language_info": {
   "codemirror_mode": {
    "name": "ipython",
    "version": 3
   },
   "file_extension": ".py",
   "mimetype": "text/x-python",
   "name": "python",
   "nbconvert_exporter": "python",
   "pygments_lexer": "ipython3",
   "version": "3.5.3"
  }
 },
 "nbformat": 4,
 "nbformat_minor": 2
}
