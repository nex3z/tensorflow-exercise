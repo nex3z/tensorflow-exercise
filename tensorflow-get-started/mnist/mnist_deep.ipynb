{
 "cells": [
  {
   "cell_type": "markdown",
   "metadata": {
    "collapsed": true
   },
   "source": [
    "[MNIST](http://yann.lecun.com/exdb/mnist/) digits recognition by a multilayer convolutional neural network from [Deep MNIST for Experts](https://www.tensorflow.org/get_started/mnist/pros)."
   ]
  },
  {
   "cell_type": "code",
   "execution_count": 1,
   "metadata": {
    "collapsed": true
   },
   "outputs": [],
   "source": [
    "import tensorflow as tf\n",
    "from tensorflow.contrib.learn.python.learn.datasets.mnist import read_data_sets"
   ]
  },
  {
   "cell_type": "code",
   "execution_count": 2,
   "metadata": {},
   "outputs": [
    {
     "name": "stdout",
     "output_type": "stream",
     "text": [
      "Extracting data/mnist\\train-images-idx3-ubyte.gz\n",
      "Extracting data/mnist\\train-labels-idx1-ubyte.gz\n",
      "Extracting data/mnist\\t10k-images-idx3-ubyte.gz\n",
      "Extracting data/mnist\\t10k-labels-idx1-ubyte.gz\n"
     ]
    }
   ],
   "source": [
    "mnist = read_data_sets('data/mnist', one_hot=True)"
   ]
  },
  {
   "cell_type": "code",
   "execution_count": 3,
   "metadata": {
    "collapsed": true
   },
   "outputs": [],
   "source": [
    "def weight_variable(shape):\n",
    "    initial = tf.truncated_normal(shape, stddev=0.1)\n",
    "    return tf.Variable(initial)\n",
    "\n",
    "def bias_variable(shape):\n",
    "    initial = tf.constant(0.1, shape=shape)\n",
    "    return tf.Variable(initial)\n",
    "\n",
    "def conv2d(x, W):\n",
    "    return tf.nn.conv2d(x, W, strides=[1, 1, 1, 1], padding='SAME')\n",
    "\n",
    "def max_pool_2x2(x):\n",
    "    return tf.nn.max_pool(x, ksize=[1, 2, 2, 1], strides=[1, 2, 2, 1], padding='SAME')"
   ]
  },
  {
   "cell_type": "code",
   "execution_count": 4,
   "metadata": {
    "collapsed": true
   },
   "outputs": [],
   "source": [
    "x = tf.placeholder(tf.float32, [None, 784])\n",
    "y_ = tf.placeholder(tf.float32, [None, 10])\n",
    "\n",
    "# First Convolutional Layer\n",
    "W_conv1 = weight_variable([5, 5, 1, 32])\n",
    "b_conv1 = bias_variable([32])\n",
    "x_image = tf.reshape(x, [-1,28,28,1])\n",
    "\n",
    "h_conv1 = tf.nn.relu(conv2d(x_image, W_conv1) + b_conv1)\n",
    "h_pool1 = max_pool_2x2(h_conv1)\n",
    "\n",
    "# Second Convolutional Layer\n",
    "W_conv2 = weight_variable([5, 5, 32, 64])\n",
    "b_conv2 = bias_variable([64])\n",
    "\n",
    "h_conv2 = tf.nn.relu(conv2d(h_pool1, W_conv2) + b_conv2)\n",
    "h_pool2 = max_pool_2x2(h_conv2)\n",
    "\n",
    "# Densely Connected Layer\n",
    "W_fc1 = weight_variable([7 * 7 * 64, 1024])\n",
    "b_fc1 = bias_variable([1024])\n",
    "\n",
    "h_pool2_flat = tf.reshape(h_pool2, [-1, 7*7*64])\n",
    "h_fc1 = tf.nn.relu(tf.matmul(h_pool2_flat, W_fc1) + b_fc1)\n",
    "\n",
    "# Dropout\n",
    "keep_prob = tf.placeholder(tf.float32)\n",
    "h_fc1_drop = tf.nn.dropout(h_fc1, keep_prob)\n",
    "\n",
    "# Readout Layer\n",
    "W_fc2 = weight_variable([1024, 10])\n",
    "b_fc2 = bias_variable([10])\n",
    "\n",
    "y_conv = tf.matmul(h_fc1_drop, W_fc2) + b_fc2\n",
    "\n",
    "# Train\n",
    "cross_entropy = tf.reduce_mean(\n",
    "    tf.nn.softmax_cross_entropy_with_logits(labels=y_, logits=y_conv))\n",
    "train_step = tf.train.AdamOptimizer(1e-4).minimize(cross_entropy)\n",
    "correct_prediction = tf.equal(tf.argmax(y_conv,1), tf.argmax(y_,1))\n",
    "accuracy = tf.reduce_mean(tf.cast(correct_prediction, tf.float32))"
   ]
  },
  {
   "cell_type": "code",
   "execution_count": 5,
   "metadata": {},
   "outputs": [
    {
     "name": "stdout",
     "output_type": "stream",
     "text": [
      "step 0, training accuracy 0.16\n",
      "step 200, training accuracy 0.94\n",
      "step 400, training accuracy 0.94\n",
      "step 600, training accuracy 0.98\n",
      "step 800, training accuracy 1\n",
      "step 1000, training accuracy 0.92\n",
      "step 1200, training accuracy 1\n",
      "step 1400, training accuracy 1\n",
      "step 1600, training accuracy 0.98\n",
      "step 1800, training accuracy 1\n",
      "step 2000, training accuracy 1\n",
      "step 2200, training accuracy 1\n",
      "step 2400, training accuracy 1\n",
      "step 2600, training accuracy 1\n",
      "step 2800, training accuracy 0.96\n",
      "step 3000, training accuracy 0.98\n",
      "step 3200, training accuracy 0.98\n",
      "step 3400, training accuracy 1\n",
      "step 3600, training accuracy 1\n",
      "step 3800, training accuracy 1\n",
      "step 4000, training accuracy 0.98\n",
      "step 4200, training accuracy 1\n",
      "step 4400, training accuracy 1\n",
      "step 4600, training accuracy 1\n",
      "step 4800, training accuracy 0.98\n",
      "step 5000, training accuracy 1\n",
      "step 5200, training accuracy 0.98\n",
      "step 5400, training accuracy 0.98\n",
      "step 5600, training accuracy 1\n",
      "step 5800, training accuracy 0.96\n",
      "step 6000, training accuracy 0.96\n",
      "step 6200, training accuracy 1\n",
      "step 6400, training accuracy 1\n",
      "step 6600, training accuracy 1\n",
      "step 6800, training accuracy 0.98\n",
      "step 7000, training accuracy 1\n",
      "step 7200, training accuracy 0.98\n",
      "step 7400, training accuracy 0.98\n",
      "step 7600, training accuracy 1\n",
      "step 7800, training accuracy 1\n",
      "step 8000, training accuracy 1\n",
      "step 8200, training accuracy 0.98\n",
      "step 8400, training accuracy 1\n",
      "step 8600, training accuracy 1\n",
      "step 8800, training accuracy 1\n",
      "step 9000, training accuracy 1\n",
      "step 9200, training accuracy 0.98\n",
      "step 9400, training accuracy 0.98\n",
      "step 9600, training accuracy 0.98\n",
      "step 9800, training accuracy 1\n",
      "step 10000, training accuracy 1\n",
      "step 10200, training accuracy 1\n",
      "step 10400, training accuracy 1\n",
      "step 10600, training accuracy 0.98\n",
      "step 10800, training accuracy 1\n",
      "step 11000, training accuracy 1\n",
      "step 11200, training accuracy 1\n",
      "step 11400, training accuracy 1\n",
      "step 11600, training accuracy 1\n",
      "step 11800, training accuracy 1\n",
      "step 12000, training accuracy 1\n",
      "step 12200, training accuracy 1\n",
      "step 12400, training accuracy 0.98\n",
      "step 12600, training accuracy 1\n",
      "step 12800, training accuracy 1\n",
      "step 13000, training accuracy 1\n",
      "step 13200, training accuracy 1\n",
      "step 13400, training accuracy 1\n",
      "step 13600, training accuracy 0.98\n",
      "step 13800, training accuracy 1\n",
      "step 14000, training accuracy 1\n",
      "step 14200, training accuracy 1\n",
      "step 14400, training accuracy 1\n",
      "step 14600, training accuracy 1\n",
      "step 14800, training accuracy 1\n",
      "step 15000, training accuracy 1\n",
      "step 15200, training accuracy 0.98\n",
      "step 15400, training accuracy 1\n",
      "step 15600, training accuracy 1\n",
      "step 15800, training accuracy 1\n",
      "step 16000, training accuracy 1\n",
      "step 16200, training accuracy 1\n",
      "step 16400, training accuracy 0.98\n",
      "step 16600, training accuracy 1\n",
      "step 16800, training accuracy 1\n",
      "step 17000, training accuracy 1\n",
      "step 17200, training accuracy 1\n",
      "step 17400, training accuracy 1\n",
      "step 17600, training accuracy 1\n",
      "step 17800, training accuracy 1\n",
      "step 18000, training accuracy 1\n",
      "step 18200, training accuracy 1\n",
      "step 18400, training accuracy 1\n",
      "step 18600, training accuracy 0.98\n",
      "step 18800, training accuracy 1\n",
      "step 19000, training accuracy 1\n",
      "step 19200, training accuracy 1\n",
      "step 19400, training accuracy 1\n",
      "step 19600, training accuracy 1\n",
      "step 19800, training accuracy 1\n",
      "test accuracy 0.9927\n"
     ]
    }
   ],
   "source": [
    "sess = tf.InteractiveSession()\n",
    "sess.run(tf.global_variables_initializer())\n",
    "for i in range(20000):\n",
    "    batch = mnist.train.next_batch(50)\n",
    "    if i%200 == 0:\n",
    "        train_accuracy = accuracy.eval(feed_dict={x:batch[0], y_: batch[1], keep_prob: 1.0})\n",
    "        print(\"step %d, training accuracy %g\"%(i, train_accuracy))\n",
    "    train_step.run(feed_dict={x: batch[0], y_: batch[1], keep_prob: 0.5})\n",
    "\n",
    "print(\"test accuracy %g\"%accuracy.eval(feed_dict={x: mnist.test.images, y_: mnist.test.labels, keep_prob: 1.0}))"
   ]
  }
 ],
 "metadata": {
  "anaconda-cloud": {},
  "kernelspec": {
   "display_name": "Python [conda env:tensorflow]",
   "language": "python",
   "name": "conda-env-tensorflow-py"
  },
  "language_info": {
   "codemirror_mode": {
    "name": "ipython",
    "version": 3
   },
   "file_extension": ".py",
   "mimetype": "text/x-python",
   "name": "python",
   "nbconvert_exporter": "python",
   "pygments_lexer": "ipython3",
   "version": "3.5.3"
  }
 },
 "nbformat": 4,
 "nbformat_minor": 2
}
