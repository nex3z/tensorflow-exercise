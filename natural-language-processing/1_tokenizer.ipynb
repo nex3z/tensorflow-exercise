{
 "cells": [
  {
   "cell_type": "code",
   "execution_count": 1,
   "metadata": {},
   "outputs": [
    {
     "name": "stdout",
     "output_type": "stream",
     "text": [
      "word_index = {'it': 1, 'was': 2, 'the': 3, 'of': 4, 'times': 5, 'best': 6, 'worst': 7}\n",
      "index_word = {1: 'it', 2: 'was', 3: 'the', 4: 'of', 5: 'times', 6: 'best', 7: 'worst'}\n"
     ]
    }
   ],
   "source": [
    "from tensorflow.keras.preprocessing.text import Tokenizer\n",
    "\n",
    "texts = [\n",
    "    \"It was the best of times,\",\n",
    "    \"it was the worst of times,\",\n",
    "]\n",
    "\n",
    "tokenizer = Tokenizer(num_words=50)\n",
    "tokenizer.fit_on_texts(texts)\n",
    "\n",
    "print(\"word_index = {}\".format(tokenizer.word_index))\n",
    "print(\"index_word = {}\".format(tokenizer.index_word))"
   ]
  },
  {
   "cell_type": "code",
   "execution_count": 2,
   "metadata": {},
   "outputs": [
    {
     "name": "stdout",
     "output_type": "stream",
     "text": [
      "word_index = {'we': 1, 'had': 2, 'before': 3, 'us': 4, 'everything': 5, 'nothing': 6, 'were': 7, 'all': 8, 'going': 9, 'direct': 10, 'to': 11, 'heaven': 12}\n",
      "\n",
      "index_word = {1: 'we', 2: 'had', 3: 'before', 4: 'us', 5: 'everything', 6: 'nothing', 7: 'were', 8: 'all', 9: 'going', 10: 'direct', 11: 'to', 12: 'heaven'}\n",
      "\n",
      "seq = [[1, 2, 5, 3, 4], [1, 2, 6, 3, 4], [1, 7, 8, 9, 10, 11, 12]]\n"
     ]
    }
   ],
   "source": [
    "texts = [\n",
    "    \"we had everything before us,\",\n",
    "    \"we had nothing before us,\",\n",
    "    \"we were all going direct to Heaven,\",\n",
    "]\n",
    "\n",
    "tokenizer = Tokenizer(num_words=50)\n",
    "tokenizer.fit_on_texts(texts)\n",
    "print(\"word_index = {}\\n\".format(tokenizer.word_index))\n",
    "print(\"index_word = {}\\n\".format(tokenizer.index_word))\n",
    "\n",
    "seq = tokenizer.texts_to_sequences(texts)\n",
    "print(\"seq = {}\".format(seq))"
   ]
  },
  {
   "cell_type": "code",
   "execution_count": 3,
   "metadata": {},
   "outputs": [
    {
     "data": {
      "text/plain": [
       "[[1, 7, 8, 9, 10]]"
      ]
     },
     "execution_count": 3,
     "metadata": {},
     "output_type": "execute_result"
    }
   ],
   "source": [
    "tokenizer.texts_to_sequences([\"we were all going direct the other way\"])"
   ]
  },
  {
   "cell_type": "code",
   "execution_count": 4,
   "metadata": {},
   "outputs": [
    {
     "name": "stdout",
     "output_type": "stream",
     "text": [
      "word_index = {'<OOV>': 1, 'we': 2, 'had': 3, 'before': 4, 'us': 5, 'everything': 6, 'nothing': 7, 'were': 8, 'all': 9, 'going': 10, 'direct': 11, 'to': 12, 'heaven': 13}\n",
      "seq = [[2, 3, 6, 4, 5], [2, 3, 7, 4, 5], [2, 8, 9, 10, 11, 12, 13]]\n"
     ]
    }
   ],
   "source": [
    "texts = [\n",
    "    \"we had everything before us,\",\n",
    "    \"we had nothing before us,\",\n",
    "    \"we were all going direct to Heaven,\",\n",
    "]\n",
    "\n",
    "tokenizer = Tokenizer(num_words=50, oov_token=\"<OOV>\")\n",
    "tokenizer.fit_on_texts(texts)\n",
    "print(\"word_index = {}\".format(tokenizer.word_index))\n",
    "\n",
    "seq = tokenizer.texts_to_sequences(texts)\n",
    "print(\"seq = {}\".format(seq))"
   ]
  },
  {
   "cell_type": "code",
   "execution_count": 5,
   "metadata": {},
   "outputs": [
    {
     "data": {
      "text/plain": [
       "[[2, 8, 9, 10, 11, 1, 1, 1]]"
      ]
     },
     "execution_count": 5,
     "metadata": {},
     "output_type": "execute_result"
    }
   ],
   "source": [
    "tokenizer.texts_to_sequences([\"we were all going direct the other way\"])"
   ]
  },
  {
   "cell_type": "code",
   "execution_count": 6,
   "metadata": {},
   "outputs": [
    {
     "name": "stdout",
     "output_type": "stream",
     "text": [
      "seq = [[2, 3, 6, 4, 5], [2, 3, 7, 4, 5], [2, 8, 9, 10, 11, 12, 13]]\n",
      "padded = \n",
      "[[ 0  0  2  3  6  4  5]\n",
      " [ 0  0  2  3  7  4  5]\n",
      " [ 2  8  9 10 11 12 13]]\n"
     ]
    }
   ],
   "source": [
    "from tensorflow.keras.preprocessing.sequence import pad_sequences\n",
    "\n",
    "seq = tokenizer.texts_to_sequences(texts)\n",
    "print(\"seq = {}\".format(seq))\n",
    "\n",
    "padded = pad_sequences(seq)\n",
    "print(\"padded = \\n{}\".format(padded))"
   ]
  },
  {
   "cell_type": "code",
   "execution_count": 7,
   "metadata": {},
   "outputs": [
    {
     "name": "stdout",
     "output_type": "stream",
     "text": [
      "padded = \n",
      "[[ 2  3  6  4  5  0]\n",
      " [ 2  3  7  4  5  0]\n",
      " [ 8  9 10 11 12 13]]\n"
     ]
    }
   ],
   "source": [
    "padded = pad_sequences(seq, padding='post', maxlen=6)\n",
    "print(\"padded = \\n{}\".format(padded))"
   ]
  },
  {
   "cell_type": "code",
   "execution_count": 8,
   "metadata": {},
   "outputs": [
    {
     "name": "stdout",
     "output_type": "stream",
     "text": [
      "padded = \n",
      "[[ 2  3  6  4  5  0]\n",
      " [ 2  3  7  4  5  0]\n",
      " [ 2  8  9 10 11 12]]\n"
     ]
    }
   ],
   "source": [
    "padded = pad_sequences(seq, padding='post', maxlen=6, truncating='post')\n",
    "print(\"padded = \\n{}\".format(padded))"
   ]
  }
 ],
 "metadata": {
  "kernelspec": {
   "display_name": "Python 3",
   "language": "python",
   "name": "python3"
  },
  "language_info": {
   "codemirror_mode": {
    "name": "ipython",
    "version": 3
   },
   "file_extension": ".py",
   "mimetype": "text/x-python",
   "name": "python",
   "nbconvert_exporter": "python",
   "pygments_lexer": "ipython3",
   "version": "3.7.4"
  }
 },
 "nbformat": 4,
 "nbformat_minor": 4
}
