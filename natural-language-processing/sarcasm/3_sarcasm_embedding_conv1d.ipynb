{
 "cells": [
  {
   "cell_type": "code",
   "execution_count": 1,
   "metadata": {
    "colab": {},
    "colab_type": "code",
    "id": "DJnWaLBtO0Lt"
   },
   "outputs": [],
   "source": [
    "%matplotlib inline\n",
    "import tensorflow as tf"
   ]
  },
  {
   "cell_type": "code",
   "execution_count": 2,
   "metadata": {
    "colab": {},
    "colab_type": "code",
    "id": "xfqnd8zhO0L2"
   },
   "outputs": [],
   "source": [
    "# !kaggle datasets download -d rmisra/news-headlines-dataset-for-sarcasm-detection -p ./data\n",
    "\n",
    "# import zipfile\n",
    "\n",
    "# with zipfile.ZipFile('./data/news-headlines-dataset-for-sarcasm-detection.zip', 'r') as zip_ref:\n",
    "#     zip_ref.extractall('./data')"
   ]
  },
  {
   "cell_type": "code",
   "execution_count": 3,
   "metadata": {
    "colab": {},
    "colab_type": "code",
    "id": "Ct-gfB3GO0MS"
   },
   "outputs": [],
   "source": [
    "import json\n",
    "\n",
    "with open('./data/Sarcasm_Headlines_Dataset.json', 'r') as f:\n",
    "    lines = f.readlines()\n",
    "    \n",
    "records = [json.loads(line) for line in lines]\n",
    "sentences = [record['headline'] for record in records]\n",
    "labels = [record['is_sarcastic'] for record in records]"
   ]
  },
  {
   "cell_type": "code",
   "execution_count": 4,
   "metadata": {
    "colab": {},
    "colab_type": "code",
    "id": "DPtl2JiZO0MX"
   },
   "outputs": [],
   "source": [
    "TRAIN_SIZE = 20000\n",
    "VOCAB_SIZE = 1000\n",
    "OOV_TOKEN = '<OOV>'\n",
    "MAX_LEN = 120\n",
    "PADDING = 'post'\n",
    "TRUNCATING = 'post'\n",
    "EMBEDDING_DIM = 16\n",
    "NUM_EPOCH = 10"
   ]
  },
  {
   "cell_type": "code",
   "execution_count": 5,
   "metadata": {
    "colab": {},
    "colab_type": "code",
    "id": "lLCw1vT2O0Ma"
   },
   "outputs": [],
   "source": [
    "train_sentences = sentences[:TRAIN_SIZE]\n",
    "train_labels = labels[:TRAIN_SIZE]\n",
    "\n",
    "test_sentences = sentences[TRAIN_SIZE:]\n",
    "test_labels = labels[TRAIN_SIZE:]"
   ]
  },
  {
   "cell_type": "code",
   "execution_count": 6,
   "metadata": {
    "colab": {},
    "colab_type": "code",
    "id": "vA1zPXZXO0Mw"
   },
   "outputs": [],
   "source": [
    "from tensorflow.keras.preprocessing.text import Tokenizer\n",
    "\n",
    "tokenizer = Tokenizer(num_words=VOCAB_SIZE, oov_token=OOV_TOKEN)\n",
    "tokenizer.fit_on_texts(train_sentences)\n",
    "word_index = tokenizer.word_index"
   ]
  },
  {
   "cell_type": "code",
   "execution_count": 7,
   "metadata": {
    "colab": {},
    "colab_type": "code",
    "id": "c36OQgVqO0M0"
   },
   "outputs": [],
   "source": [
    "from tensorflow.keras.preprocessing.sequence import pad_sequences\n",
    "\n",
    "train_sequences = tokenizer.texts_to_sequences(train_sentences)\n",
    "train_sequences = pad_sequences(train_sequences, maxlen=MAX_LEN, padding=PADDING, truncating=TRUNCATING)\n",
    "\n",
    "test_sequences = tokenizer.texts_to_sequences(test_sentences)\n",
    "test_sequences = pad_sequences(test_sequences, maxlen=MAX_LEN, padding=PADDING, truncating=TRUNCATING)"
   ]
  },
  {
   "cell_type": "code",
   "execution_count": 8,
   "metadata": {
    "colab": {},
    "colab_type": "code",
    "id": "f8rjrd9GO0M4"
   },
   "outputs": [],
   "source": [
    "from tensorflow.keras.models import Sequential\n",
    "from tensorflow.keras.layers import Embedding, Conv1D, GlobalAveragePooling1D, Dense\n",
    "\n",
    "model = Sequential([\n",
    "    Embedding(VOCAB_SIZE, EMBEDDING_DIM, input_length=MAX_LEN),\n",
    "    Conv1D(128, 5, activation='relu'),\n",
    "    GlobalAveragePooling1D(),\n",
    "    Dense(24, activation='relu'),\n",
    "    Dense(1, activation='sigmoid')\n",
    "])\n",
    "\n",
    "model.compile(loss='binary_crossentropy', optimizer='adam', metrics=['accuracy'])"
   ]
  },
  {
   "cell_type": "code",
   "execution_count": 9,
   "metadata": {
    "colab": {
     "base_uri": "https://localhost:8080/",
     "height": 323
    },
    "colab_type": "code",
    "executionInfo": {
     "elapsed": 2981,
     "status": "ok",
     "timestamp": 1565690880608,
     "user": {
      "displayName": "Tx Li",
      "photoUrl": "https://lh4.googleusercontent.com/-ylRQzkZBGw4/AAAAAAAAAAI/AAAAAAAAAIc/U_cuUeU9rME/s64/photo.jpg",
      "userId": "07635813893329817116"
     },
     "user_tz": -480
    },
    "id": "FOwB0pNaO0NA",
    "outputId": "55816dc1-5d68-4470-ab43-3f739c6b23bf"
   },
   "outputs": [
    {
     "name": "stdout",
     "output_type": "stream",
     "text": [
      "Model: \"sequential\"\n",
      "_________________________________________________________________\n",
      "Layer (type)                 Output Shape              Param #   \n",
      "=================================================================\n",
      "embedding (Embedding)        (None, 120, 16)           16000     \n",
      "_________________________________________________________________\n",
      "conv1d (Conv1D)              (None, 116, 128)          10368     \n",
      "_________________________________________________________________\n",
      "global_average_pooling1d (Gl (None, 128)               0         \n",
      "_________________________________________________________________\n",
      "dense (Dense)                (None, 24)                3096      \n",
      "_________________________________________________________________\n",
      "dense_1 (Dense)              (None, 1)                 25        \n",
      "=================================================================\n",
      "Total params: 29,489\n",
      "Trainable params: 29,489\n",
      "Non-trainable params: 0\n",
      "_________________________________________________________________\n"
     ]
    }
   ],
   "source": [
    "model.summary()"
   ]
  },
  {
   "cell_type": "code",
   "execution_count": 10,
   "metadata": {
    "colab": {
     "base_uri": "https://localhost:8080/",
     "height": 462
    },
    "colab_type": "code",
    "executionInfo": {
     "elapsed": 58693,
     "status": "ok",
     "timestamp": 1565690936331,
     "user": {
      "displayName": "Tx Li",
      "photoUrl": "https://lh4.googleusercontent.com/-ylRQzkZBGw4/AAAAAAAAAAI/AAAAAAAAAIc/U_cuUeU9rME/s64/photo.jpg",
      "userId": "07635813893329817116"
     },
     "user_tz": -480
    },
    "id": "yjGz1eykO0NJ",
    "outputId": "d17214f5-2e10-4425-9d72-163e3b35cc5f"
   },
   "outputs": [
    {
     "name": "stderr",
     "output_type": "stream",
     "text": [
      "WARNING: Logging before flag parsing goes to stderr.\n",
      "W0813 13:04:06.522467 13120 deprecation.py:323] From d:\\Dev\\Miniconda3\\envs\\tf\\lib\\site-packages\\tensorflow\\python\\ops\\math_grad.py:1250: add_dispatch_support.<locals>.wrapper (from tensorflow.python.ops.array_ops) is deprecated and will be removed in a future version.\n",
      "Instructions for updating:\n",
      "Use tf.where in 2.0, which has the same broadcast rule as np.where\n"
     ]
    },
    {
     "name": "stdout",
     "output_type": "stream",
     "text": [
      "Train on 20000 samples, validate on 6709 samples\n",
      "Epoch 1/10\n",
      "20000/20000 [==============================] - 4s 203us/sample - loss: 0.5510 - accuracy: 0.7056 - val_loss: 0.4485 - val_accuracy: 0.7876\n",
      "Epoch 2/10\n",
      "20000/20000 [==============================] - 4s 205us/sample - loss: 0.4040 - accuracy: 0.8111 - val_loss: 0.4154 - val_accuracy: 0.8050\n",
      "Epoch 3/10\n",
      "20000/20000 [==============================] - 4s 202us/sample - loss: 0.3702 - accuracy: 0.8314 - val_loss: 0.3994 - val_accuracy: 0.8174\n",
      "Epoch 4/10\n",
      "20000/20000 [==============================] - 4s 200us/sample - loss: 0.3506 - accuracy: 0.8415 - val_loss: 0.3938 - val_accuracy: 0.8223\n",
      "Epoch 5/10\n",
      "20000/20000 [==============================] - 4s 206us/sample - loss: 0.3346 - accuracy: 0.8512 - val_loss: 0.3891 - val_accuracy: 0.8256\n",
      "Epoch 6/10\n",
      "20000/20000 [==============================] - 4s 197us/sample - loss: 0.3224 - accuracy: 0.8543 - val_loss: 0.3933 - val_accuracy: 0.8240\n",
      "Epoch 7/10\n",
      "20000/20000 [==============================] - 4s 191us/sample - loss: 0.3123 - accuracy: 0.8608 - val_loss: 0.3911 - val_accuracy: 0.8262\n",
      "Epoch 8/10\n",
      "20000/20000 [==============================] - 4s 195us/sample - loss: 0.3044 - accuracy: 0.8657 - val_loss: 0.3995 - val_accuracy: 0.8240\n",
      "Epoch 9/10\n",
      "20000/20000 [==============================] - 4s 198us/sample - loss: 0.2977 - accuracy: 0.8677 - val_loss: 0.3964 - val_accuracy: 0.8267\n",
      "Epoch 10/10\n",
      "20000/20000 [==============================] - 4s 209us/sample - loss: 0.2911 - accuracy: 0.8709 - val_loss: 0.4010 - val_accuracy: 0.8259\n"
     ]
    }
   ],
   "source": [
    "history = model.fit(train_sequences, train_labels, epochs=NUM_EPOCH, \n",
    "                    validation_data=(test_sequences, test_labels), verbose=1)"
   ]
  },
  {
   "cell_type": "code",
   "execution_count": 11,
   "metadata": {
    "colab": {
     "base_uri": "https://localhost:8080/",
     "height": 269
    },
    "colab_type": "code",
    "executionInfo": {
     "elapsed": 58682,
     "status": "ok",
     "timestamp": 1565690936332,
     "user": {
      "displayName": "Tx Li",
      "photoUrl": "https://lh4.googleusercontent.com/-ylRQzkZBGw4/AAAAAAAAAAI/AAAAAAAAAIc/U_cuUeU9rME/s64/photo.jpg",
      "userId": "07635813893329817116"
     },
     "user_tz": -480
    },
    "id": "-U--GdVjO0NQ",
    "outputId": "2457138a-47f2-4c3e-a115-4ea4954a76c1"
   },
   "outputs": [
    {
     "data": {
      "image/png": "[encoded data removed]",
      "text/plain": [
       "<Figure size 864x288 with 2 Axes>"
      ]
     },
     "metadata": {
      "needs_background": "light"
     },
     "output_type": "display_data"
    }
   ],
   "source": [
    "from util import plot_history\n",
    "\n",
    "plot_history(history)"
   ]
  }
 ],
 "metadata": {
  "accelerator": "GPU",
  "colab": {
   "collapsed_sections": [],
   "name": "3_sarcasm_embedding_conv1d.ipynb",
   "provenance": [],
   "version": "0.3.2"
  },
  "kernelspec": {
   "display_name": "Python 3",
   "language": "python",
   "name": "python3"
  },
  "language_info": {
   "codemirror_mode": {
    "name": "ipython",
    "version": 3
   },
   "file_extension": ".py",
   "mimetype": "text/x-python",
   "name": "python",
   "nbconvert_exporter": "python",
   "pygments_lexer": "ipython3",
   "version": "3.7.4"
  }
 },
 "nbformat": 4,
 "nbformat_minor": 4
}
