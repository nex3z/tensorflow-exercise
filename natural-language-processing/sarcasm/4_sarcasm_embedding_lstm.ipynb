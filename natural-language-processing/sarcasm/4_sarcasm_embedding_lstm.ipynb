{
 "cells": [
  {
   "cell_type": "code",
   "execution_count": 1,
   "metadata": {
    "colab": {},
    "colab_type": "code",
    "id": "DJnWaLBtO0Lt"
   },
   "outputs": [],
   "source": [
    "%matplotlib inline\n",
    "import tensorflow as tf"
   ]
  },
  {
   "cell_type": "code",
   "execution_count": 2,
   "metadata": {
    "colab": {},
    "colab_type": "code",
    "id": "xfqnd8zhO0L2"
   },
   "outputs": [],
   "source": [
    "# !kaggle datasets download -d rmisra/news-headlines-dataset-for-sarcasm-detection -p ./data\n",
    "\n",
    "# import zipfile\n",
    "\n",
    "# with zipfile.ZipFile('./data/news-headlines-dataset-for-sarcasm-detection.zip', 'r') as zip_ref:\n",
    "#     zip_ref.extractall('./data')"
   ]
  },
  {
   "cell_type": "code",
   "execution_count": 3,
   "metadata": {
    "colab": {},
    "colab_type": "code",
    "id": "Ct-gfB3GO0MS"
   },
   "outputs": [],
   "source": [
    "import json\n",
    "\n",
    "with open('./data/Sarcasm_Headlines_Dataset.json', 'r') as f:\n",
    "    lines = f.readlines()\n",
    "    \n",
    "records = [json.loads(line) for line in lines]\n",
    "sentences = [record['headline'] for record in records]\n",
    "labels = [record['is_sarcastic'] for record in records]"
   ]
  },
  {
   "cell_type": "code",
   "execution_count": 4,
   "metadata": {
    "colab": {},
    "colab_type": "code",
    "id": "DPtl2JiZO0MX"
   },
   "outputs": [],
   "source": [
    "TRAIN_SIZE = 20000\n",
    "VOCAB_SIZE = 1000\n",
    "OOV_TOKEN = '<OOV>'\n",
    "MAX_LEN = 120\n",
    "PADDING = 'post'\n",
    "TRUNCATING = 'post'\n",
    "EMBEDDING_DIM = 16\n",
    "NUM_EPOCH = 10"
   ]
  },
  {
   "cell_type": "code",
   "execution_count": 5,
   "metadata": {
    "colab": {},
    "colab_type": "code",
    "id": "lLCw1vT2O0Ma"
   },
   "outputs": [],
   "source": [
    "train_sentences = sentences[:TRAIN_SIZE]\n",
    "train_labels = labels[:TRAIN_SIZE]\n",
    "\n",
    "test_sentences = sentences[TRAIN_SIZE:]\n",
    "test_labels = labels[TRAIN_SIZE:]"
   ]
  },
  {
   "cell_type": "code",
   "execution_count": 6,
   "metadata": {
    "colab": {},
    "colab_type": "code",
    "id": "vA1zPXZXO0Mw"
   },
   "outputs": [],
   "source": [
    "from tensorflow.keras.preprocessing.text import Tokenizer\n",
    "\n",
    "tokenizer = Tokenizer(num_words=VOCAB_SIZE, oov_token=OOV_TOKEN)\n",
    "tokenizer.fit_on_texts(train_sentences)\n",
    "word_index = tokenizer.word_index"
   ]
  },
  {
   "cell_type": "code",
   "execution_count": 7,
   "metadata": {
    "colab": {},
    "colab_type": "code",
    "id": "c36OQgVqO0M0"
   },
   "outputs": [],
   "source": [
    "from tensorflow.keras.preprocessing.sequence import pad_sequences\n",
    "\n",
    "train_sequences = tokenizer.texts_to_sequences(train_sentences)\n",
    "train_sequences = pad_sequences(train_sequences, maxlen=MAX_LEN, padding=PADDING, truncating=TRUNCATING)\n",
    "\n",
    "test_sequences = tokenizer.texts_to_sequences(test_sentences)\n",
    "test_sequences = pad_sequences(test_sequences, maxlen=MAX_LEN, padding=PADDING, truncating=TRUNCATING)"
   ]
  },
  {
   "cell_type": "code",
   "execution_count": 8,
   "metadata": {
    "colab": {},
    "colab_type": "code",
    "id": "f8rjrd9GO0M4"
   },
   "outputs": [],
   "source": [
    "from tensorflow.keras.models import Sequential\n",
    "from tensorflow.keras.layers import Embedding, Bidirectional, LSTM, Dense\n",
    "\n",
    "model = Sequential([\n",
    "    Embedding(VOCAB_SIZE, EMBEDDING_DIM, input_length=MAX_LEN),\n",
    "    Bidirectional(LSTM(32)),\n",
    "    Dense(24, activation='relu'),\n",
    "    Dense(1, activation='sigmoid')\n",
    "])\n",
    "\n",
    "model.compile(loss='binary_crossentropy', optimizer='adam', metrics=['accuracy'])"
   ]
  },
  {
   "cell_type": "code",
   "execution_count": 9,
   "metadata": {
    "colab": {
     "base_uri": "https://localhost:8080/",
     "height": 289
    },
    "colab_type": "code",
    "executionInfo": {
     "elapsed": 5370,
     "status": "ok",
     "timestamp": 1565691383152,
     "user": {
      "displayName": "Tx Li",
      "photoUrl": "https://lh4.googleusercontent.com/-ylRQzkZBGw4/AAAAAAAAAAI/AAAAAAAAAIc/U_cuUeU9rME/s64/photo.jpg",
      "userId": "07635813893329817116"
     },
     "user_tz": -480
    },
    "id": "FOwB0pNaO0NA",
    "outputId": "39a1368d-6805-4eca-98fe-18f15f012cef"
   },
   "outputs": [
    {
     "name": "stdout",
     "output_type": "stream",
     "text": [
      "Model: \"sequential\"\n",
      "_________________________________________________________________\n",
      "Layer (type)                 Output Shape              Param #   \n",
      "=================================================================\n",
      "embedding (Embedding)        (None, 120, 16)           16000     \n",
      "_________________________________________________________________\n",
      "bidirectional (Bidirectional (None, 64)                12544     \n",
      "_________________________________________________________________\n",
      "dense (Dense)                (None, 24)                1560      \n",
      "_________________________________________________________________\n",
      "dense_1 (Dense)              (None, 1)                 25        \n",
      "=================================================================\n",
      "Total params: 30,129\n",
      "Trainable params: 30,129\n",
      "Non-trainable params: 0\n",
      "_________________________________________________________________\n"
     ]
    }
   ],
   "source": [
    "model.summary()"
   ]
  },
  {
   "cell_type": "code",
   "execution_count": 10,
   "metadata": {
    "colab": {
     "base_uri": "https://localhost:8080/",
     "height": 462
    },
    "colab_type": "code",
    "executionInfo": {
     "elapsed": 421616,
     "status": "ok",
     "timestamp": 1565691799409,
     "user": {
      "displayName": "Tx Li",
      "photoUrl": "https://lh4.googleusercontent.com/-ylRQzkZBGw4/AAAAAAAAAAI/AAAAAAAAAIc/U_cuUeU9rME/s64/photo.jpg",
      "userId": "07635813893329817116"
     },
     "user_tz": -480
    },
    "id": "yjGz1eykO0NJ",
    "outputId": "0246a4a7-c296-46e9-b14f-9938fdc460af"
   },
   "outputs": [
    {
     "name": "stderr",
     "output_type": "stream",
     "text": [
      "WARNING: Logging before flag parsing goes to stderr.\n",
      "W0813 21:06:50.149638 12420 deprecation.py:323] From d:\\Dev\\Miniconda3\\envs\\tf\\lib\\site-packages\\tensorflow\\python\\ops\\math_grad.py:1250: add_dispatch_support.<locals>.wrapper (from tensorflow.python.ops.array_ops) is deprecated and will be removed in a future version.\n",
      "Instructions for updating:\n",
      "Use tf.where in 2.0, which has the same broadcast rule as np.where\n"
     ]
    },
    {
     "name": "stdout",
     "output_type": "stream",
     "text": [
      "Train on 20000 samples, validate on 6709 samples\n",
      "Epoch 1/10\n",
      "20000/20000 [==============================] - 40s 2ms/sample - loss: 0.4605 - accuracy: 0.7679 - val_loss: 0.3890 - val_accuracy: 0.8210\n",
      "Epoch 2/10\n",
      "20000/20000 [==============================] - 36s 2ms/sample - loss: 0.3581 - accuracy: 0.8353 - val_loss: 0.3806 - val_accuracy: 0.8252\n",
      "Epoch 3/10\n",
      "20000/20000 [==============================] - 36s 2ms/sample - loss: 0.3357 - accuracy: 0.8483 - val_loss: 0.3707 - val_accuracy: 0.8304\n",
      "Epoch 4/10\n",
      "20000/20000 [==============================] - 36s 2ms/sample - loss: 0.3215 - accuracy: 0.8570 - val_loss: 0.3685 - val_accuracy: 0.8304\n",
      "Epoch 5/10\n",
      "20000/20000 [==============================] - 37s 2ms/sample - loss: 0.3097 - accuracy: 0.8622 - val_loss: 0.3812 - val_accuracy: 0.8278\n",
      "Epoch 6/10\n",
      "20000/20000 [==============================] - 35s 2ms/sample - loss: 0.3034 - accuracy: 0.8656 - val_loss: 0.3773 - val_accuracy: 0.8319\n",
      "Epoch 7/10\n",
      "20000/20000 [==============================] - 35s 2ms/sample - loss: 0.2948 - accuracy: 0.8686 - val_loss: 0.3803 - val_accuracy: 0.8293\n",
      "Epoch 8/10\n",
      "20000/20000 [==============================] - 35s 2ms/sample - loss: 0.2860 - accuracy: 0.8735 - val_loss: 0.3832 - val_accuracy: 0.8307\n",
      "Epoch 9/10\n",
      "20000/20000 [==============================] - 35s 2ms/sample - loss: 0.2780 - accuracy: 0.8795 - val_loss: 0.3873 - val_accuracy: 0.8317\n",
      "Epoch 10/10\n",
      "20000/20000 [==============================] - 35s 2ms/sample - loss: 0.2688 - accuracy: 0.8822 - val_loss: 0.3921 - val_accuracy: 0.8293\n"
     ]
    }
   ],
   "source": [
    "history = model.fit(train_sequences, train_labels, epochs=NUM_EPOCH, \n",
    "                    validation_data=(test_sequences, test_labels), verbose=1)"
   ]
  },
  {
   "cell_type": "code",
   "execution_count": 11,
   "metadata": {
    "colab": {
     "base_uri": "https://localhost:8080/",
     "height": 269
    },
    "colab_type": "code",
    "executionInfo": {
     "elapsed": 421609,
     "status": "ok",
     "timestamp": 1565691799413,
     "user": {
      "displayName": "Tx Li",
      "photoUrl": "https://lh4.googleusercontent.com/-ylRQzkZBGw4/AAAAAAAAAAI/AAAAAAAAAIc/U_cuUeU9rME/s64/photo.jpg",
      "userId": "07635813893329817116"
     },
     "user_tz": -480
    },
    "id": "-U--GdVjO0NQ",
    "outputId": "e74f279e-3df2-4e4f-b7a6-0f4ed68d48f1"
   },
   "outputs": [
    {
     "data": {
      "image/png": "[encoded data removed]",
      "text/plain": [
       "<Figure size 864x288 with 2 Axes>"
      ]
     },
     "metadata": {
      "needs_background": "light"
     },
     "output_type": "display_data"
    }
   ],
   "source": [
    "from util import plot_history\n",
    "\n",
    "plot_history(history)"
   ]
  }
 ],
 "metadata": {
  "accelerator": "GPU",
  "colab": {
   "collapsed_sections": [],
   "name": "4_sarcasm_embedding_lstm.ipynb",
   "provenance": [],
   "version": "0.3.2"
  },
  "kernelspec": {
   "display_name": "Python 3",
   "language": "python",
   "name": "python3"
  },
  "language_info": {
   "codemirror_mode": {
    "name": "ipython",
    "version": 3
   },
   "file_extension": ".py",
   "mimetype": "text/x-python",
   "name": "python",
   "nbconvert_exporter": "python",
   "pygments_lexer": "ipython3",
   "version": "3.7.4"
  }
 },
 "nbformat": 4,
 "nbformat_minor": 4
}
