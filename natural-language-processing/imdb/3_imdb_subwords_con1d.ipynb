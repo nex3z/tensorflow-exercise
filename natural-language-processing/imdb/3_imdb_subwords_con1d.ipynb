{
 "cells": [
  {
   "cell_type": "code",
   "execution_count": 1,
   "metadata": {
    "colab": {},
    "colab_type": "code",
    "id": "7qa343tB_sYC"
   },
   "outputs": [],
   "source": [
    "%matplotlib inline\n",
    "import tensorflow as tf"
   ]
  },
  {
   "cell_type": "code",
   "execution_count": 2,
   "metadata": {
    "colab": {
     "base_uri": "https://localhost:8080/",
     "height": 71
    },
    "colab_type": "code",
    "executionInfo": {
     "elapsed": 3106,
     "status": "ok",
     "timestamp": 1565692534024,
     "user": {
      "displayName": "Tx Li",
      "photoUrl": "https://lh4.googleusercontent.com/-ylRQzkZBGw4/AAAAAAAAAAI/AAAAAAAAAIc/U_cuUeU9rME/s64/photo.jpg",
      "userId": "07635813893329817116"
     },
     "user_tz": -480
    },
    "id": "2PtwMv8d92Sh",
    "outputId": "67b2cd3b-a5f6-4c83-9f95-46a535434b6c"
   },
   "outputs": [
    {
     "name": "stderr",
     "output_type": "stream",
     "text": [
      "WARNING: Logging before flag parsing goes to stderr.\n",
      "W0814 20:04:29.697090 11624 dataset_builder.py:439] Warning: Setting shuffle_files=True because split=TRAIN and shuffle_files=None. This behavior will be deprecated on 2019-08-06, at which point shuffle_files=False will be the default for all splits.\n"
     ]
    }
   ],
   "source": [
    "import tensorflow_datasets as tfds\n",
    "\n",
    "imdb, info = tfds.load('imdb_reviews/subwords8k', with_info=True, as_supervised=True)\n",
    "train_data, test_data = imdb['train'], imdb['test']\n",
    "tokenizer = info.features['text'].encoder"
   ]
  },
  {
   "cell_type": "code",
   "execution_count": 3,
   "metadata": {
    "colab": {},
    "colab_type": "code",
    "id": "Z0EmJCGA92Su"
   },
   "outputs": [],
   "source": [
    "BUFFER_SIZE = 10000\n",
    "BATCH_SIZE = 64\n",
    "EMBEDDING_DIM = 64\n",
    "NUM_EPOCH = 10"
   ]
  },
  {
   "cell_type": "code",
   "execution_count": 4,
   "metadata": {
    "colab": {},
    "colab_type": "code",
    "id": "WpPs5mEO92Sw"
   },
   "outputs": [],
   "source": [
    "train_dataset = train_data.shuffle(BUFFER_SIZE)\\\n",
    "    .padded_batch(BATCH_SIZE, train_data.output_shapes)\n",
    "test_dataset = test_data.padded_batch(BATCH_SIZE, test_data.output_shapes)"
   ]
  },
  {
   "cell_type": "code",
   "execution_count": 5,
   "metadata": {
    "colab": {},
    "colab_type": "code",
    "id": "HYXSJrxk92Sz"
   },
   "outputs": [],
   "source": [
    "from tensorflow.keras.models import Sequential\n",
    "from tensorflow.keras.layers import Embedding, Conv1D, GlobalAveragePooling1D, Dense\n",
    "\n",
    "model = Sequential([\n",
    "    Embedding(tokenizer.vocab_size, EMBEDDING_DIM),\n",
    "    Conv1D(128, 5, activation='relu'),\n",
    "    GlobalAveragePooling1D(),\n",
    "    Dense(64, activation='relu'),\n",
    "    Dense(1, activation='sigmoid')\n",
    "])\n",
    "\n",
    "model.compile(loss='binary_crossentropy', optimizer='adam', metrics=['accuracy'])"
   ]
  },
  {
   "cell_type": "code",
   "execution_count": 6,
   "metadata": {
    "colab": {
     "base_uri": "https://localhost:8080/",
     "height": 323
    },
    "colab_type": "code",
    "executionInfo": {
     "elapsed": 3558,
     "status": "ok",
     "timestamp": 1565692534493,
     "user": {
      "displayName": "Tx Li",
      "photoUrl": "https://lh4.googleusercontent.com/-ylRQzkZBGw4/AAAAAAAAAAI/AAAAAAAAAIc/U_cuUeU9rME/s64/photo.jpg",
      "userId": "07635813893329817116"
     },
     "user_tz": -480
    },
    "id": "AFrJ3PXP92S1",
    "outputId": "a537e5ac-d5a9-494b-e22f-cb626ea41614"
   },
   "outputs": [
    {
     "name": "stdout",
     "output_type": "stream",
     "text": [
      "Model: \"sequential\"\n",
      "_________________________________________________________________\n",
      "Layer (type)                 Output Shape              Param #   \n",
      "=================================================================\n",
      "embedding (Embedding)        (None, None, 64)          523840    \n",
      "_________________________________________________________________\n",
      "conv1d (Conv1D)              (None, None, 128)         41088     \n",
      "_________________________________________________________________\n",
      "global_average_pooling1d (Gl (None, 128)               0         \n",
      "_________________________________________________________________\n",
      "dense (Dense)                (None, 64)                8256      \n",
      "_________________________________________________________________\n",
      "dense_1 (Dense)              (None, 1)                 65        \n",
      "=================================================================\n",
      "Total params: 573,249\n",
      "Trainable params: 573,249\n",
      "Non-trainable params: 0\n",
      "_________________________________________________________________\n"
     ]
    }
   ],
   "source": [
    "model.summary()"
   ]
  },
  {
   "cell_type": "code",
   "execution_count": 7,
   "metadata": {},
   "outputs": [],
   "source": [
    "from tensorflow.keras.callbacks import Callback\n",
    "\n",
    "class Logger(Callback):\n",
    "    def on_epoch_end(self, epoch, logs=None):\n",
    "        print(\"epoch: {} - {}\".format(epoch + 1, logs))"
   ]
  },
  {
   "cell_type": "code",
   "execution_count": 8,
   "metadata": {},
   "outputs": [
    {
     "name": "stderr",
     "output_type": "stream",
     "text": [
      "W0814 20:04:31.097046 11624 deprecation.py:323] From d:\\Dev\\Miniconda3\\envs\\tf2\\lib\\site-packages\\tensorflow\\python\\ops\\math_grad.py:1250: add_dispatch_support.<locals>.wrapper (from tensorflow.python.ops.array_ops) is deprecated and will be removed in a future version.\n",
      "Instructions for updating:\n",
      "Use tf.where in 2.0, which has the same broadcast rule as np.where\n"
     ]
    },
    {
     "name": "stdout",
     "output_type": "stream",
     "text": [
      "epoch: 1 - {'loss': 0.4606696817111969, 'accuracy': 0.77296, 'val_loss': 0.3158701496660862, 'val_accuracy': 0.87492}\n",
      "epoch: 2 - {'loss': 0.2256221717262268, 'accuracy': 0.91616, 'val_loss': 0.30064342561585217, 'val_accuracy': 0.87928}\n",
      "epoch: 3 - {'loss': 0.17015578137397766, 'accuracy': 0.9388, 'val_loss': 0.33085896303434204, 'val_accuracy': 0.87328}\n",
      "epoch: 4 - {'loss': 0.1383763881587982, 'accuracy': 0.95096, 'val_loss': 0.37495586958230304, 'val_accuracy': 0.87056}\n",
      "epoch: 5 - {'loss': 0.11176969394683837, 'accuracy': 0.96196, 'val_loss': 0.4120678319155103, 'val_accuracy': 0.86492}\n",
      "epoch: 6 - {'loss': 0.09168408722877502, 'accuracy': 0.96992, 'val_loss': 0.4681287232567282, 'val_accuracy': 0.85776}\n",
      "epoch: 7 - {'loss': 0.07346229475021362, 'accuracy': 0.9746, 'val_loss': 0.5674192090244854, 'val_accuracy': 0.858}\n",
      "epoch: 8 - {'loss': 0.05977537671923638, 'accuracy': 0.9802, 'val_loss': 0.6091420314729671, 'val_accuracy': 0.85296}\n",
      "epoch: 9 - {'loss': 0.04412881904810667, 'accuracy': 0.98776, 'val_loss': 0.7091055688879374, 'val_accuracy': 0.85016}\n",
      "epoch: 10 - {'loss': 0.03387003136754036, 'accuracy': 0.99112, 'val_loss': 0.8634506326807124, 'val_accuracy': 0.84508}\n"
     ]
    }
   ],
   "source": [
    "history = model.fit(train_dataset, epochs=NUM_EPOCH, validation_data=(test_dataset), callbacks=[Logger()], verbose=0)"
   ]
  },
  {
   "cell_type": "code",
   "execution_count": 9,
   "metadata": {
    "colab": {},
    "colab_type": "code",
    "id": "OQaCzVUQ92S6"
   },
   "outputs": [
    {
     "data": {
      "image/png": "[encoded data removed]",
      "text/plain": [
       "<Figure size 864x288 with 2 Axes>"
      ]
     },
     "metadata": {
      "needs_background": "light"
     },
     "output_type": "display_data"
    }
   ],
   "source": [
    "from util import plot_history\n",
    "\n",
    "plot_history(history)"
   ]
  }
 ],
 "metadata": {
  "accelerator": "GPU",
  "colab": {
   "collapsed_sections": [],
   "name": "3_imdb_subwords_con1d.ipynb",
   "provenance": [],
   "version": "0.3.2"
  },
  "kernelspec": {
   "display_name": "Python 3",
   "language": "python",
   "name": "python3"
  },
  "language_info": {
   "codemirror_mode": {
    "name": "ipython",
    "version": 3
   },
   "file_extension": ".py",
   "mimetype": "text/x-python",
   "name": "python",
   "nbconvert_exporter": "python",
   "pygments_lexer": "ipython3",
   "version": "3.6.9"
  }
 },
 "nbformat": 4,
 "nbformat_minor": 4
}
