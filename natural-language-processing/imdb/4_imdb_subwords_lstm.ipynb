{
 "cells": [
  {
   "cell_type": "code",
   "execution_count": null,
   "metadata": {
    "colab": {},
    "colab_type": "code",
    "id": "nb2fhMDWq4Gx"
   },
   "outputs": [],
   "source": [
    "import tensorflow as tf"
   ]
  },
  {
   "cell_type": "code",
   "execution_count": null,
   "metadata": {
    "colab": {
     "base_uri": "https://localhost:8080/",
     "height": 71
    },
    "colab_type": "code",
    "executionInfo": {
     "elapsed": 5425,
     "status": "ok",
     "timestamp": 1565682661150,
     "user": {
      "displayName": "Tx Li",
      "photoUrl": "https://lh4.googleusercontent.com/-ylRQzkZBGw4/AAAAAAAAAAI/AAAAAAAAAIc/U_cuUeU9rME/s64/photo.jpg",
      "userId": "07635813893329817116"
     },
     "user_tz": -480
    },
    "id": "TGhe2FSIq4G2",
    "outputId": "68dcda71-606d-4ac6-a636-cf45fce0ae68"
   },
   "outputs": [],
   "source": [
    "import tensorflow_datasets as tfds\n",
    "\n",
    "imdb, info = tfds.load('imdb_reviews/subwords8k', with_info=True, as_supervised=True)\n",
    "train_data, test_data = imdb['train'], imdb['test']\n",
    "tokenizer = info.features['text'].encoder"
   ]
  },
  {
   "cell_type": "code",
   "execution_count": null,
   "metadata": {
    "colab": {},
    "colab_type": "code",
    "id": "fYAu7nATq4HJ"
   },
   "outputs": [],
   "source": [
    "BUFFER_SIZE = 10000\n",
    "BATCH_SIZE = 64\n",
    "EMBEDDING_DIM = 64\n",
    "NUM_EPOCH = 10"
   ]
  },
  {
   "cell_type": "code",
   "execution_count": null,
   "metadata": {},
   "outputs": [],
   "source": [
    "train_dataset = train_data.shuffle(BUFFER_SIZE).padded_batch(BATCH_SIZE, train_data.output_shapes)\n",
    "test_dataset = test_data.padded_batch(BATCH_SIZE, test_data.output_shapes)"
   ]
  },
  {
   "cell_type": "code",
   "execution_count": null,
   "metadata": {
    "colab": {},
    "colab_type": "code",
    "id": "EQa984eMq4HN"
   },
   "outputs": [],
   "source": [
    "from tensorflow.keras.models import Sequential\n",
    "from tensorflow.keras.layers import Embedding, Bidirectional, LSTM, Dense\n",
    "\n",
    "model = Sequential([\n",
    "    Embedding(tokenizer.vocab_size, EMBEDDING_DIM),\n",
    "    Bidirectional(LSTM(64)),\n",
    "    Dense(64, activation='relu'),\n",
    "    Dense(1, activation='sigmoid')\n",
    "])\n",
    "\n",
    "model.compile(loss='binary_crossentropy', optimizer='adam', metrics=['accuracy'])"
   ]
  },
  {
   "cell_type": "code",
   "execution_count": null,
   "metadata": {
    "colab": {
     "base_uri": "https://localhost:8080/",
     "height": 289
    },
    "colab_type": "code",
    "executionInfo": {
     "elapsed": 3424,
     "status": "ok",
     "timestamp": 1565682769782,
     "user": {
      "displayName": "Tx Li",
      "photoUrl": "https://lh4.googleusercontent.com/-ylRQzkZBGw4/AAAAAAAAAAI/AAAAAAAAAIc/U_cuUeU9rME/s64/photo.jpg",
      "userId": "07635813893329817116"
     },
     "user_tz": -480
    },
    "id": "7724cYEFq4HP",
    "outputId": "ff9e585b-6d38-4447-825e-c9c813a4ac15"
   },
   "outputs": [],
   "source": [
    "model.summary()"
   ]
  },
  {
   "cell_type": "code",
   "execution_count": null,
   "metadata": {
    "colab": {
     "base_uri": "https://localhost:8080/",
     "height": 51
    },
    "colab_type": "code",
    "id": "zpq8GAJgq4HR",
    "outputId": "e19e781a-dd2c-4296-9e03-6386109dda83"
   },
   "outputs": [],
   "source": [
    "history = model.fit(train_dataset, epochs=NUM_EPOCH, validation_data=test_dataset, verbose=1)"
   ]
  },
  {
   "cell_type": "code",
   "execution_count": null,
   "metadata": {
    "colab": {},
    "colab_type": "code",
    "id": "wTpTgYzMq4Hc"
   },
   "outputs": [],
   "source": [
    "from util import plot_history\n",
    "\n",
    "plot_history(history)"
   ]
  }
 ],
 "metadata": {
  "accelerator": "GPU",
  "colab": {
   "collapsed_sections": [],
   "name": "2_imdb_subwords_lstm.ipynb",
   "provenance": [],
   "version": "0.3.2"
  },
  "kernelspec": {
   "display_name": "Python 3",
   "language": "python",
   "name": "python3"
  },
  "language_info": {
   "codemirror_mode": {
    "name": "ipython",
    "version": 3
   },
   "file_extension": ".py",
   "mimetype": "text/x-python",
   "name": "python",
   "nbconvert_exporter": "python",
   "pygments_lexer": "ipython3",
   "version": "3.6.9"
  }
 },
 "nbformat": 4,
 "nbformat_minor": 4
}
