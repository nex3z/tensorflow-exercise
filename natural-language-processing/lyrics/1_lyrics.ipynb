{
 "cells": [
  {
   "cell_type": "code",
   "execution_count": 1,
   "metadata": {},
   "outputs": [],
   "source": [
    "%matplotlib inline\n",
    "import numpy as np"
   ]
  },
  {
   "cell_type": "code",
   "execution_count": 2,
   "metadata": {},
   "outputs": [],
   "source": [
    "DOWNLOAD_URL = 'https://storage.googleapis.com/laurencemoroney-blog.appspot.com/irish-lyrics-eof.txt'\n",
    "DOWNLOAD_PATH = './irish-lyrics-eof.txt'"
   ]
  },
  {
   "cell_type": "code",
   "execution_count": 3,
   "metadata": {},
   "outputs": [],
   "source": [
    "# import urllib.request\n",
    "\n",
    "# urllib.request.urlretrieve(DOWNLOAD_URL, DOWNLOAD_PATH)"
   ]
  },
  {
   "cell_type": "code",
   "execution_count": 4,
   "metadata": {},
   "outputs": [],
   "source": [
    "with open(DOWNLOAD_PATH, 'r') as f:\n",
    "    lines = f.read()\n",
    "\n",
    "corpus = lines.lower().split('\\n')"
   ]
  },
  {
   "cell_type": "code",
   "execution_count": 5,
   "metadata": {},
   "outputs": [
    {
     "name": "stdout",
     "output_type": "stream",
     "text": [
      "vocab_size = 2690\n"
     ]
    }
   ],
   "source": [
    "from tensorflow.keras.preprocessing.text import Tokenizer\n",
    "\n",
    "tokenizer = Tokenizer()\n",
    "tokenizer.fit_on_texts(corpus)\n",
    "word_index = tokenizer.word_index\n",
    "index_word = tokenizer.index_word\n",
    "\n",
    "vocab_size = len(word_index) + 1  # Add one for OOV\n",
    "print(\"vocab_size = {}\".format(vocab_size))"
   ]
  },
  {
   "cell_type": "code",
   "execution_count": 6,
   "metadata": {},
   "outputs": [],
   "source": [
    "sequences = []\n",
    "for line in corpus:\n",
    "    seq = tokenizer.texts_to_sequences([line])[0]\n",
    "    for i in range(1, len(seq)):\n",
    "        n_gram_seq = seq[:i+1]\n",
    "        sequences.append(n_gram_seq)"
   ]
  },
  {
   "cell_type": "code",
   "execution_count": 7,
   "metadata": {},
   "outputs": [
    {
     "data": {
      "text/plain": [
       "[51, 12, 96, 1217, 48, 2, 69]"
      ]
     },
     "execution_count": 7,
     "metadata": {},
     "output_type": "execute_result"
    }
   ],
   "source": [
    "tokenizer.texts_to_sequences([corpus[0]])[0]"
   ]
  },
  {
   "cell_type": "code",
   "execution_count": 8,
   "metadata": {},
   "outputs": [
    {
     "data": {
      "text/plain": [
       "[[51, 12],\n",
       " [51, 12, 96],\n",
       " [51, 12, 96, 1217],\n",
       " [51, 12, 96, 1217, 48],\n",
       " [51, 12, 96, 1217, 48, 2],\n",
       " [51, 12, 96, 1217, 48, 2, 69]]"
      ]
     },
     "execution_count": 8,
     "metadata": {},
     "output_type": "execute_result"
    }
   ],
   "source": [
    "sequences[:6]"
   ]
  },
  {
   "cell_type": "code",
   "execution_count": 9,
   "metadata": {},
   "outputs": [
    {
     "name": "stdout",
     "output_type": "stream",
     "text": [
      "max_len = 16\n"
     ]
    }
   ],
   "source": [
    "from tensorflow.keras.preprocessing.sequence import pad_sequences\n",
    "\n",
    "max_len = max(map(len, sequences))\n",
    "print(\"max_len = {}\".format(max_len))\n",
    "input_sequences = np.array(pad_sequences(sequences, maxlen=max_len, padding='pre'))"
   ]
  },
  {
   "cell_type": "code",
   "execution_count": 10,
   "metadata": {},
   "outputs": [
    {
     "data": {
      "text/plain": [
       "array([[   0,    0,    0,    0,    0,    0,    0,    0,    0,    0,    0,\n",
       "           0,    0,    0,   51,   12],\n",
       "       [   0,    0,    0,    0,    0,    0,    0,    0,    0,    0,    0,\n",
       "           0,    0,   51,   12,   96],\n",
       "       [   0,    0,    0,    0,    0,    0,    0,    0,    0,    0,    0,\n",
       "           0,   51,   12,   96, 1217],\n",
       "       [   0,    0,    0,    0,    0,    0,    0,    0,    0,    0,    0,\n",
       "          51,   12,   96, 1217,   48],\n",
       "       [   0,    0,    0,    0,    0,    0,    0,    0,    0,    0,   51,\n",
       "          12,   96, 1217,   48,    2],\n",
       "       [   0,    0,    0,    0,    0,    0,    0,    0,    0,   51,   12,\n",
       "          96, 1217,   48,    2,   69]])"
      ]
     },
     "execution_count": 10,
     "metadata": {},
     "output_type": "execute_result"
    }
   ],
   "source": [
    "input_sequences[0:6]"
   ]
  },
  {
   "cell_type": "code",
   "execution_count": 11,
   "metadata": {},
   "outputs": [
    {
     "name": "stdout",
     "output_type": "stream",
     "text": [
      "xs.shape = (12038, 15), label.shape = (12038,)\n",
      "ys.shape = (12038, 2690)\n"
     ]
    }
   ],
   "source": [
    "from tensorflow.keras.utils import to_categorical\n",
    "\n",
    "xs, label = input_sequences[:, :-1], input_sequences[:, -1]\n",
    "ys = to_categorical(label)\n",
    "\n",
    "print(\"xs.shape = {}, label.shape = {}\".format(xs.shape, label.shape))\n",
    "print(\"ys.shape = {}\".format(ys.shape))"
   ]
  },
  {
   "cell_type": "code",
   "execution_count": 12,
   "metadata": {},
   "outputs": [],
   "source": [
    "from tensorflow.keras.models import Sequential\n",
    "from tensorflow.keras.layers import Embedding, Bidirectional, LSTM, Dense\n",
    "from tensorflow.keras.optimizers import Adam\n",
    "\n",
    "model = Sequential([\n",
    "    Embedding(vocab_size, 64, input_length=max_len-1), # One word is reserved for label\n",
    "    Bidirectional(LSTM(20)),\n",
    "    Dense(vocab_size, activation='softmax')\n",
    "])\n",
    "\n",
    "optimizer = Adam(lr=0.01)\n",
    "model.compile(loss='categorical_crossentropy', optimizer=optimizer, metrics=['accuracy'])"
   ]
  },
  {
   "cell_type": "code",
   "execution_count": 13,
   "metadata": {},
   "outputs": [
    {
     "name": "stderr",
     "output_type": "stream",
     "text": [
      "WARNING: Logging before flag parsing goes to stderr.\n",
      "W0815 21:59:28.264061  8580 deprecation.py:323] From d:\\Dev\\Miniconda3\\envs\\tf2\\lib\\site-packages\\tensorflow\\python\\ops\\math_grad.py:1250: add_dispatch_support.<locals>.wrapper (from tensorflow.python.ops.array_ops) is deprecated and will be removed in a future version.\n",
      "Instructions for updating:\n",
      "Use tf.where in 2.0, which has the same broadcast rule as np.where\n"
     ]
    },
    {
     "name": "stdout",
     "output_type": "stream",
     "text": [
      "Train on 12038 samples\n",
      "Epoch 1/100\n",
      "12038/12038 [==============================] - 6s 538us/sample - loss: 6.7129 - accuracy: 0.0673\n",
      "Epoch 2/100\n",
      "12038/12038 [==============================] - 4s 312us/sample - loss: 6.0169 - accuracy: 0.0942\n",
      "Epoch 3/100\n",
      "12038/12038 [==============================] - 4s 313us/sample - loss: 5.5401 - accuracy: 0.1190\n",
      "Epoch 4/100\n",
      "12038/12038 [==============================] - 4s 313us/sample - loss: 5.1046 - accuracy: 0.1489\n",
      "Epoch 5/100\n",
      "12038/12038 [==============================] - 4s 311us/sample - loss: 4.7042 - accuracy: 0.1744\n",
      "Epoch 6/100\n",
      "12038/12038 [==============================] - 4s 310us/sample - loss: 4.3486 - accuracy: 0.2088\n",
      "Epoch 7/100\n",
      "12038/12038 [==============================] - 4s 313us/sample - loss: 4.0572 - accuracy: 0.2391\n",
      "Epoch 8/100\n",
      "12038/12038 [==============================] - 4s 318us/sample - loss: 3.8154 - accuracy: 0.2682\n",
      "Epoch 9/100\n",
      "12038/12038 [==============================] - 4s 315us/sample - loss: 3.6077 - accuracy: 0.2949\n",
      "Epoch 10/100\n",
      "12038/12038 [==============================] - 4s 309us/sample - loss: 3.4311 - accuracy: 0.3178\n",
      "Epoch 11/100\n",
      "12038/12038 [==============================] - 4s 313us/sample - loss: 3.2909 - accuracy: 0.3399\n",
      "Epoch 12/100\n",
      "12038/12038 [==============================] - 4s 312us/sample - loss: 3.1563 - accuracy: 0.3608\n",
      "Epoch 13/100\n",
      "12038/12038 [==============================] - 4s 312us/sample - loss: 3.0407 - accuracy: 0.3782\n",
      "Epoch 14/100\n",
      "12038/12038 [==============================] - 4s 310us/sample - loss: 2.9473 - accuracy: 0.3936\n",
      "Epoch 15/100\n",
      "12038/12038 [==============================] - 4s 312us/sample - loss: 2.8483 - accuracy: 0.4056\n",
      "Epoch 16/100\n",
      "12038/12038 [==============================] - 4s 314us/sample - loss: 2.7747 - accuracy: 0.4186\n",
      "Epoch 17/100\n",
      "12038/12038 [==============================] - 4s 316us/sample - loss: 2.7028 - accuracy: 0.4262\n",
      "Epoch 18/100\n",
      "12038/12038 [==============================] - 4s 312us/sample - loss: 2.6544 - accuracy: 0.4380\n",
      "Epoch 19/100\n",
      "12038/12038 [==============================] - 4s 314us/sample - loss: 2.6035 - accuracy: 0.4453\n",
      "Epoch 20/100\n",
      "12038/12038 [==============================] - 4s 314us/sample - loss: 2.5447 - accuracy: 0.4555\n",
      "Epoch 21/100\n",
      "12038/12038 [==============================] - 4s 311us/sample - loss: 2.4995 - accuracy: 0.4624\n",
      "Epoch 22/100\n",
      "12038/12038 [==============================] - 4s 311us/sample - loss: 2.4512 - accuracy: 0.4655\n",
      "Epoch 23/100\n",
      "12038/12038 [==============================] - 4s 313us/sample - loss: 2.4235 - accuracy: 0.4729\n",
      "Epoch 24/100\n",
      "12038/12038 [==============================] - 4s 313us/sample - loss: 2.3817 - accuracy: 0.4776\n",
      "Epoch 25/100\n",
      "12038/12038 [==============================] - 4s 313us/sample - loss: 2.3505 - accuracy: 0.4834\n",
      "Epoch 26/100\n",
      "12038/12038 [==============================] - 4s 311us/sample - loss: 2.3338 - accuracy: 0.4861\n",
      "Epoch 27/100\n",
      "12038/12038 [==============================] - 4s 314us/sample - loss: 2.3010 - accuracy: 0.4929\n",
      "Epoch 28/100\n",
      "12038/12038 [==============================] - 4s 316us/sample - loss: 2.2666 - accuracy: 0.4998\n",
      "Epoch 29/100\n",
      "12038/12038 [==============================] - 4s 315us/sample - loss: 2.2411 - accuracy: 0.4983\n",
      "Epoch 30/100\n",
      "12038/12038 [==============================] - 4s 311us/sample - loss: 2.2567 - accuracy: 0.4992\n",
      "Epoch 31/100\n",
      "12038/12038 [==============================] - 4s 312us/sample - loss: 2.2368 - accuracy: 0.5022\n",
      "Epoch 32/100\n",
      "12038/12038 [==============================] - 4s 313us/sample - loss: 2.1961 - accuracy: 0.5039\n",
      "Epoch 33/100\n",
      "12038/12038 [==============================] - 4s 312us/sample - loss: 2.1611 - accuracy: 0.5148\n",
      "Epoch 34/100\n",
      "12038/12038 [==============================] - 4s 312us/sample - loss: 2.1607 - accuracy: 0.5157\n",
      "Epoch 35/100\n",
      "12038/12038 [==============================] - 4s 312us/sample - loss: 2.1383 - accuracy: 0.5157\n",
      "Epoch 36/100\n",
      "12038/12038 [==============================] - 4s 314us/sample - loss: 2.1103 - accuracy: 0.5251\n",
      "Epoch 37/100\n",
      "12038/12038 [==============================] - 4s 312us/sample - loss: 2.1054 - accuracy: 0.5234\n",
      "Epoch 38/100\n",
      "12038/12038 [==============================] - 4s 310us/sample - loss: 2.0771 - accuracy: 0.5289\n",
      "Epoch 39/100\n",
      "12038/12038 [==============================] - 4s 318us/sample - loss: 2.0620 - accuracy: 0.5287\n",
      "Epoch 40/100\n",
      "12038/12038 [==============================] - 4s 318us/sample - loss: 2.0567 - accuracy: 0.5337\n",
      "Epoch 41/100\n",
      "12038/12038 [==============================] - 4s 318us/sample - loss: 2.0477 - accuracy: 0.5310\n",
      "Epoch 42/100\n",
      "12038/12038 [==============================] - 4s 317us/sample - loss: 2.0253 - accuracy: 0.5405\n",
      "Epoch 43/100\n",
      "12038/12038 [==============================] - 4s 319us/sample - loss: 2.0044 - accuracy: 0.5443\n",
      "Epoch 44/100\n",
      "12038/12038 [==============================] - 4s 319us/sample - loss: 1.9911 - accuracy: 0.5466\n",
      "Epoch 45/100\n",
      "12038/12038 [==============================] - 4s 319us/sample - loss: 1.9740 - accuracy: 0.5464\n",
      "Epoch 46/100\n",
      "12038/12038 [==============================] - 4s 319us/sample - loss: 1.9780 - accuracy: 0.5448\n",
      "Epoch 47/100\n",
      "12038/12038 [==============================] - 4s 315us/sample - loss: 1.9723 - accuracy: 0.5461\n",
      "Epoch 48/100\n",
      "12038/12038 [==============================] - 4s 318us/sample - loss: 1.9473 - accuracy: 0.5508\n",
      "Epoch 49/100\n",
      "12038/12038 [==============================] - 4s 318us/sample - loss: 1.9231 - accuracy: 0.5533\n",
      "Epoch 50/100\n",
      "12038/12038 [==============================] - 4s 319us/sample - loss: 1.9340 - accuracy: 0.5518\n",
      "Epoch 51/100\n",
      "12038/12038 [==============================] - 4s 314us/sample - loss: 1.9310 - accuracy: 0.5539\n",
      "Epoch 52/100\n",
      "12038/12038 [==============================] - 4s 319us/sample - loss: 1.9118 - accuracy: 0.5593\n",
      "Epoch 53/100\n",
      "12038/12038 [==============================] - 4s 320us/sample - loss: 1.8926 - accuracy: 0.5617\n",
      "Epoch 54/100\n",
      "12038/12038 [==============================] - 4s 321us/sample - loss: 1.8881 - accuracy: 0.5640\n",
      "Epoch 55/100\n",
      "12038/12038 [==============================] - 4s 318us/sample - loss: 1.8809 - accuracy: 0.5609\n",
      "Epoch 56/100\n",
      "12038/12038 [==============================] - 4s 316us/sample - loss: 1.8878 - accuracy: 0.5637\n",
      "Epoch 57/100\n",
      "12038/12038 [==============================] - 4s 319us/sample - loss: 1.8707 - accuracy: 0.5615\n",
      "Epoch 58/100\n",
      "12038/12038 [==============================] - 4s 317us/sample - loss: 1.8916 - accuracy: 0.5601\n",
      "Epoch 59/100\n",
      "12038/12038 [==============================] - 4s 318us/sample - loss: 1.8352 - accuracy: 0.5687\n",
      "Epoch 60/100\n",
      "12038/12038 [==============================] - 4s 314us/sample - loss: 1.8583 - accuracy: 0.5652\n",
      "Epoch 61/100\n",
      "12038/12038 [==============================] - 4s 319us/sample - loss: 1.8487 - accuracy: 0.5654\n",
      "Epoch 62/100\n",
      "12038/12038 [==============================] - 4s 318us/sample - loss: 1.8521 - accuracy: 0.5679\n",
      "Epoch 63/100\n",
      "12038/12038 [==============================] - 4s 318us/sample - loss: 1.8506 - accuracy: 0.5698\n",
      "Epoch 64/100\n",
      "12038/12038 [==============================] - 4s 317us/sample - loss: 1.8506 - accuracy: 0.5665\n",
      "Epoch 65/100\n",
      "12038/12038 [==============================] - 4s 317us/sample - loss: 1.8182 - accuracy: 0.5730\n",
      "Epoch 66/100\n",
      "12038/12038 [==============================] - 4s 319us/sample - loss: 1.8078 - accuracy: 0.5793\n",
      "Epoch 67/100\n",
      "12038/12038 [==============================] - 4s 318us/sample - loss: 1.8086 - accuracy: 0.5758\n",
      "Epoch 68/100\n",
      "12038/12038 [==============================] - 4s 314us/sample - loss: 1.8019 - accuracy: 0.5740\n",
      "Epoch 69/100\n",
      "12038/12038 [==============================] - 4s 319us/sample - loss: 1.8157 - accuracy: 0.5753\n",
      "Epoch 70/100\n",
      "12038/12038 [==============================] - 4s 317us/sample - loss: 1.7982 - accuracy: 0.5792\n",
      "Epoch 71/100\n",
      "12038/12038 [==============================] - 4s 317us/sample - loss: 1.8062 - accuracy: 0.5709\n",
      "Epoch 72/100\n",
      "12038/12038 [==============================] - 4s 316us/sample - loss: 1.7915 - accuracy: 0.5815\n",
      "Epoch 73/100\n",
      "12038/12038 [==============================] - 4s 316us/sample - loss: 1.7656 - accuracy: 0.5832\n",
      "Epoch 74/100\n",
      "12038/12038 [==============================] - 4s 319us/sample - loss: 1.8060 - accuracy: 0.5742\n",
      "Epoch 75/100\n",
      "12038/12038 [==============================] - 4s 318us/sample - loss: 1.7937 - accuracy: 0.5741\n",
      "Epoch 76/100\n",
      "12038/12038 [==============================] - 4s 318us/sample - loss: 1.7713 - accuracy: 0.5860\n",
      "Epoch 77/100\n",
      "12038/12038 [==============================] - 4s 317us/sample - loss: 1.7697 - accuracy: 0.5846\n",
      "Epoch 78/100\n",
      "12038/12038 [==============================] - 4s 318us/sample - loss: 1.7768 - accuracy: 0.5822\n",
      "Epoch 79/100\n",
      "12038/12038 [==============================] - 4s 318us/sample - loss: 1.7601 - accuracy: 0.5876\n",
      "Epoch 80/100\n",
      "12038/12038 [==============================] - 4s 318us/sample - loss: 1.7675 - accuracy: 0.5830\n",
      "Epoch 81/100\n",
      "12038/12038 [==============================] - 4s 318us/sample - loss: 1.7754 - accuracy: 0.5829\n",
      "Epoch 82/100\n",
      "12038/12038 [==============================] - 4s 320us/sample - loss: 1.7632 - accuracy: 0.5834\n",
      "Epoch 83/100\n",
      "12038/12038 [==============================] - 4s 318us/sample - loss: 1.7645 - accuracy: 0.5833\n",
      "Epoch 84/100\n",
      "12038/12038 [==============================] - 4s 321us/sample - loss: 1.7799 - accuracy: 0.5803\n",
      "Epoch 85/100\n",
      "12038/12038 [==============================] - 4s 317us/sample - loss: 1.7813 - accuracy: 0.5796\n",
      "Epoch 86/100\n",
      "12038/12038 [==============================] - 4s 319us/sample - loss: 1.7708 - accuracy: 0.5814\n",
      "Epoch 87/100\n",
      "12038/12038 [==============================] - 4s 318us/sample - loss: 1.7492 - accuracy: 0.5851\n",
      "Epoch 88/100\n",
      "12038/12038 [==============================] - 4s 319us/sample - loss: 1.7270 - accuracy: 0.5923\n",
      "Epoch 89/100\n",
      "12038/12038 [==============================] - 4s 319us/sample - loss: 1.7443 - accuracy: 0.5890\n",
      "Epoch 90/100\n",
      "12038/12038 [==============================] - 4s 319us/sample - loss: 1.7433 - accuracy: 0.5846\n",
      "Epoch 91/100\n",
      "12038/12038 [==============================] - 4s 320us/sample - loss: 1.7407 - accuracy: 0.5871\n",
      "Epoch 92/100\n",
      "12038/12038 [==============================] - 4s 320us/sample - loss: 1.7409 - accuracy: 0.5878\n",
      "Epoch 93/100\n",
      "12038/12038 [==============================] - 4s 319us/sample - loss: 1.7391 - accuracy: 0.5868\n",
      "Epoch 94/100\n",
      "12038/12038 [==============================] - 4s 315us/sample - loss: 1.7606 - accuracy: 0.5866\n",
      "Epoch 95/100\n",
      "12038/12038 [==============================] - 4s 318us/sample - loss: 1.7361 - accuracy: 0.5891\n",
      "Epoch 96/100\n",
      "12038/12038 [==============================] - 4s 318us/sample - loss: 1.7390 - accuracy: 0.5854\n",
      "Epoch 97/100\n",
      "12038/12038 [==============================] - 4s 318us/sample - loss: 1.7561 - accuracy: 0.5846\n",
      "Epoch 98/100\n",
      "12038/12038 [==============================] - 4s 318us/sample - loss: 1.7468 - accuracy: 0.5854\n",
      "Epoch 99/100\n",
      "12038/12038 [==============================] - 4s 318us/sample - loss: 1.7720 - accuracy: 0.5792\n",
      "Epoch 100/100\n",
      "12038/12038 [==============================] - 4s 319us/sample - loss: 1.7461 - accuracy: 0.5857\n"
     ]
    }
   ],
   "source": [
    "history = model.fit(xs, ys, epochs=100, verbose=1)"
   ]
  },
  {
   "cell_type": "code",
   "execution_count": 14,
   "metadata": {},
   "outputs": [
    {
     "data": {
      "image/png": "[encoded data removed]",
      "text/plain": [
       "<Figure size 864x288 with 2 Axes>"
      ]
     },
     "metadata": {
      "needs_background": "light"
     },
     "output_type": "display_data"
    }
   ],
   "source": [
    "from util import plot_history\n",
    "\n",
    "plot_history(history, include_val=False)"
   ]
  },
  {
   "cell_type": "code",
   "execution_count": 15,
   "metadata": {},
   "outputs": [
    {
     "name": "stdout",
     "output_type": "stream",
     "text": [
      "All through the night and cross he said dead a rollin in the town of the wintry weather speak of innocent jollity swings where narrow floor gone drinkin up the moon over the old pianos setting there though underfoot tis trod his hit off day by night as town their color cant run from\n"
     ]
    }
   ],
   "source": [
    "text = \"All through the night\"\n",
    "len_predict = 50\n",
    "\n",
    "for _ in range(len_predict):\n",
    "    seq = tokenizer.texts_to_sequences([text])[0]\n",
    "    seq = pad_sequences([seq], maxlen=max_len-1, padding='pre')\n",
    "    predicted = model.predict_classes(seq)\n",
    "    word = index_word[predicted[0]]\n",
    "    text += \" \" + word\n",
    "\n",
    "print(text)"
   ]
  }
 ],
 "metadata": {
  "kernelspec": {
   "display_name": "Python 3",
   "language": "python",
   "name": "python3"
  },
  "language_info": {
   "codemirror_mode": {
    "name": "ipython",
    "version": 3
   },
   "file_extension": ".py",
   "mimetype": "text/x-python",
   "name": "python",
   "nbconvert_exporter": "python",
   "pygments_lexer": "ipython3",
   "version": "3.7.4"
  }
 },
 "nbformat": 4,
 "nbformat_minor": 4
}
