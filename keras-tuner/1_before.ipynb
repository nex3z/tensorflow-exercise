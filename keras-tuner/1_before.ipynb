{
 "cells": [
  {
   "cell_type": "code",
   "execution_count": 1,
   "id": "59df4410-3db9-4d3c-91d1-31ce70a1c48c",
   "metadata": {},
   "outputs": [],
   "source": [
    "import numpy as np\n",
    "import tensorflow as tf\n",
    "from tensorflow.keras import layers"
   ]
  },
  {
   "cell_type": "code",
   "execution_count": 2,
   "id": "0c7bb171-8bc6-41b5-9447-12f52f0f4957",
   "metadata": {},
   "outputs": [],
   "source": [
    "(x_train, y_train), (x_test, y_test) = tf.keras.datasets.mnist.load_data()\n",
    "x_train = x_train.astype(np.float32)\n",
    "x_train /= 255.0\n",
    "x_test = x_test.astype(np.float32)\n",
    "x_test /= 255.0"
   ]
  },
  {
   "cell_type": "code",
   "execution_count": 3,
   "id": "2206d82a-ca59-4ebb-b73b-2ccadf529bdb",
   "metadata": {},
   "outputs": [],
   "source": [
    "def model_builder():\n",
    "    model = tf.keras.Sequential()\n",
    "    \n",
    "    model.add(layers.Flatten(input_shape=(28, 28)))\n",
    "    \n",
    "    model.add(layers.Dense(units=512, activation='relu'))\n",
    "    \n",
    "    model.add(layers.Dropout(0.2))\n",
    "    \n",
    "    model.add(layers.Dense(10, activation='softmax'))\n",
    "    \n",
    "    model.compile(optimizer='adam', loss='sparse_categorical_crossentropy', metrics=['accuracy'])\n",
    "    \n",
    "    return model"
   ]
  },
  {
   "cell_type": "code",
   "execution_count": 4,
   "id": "07bf12b6-c5ec-440d-867f-2e26681aa992",
   "metadata": {},
   "outputs": [],
   "source": [
    "model = model_builder()"
   ]
  },
  {
   "cell_type": "code",
   "execution_count": 5,
   "id": "efe4069e-3917-462a-b4f2-74f43a6de752",
   "metadata": {},
   "outputs": [],
   "source": [
    "early_stop = tf.keras.callbacks.EarlyStopping(monitor='val_loss', patience=5)"
   ]
  },
  {
   "cell_type": "code",
   "execution_count": 6,
   "id": "3523de64-ddc0-4b66-9e56-d8f8466f6dfc",
   "metadata": {},
   "outputs": [
    {
     "name": "stdout",
     "output_type": "stream",
     "text": [
      "Epoch 1/50\n",
      "1500/1500 [==============================] - 5s 3ms/step - loss: 0.2430 - accuracy: 0.9290 - val_loss: 0.1206 - val_accuracy: 0.9632\n",
      "Epoch 2/50\n",
      "1500/1500 [==============================] - 4s 3ms/step - loss: 0.1080 - accuracy: 0.9671 - val_loss: 0.0949 - val_accuracy: 0.9706\n",
      "Epoch 3/50\n",
      "1500/1500 [==============================] - 5s 3ms/step - loss: 0.0740 - accuracy: 0.9773 - val_loss: 0.0821 - val_accuracy: 0.9755\n",
      "Epoch 4/50\n",
      "1500/1500 [==============================] - 5s 3ms/step - loss: 0.0571 - accuracy: 0.9821 - val_loss: 0.0833 - val_accuracy: 0.9755\n",
      "Epoch 5/50\n",
      "1500/1500 [==============================] - 4s 3ms/step - loss: 0.0451 - accuracy: 0.9860 - val_loss: 0.0853 - val_accuracy: 0.9765\n",
      "Epoch 6/50\n",
      "1500/1500 [==============================] - 5s 3ms/step - loss: 0.0383 - accuracy: 0.9874 - val_loss: 0.0789 - val_accuracy: 0.9787\n",
      "Epoch 7/50\n",
      "1500/1500 [==============================] - 5s 3ms/step - loss: 0.0327 - accuracy: 0.9894 - val_loss: 0.0884 - val_accuracy: 0.9773\n",
      "Epoch 8/50\n",
      "1500/1500 [==============================] - 5s 3ms/step - loss: 0.0273 - accuracy: 0.9908 - val_loss: 0.0860 - val_accuracy: 0.9782\n",
      "Epoch 9/50\n",
      "1500/1500 [==============================] - 5s 3ms/step - loss: 0.0237 - accuracy: 0.9915 - val_loss: 0.0810 - val_accuracy: 0.9793\n",
      "Epoch 10/50\n",
      "1500/1500 [==============================] - 5s 3ms/step - loss: 0.0229 - accuracy: 0.9919 - val_loss: 0.0859 - val_accuracy: 0.9798\n",
      "Epoch 11/50\n",
      "1500/1500 [==============================] - 5s 3ms/step - loss: 0.0201 - accuracy: 0.9930 - val_loss: 0.0888 - val_accuracy: 0.9798\n"
     ]
    }
   ],
   "source": [
    "history = model.fit(\n",
    "    x_train,\n",
    "    y_train,\n",
    "    epochs=50,\n",
    "    validation_split=0.2,\n",
    "    callbacks=[early_stop]\n",
    ")"
   ]
  }
 ],
 "metadata": {
  "kernelspec": {
   "display_name": "Python 3 (ipykernel)",
   "language": "python",
   "name": "python3"
  },
  "language_info": {
   "codemirror_mode": {
    "name": "ipython",
    "version": 3
   },
   "file_extension": ".py",
   "mimetype": "text/x-python",
   "name": "python",
   "nbconvert_exporter": "python",
   "pygments_lexer": "ipython3",
   "version": "3.8.10"
  }
 },
 "nbformat": 4,
 "nbformat_minor": 5
}