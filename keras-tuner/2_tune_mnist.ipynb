{
 "cells": [
  {
   "cell_type": "code",
   "execution_count": 1,
   "id": "59df4410-3db9-4d3c-91d1-31ce70a1c48c",
   "metadata": {},
   "outputs": [],
   "source": [
    "import keras_tuner as kt\n",
    "import numpy as np\n",
    "import tensorflow as tf\n",
    "from tensorflow.keras import layers"
   ]
  },
  {
   "cell_type": "code",
   "execution_count": 2,
   "id": "0c7bb171-8bc6-41b5-9447-12f52f0f4957",
   "metadata": {},
   "outputs": [],
   "source": [
    "(x_train, y_train), (x_test, y_test) = tf.keras.datasets.mnist.load_data()\n",
    "x_train = x_train.astype(np.float32)\n",
    "x_train /= 255.0\n",
    "x_test = x_test.astype(np.float32)\n",
    "x_test /= 255.0"
   ]
  },
  {
   "cell_type": "code",
   "execution_count": 3,
   "id": "2206d82a-ca59-4ebb-b73b-2ccadf529bdb",
   "metadata": {},
   "outputs": [],
   "source": [
    "def model_builder(hp: kt.engine.hyperparameters.HyperParameters):\n",
    "    model = tf.keras.Sequential()\n",
    "    \n",
    "    model.add(layers.Flatten(input_shape=(28, 28)))\n",
    "    \n",
    "    hp_units = hp.Int('units', min_value=16, max_value=512, step=16)\n",
    "    model.add(layers.Dense(units=hp_units, activation='relu'))\n",
    "    \n",
    "    model.add(layers.Dropout(0.2))\n",
    "    \n",
    "    model.add(layers.Dense(10, activation='softmax'))\n",
    "    \n",
    "    model.compile(optimizer='adam', loss='sparse_categorical_crossentropy', metrics=['accuracy'])\n",
    "    \n",
    "    return model"
   ]
  },
  {
   "cell_type": "code",
   "execution_count": 4,
   "id": "eb59607d-bb46-4e25-a2de-9f8230068dd9",
   "metadata": {},
   "outputs": [],
   "source": [
    "tuner = kt.Hyperband(\n",
    "    model_builder,\n",
    "    objective='val_accuracy',\n",
    "    max_epochs=10,\n",
    "    factor=3,\n",
    "    directory='tuner_dir',\n",
    "    project_name='demo'\n",
    ")"
   ]
  },
  {
   "cell_type": "code",
   "execution_count": 5,
   "id": "9da1a459-b4ed-475d-8d22-df6dd080706b",
   "metadata": {},
   "outputs": [],
   "source": [
    "early_stop = tf.keras.callbacks.EarlyStopping(monitor='val_loss', patience=5)"
   ]
  },
  {
   "cell_type": "code",
   "execution_count": 6,
   "id": "5a1490cc-48a7-4bd6-88c8-86c372146a79",
   "metadata": {},
   "outputs": [
    {
     "name": "stdout",
     "output_type": "stream",
     "text": [
      "Trial 30 Complete [00h 00m 23s]\n",
      "val_accuracy: 0.9798333048820496\n",
      "\n",
      "Best val_accuracy So Far: 0.9798333048820496\n",
      "Total elapsed time: 00h 05m 11s\n",
      "INFO:tensorflow:Oracle triggered exit\n"
     ]
    }
   ],
   "source": [
    "tuner.search(\n",
    "    x_train,\n",
    "    y_train,\n",
    "    epochs=50,\n",
    "    validation_split=0.2,\n",
    "    callbacks=[early_stop]\n",
    ")"
   ]
  },
  {
   "cell_type": "code",
   "execution_count": 7,
   "id": "481766c8-b552-483a-9ffa-b56f367af997",
   "metadata": {},
   "outputs": [],
   "source": [
    "best_hps = tuner.get_best_hyperparameters(num_trials=1)[0]"
   ]
  },
  {
   "cell_type": "code",
   "execution_count": 8,
   "id": "86f4a230-809b-4780-a433-849a41f9b5f7",
   "metadata": {},
   "outputs": [
    {
     "data": {
      "text/plain": [
       "288"
      ]
     },
     "execution_count": 8,
     "metadata": {},
     "output_type": "execute_result"
    }
   ],
   "source": [
    "best_hps.get('units')"
   ]
  }
 ],
 "metadata": {
  "kernelspec": {
   "display_name": "Python 3 (ipykernel)",
   "language": "python",
   "name": "python3"
  },
  "language_info": {
   "codemirror_mode": {
    "name": "ipython",
    "version": 3
   },
   "file_extension": ".py",
   "mimetype": "text/x-python",
   "name": "python",
   "nbconvert_exporter": "python",
   "pygments_lexer": "ipython3",
   "version": "3.8.10"
  }
 },
 "nbformat": 4,
 "nbformat_minor": 5
}
