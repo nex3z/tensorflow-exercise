{
 "cells": [
  {
   "cell_type": "code",
   "execution_count": 1,
   "id": "59df4410-3db9-4d3c-91d1-31ce70a1c48c",
   "metadata": {},
   "outputs": [],
   "source": [
    "import numpy as np\n",
    "import tensorflow as tf\n",
    "from tensorflow.keras import layers"
   ]
  },
  {
   "cell_type": "code",
   "execution_count": 2,
   "id": "0c7bb171-8bc6-41b5-9447-12f52f0f4957",
   "metadata": {},
   "outputs": [],
   "source": [
    "(x_train, y_train), (x_test, y_test) = tf.keras.datasets.mnist.load_data()\n",
    "x_train = x_train.astype(np.float32)\n",
    "x_train /= 255.0\n",
    "x_test = x_test.astype(np.float32)\n",
    "x_test /= 255.0"
   ]
  },
  {
   "cell_type": "code",
   "execution_count": 3,
   "id": "2206d82a-ca59-4ebb-b73b-2ccadf529bdb",
   "metadata": {},
   "outputs": [],
   "source": [
    "def model_builder():\n",
    "    model = tf.keras.Sequential()\n",
    "    \n",
    "    model.add(layers.Flatten(input_shape=(28, 28)))\n",
    "    \n",
    "    model.add(layers.Dense(units=288, activation='relu'))\n",
    "    \n",
    "    model.add(layers.Dropout(0.2))\n",
    "    \n",
    "    model.add(layers.Dense(10, activation='softmax'))\n",
    "    \n",
    "    model.compile(optimizer='adam', loss='sparse_categorical_crossentropy', metrics=['accuracy'])\n",
    "    \n",
    "    return model"
   ]
  },
  {
   "cell_type": "code",
   "execution_count": 4,
   "id": "07bf12b6-c5ec-440d-867f-2e26681aa992",
   "metadata": {},
   "outputs": [],
   "source": [
    "model = model_builder()"
   ]
  },
  {
   "cell_type": "code",
   "execution_count": 5,
   "id": "efe4069e-3917-462a-b4f2-74f43a6de752",
   "metadata": {},
   "outputs": [],
   "source": [
    "early_stop = tf.keras.callbacks.EarlyStopping(monitor='val_loss', patience=5)"
   ]
  },
  {
   "cell_type": "code",
   "execution_count": 6,
   "id": "3523de64-ddc0-4b66-9e56-d8f8466f6dfc",
   "metadata": {},
   "outputs": [
    {
     "name": "stdout",
     "output_type": "stream",
     "text": [
      "Epoch 1/50\n",
      "1500/1500 [==============================] - 2s 1ms/step - loss: 0.2655 - accuracy: 0.9225 - val_loss: 0.1284 - val_accuracy: 0.9623\n",
      "Epoch 2/50\n",
      "1500/1500 [==============================] - 2s 1ms/step - loss: 0.1173 - accuracy: 0.9650 - val_loss: 0.1005 - val_accuracy: 0.9692\n",
      "Epoch 3/50\n",
      "1500/1500 [==============================] - 2s 1ms/step - loss: 0.0849 - accuracy: 0.9737 - val_loss: 0.0835 - val_accuracy: 0.9747\n",
      "Epoch 4/50\n",
      "1500/1500 [==============================] - 2s 1ms/step - loss: 0.0655 - accuracy: 0.9799 - val_loss: 0.0843 - val_accuracy: 0.9747\n",
      "Epoch 5/50\n",
      "1500/1500 [==============================] - 2s 1ms/step - loss: 0.0542 - accuracy: 0.9822 - val_loss: 0.0791 - val_accuracy: 0.9768\n",
      "Epoch 6/50\n",
      "1500/1500 [==============================] - 2s 1ms/step - loss: 0.0451 - accuracy: 0.9855 - val_loss: 0.0798 - val_accuracy: 0.9757\n",
      "Epoch 7/50\n",
      "1500/1500 [==============================] - 2s 1ms/step - loss: 0.0379 - accuracy: 0.9878 - val_loss: 0.0857 - val_accuracy: 0.9758\n",
      "Epoch 8/50\n",
      "1500/1500 [==============================] - 2s 1ms/step - loss: 0.0338 - accuracy: 0.9893 - val_loss: 0.0768 - val_accuracy: 0.9798\n",
      "Epoch 9/50\n",
      "1500/1500 [==============================] - 2s 1ms/step - loss: 0.0299 - accuracy: 0.9900 - val_loss: 0.0939 - val_accuracy: 0.9756\n",
      "Epoch 10/50\n",
      "1500/1500 [==============================] - 2s 1ms/step - loss: 0.0257 - accuracy: 0.9911 - val_loss: 0.0835 - val_accuracy: 0.9780\n",
      "Epoch 11/50\n",
      "1500/1500 [==============================] - 2s 1ms/step - loss: 0.0246 - accuracy: 0.9917 - val_loss: 0.0824 - val_accuracy: 0.9779\n",
      "Epoch 12/50\n",
      "1500/1500 [==============================] - 2s 1ms/step - loss: 0.0210 - accuracy: 0.9929 - val_loss: 0.0911 - val_accuracy: 0.9792\n",
      "Epoch 13/50\n",
      "1500/1500 [==============================] - 2s 1ms/step - loss: 0.0180 - accuracy: 0.9942 - val_loss: 0.0941 - val_accuracy: 0.9785\n"
     ]
    }
   ],
   "source": [
    "history = model.fit(\n",
    "    x_train,\n",
    "    y_train,\n",
    "    epochs=50,\n",
    "    validation_split=0.2,\n",
    "    callbacks=[early_stop]\n",
    ")"
   ]
  }
 ],
 "metadata": {
  "kernelspec": {
   "display_name": "Python 3 (ipykernel)",
   "language": "python",
   "name": "python3"
  },
  "language_info": {
   "codemirror_mode": {
    "name": "ipython",
    "version": 3
   },
   "file_extension": ".py",
   "mimetype": "text/x-python",
   "name": "python",
   "nbconvert_exporter": "python",
   "pygments_lexer": "ipython3",
   "version": "3.8.10"
  }
 },
 "nbformat": 4,
 "nbformat_minor": 5
}
