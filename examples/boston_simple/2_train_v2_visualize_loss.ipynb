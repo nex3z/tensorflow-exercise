{
 "cells": [
  {
   "cell_type": "code",
   "execution_count": 1,
   "metadata": {},
   "outputs": [],
   "source": [
    "import tensorflow as tf\n",
    "import numpy as np\n",
    "import pandas as pd\n",
    "import matplotlib.pyplot as plt\n",
    "import seaborn as sb"
   ]
  },
  {
   "cell_type": "code",
   "execution_count": 2,
   "metadata": {},
   "outputs": [
    {
     "data": {
      "text/html": [
       "<div>\n",
       "<style scoped>\n",
       "    .dataframe tbody tr th:only-of-type {\n",
       "        vertical-align: middle;\n",
       "    }\n",
       "\n",
       "    .dataframe tbody tr th {\n",
       "        vertical-align: top;\n",
       "    }\n",
       "\n",
       "    .dataframe thead th {\n",
       "        text-align: right;\n",
       "    }\n",
       "</style>\n",
       "<table border=\"1\" class=\"dataframe\">\n",
       "  <thead>\n",
       "    <tr style=\"text-align: right;\">\n",
       "      <th></th>\n",
       "      <th>ones</th>\n",
       "      <th>area</th>\n",
       "      <th>bedrooms</th>\n",
       "      <th>price</th>\n",
       "    </tr>\n",
       "  </thead>\n",
       "  <tbody>\n",
       "    <tr>\n",
       "      <th>0</th>\n",
       "      <td>1.0</td>\n",
       "      <td>0.130010</td>\n",
       "      <td>-0.223675</td>\n",
       "      <td>0.475747</td>\n",
       "    </tr>\n",
       "    <tr>\n",
       "      <th>1</th>\n",
       "      <td>1.0</td>\n",
       "      <td>-0.504190</td>\n",
       "      <td>-0.223675</td>\n",
       "      <td>-0.084074</td>\n",
       "    </tr>\n",
       "    <tr>\n",
       "      <th>2</th>\n",
       "      <td>1.0</td>\n",
       "      <td>0.502476</td>\n",
       "      <td>-0.223675</td>\n",
       "      <td>0.228626</td>\n",
       "    </tr>\n",
       "    <tr>\n",
       "      <th>3</th>\n",
       "      <td>1.0</td>\n",
       "      <td>-0.735723</td>\n",
       "      <td>-1.537767</td>\n",
       "      <td>-0.867025</td>\n",
       "    </tr>\n",
       "    <tr>\n",
       "      <th>4</th>\n",
       "      <td>1.0</td>\n",
       "      <td>1.257476</td>\n",
       "      <td>1.090417</td>\n",
       "      <td>1.595389</td>\n",
       "    </tr>\n",
       "  </tbody>\n",
       "</table>\n",
       "</div>"
      ],
      "text/plain": [
       "   ones      area  bedrooms     price\n",
       "0   1.0  0.130010 -0.223675  0.475747\n",
       "1   1.0 -0.504190 -0.223675 -0.084074\n",
       "2   1.0  0.502476 -0.223675  0.228626\n",
       "3   1.0 -0.735723 -1.537767 -0.867025\n",
       "4   1.0  1.257476  1.090417  1.595389"
      ]
     },
     "execution_count": 2,
     "metadata": {},
     "output_type": "execute_result"
    }
   ],
   "source": [
    "df_data = pd.read_csv('./data/data_multi.csv', names=['area', 'bedrooms', 'price'])\n",
    "df_data = df_data.apply(lambda column: (column - column.mean()) / column.std())\n",
    "df_data.insert(0, 'ones', 1.0)\n",
    "df_data.head()"
   ]
  },
  {
   "cell_type": "code",
   "execution_count": 3,
   "metadata": {},
   "outputs": [
    {
     "name": "stdout",
     "output_type": "stream",
     "text": [
      "x_data.shape = (47, 3)\n",
      "y_data.shape = (47, 1)\n"
     ]
    }
   ],
   "source": [
    "x_data = df_data.loc[:, ['ones', 'area', 'bedrooms']].values\n",
    "y_data = df_data.loc[:, ['price']].values\n",
    "print(\"x_data.shape = {}\\ny_data.shape = {}\".format(x_data.shape, y_data.shape))"
   ]
  },
  {
   "cell_type": "code",
   "execution_count": 4,
   "metadata": {},
   "outputs": [],
   "source": [
    "LEARNING_RATE = 0.01\n",
    "NUM_EPOCH = 500"
   ]
  },
  {
   "cell_type": "code",
   "execution_count": 5,
   "metadata": {},
   "outputs": [],
   "source": [
    "with tf.name_scope('input'):\n",
    "    x = tf.placeholder(tf.float32, x_data.shape, name='x')\n",
    "    y = tf.placeholder(tf.float32, y_data.shape, name='y')\n",
    "\n",
    "with tf.name_scope('logits'):\n",
    "    w = tf.get_variable('weights', (x_data.shape[1], 1), initializer=tf.constant_initializer())\n",
    "    y_hat = tf.matmul(x, w, name='y_hat')\n",
    "\n",
    "with tf.name_scope('loss'):\n",
    "    loss_op = 1 / (2 * len(x_data)) * tf.matmul((y_hat - y), (y_hat - y), transpose_a=True)\n",
    "\n",
    "with tf.name_scope('train'):\n",
    "    opt = tf.train.GradientDescentOptimizer(learning_rate=LEARNING_RATE)\n",
    "    train_op = opt.minimize(loss_op)"
   ]
  },
  {
   "cell_type": "code",
   "execution_count": 6,
   "metadata": {},
   "outputs": [
    {
     "name": "stdout",
     "output_type": "stream",
     "text": [
      "epoch: 20, loss = [[0.358181]], w_value = [-5.5879301e-11  1.4891572e-01  7.1348228e-02]\n",
      "epoch: 40, loss = [[0.2778277]], w_value = [-1.8626399e-11  2.6545322e-01  1.1673299e-01]\n",
      "epoch: 60, loss = [[0.2305665]], w_value = [-4.4703474e-10  3.5760424e-01  1.4361557e-01]\n",
      "epoch: 80, loss = [[0.20179722]], w_value = [-6.2398597e-10  4.3129212e-01  1.5743265e-01]\n",
      "epoch: 100, loss = [[0.18353307]], w_value = [-5.401669e-10  4.909155e-01  1.621366e-01]\n",
      "epoch: 120, loss = [[0.17137687]], w_value = [-5.0757054e-10  5.3974879e-01  1.6059221e-01]\n",
      "epoch: 140, loss = [[0.16288395]], w_value = [-9.2200914e-10  5.8023626e-01  1.5486820e-01]\n",
      "epoch: 160, loss = [[0.15667568]], w_value = [-3.3993250e-10  6.1420906e-01  1.4645109e-01]\n",
      "epoch: 180, loss = [[0.15195875]], w_value = [-2.4912855e-10  6.4304453e-01  1.3640232e-01]\n",
      "epoch: 200, loss = [[0.1482637]], w_value = [2.6542718e-10 6.6778392e-01 1.2547334e-01]\n",
      "epoch: 220, loss = [[0.14530256]], w_value = [2.3399505e-10 6.8921953e-01 1.1419022e-01]\n",
      "epoch: 240, loss = [[0.14289096]], w_value = [6.2515054e-10 7.0795768e-01 1.0291547e-01]\n",
      "epoch: 260, loss = [[0.14090501]], w_value = [1.1269006e-09 7.2446638e-01 9.1893323e-02]\n",
      "epoch: 280, loss = [[0.13925725]], w_value = [8.125793e-10 7.391101e-01 8.128295e-02]\n",
      "epoch: 300, loss = [[0.13788345]], w_value = [9.9302300e-10 7.5217533e-01 7.1182676e-02]\n",
      "epoch: 320, loss = [[0.13673426]], w_value = [1.1688099e-09 7.6389009e-01 6.1647613e-02]\n",
      "epoch: 340, loss = [[0.13577099]], w_value = [1.4094986e-09 7.7443755e-01 5.2702554e-02]\n",
      "epoch: 360, loss = [[0.13496247]], w_value = [1.6296692e-09 7.8396666e-01 4.4351298e-02]\n",
      "epoch: 380, loss = [[0.1342832]], w_value = [1.9305302e-09 7.9260063e-01 3.6583379e-02]\n",
      "epoch: 400, loss = [[0.1337122]], w_value = [2.1786724e-09 8.0044162e-01 2.9378995e-02]\n",
      "epoch: 420, loss = [[0.13323209]], w_value = [2.4972866e-09 8.0757612e-01 2.2712423e-02]\n",
      "epoch: 440, loss = [[0.13282825]], w_value = [3.1577982e-09 8.1407791e-01 1.6554551e-02]\n",
      "epoch: 460, loss = [[0.13248855]], w_value = [4.0213095e-09 8.2001078e-01 1.0874596e-02]\n",
      "epoch: 480, loss = [[0.13220274]], w_value = [3.8653134e-09 8.2542986e-01 5.6413440e-03]\n",
      "epoch: 500, loss = [[0.13196228]], w_value = [4.3033266e-09 8.3038408e-01 8.2394079e-04]\n"
     ]
    }
   ],
   "source": [
    "with tf.Session() as sess:\n",
    "    sess.run(tf.global_variables_initializer())\n",
    "    writer = tf.summary.FileWriter('./summary/v2/', sess.graph)\n",
    "    loss_history = []\n",
    "    for epoch in range(1, NUM_EPOCH + 1):\n",
    "        _, loss_value, w_value = sess.run([train_op, loss_op, w], feed_dict={x: x_data, y: y_data})\n",
    "        loss_history.append(float(loss_value))\n",
    "        if epoch % 20 == 0:\n",
    "            print(\"epoch: {}, loss = {}, w_value = {}\".format(epoch, loss_value, w_value.flatten()))\n",
    "writer.close()"
   ]
  },
  {
   "cell_type": "code",
   "execution_count": 7,
   "metadata": {},
   "outputs": [],
   "source": [
    "# tensorboard --logdir ./ --host localhost"
   ]
  },
  {
   "cell_type": "code",
   "execution_count": 8,
   "metadata": {},
   "outputs": [
    {
     "data": {
      "image/png": "[encoded data removed]",
      "text/plain": [
       "<Figure size 432x288 with 1 Axes>"
      ]
     },
     "metadata": {},
     "output_type": "display_data"
    }
   ],
   "source": [
    "sb.set(context='notebook', style='whitegrid')\n",
    "ax = sb.lineplot(x=np.arange(1, NUM_EPOCH + 1), y=loss_history)\n",
    "ax.set_xlabel('epoch')\n",
    "ax.set_ylabel('loss')\n",
    "plt.show()"
   ]
  },
  {
   "cell_type": "code",
   "execution_count": null,
   "metadata": {},
   "outputs": [],
   "source": []
  }
 ],
 "metadata": {
  "kernelspec": {
   "display_name": "Python 3",
   "language": "python",
   "name": "python3"
  },
  "language_info": {
   "codemirror_mode": {
    "name": "ipython",
    "version": 3
   },
   "file_extension": ".py",
   "mimetype": "text/x-python",
   "name": "python",
   "nbconvert_exporter": "python",
   "pygments_lexer": "ipython3",
   "version": "3.6.8"
  }
 },
 "nbformat": 4,
 "nbformat_minor": 2
}
