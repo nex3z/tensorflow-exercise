{
 "cells": [
  {
   "cell_type": "code",
   "execution_count": 1,
   "metadata": {},
   "outputs": [
    {
     "name": "stderr",
     "output_type": "stream",
     "text": [
      "Using TensorFlow backend.\n"
     ]
    }
   ],
   "source": [
    "import os.path as path\n",
    "import glob\n",
    "\n",
    "import numpy as np\n",
    "import tensorflow.gfile as gfile\n",
    "import pickle\n",
    "\n",
    "from PIL import Image\n",
    "from keras import backend as K\n",
    "from keras.layers import Input, Conv2D, Activation, MaxPooling2D, Flatten, Dropout, Dense, Concatenate\n",
    "from keras.models import Model\n",
    "from keras.utils.vis_utils import plot_model"
   ]
  },
  {
   "cell_type": "code",
   "execution_count": 2,
   "metadata": {},
   "outputs": [],
   "source": [
    "NUMBER = ['0', '1', '2', '3', '4', '5', '6', '7', '8', '9']\n",
    "\n",
    "CAPTCHA_LEN = 4\n",
    "CAPTCHA_HEIGHT = 60\n",
    "CAPTCHA_WIDTH = 160\n",
    "\n",
    "TRAIN_DATA_DIR = './data/train/'\n",
    "TEST_DATA_DIR = './data/test/'\n",
    "\n",
    "BATCH_SIZE = 100\n",
    "EPOCHS = 10\n",
    "OPT = 'adam'\n",
    "LOSS = 'binary_crossentropy'\n",
    "\n",
    "MODEL_DIR = './model/'\n",
    "HISTORY_DIR = './history/'\n",
    "FILE_NAME_FORMAT = \"{}captcha_{}_{}_bs_{}_epochs_{}{}\"\n",
    "MODEL_FILE = FILE_NAME_FORMAT.format(MODEL_DIR, OPT, LOSS, str(BATCH_SIZE), str(EPOCHS), '.h5')\n",
    "HISTORY_FILE = FILE_NAME_FORMAT.format(HISTORY_DIR, OPT, LOSS, str(BATCH_SIZE), str(EPOCHS), '.history')"
   ]
  },
  {
   "cell_type": "code",
   "execution_count": 3,
   "metadata": {},
   "outputs": [],
   "source": [
    "def rgb2gray(image):\n",
    "    return np.dot(image[...,:3], [0.299, 0.587, 0.114])\n",
    "\n",
    "def char2onehot(char, charset):\n",
    "    onehot = np.zeros(len(charset))\n",
    "    onehot[charset.index(char)] = 1\n",
    "    return onehot\n",
    "\n",
    "def text2vec(text, charset=NUMBER):\n",
    "    vectors = [char2onehot(c, charset) for c in text]\n",
    "    return np.array(vectors).flatten()\n",
    "\n",
    "def vec2text(vector, onehot_length=4, charset=NUMBER):\n",
    "    indexes = vector.reshape(onehot_length, -1).argmax(axis=1)\n",
    "    text = [charset[i] for i in indexes]\n",
    "    return \"\".join(text)\n",
    "\n",
    "def fit_keras_channels(batch, rows=CAPTCHA_HEIGHT, cols=CAPTCHA_WIDTH):\n",
    "    if K.image_data_format() == 'channels_first':\n",
    "        batch = batch.reshape(batch.shape[0], 1, rows, cols)\n",
    "        input_shape = (1, rows, cols)\n",
    "    else:\n",
    "        batch = batch.reshape(batch.shape[0], rows, cols, 1)\n",
    "        input_shape = (rows, cols, 1)\n",
    "    return batch, input_shape"
   ]
  },
  {
   "cell_type": "code",
   "execution_count": 4,
   "metadata": {},
   "outputs": [],
   "source": [
    "def read_data(data_dir):\n",
    "    x = []\n",
    "    y = []\n",
    "    for file_path in glob.glob(path.join(data_dir, '*.png')):\n",
    "        label = path.splitext(path.basename(file_path))[0]\n",
    "        y.append(label)\n",
    "        image = np.array(Image.open(file_path))\n",
    "        x.append(image)\n",
    "    return x, y"
   ]
  },
  {
   "cell_type": "code",
   "execution_count": 5,
   "metadata": {},
   "outputs": [],
   "source": [
    "def preprocess(x, y):\n",
    "    x = np.array(x, dtype=np.float32)\n",
    "    x = rgb2gray(x)\n",
    "    x = x / 255\n",
    "    x, input_shape = fit_keras_channels(x)\n",
    "    print(\"x.shape = {}\".format(x.shape))\n",
    "    print(\"input_shape = {}\".format(input_shape))\n",
    "\n",
    "    y = [text2vec(label) for label in y]\n",
    "    y = np.asarray(y)\n",
    "    print(\"y.shape = {}\".format(y.shape))\n",
    "    \n",
    "    return x, y"
   ]
  },
  {
   "cell_type": "code",
   "execution_count": 6,
   "metadata": {},
   "outputs": [
    {
     "name": "stdout",
     "output_type": "stream",
     "text": [
      "x.shape = (3976, 60, 160, 1)\n",
      "input_shape = (60, 160, 1)\n",
      "y.shape = (3976, 40)\n"
     ]
    }
   ],
   "source": [
    "x_train_raw, y_train_raw = read_data(TRAIN_DATA_DIR)\n",
    "x_train, y_train = preprocess(x_train_raw, y_train_raw)"
   ]
  },
  {
   "cell_type": "code",
   "execution_count": 7,
   "metadata": {},
   "outputs": [
    {
     "name": "stdout",
     "output_type": "stream",
     "text": [
      "x.shape = (959, 60, 160, 1)\n",
      "input_shape = (60, 160, 1)\n",
      "y.shape = (959, 40)\n"
     ]
    }
   ],
   "source": [
    "x_test_raw, y_test_raw = read_data(TEST_DATA_DIR) \n",
    "x_test, y_test = preprocess(x_test_raw, y_test_raw)"
   ]
  },
  {
   "cell_type": "code",
   "execution_count": 8,
   "metadata": {},
   "outputs": [],
   "source": [
    "input_shape = x_train.shape[1:]\n",
    "inputs = Input(shape=input_shape, name='inputs')\n",
    "\n",
    "conv_1 = Conv2D(32, (3, 3), name='conv_1')(inputs)\n",
    "relu_1 = Activation('relu', name='relu_1')(conv_1)\n",
    "\n",
    "conv_2 = Conv2D(32, (3, 3), name='conv_2')(relu_1)\n",
    "relu_2 = Activation('relu', name='relu_2')(conv_2)\n",
    "pool_2 = MaxPooling2D((2, 2), padding='same', name='pool_2')(relu_2)\n",
    "\n",
    "conv_3 = Conv2D(64, (3, 3), name='conv_3')(pool_2)\n",
    "relu_3 = Activation('relu', name='relu_3')(conv_3)\n",
    "pool_3 = MaxPooling2D((2, 2), padding='same', name='pool_3')(relu_3)\n",
    "\n",
    "flatten = Flatten()(pool_3)\n",
    "\n",
    "dropout = Dropout(0.25)(flatten)\n",
    "\n",
    "dense = [Dense(10, activation='softmax', name='fc_{}'.format(i + 1))(dropout) for i in range(4)]\n",
    "\n",
    "outputs = Concatenate()(dense)\n",
    "\n",
    "model = Model(inputs=inputs, outputs=outputs)\n",
    "model.compile(optimizer='adam', loss='binary_crossentropy', metrics=['accuracy'])"
   ]
  },
  {
   "cell_type": "code",
   "execution_count": 9,
   "metadata": {},
   "outputs": [
    {
     "name": "stdout",
     "output_type": "stream",
     "text": [
      "__________________________________________________________________________________________________\n",
      "Layer (type)                    Output Shape         Param #     Connected to                     \n",
      "==================================================================================================\n",
      "inputs (InputLayer)             (None, 60, 160, 1)   0                                            \n",
      "__________________________________________________________________________________________________\n",
      "conv_1 (Conv2D)                 (None, 58, 158, 32)  320         inputs[0][0]                     \n",
      "__________________________________________________________________________________________________\n",
      "relu_1 (Activation)             (None, 58, 158, 32)  0           conv_1[0][0]                     \n",
      "__________________________________________________________________________________________________\n",
      "conv_2 (Conv2D)                 (None, 56, 156, 32)  9248        relu_1[0][0]                     \n",
      "__________________________________________________________________________________________________\n",
      "relu_2 (Activation)             (None, 56, 156, 32)  0           conv_2[0][0]                     \n",
      "__________________________________________________________________________________________________\n",
      "pool_2 (MaxPooling2D)           (None, 28, 78, 32)   0           relu_2[0][0]                     \n",
      "__________________________________________________________________________________________________\n",
      "conv_3 (Conv2D)                 (None, 26, 76, 64)   18496       pool_2[0][0]                     \n",
      "__________________________________________________________________________________________________\n",
      "relu_3 (Activation)             (None, 26, 76, 64)   0           conv_3[0][0]                     \n",
      "__________________________________________________________________________________________________\n",
      "pool_3 (MaxPooling2D)           (None, 13, 38, 64)   0           relu_3[0][0]                     \n",
      "__________________________________________________________________________________________________\n",
      "flatten_1 (Flatten)             (None, 31616)        0           pool_3[0][0]                     \n",
      "__________________________________________________________________________________________________\n",
      "dropout_1 (Dropout)             (None, 31616)        0           flatten_1[0][0]                  \n",
      "__________________________________________________________________________________________________\n",
      "fc_1 (Dense)                    (None, 10)           316170      dropout_1[0][0]                  \n",
      "__________________________________________________________________________________________________\n",
      "fc_2 (Dense)                    (None, 10)           316170      dropout_1[0][0]                  \n",
      "__________________________________________________________________________________________________\n",
      "fc_3 (Dense)                    (None, 10)           316170      dropout_1[0][0]                  \n",
      "__________________________________________________________________________________________________\n",
      "fc_4 (Dense)                    (None, 10)           316170      dropout_1[0][0]                  \n",
      "__________________________________________________________________________________________________\n",
      "concatenate_1 (Concatenate)     (None, 40)           0           fc_1[0][0]                       \n",
      "                                                                 fc_2[0][0]                       \n",
      "                                                                 fc_3[0][0]                       \n",
      "                                                                 fc_4[0][0]                       \n",
      "==================================================================================================\n",
      "Total params: 1,292,744\n",
      "Trainable params: 1,292,744\n",
      "Non-trainable params: 0\n",
      "__________________________________________________________________________________________________\n"
     ]
    }
   ],
   "source": [
    "model.summary()"
   ]
  },
  {
   "cell_type": "code",
   "execution_count": 10,
   "metadata": {},
   "outputs": [],
   "source": [
    "plot_model(model, to_file='model.png', show_shapes=True)"
   ]
  },
  {
   "cell_type": "code",
   "execution_count": 11,
   "metadata": {},
   "outputs": [
    {
     "name": "stdout",
     "output_type": "stream",
     "text": [
      "Train on 3976 samples, validate on 959 samples\n",
      "Epoch 1/10\n",
      "3976/3976 [==============================] - 9s 2ms/step - loss: 0.3266 - acc: 0.9000 - val_loss: 0.3249 - val_acc: 0.9000\n",
      "Epoch 2/10\n",
      "3976/3976 [==============================] - 3s 879us/step - loss: 0.3239 - acc: 0.9000 - val_loss: 0.3210 - val_acc: 0.9000\n",
      "Epoch 3/10\n",
      "3976/3976 [==============================] - 3s 870us/step - loss: 0.3022 - acc: 0.9005 - val_loss: 0.2827 - val_acc: 0.9028\n",
      "Epoch 4/10\n",
      "3976/3976 [==============================] - 3s 875us/step - loss: 0.2426 - acc: 0.9115 - val_loss: 0.2484 - val_acc: 0.9115\n",
      "Epoch 5/10\n",
      "3976/3976 [==============================] - 3s 878us/step - loss: 0.1961 - acc: 0.9285 - val_loss: 0.2217 - val_acc: 0.9201\n",
      "Epoch 6/10\n",
      "3976/3976 [==============================] - 3s 880us/step - loss: 0.1618 - acc: 0.9413 - val_loss: 0.2049 - val_acc: 0.9257\n",
      "Epoch 7/10\n",
      "3976/3976 [==============================] - 3s 874us/step - loss: 0.1303 - acc: 0.9528 - val_loss: 0.1959 - val_acc: 0.9300\n",
      "Epoch 8/10\n",
      "3976/3976 [==============================] - 3s 870us/step - loss: 0.1016 - acc: 0.9646 - val_loss: 0.1937 - val_acc: 0.9311\n",
      "Epoch 9/10\n",
      "3976/3976 [==============================] - 3s 868us/step - loss: 0.0795 - acc: 0.9726 - val_loss: 0.1953 - val_acc: 0.9316\n",
      "Epoch 10/10\n",
      "3976/3976 [==============================] - 3s 868us/step - loss: 0.0611 - acc: 0.9796 - val_loss: 0.2106 - val_acc: 0.9323\n"
     ]
    }
   ],
   "source": [
    "history = model.fit(x_train, y_train,\n",
    "                    batch_size=BATCH_SIZE, epochs=EPOCHS,\n",
    "                    verbose=1, validation_data=(x_test, y_test))"
   ]
  },
  {
   "cell_type": "code",
   "execution_count": 12,
   "metadata": {},
   "outputs": [
    {
     "name": "stdout",
     "output_type": "stream",
     "text": [
      "sample_label = 0937, predict_label = 0933\n"
     ]
    }
   ],
   "source": [
    "sample_image = x_test[100].reshape(1, 60, 160, 1)\n",
    "sample_label = y_test[100]\n",
    "predict_label = model.predict(sample_image)\n",
    "print(\"sample_label = {}, predict_label = {}\".format(vec2text(sample_label), vec2text(predict_label)))"
   ]
  },
  {
   "cell_type": "code",
   "execution_count": 13,
   "metadata": {},
   "outputs": [],
   "source": [
    "if not gfile.Exists(MODEL_DIR):\n",
    "    gfile.MakeDirs(MODEL_DIR)\n",
    "\n",
    "model.save(MODEL_FILE)"
   ]
  },
  {
   "cell_type": "code",
   "execution_count": 14,
   "metadata": {},
   "outputs": [],
   "source": [
    "if not gfile.Exists(HISTORY_DIR):\n",
    "    gfile.MakeDirs(HISTORY_DIR)\n",
    "\n",
    "with open(HISTORY_FILE, 'wb') as f:\n",
    "    pickle.dump(history.history, f)"
   ]
  },
  {
   "cell_type": "code",
   "execution_count": null,
   "metadata": {},
   "outputs": [],
   "source": []
  }
 ],
 "metadata": {
  "kernelspec": {
   "display_name": "Python 3",
   "language": "python",
   "name": "python3"
  },
  "language_info": {
   "codemirror_mode": {
    "name": "ipython",
    "version": 3
   },
   "file_extension": ".py",
   "mimetype": "text/x-python",
   "name": "python",
   "nbconvert_exporter": "python",
   "pygments_lexer": "ipython3",
   "version": "3.6.8"
  }
 },
 "nbformat": 4,
 "nbformat_minor": 2
}
