{
 "cells": [
  {
   "cell_type": "code",
   "execution_count": 1,
   "metadata": {},
   "outputs": [],
   "source": [
    "import numpy as np\n",
    "import matplotlib.pyplot as plt"
   ]
  },
  {
   "cell_type": "code",
   "execution_count": 2,
   "metadata": {},
   "outputs": [
    {
     "name": "stdout",
     "output_type": "stream",
     "text": [
      "num_states = 3, all_states = (0, 1, 2)\n",
      "num_actions = 3, all_actions = (0, 1, 2)\n"
     ]
    }
   ],
   "source": [
    "transition_probabilities = [ # shape=[s, a, s']\n",
    "    [[0.7, 0.3, 0.0], [1.0, 0.0, 0.0], [0.8, 0.2, 0.0]],\n",
    "    [[0.0, 1.0, 0.0], None,            [0.0, 0.0, 1.0]],\n",
    "    [None,            [0.8, 0.1, 0.1], None           ]\n",
    "]\n",
    "rewards = [ # shape=[s, a, s']\n",
    "    [[ +10,   0,   0], [   0,   0,   0], [   0,   0,   0]],\n",
    "    [[   0,   0,   0], [   0,   0,   0], [   0,   0, -50]],\n",
    "    [[   0,   0,   0], [ +40,   0,   0], [   0,   0,   0]]\n",
    "]\n",
    "possible_actions = [\n",
    "    [0, 1, 2], \n",
    "    [0, 2], \n",
    "    [1]\n",
    "]\n",
    "\n",
    "num_states = len(transition_probabilities)\n",
    "all_states = tuple(range(num_states))\n",
    "num_actions = len(possible_actions)\n",
    "all_actions = tuple(range(num_actions))\n",
    "print(f\"num_states = {num_states}, all_states = {all_states}\")\n",
    "print(f\"num_actions = {num_actions}, all_actions = {all_actions}\")"
   ]
  },
  {
   "cell_type": "code",
   "execution_count": 3,
   "metadata": {},
   "outputs": [],
   "source": [
    "def init_q_values():\n",
    "    q_values = np.full((num_actions, num_actions), -np.inf) # -np.inf for impossible actions\n",
    "    for state, actions in enumerate(possible_actions):\n",
    "        q_values[state, actions] = 0.0  # for all possible actions\n",
    "    return q_values\n",
    "\n",
    "def compute_q_values(gamma, num_iters=50):\n",
    "    history = []\n",
    "    q_values = init_q_values()\n",
    "\n",
    "    for iteration in range(num_iters):\n",
    "        q_prev = q_values.copy()\n",
    "        history.append(q_prev)\n",
    "        for s in all_states:\n",
    "            for a in possible_actions[s]:\n",
    "                q_values[s, a] = 0\n",
    "                for sp in all_states:\n",
    "                    q_values[s, a] += transition_probabilities[s][a][sp] * (rewards[s][a][sp] + gamma * np.max(q_prev[sp]))\n",
    "    return q_values, np.array(history)    "
   ]
  },
  {
   "cell_type": "code",
   "execution_count": 4,
   "metadata": {},
   "outputs": [
    {
     "data": {
      "text/plain": [
       "array([[18.91891892, 17.02702702, 13.62162162],\n",
       "       [ 0.        ,        -inf, -4.87971488],\n",
       "       [       -inf, 50.13365013,        -inf]])"
      ]
     },
     "metadata": {},
     "output_type": "display_data"
    },
    {
     "data": {
      "text/plain": [
       "array([0, 0, 1], dtype=int64)"
      ]
     },
     "execution_count": 4,
     "metadata": {},
     "output_type": "execute_result"
    }
   ],
   "source": [
    "q_values_90, history_1 = compute_q_values(0.90)\n",
    "display(q_values_90)\n",
    "np.argmax(q_values_90, axis=1)"
   ]
  },
  {
   "cell_type": "code",
   "execution_count": 5,
   "metadata": {},
   "outputs": [
    {
     "data": {
      "text/plain": [
       "array([[21.73304188, 20.63807938, 16.70138772],\n",
       "       [ 0.95462106,        -inf,  1.01361207],\n",
       "       [       -inf, 53.70728682,        -inf]])"
      ]
     },
     "metadata": {},
     "output_type": "display_data"
    },
    {
     "data": {
      "text/plain": [
       "array([0, 2, 1], dtype=int64)"
      ]
     },
     "execution_count": 5,
     "metadata": {},
     "output_type": "execute_result"
    }
   ],
   "source": [
    "q_values_95, _ = compute_q_values(0.95)\n",
    "display(q_values_95)\n",
    "np.argmax(q_values_95, axis=1)"
   ]
  },
  {
   "cell_type": "code",
   "execution_count": 6,
   "metadata": {},
   "outputs": [],
   "source": [
    "def step(state, action):\n",
    "    probs = transition_probabilities[state][action]\n",
    "    next_state = np.random.choice(all_actions, p=probs)\n",
    "    reward = rewards[state][action][next_state]\n",
    "    return next_state, reward"
   ]
  },
  {
   "cell_type": "code",
   "execution_count": 7,
   "metadata": {},
   "outputs": [],
   "source": [
    "def exploration_policy(state):\n",
    "    return np.random.choice(possible_actions[state])"
   ]
  },
  {
   "cell_type": "code",
   "execution_count": 8,
   "metadata": {},
   "outputs": [
    {
     "data": {
      "text/plain": [
       "array([[18.77621289, 17.2238872 , 13.74543343],\n",
       "       [ 0.        ,        -inf, -8.00485647],\n",
       "       [       -inf, 49.40208921,        -inf]])"
      ]
     },
     "metadata": {},
     "output_type": "display_data"
    },
    {
     "data": {
      "text/plain": [
       "array([0, 0, 1], dtype=int64)"
      ]
     },
     "execution_count": 8,
     "metadata": {},
     "output_type": "execute_result"
    }
   ],
   "source": [
    "np.random.seed(42)\n",
    "\n",
    "alpha0 = 0.05 # initial learning rate\n",
    "decay = 0.005 # learning rate decay\n",
    "gamma = 0.90 # discount factor\n",
    "state = 0 # initial state\n",
    "history_2 = [] # Not shown in the book\n",
    "\n",
    "q_values = init_q_values()\n",
    "\n",
    "for iteration in range(10000):\n",
    "    history_2.append(q_values.copy())\n",
    "    action = exploration_policy(state)\n",
    "    next_state, reward = step(state, action)\n",
    "    next_value = np.max(q_values[next_state])\n",
    "    alpha = alpha0 / (1 + iteration * decay)\n",
    "    q_values[state, action] = (1 - alpha) * q_values[state, action] + alpha * (reward + gamma * next_value)\n",
    "    state = next_state\n",
    "\n",
    "history_2 = np.array(history_2)\n",
    "\n",
    "display(q_values)\n",
    "np.argmax(q_values_90, axis=1)"
   ]
  },
  {
   "cell_type": "code",
   "execution_count": 9,
   "metadata": {},
   "outputs": [
    {
     "data": {
      "image/png": "[encoded data removed]",
      "text/plain": [
       "<Figure size 720x288 with 2 Axes>"
      ]
     },
     "metadata": {
      "needs_background": "light"
     },
     "output_type": "display_data"
    }
   ],
   "source": [
    "true_q_value = history_1[-1, 0, 0]\n",
    "\n",
    "fig, axes = plt.subplots(1, 2, figsize=(10, 4), sharey=True)\n",
    "\n",
    "axes[0].set_ylabel(\"Q-Value$(s_0, a_0)$\", fontsize=14)\n",
    "axes[0].set_title(\"Q-Value Iteration\", fontsize=14)\n",
    "axes[1].set_title(\"Q-Learning\", fontsize=14)\n",
    "for ax, width, history in zip(axes, (50, 10000), (history_1, history_2)):\n",
    "    ax.plot([0, width], [true_q_value, true_q_value], \"k--\")\n",
    "    ax.plot(np.arange(width), history[:, 0, 0], \"b-\", linewidth=2)\n",
    "    ax.set_xlabel(\"Iterations\", fontsize=14)\n",
    "    ax.axis([0, width, 0, 24])\n",
    "\n",
    "plt.show()"
   ]
  }
 ],
 "metadata": {
  "kernelspec": {
   "display_name": "Python 3",
   "language": "python",
   "name": "python3"
  },
  "language_info": {
   "codemirror_mode": {
    "name": "ipython",
    "version": 3
   },
   "file_extension": ".py",
   "mimetype": "text/x-python",
   "name": "python",
   "nbconvert_exporter": "python",
   "pygments_lexer": "ipython3",
   "version": "3.7.9"
  }
 },
 "nbformat": 4,
 "nbformat_minor": 4
}
